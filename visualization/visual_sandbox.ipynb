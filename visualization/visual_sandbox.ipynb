{
 "cells": [
  {
   "cell_type": "code",
   "execution_count": null,
   "id": "c6567f11",
   "metadata": {},
   "outputs": [],
   "source": [
    "import osmnx as ox\n",
    "import networkx as nx\n",
    "import ast\n",
    "import sys\n",
    "# Change this for your local machine\n",
    "sys.path.append(\"C:\\\\Users\\\\gabri\\\\Documents\\\\CMOR492-DWS\")\n",
    "import json"
   ]
  },
  {
   "cell_type": "code",
   "execution_count": 4,
   "id": "957b074a",
   "metadata": {},
   "outputs": [],
   "source": [
    "G = ox.load_graphml(\"road_net_2.graphml\")"
   ]
  },
  {
   "cell_type": "code",
   "execution_count": null,
   "id": "676e36bb",
   "metadata": {},
   "outputs": [],
   "source": [
    "with open(\"solutions\\\\y_sol_period_1.json\", \"r\") as f:\n",
    "    y_sol_1 = {ast.literal_eval(key): value for key, value in json.load(f).items()}\n",
    "\n",
    "with open(\"solutions\\\\z_sol_period_1.json\", \"r\") as f:\n",
    "    z_sol_1 = {ast.literal_eval(key): value for key, value in json.load(f).items()}"
   ]
  },
  {
   "cell_type": "code",
   "execution_count": null,
   "id": "ec08eb2a",
   "metadata": {},
   "outputs": [],
   "source": [
    "possible_treatment_nodes = "
   ]
  },
  {
   "cell_type": "code",
   "execution_count": null,
   "id": "20fbcf36",
   "metadata": {},
   "outputs": [],
   "source": [
    "node_colors = []\n",
    "for node in G.nodes:\n",
    "    if y_sol_1[node] == 1:\n",
    "        node_colors.append(\"yellow\")\n",
    "    else if node in y_sol_1.keys(): #i.e. \n",
    "        node_colors.append(\"#666666\")\n",
    "    else:\n",
    "        node_colors.append(\"#336699\")\n",
    "\n",
    "\n",
    "edge_colors = ['white' if z_0[e[0], e[1]] == 1 else 'purple' for e in G.edges]\n",
    "\n",
    "# node_colors = ['r' if node in treatment_nodes else '#336699' for node in G.nodes()]\n",
    "\n",
    "node_sizes = [50 if y_sol[node] == 1 else 15 for node in G.nodes()]\n",
    "\n",
    "ox.plot_graph(G, node_color=node_colors, node_size=node_sizes, edge_color=edge_colors, edge_linewidth=0.5, bgcolor=\"#000000\")"
   ]
  },
  {
   "cell_type": "code",
   "execution_count": 3,
   "id": "8b85869a",
   "metadata": {},
   "outputs": [
    {
     "data": {
      "text/plain": [
       "{59128065: 1.0,\n",
       " 59133314: 1.0,\n",
       " 59116291: 0.0,\n",
       " 59121412: 0.0,\n",
       " 59081605: 0.0,\n",
       " 59126150: 1.0,\n",
       " 59133192: 1.0,\n",
       " 59117577: 0.0,\n",
       " 59091084: 1.0,\n",
       " 59123853: 1.0,\n",
       " 59110286: 1.0,\n",
       " 59116300: 0.0,\n",
       " 59129101: 0.0,\n",
       " 59146899: 1.0,\n",
       " 59095700: 0.0,\n",
       " 59124248: 0.0,\n",
       " 59096602: 0.0,\n",
       " 59110431: 0.0,\n",
       " 59079200: 1.0,\n",
       " 3584201894: 0.0,\n",
       " 4231830135: 1.0,\n",
       " 59123881: 1.0,\n",
       " 59101100: 0.0,\n",
       " 59079983: 0.0,\n",
       " 59090484: 1.0,\n",
       " 59146293: 1.0,\n",
       " 59129525: 1.0,\n",
       " 59118652: 1.0,\n",
       " 59103172: 0.0,\n",
       " 59101385: 1.0,\n",
       " 59146313: 0.0,\n",
       " 59110347: 0.0,\n",
       " 59158864: 1.0,\n",
       " 59133777: 1.0,\n",
       " 59146231: 1.0,\n",
       " 59080788: 0.0,\n",
       " 59081566: 1.0,\n",
       " 9941438054: 1.0,\n",
       " 59147494: 1.0,\n",
       " 59124459: 1.0,\n",
       " 59115372: 1.0,\n",
       " 59153773: 1.0,\n",
       " 4230838774: 1.0,\n",
       " 59164150: 0.0,\n",
       " 59113465: 0.0,\n",
       " 59107322: 1.0,\n",
       " 59097341: 1.0}"
      ]
     },
     "execution_count": 3,
     "metadata": {},
     "output_type": "execute_result"
    }
   ],
   "source": [
    "y_sol"
   ]
  }
 ],
 "metadata": {
  "kernelspec": {
   "display_name": "CMOR492-DWS_venv1",
   "language": "python",
   "name": "python3"
  },
  "language_info": {
   "codemirror_mode": {
    "name": "ipython",
    "version": 3
   },
   "file_extension": ".py",
   "mimetype": "text/x-python",
   "name": "python",
   "nbconvert_exporter": "python",
   "pygments_lexer": "ipython3",
   "version": "3.11.9"
  }
 },
 "nbformat": 4,
 "nbformat_minor": 5
}
