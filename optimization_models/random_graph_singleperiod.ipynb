{
 "cells": [
  {
   "cell_type": "code",
   "id": "initial_id",
   "metadata": {
    "collapsed": true,
    "ExecuteTime": {
     "end_time": "2024-11-22T01:32:55.403106Z",
     "start_time": "2024-11-22T01:32:53.713430Z"
    }
   },
   "source": [
    "import numpy as np\n",
    "import networkx as nx\n",
    "import gurobipy as gp\n",
    "from gurobipy import GRB\n",
    "import matplotlib.pyplot as plt\n",
    "from random_graph.graph_gen import *\n",
    "from random_graph.random_graph_utils import *"
   ],
   "outputs": [],
   "execution_count": 1
  },
  {
   "metadata": {
    "ExecuteTime": {
     "end_time": "2024-11-21T20:11:42.946511Z",
     "start_time": "2024-11-21T20:11:42.625528Z"
    }
   },
   "cell_type": "code",
   "source": [
    "n=100\n",
    "G, source_nodes, treatment_nodes = make_random_geometric_graph(n, [-20, -20, 0], [20, 20, 5])\n",
    "print(f\"# Source: {len(source_nodes)}; # treatment: {len(treatment_nodes)}; # Components = {nx.number_connected_components(G)}\")\n",
    "draw_treatment_visual(G)"
   ],
   "id": "3227bd5be8e266fa",
   "outputs": [],
   "execution_count": 5
  },
  {
   "metadata": {
    "ExecuteTime": {
     "end_time": "2024-11-22T01:55:24.720069Z",
     "start_time": "2024-11-22T01:55:24.542077Z"
    }
   },
   "cell_type": "code",
   "source": [
    "n=3\n",
    "G, source_nodes, treatment_nodes = make_small_test_graph(n, 3, 0.1, 1)\n",
    "print(f\"# Source: {len(source_nodes)}; # treatment: {len(treatment_nodes)}\")\n",
    "draw_treatment_visual(G)"
   ],
   "id": "5172a3486fe5cce0",
   "outputs": [
    {
     "name": "stdout",
     "output_type": "stream",
     "text": [
      "# Source: 2; # treatment: 1\n"
     ]
    },
    {
     "data": {
      "text/plain": [
       "<Figure size 640x480 with 1 Axes>"
      ],
      "image/png": "[encoded data removed]"
     },
     "metadata": {},
     "output_type": "display_data"
    }
   ],
   "execution_count": 33
  },
  {
   "metadata": {
    "ExecuteTime": {
     "end_time": "2024-11-22T01:55:31.243763Z",
     "start_time": "2024-11-22T01:55:31.235211Z"
    }
   },
   "cell_type": "code",
   "source": [
    "Path = {}  # Set of shortest paths from each source node i to each treatment node j\n",
    "NLinks = {}  # Number of edges in each path\n",
    "L = {}  # Length of each path (distance)\n",
    "\n",
    "for i in source_nodes:\n",
    "    for j in treatment_nodes:\n",
    "        path = nx.shortest_path(G, source=i, target=j, weight='distance')\n",
    "        Path[i, j] = path\n",
    "        NLinks[i, j] = len(path)-1\n",
    "        L[i, j] = nx.path_weight(G, path, weight='distance')"
   ],
   "id": "d46ddcf99e25beb5",
   "outputs": [],
   "execution_count": 34
  },
  {
   "metadata": {
    "ExecuteTime": {
     "end_time": "2024-11-22T01:58:45.957915Z",
     "start_time": "2024-11-22T01:58:45.942890Z"
    }
   },
   "cell_type": "code",
   "source": [
    "LE = {e: G.edges[e]['distance'] for e in G.edges}  # Length of edge e\n",
    "EL = {v: G.nodes[v]['pos'][2] for v in G.nodes}  # Elevation of node v\n",
    "\n",
    "D = [0.2, 0.25, 0.3, 0.35, 0.40, 0.45]  # Pipe diameters\n",
    "# TODO: Add pipe dict\n",
    "SR = {}  # Production at Source node i\n",
    "CAP = {}  # Capacity at treatment node j\n",
    "\n",
    "for node in source_nodes:\n",
    "    flow = np.random.normal(1, 0.1)\n",
    "    G.nodes[node]['production'] = flow\n",
    "    SR[node] = flow\n",
    "\n",
    "total_flow = sum(SR.values())\n",
    "\n",
    "for node in treatment_nodes:\n",
    "    capacity = 2 * (total_flow / len(treatment_nodes))\n",
    "    G.nodes[node]['capacity'] = capacity\n",
    "    CAP[node] = 1000\n",
    "\n",
    "Vmin = 0.6\n",
    "Vmax = 3\n",
    "\n",
    "CE = 25  # Cost of Excavation\n",
    "CB = 6  # Cost of Bedding\n",
    "TR = 44000  # Fixed Cost of Treatment Plant\n",
    "TRFlow = 100  # Variable Cost of Treatment\n",
    "PICost = 30  \n",
    "\n",
    "PF = {'0.05': 8.7, '0.06': 9.5, '0.08': 11,\n",
    "                       '0.1': 12.6, '0.15': 43.5, '0.2': 141,\n",
    "                       '0.25': 151, '0.3': 161, '0.35': 180,\n",
    "                       '0.4': 190, '0.45': 200}  # Fixed Cost of Piping\n",
    "\n",
    "CT = 10000  # Cost of trucking\n",
    "M = 1e6\n",
    "\n",
    "Smin = 0.01\n",
    "Smax = 0.1\n",
    "W = 0.5  # Buffer Width"
   ],
   "id": "73394df299040a3e",
   "outputs": [],
   "execution_count": 46
  },
  {
   "metadata": {
    "ExecuteTime": {
     "end_time": "2024-11-22T02:08:20.086014Z",
     "start_time": "2024-11-22T02:08:20.079144Z"
    }
   },
   "cell_type": "code",
   "source": [
    "m = gp.Model()\n",
    "# TODO: Make in and out at same elevation"
   ],
   "id": "c4d2cf7dce554296",
   "outputs": [],
   "execution_count": 67
  },
  {
   "metadata": {
    "ExecuteTime": {
     "end_time": "2024-11-22T02:08:21.153896Z",
     "start_time": "2024-11-22T02:08:21.139603Z"
    }
   },
   "cell_type": "code",
   "source": [
    "# DECISION VARIABLES\n",
    "\n",
    "x = m.addVars(Path.keys(), vtype=GRB.BINARY, name=[f'x_({i},{j})' for i, j in Path.keys()])  # Path ij used\n",
    "y = m.addVars(treatment_nodes, vtype=GRB.BINARY, name=[f'y_{j}' for j in treatment_nodes])  # treatment at node j\n",
    "z = m.addVars((frozenset(e) for e in G.edges), vtype=GRB.BINARY, name=[f'z_{e}' for e in G.edges])  # edge e used\n",
    "\n",
    "\n",
    "d_es_names = []\n",
    "for e in G.edges:\n",
    "    for s in D:\n",
    "        d_es_names.append(f\"d_{e}_{s}\")\n",
    "\n",
    "d_es = m.addVars(G.edges, D, vtype=GRB.BINARY, name=d_es_names)  # Pipe size s at edge e\n",
    "\n",
    "r = m.addVars(G.edges, vtype=GRB.CONTINUOUS, lb=0.0, name=[f'r_{e}' for e in G.edges])  # flow handled at trucking at edge e\n",
    "Q = m.addVars(G.edges, vtype=GRB.CONTINUOUS, lb=0.0, name=[f'q_{e}' for e in G.edges])  # Flow in Edge e\n",
    "\n",
    "el = m.addVars(G.nodes, vtype=GRB.CONTINUOUS, name=[f'el_{v}' for v in G.nodes])  # Elevation at node el_v\n",
    "\n",
    "# e_in = m.addVars(G.nodes, vtype=GRB.CONTINUOUS, lb=0.0, name=[f'e_in_{v}' for v in G.nodes])\n",
    "# e_out = m.addVars(G.nodes, vtype=GRB.CONTINUOUS, lb=0.0, name=[f'e_out_{v}' for v in G.nodes])\n",
    "# h = m.addVars(G.nodes, vtype=GRB.CONTINUOUS, name=[f'h_{v}' for v in G.nodes])\n",
    "\n",
    "m.update()"
   ],
   "id": "3e93a93a01625dfb",
   "outputs": [],
   "execution_count": 68
  },
  {
   "metadata": {
    "ExecuteTime": {
     "end_time": "2024-11-22T02:08:23.180575Z",
     "start_time": "2024-11-22T02:08:23.156391Z"
    }
   },
   "cell_type": "code",
   "source": [
    "# CONSTRAINTS\n",
    "\n",
    "# TREATMENT CAPACITY\n",
    "treat_cap = m.addConstrs(gp.quicksum(SR[i] * x[i, j] for i in source_nodes) <= CAP[j]*y[j] for j in treatment_nodes)\n",
    "\n",
    "#  NODE ASSIGNMENT\n",
    "node_assign = m.addConstrs(gp.quicksum(x[i, j] for j in treatment_nodes) == 1 for i in source_nodes)\n",
    "\n",
    "# PIPE SIZING\n",
    "pipe_sizing = m.addConstrs(gp.quicksum(d_es[*e, s] for s in D) == 1 for e in G.edges)\n",
    "\n",
    "# EDGE ACTIVATION\n",
    "Path_e = {}  # Use this for Edge Activiation Constraint\n",
    "for e, p in Path.items():\n",
    "    Path_e[e] = [(p[l - 1], p[l]) for l in range(1, len(p))]\n",
    "\n",
    "edge_activate = m.addConstrs(\n",
    "    gp.quicksum(z[frozenset(e)] for e in Path_e[i, j]) >= NLinks[i, j] * x[i, j] for i, j in Path)\n",
    "\n",
    "# MINUMUM SLOPE\n",
    "# min_slope = m.addConstrs(el[u] - el[v] >= (LE[u, v] * Smin) - (M * (1 - z[frozenset((u, v))])) for u, v in G.edges)\n",
    "\n",
    "# MAXIMUM SLOPE\n",
    "# max_slope = m.addConstrs(el[u] - el[v] <= (LE[u, v] * Smax) - (M * (1 - z[frozenset((u, v))])) for u, v in G.edges)\n",
    "\n",
    "# FLOW VELOCITY LIMIT\n",
    "flow_vel = m.addConstrs(Q[e] <= gp.quicksum((np.pi / 8) * (s**2) * (d_es[*e, s]) for s in D) for e in G.edges)\n",
    "\n",
    "# MANNING'S EQUATION\n",
    "\n",
    "# Create new variables for the squared terms\n",
    "Q_squared = m.addVars(G.edges, name=\"Q_squared\")\n",
    "\n",
    "manning = m.addConstrs(\n",
    "    (LE[u, v] * gp.quicksum(d_es[u, v, s] * Q_squared[u, v] / (11.9879 * (s**(8/3)))**2 for s in D) \n",
    "     <= el[u] - el[v] for u, v in G.edges), \n",
    "    name=\"manning\"\n",
    ")\n",
    "\n",
    "# Add constraints to enforce Q_squared[u, v] = Q[u, v]^2\n",
    "q_square = m.addConstrs((Q_squared[u, v] == Q[u, v] * Q[u, v] for u, v in G.edges), name=\"Q_squared_def\")\n",
    "\n",
    "\n",
    "# PIPES UNDERGROUND\n",
    "underground = m.addConstrs(el[i] <= EL[i] for i in source_nodes)\n",
    "\n",
    "m.update()"
   ],
   "id": "aa2b29e9031d2e83",
   "outputs": [],
   "execution_count": 69
  },
  {
   "metadata": {
    "ExecuteTime": {
     "end_time": "2024-11-22T02:02:30.763342Z",
     "start_time": "2024-11-22T02:02:30.754875Z"
    }
   },
   "cell_type": "code",
   "source": "print(f\"Model has {m.NumVars} variables and {m.NumConstrs} constraints.\")",
   "id": "ae8d245242acad26",
   "outputs": [
    {
     "name": "stdout",
     "output_type": "stream",
     "text": [
      "Model has 36 variables and 19 constraints.\n"
     ]
    }
   ],
   "execution_count": 61
  },
  {
   "metadata": {
    "ExecuteTime": {
     "end_time": "2024-11-22T02:08:38.384457Z",
     "start_time": "2024-11-22T02:08:38.374912Z"
    }
   },
   "cell_type": "code",
   "source": [
    "treat_cost = gp.LinExpr()\n",
    "\n",
    "for j in treatment_nodes:\n",
    "    treat_cost.addTerms(TR, y[j])\n",
    "    for i in source_nodes:\n",
    "        treat_cost.addTerms(TRFlow * SR[i], x[i, j])\n"
   ],
   "id": "f2045c048400819a",
   "outputs": [],
   "execution_count": 71
  },
  {
   "metadata": {
    "ExecuteTime": {
     "end_time": "2024-11-22T02:08:39.982624Z",
     "start_time": "2024-11-22T02:08:39.971676Z"
    }
   },
   "cell_type": "code",
   "source": [
    "# OBJECTIVE EXPR 2: EXCAVATION COSTS\n",
    "excav_cost_f = lambda u, v: gp.QuadExpr(CE * (((EL[u] - el[u]) + (EL[v] - el[v])) / 2) * LE[u, v] * gp.quicksum(s + ((2*W)*d_es[u, v, s]) for s in D))\n",
    "\n",
    "# OBJECTIVE EXPR 3: BEDDING COSTS\n",
    "bed_cost_f = lambda u, v: gp.LinExpr(CB *  LE[u, v] * gp.quicksum(s + ((2*W)*d_es[u, v, s]) for s in D))\n",
    "\n",
    "\n",
    "excav_bed_cost = gp.quicksum(excav_cost_f(u, v) + bed_cost_f(u, v) for u, v in G.edges)\n"
   ],
   "id": "4999a1df55938590",
   "outputs": [],
   "execution_count": 72
  },
  {
   "metadata": {
    "ExecuteTime": {
     "end_time": "2024-11-22T02:08:41.948704Z",
     "start_time": "2024-11-22T02:08:41.942167Z"
    }
   },
   "cell_type": "code",
   "source": [
    "# OBJECTIVE EXPR 4: RECOURSE TRUCKING\n",
    "\n",
    "rec_cost = gp.LinExpr()\n",
    "for e in G.edges:\n",
    "    rec_cost.addTerms(CT, r[e])"
   ],
   "id": "966cefd53176ef97",
   "outputs": [],
   "execution_count": 73
  },
  {
   "metadata": {
    "ExecuteTime": {
     "end_time": "2024-11-22T02:08:44.010422Z",
     "start_time": "2024-11-22T02:08:44.005056Z"
    }
   },
   "cell_type": "code",
   "source": "m.setObjective(treat_cost + excav_bed_cost + rec_cost, GRB.MINIMIZE)",
   "id": "8b10a18df63acf03",
   "outputs": [],
   "execution_count": 74
  },
  {
   "metadata": {
    "ExecuteTime": {
     "end_time": "2024-11-22T02:08:44.973876Z",
     "start_time": "2024-11-22T02:08:44.870812Z"
    }
   },
   "cell_type": "code",
   "source": "m.optimize()",
   "id": "f89baecbbbb666b5",
   "outputs": [
    {
     "name": "stdout",
     "output_type": "stream",
     "text": [
      "Gurobi Optimizer version 11.0.3 build v11.0.3rc0 (win64 - Windows 11.0 (22631.2))\n",
      "\n",
      "CPU model: AMD Ryzen 7 5800HS with Radeon Graphics, instruction set [SSE2|AVX|AVX2]\n",
      "Thread count: 8 physical cores, 16 logical processors, using up to 16 threads\n",
      "\n",
      "Optimize a model with 13 rows, 36 columns and 50 nonzeros\n",
      "Model fingerprint: 0xe856ed8a\n",
      "Model has 36 quadratic objective terms\n",
      "Model has 6 quadratic constraints\n",
      "Variable types: 12 continuous, 24 integer (24 binary)\n",
      "Coefficient statistics:\n",
      "  Matrix range     [2e-02, 1e+03]\n",
      "  QMatrix range    [1e+00, 2e+02]\n",
      "  QLMatrix range   [1e+00, 1e+00]\n",
      "  Objective range  [2e+01, 4e+04]\n",
      "  QObjective range [7e+01, 1e+02]\n",
      "  Bounds range     [1e+00, 1e+00]\n",
      "  RHS range        [4e-02, 1e+00]\n",
      "Presolve removed 7 rows and 9 columns\n",
      "Presolve time: 0.02s\n",
      "Presolved: 108 rows, 81 columns, 273 nonzeros\n",
      "Presolved model has 3 bilinear constraint(s)\n",
      "\n",
      "Solving non-convex MIQCP\n",
      "\n",
      "Variable types: 63 continuous, 18 integer (18 binary)\n",
      "Found heuristic solution: objective 44413.645443\n",
      "\n",
      "Root relaxation: interrupted, 40 iterations, 0.00 seconds (0.00 work units)\n",
      "\n",
      "    Nodes    |    Current Node    |     Objective Bounds      |     Work\n",
      " Expl Unexpl |  Obj  Depth IntInf | Incumbent    BestBd   Gap | It/Node Time\n",
      "\n",
      "     0     0          -    0      44413.6454 44409.8017  0.01%     -    0s\n",
      "\n",
      "Explored 1 nodes (40 simplex iterations) in 0.09 seconds (0.00 work units)\n",
      "Thread count was 16 (of 16 available processors)\n",
      "\n",
      "Solution count 1: 44413.6 \n",
      "\n",
      "Optimal solution found (tolerance 1.00e-04)\n",
      "Best objective 4.441364544259e+04, best bound 4.440980167435e+04, gap 0.0087%\n"
     ]
    }
   ],
   "execution_count": 75
  }
 ],
 "metadata": {
  "kernelspec": {
   "display_name": "Python 3",
   "language": "python",
   "name": "python3"
  },
  "language_info": {
   "codemirror_mode": {
    "name": "ipython",
    "version": 2
   },
   "file_extension": ".py",
   "mimetype": "text/x-python",
   "name": "python",
   "nbconvert_exporter": "python",
   "pygments_lexer": "ipython2",
   "version": "2.7.6"
  }
 },
 "nbformat": 4,
 "nbformat_minor": 5
}
