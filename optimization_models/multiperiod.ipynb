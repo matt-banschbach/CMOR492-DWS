{
 "cells": [
  {
   "cell_type": "code",
   "execution_count": null,
   "id": "initial_id",
   "metadata": {
    "ExecuteTime": {
     "end_time": "2025-02-19T20:02:05.447672Z",
     "start_time": "2025-02-19T20:02:05.424834Z"
    },
    "collapsed": true
   },
   "outputs": [],
   "source": [
    "import gurobipy as gp\n",
    "from gurobipy import GRB\n",
    "import networkx as nx\n",
    "import numpy as np\n",
    "#   If you are getting ModuleNotFoundError, uncomment the following line...\n",
    "import sys\n",
    "#   ...and then replace 'your_path' with your path to this CMOR492-DWS directory\n",
    "#       (if you're pulling from the github, the directory is called CMOR492-DWS as of 19/02/2025)\n",
    "# sys.path.append('your_path/CMOR492-DWS')\n",
    "# sys.path.append('/Users/danielsuarez/Documents/Academic/Spring2025/SeniorDesign/CMOR492-DWS/')\n",
    "sys.path.append(\"C:\\\\Users\\\\gabri\\\\Documents\\\\CMOR492-DWS\")\n",
    "from network_construction.network import source_treatment, get_Utown\n"
   ]
  },
  {
   "cell_type": "code",
   "execution_count": 4,
   "id": "c2114a07669a9391",
   "metadata": {
    "ExecuteTime": {
     "end_time": "2025-02-19T20:02:06.261066Z",
     "start_time": "2025-02-19T20:02:06.175395Z"
    }
   },
   "outputs": [],
   "source": [
    "G = get_Utown()\n",
    "source_nodes, treatment_nodes = source_treatment(G, 40)  # <-- Specify # starting points for treatment node algorithm"
   ]
  },
  {
   "cell_type": "code",
   "execution_count": 5,
   "id": "e133f38e4866f8fe",
   "metadata": {
    "ExecuteTime": {
     "end_time": "2025-02-19T20:02:09.092485Z",
     "start_time": "2025-02-19T20:02:06.915438Z"
    }
   },
   "outputs": [],
   "source": [
    "### MODEL PARAMETERS\n",
    "\n",
    "# TODO: What if we just make pipe size continuous/linear\n",
    "\n",
    "Path = {}  # Set of shortest paths from each source node i to each treatment node j\n",
    "NLinks = {}  # Number of edges in each path\n",
    "L = {}  # Length of each path (distance)\n",
    "\n",
    "for i in source_nodes:\n",
    "    for j in treatment_nodes:\n",
    "        path = nx.shortest_path(G, source=i, target=j, weight='length')\n",
    "        Path[i, j] = path\n",
    "        NLinks[i, j] = len(path)-1\n",
    "        L[i, j] = nx.path_weight(G, path, weight='length')\n",
    "LE = {e: G.edges[e]['length'] for e in G.edges}  # Length of edge e\n",
    "EL = {v: G.nodes[v]['elevation'] for v in G.nodes}  # Elevation of node v\n",
    "\n",
    "\n",
    "D = [0.2, 0.25, 0.3, 0.35, 0.40, 0.45]  # Pipe diameters\n",
    "CP = {0.05: 8.7, 0.06: 9.5, 0.08: 11,\n",
    "                       0.1: 12.6, 0.15: 43.5, 0.2: 141,\n",
    "                       0.25: 151, 0.3: 161, 0.35: 180,\n",
    "                       0.4: 190, 0.45: 200}  # Cost per unit of pipe\n",
    "\n",
    "\n",
    "SR = {}  # Production at Source node i\n",
    "CAP = {}  # Capacity at treatment node j\n",
    "\n",
    "for node in source_nodes:\n",
    "    G.nodes[node]['production'] = .17\n",
    "    SR[node] = .17\n",
    "\n",
    "total_flow = sum(SR.values())\n",
    "\n",
    "for node in treatment_nodes:\n",
    "    G.nodes[node]['capacity'] = 1000\n",
    "    CAP[node] = 1000\n",
    "\n",
    "Vmin = 0.6 * 60\n",
    "Vmax = 3 * 60\n",
    "\n",
    "CE = 25  # Cost of Excavation\n",
    "CB = 6  # Cost of Bedding\n",
    "TR = 44000  # Fixed Cost of Treatment Plant\n",
    "TRFlow = 100  # Variable Cost of Treatment\n",
    "PICost = 30\n",
    "\n",
    "PF = {'0.05': 8.7, '0.06': 9.5, '0.08': 11,\n",
    "                       '0.1': 12.6, '0.15': 43.5, '0.2': 141,\n",
    "                       '0.25': 151, '0.3': 161, '0.35': 180,\n",
    "                       '0.4': 190, '0.45': 200}  # Fixed Cost of Piping\n",
    "\n",
    "CT = 1000000000  # Cost of trucking\n",
    "M = 1e6\n",
    "\n",
    "Smin = 0.01\n",
    "Smax = 0.1\n",
    "W = 0.5  # Buffer Width\n"
   ]
  },
  {
   "cell_type": "code",
   "execution_count": 6,
   "id": "991500d7d60d1e36",
   "metadata": {
    "ExecuteTime": {
     "end_time": "2025-02-19T20:02:10.504103Z",
     "start_time": "2025-02-19T20:02:09.114701Z"
    }
   },
   "outputs": [
    {
     "name": "stdout",
     "output_type": "stream",
     "text": [
      "Set parameter Username\n",
      "Academic license - for non-commercial use only - expires 2026-02-19\n"
     ]
    }
   ],
   "source": [
    "m = gp.Model()\n",
    "\n",
    "### DECISION VARIABLES\n",
    "\n",
    "x = m.addVars(Path.keys(), vtype=GRB.BINARY, name='x')  # Path ij used\n",
    "y = m.addVars(treatment_nodes, vtype=GRB.BINARY, name='y')  # treatment at node j\n",
    "z = m.addVars(G.edges, vtype=GRB.BINARY, name='z')  # edge e used\n",
    "\n",
    "# Pipe Size Selection\n",
    "d_es_names = []\n",
    "for e in G.edges:\n",
    "    for s in D:\n",
    "        d_es_names.append(f\"Edge: {e[0]}---{e[1]} <- Size: {s}\")\n",
    "\n",
    "d = m.addVars(G.edges, D, vtype=GRB.BINARY, name='d')  # Pipe size s at edge e\n",
    "\n",
    "\n",
    "# Recourse Amount\n",
    "r = m.addVars(source_nodes, vtype=GRB.CONTINUOUS, lb=0.0, name='r')  # flow handled at trucking at edge e\n",
    "\n",
    "# Flow in Edge e\n",
    "Q = m.addVars(G.edges, vtype=GRB.CONTINUOUS, lb=0.0, name='Q')  # Flow in Edge e\n",
    "\n",
    "# Node Elevation\n",
    "el = m.addVars(G.nodes, vtype=GRB.CONTINUOUS, name='el')  # Elevation at node el_v\n",
    "\n",
    "# Path Flow\n",
    "p = m.addVars(Path.keys(), vtype=GRB.CONTINUOUS, lb = 0.0, name='p')\n",
    "\n",
    "c = m.addVars(G.nodes, vtype=GRB.BINARY, name='c')\n",
    "\n",
    "m.update()"
   ]
  },
  {
   "cell_type": "code",
   "execution_count": 7,
   "id": "37cb025c15dc02c4",
   "metadata": {
    "ExecuteTime": {
     "end_time": "2025-02-19T20:02:47.719445Z",
     "start_time": "2025-02-19T20:02:32.631435Z"
    }
   },
   "outputs": [],
   "source": [
    "### CONSTRAINTS\n",
    "\n",
    "# NODE PRODUCTION MINUS RECOURSE\n",
    "node_prod_rec = m.addConstrs((p[i, j] >= (SR[i] * x[i, j]) - r[i] for i, j in Path.keys()), name='node_prod_rec')\n",
    "\n",
    "# TREATMENT CAPACITY\n",
    "treat_cap = m.addConstrs((gp.quicksum(p[i, j] for i in source_nodes) <= CAP[j] * y[j] for j in treatment_nodes), name='treat_cap')\n",
    "\n",
    "#  NODE ASSIGNMENT\n",
    "node_assign = m.addConstrs((gp.quicksum(x[i, j] for j in treatment_nodes) == 1 for i in source_nodes), name='node_assign')\n",
    "\n",
    "# PIPE SIZING\n",
    "pipe_sizing = m.addConstrs((gp.quicksum(d[*e, s] for s in D) == z[e] for e in G.edges), name='pipe_sizing')  # ALWAYS BE SURE TO EXPAND e\n",
    "\n",
    "# TODO: Go through this with John\n",
    "# FLOW DEFINITION\n",
    "def is_sublist(short_list, long_list):\n",
    "    for i in range(len(long_list) - len(short_list) + 1):\n",
    "        if long_list[i:i + len(short_list)] == short_list:\n",
    "            return True\n",
    "    return False\n",
    "\n",
    "flow_def = m.addConstrs((Q[e] == gp.quicksum(p[i, j] for i, j in Path.keys() if is_sublist(list((e[0], e[1])),Path[i,j])) for e in G.edges), name='flow_def')\n",
    "\n",
    "\n",
    "# MIN/MAX SLOPE\n",
    "min_slope = m.addConstrs((el[e[0]] - el[e[1]] >= (LE[e] * Smin) - (M * (1 - z[e])) for e in G.edges), name='min_slope')\n",
    "max_slope = m.addConstrs((el[e[0]] - el[e[1]] <= (LE[e] * Smax) + (M * (1 - z[e])) for e in G.edges), name='max_slope')\n",
    "\n",
    "# FLOW VELOCITY LIMIT\n",
    "flow_vel = m.addConstrs((Q[e] <= Vmax * gp.quicksum((np.pi / 8) * (s**2) * (d[*e, s]) for s in D) for e in G.edges), name='flow_vel')\n",
    "\n",
    "# PIPES UNDERGROUND\n",
    "underground = m.addConstrs((el[u] <= EL[u] for u in G.nodes), name='underground')\n",
    "m.update()\n",
    "# EDGE ACTIVATION\n",
    "\n",
    "# TODO: Go through this with John 2\n",
    "# EDGE ACTIVATION\n",
    "ePath = {}  # Use this for Edge Activiation Constraint\n",
    "for e, p in Path.items():\n",
    "    ePath[e] = [(p[l - 1], p[l]) for l in range(1, len(p))]\n",
    "\n",
    "edge_activate = m.addConstrs((gp.quicksum(z[e] for e in ePath[i, j]) >= NLinks[i, j] * x[i, j] for i, j in Path), name='edge_activate')\n",
    "\n",
    "\n",
    "# ENVELOPES FOR MANNING\n",
    "\n",
    "T = 11.9879\n",
    "P = lambda LE, s: LE / (T * (s**(16/3)))\n",
    "Qmax = lambda s: Vmax * ((np.pi / 8) * (s**2))\n",
    "\n",
    "\n",
    "alpha = m.addVars(G.edges, D, lb=0, name='alpha')\n",
    "beta = m.addVars(G.edges, D, lb=0, name='beta')\n",
    "\n",
    "\n",
    "alpha_2 = m.addConstrs((alpha[*e, s] >= Q[e] + d[*e, s] * Qmax(s) - ( Qmax(s)) for e in G.edges for s in D), name='alpha_2')\n",
    "alpha_3 = m.addConstrs((alpha[*e, s] <= Qmax(s) * d[*e, s] for e in G.edges for s in D), name='alpha_3')\n",
    "alpha_4 = m.addConstrs((alpha[*e, s] <= Q[e] for e in G.edges for s in D), name='alpha_4')\n",
    "alpha_5 = m.addConstrs((alpha[*e, s] <= Qmax(s) for e in G.edges for s in D), name='alpha_5')\n",
    "\n",
    "beta_2 = m.addConstrs((beta[*e, s] >= (Qmax(s) * Q[e]) + (Qmax(s) * alpha[*e, s]) - (Qmax(s)**2) for e in G.edges for s in D), name='beta_2')\n",
    "beta_3 = m.addConstrs((beta[*e, s] <= Qmax(s) * alpha[*e, s] for e in G.edges for s in D), name='beta_3')\n",
    "beta_4 = m.addConstrs((beta[*e, s] <= Qmax(s) * Q[e] for e in G.edges for s in D), name='beta_4')\n",
    "\n",
    "# manning_2 = m.addConstrs((el[e[1]] - el[e[0]] + gp.quicksum(P(LE[e], s) * beta[*e, s] for s in D) <= 0 for e in G.edges), name='manning_2')\n",
    "\n",
    "# ADDED THE BIG M THING HERE BUT IDK IF IT COULD BE IMPROVED\n",
    "manning_2 = m.addConstrs((el[e[1]] - el[e[0]] + gp.quicksum(P(LE[e], s) * beta[*e, s] for s in D) <= (1-z[e])*M for e in G.edges), name='manning_2')\n",
    "m.update()"
   ]
  },
  {
   "cell_type": "code",
   "execution_count": 8,
   "id": "9e128e26dde19055",
   "metadata": {
    "ExecuteTime": {
     "end_time": "2025-02-19T20:02:59.467826Z",
     "start_time": "2025-02-19T20:02:59.457337Z"
    }
   },
   "outputs": [
    {
     "name": "stdout",
     "output_type": "stream",
     "text": [
      "Model has 24985 variables and 38926 constraints.\n"
     ]
    }
   ],
   "source": [
    "# OBJECTIVE EPXR 1: TREATMENT COSTS\n",
    "\n",
    "# treat_cost = gp.LinExpr()\n",
    "# for j in treatment_nodes:\n",
    "#     treat_cost.addTerms(TR, y[j])\n",
    "#     for i in source_nodes:\n",
    "#         treat_cost.addTerms(TRFlow * SR[i], x[i, j])\n",
    "#\n",
    "# # OBJECTIVE EXPR 2: EXCAVATION COSTS\n",
    "# excav_cost_f = lambda u, v: gp.QuadExpr(CE * (((EL[u] - el[u]) + (EL[v] - el[v])) / 2) * LE[u, v] * gp.quicksum(s + ((2*W) * d[u, v, s]) for s in D))\n",
    "#\n",
    "# # OBJECTIVE EXPR 3: BEDDING COSTS\n",
    "# bed_cost_f = lambda u, v: gp.LinExpr(CB * LE[u, v] * gp.quicksum(s + ((2*W) * d[u, v, s]) for s in D))\n",
    "# # OBJECTIVE EXPR 4: PIPE COSTS\n",
    "# pipe_cost_f = lambda u, v: gp.LinExpr(LE[u, v] * gp.quicksum(CP[s] * d[u, v, s] for s in D))\n",
    "#\n",
    "# excav_bed_cost = gp.quicksum(excav_cost_f(u, v) + bed_cost_f(u, v) + pipe_cost_f(u, v) for u, v in G.edges)\n",
    "#\n",
    "# # OBJECTIVE EXPR 5: RECOURSE TRUCKING\n",
    "#\n",
    "# rec_cost = gp.LinExpr()\n",
    "# for i in source_nodes:\n",
    "#     rec_cost.addTerms(CT, r[i])\n",
    "#\n",
    "# m.setObjective(treat_cost + excav_bed_cost + rec_cost, GRB.MINIMIZE)\n",
    "\n",
    "m.setObjective(0, GRB.MINIMIZE)\n",
    "\n",
    "m.update()\n",
    "print(f\"Model has {m.NumVars} variables and {m.NumConstrs} constraints.\")"
   ]
  },
  {
   "cell_type": "code",
   "execution_count": 9,
   "id": "98cddf5b0cdf99f4",
   "metadata": {
    "ExecuteTime": {
     "end_time": "2025-02-19T20:03:03.287282Z",
     "start_time": "2025-02-19T20:03:01.341496Z"
    }
   },
   "outputs": [
    {
     "name": "stdout",
     "output_type": "stream",
     "text": [
      "Gurobi Optimizer version 12.0.1 build v12.0.1rc0 (win64 - Windows 11.0 (26100.2))\n",
      "\n",
      "CPU model: AMD Ryzen 9 5900HX with Radeon Graphics, instruction set [SSE2|AVX|AVX2]\n",
      "Thread count: 8 physical cores, 16 logical processors, using up to 16 threads\n",
      "\n",
      "Optimize a model with 38926 rows, 24985 columns and 286316 nonzeros\n",
      "Model fingerprint: 0x4b7bef5b\n",
      "Variable types: 14060 continuous, 10925 integer (10925 binary)\n",
      "Coefficient statistics:\n",
      "  Matrix range     [2e-01, 1e+06]\n",
      "  Objective range  [0e+00, 0e+00]\n",
      "  Bounds range     [1e+00, 1e+00]\n",
      "  RHS range        [1e+00, 1e+06]\n",
      "Presolve removed 27525 rows and 12506 columns\n",
      "Presolve time: 1.93s\n",
      "Presolved: 11401 rows, 12479 columns, 103321 nonzeros\n",
      "Variable types: 9405 continuous, 3074 integer (3074 binary)\n",
      "Found heuristic solution: objective 0.0000000\n",
      "\n",
      "Explored 0 nodes (0 simplex iterations) in 2.16 seconds (1.07 work units)\n",
      "Thread count was 16 (of 16 available processors)\n",
      "\n",
      "Solution count 1: 0 \n",
      "\n",
      "Optimal solution found (tolerance 1.00e-04)\n",
      "Best objective 0.000000000000e+00, best bound 0.000000000000e+00, gap 0.0000%\n"
     ]
    }
   ],
   "source": [
    "# m.write(\"singleperiod_nocontext2.lp\")\n",
    "m.optimize()"
   ]
  },
  {
   "cell_type": "code",
   "execution_count": 10,
   "id": "134084f479529b4c",
   "metadata": {
    "ExecuteTime": {
     "end_time": "2025-02-19T16:33:43.034902Z",
     "start_time": "2025-02-19T16:33:43.015191Z"
    }
   },
   "outputs": [
    {
     "name": "stdout",
     "output_type": "stream",
     "text": [
      "r[59079984] 1.0\n",
      "r[59080764] 1.0\n",
      "r[59081555] 1.0\n",
      "r[59081615] 1.0\n",
      "r[59081625] 1.0\n",
      "r[59081682] 1.0\n",
      "r[59081790] 1.0\n",
      "r[59081845] 1.0\n",
      "r[59082151] 1.0\n",
      "r[59082376] 1.0\n",
      "r[59082984] 1.0\n",
      "r[59084971] 1.0\n",
      "r[59084975] 1.0\n",
      "r[59084990] 1.0\n",
      "r[59091067] 1.0\n",
      "r[59091076] 1.0\n",
      "r[59095757] 1.0\n",
      "r[59095758] 1.0\n",
      "r[59096570] 1.0\n",
      "r[59097709] 1.0\n",
      "r[59101042] 1.0\n",
      "r[59101390] 1.0\n",
      "r[59102119] 1.0\n",
      "r[59104191] 1.0\n",
      "r[59105503] 1.0\n",
      "r[59105510] 1.0\n",
      "r[59106124] 1.0\n",
      "r[59106145] 1.0\n",
      "r[59108226] 1.0\n",
      "r[59108232] 1.0\n",
      "r[59108749] 1.0\n",
      "r[59110218] 1.0\n",
      "r[59110295] 1.0\n",
      "r[59110368] 1.0\n",
      "r[59112331] 1.0\n",
      "r[59112337] 1.0\n",
      "r[59112870] 1.0\n",
      "r[59113590] 1.0\n",
      "r[59115071] 1.0\n",
      "r[59115076] 1.0\n",
      "r[59115377] 1.0\n",
      "r[59115384] 1.0\n",
      "r[59116275] 1.0\n",
      "r[59116279] 1.0\n",
      "r[59116284] 1.0\n",
      "r[59116298] 1.0\n",
      "r[59117099] 1.0\n",
      "r[59117103] 1.0\n",
      "r[59117109] 1.0\n",
      "r[59120062] 1.0\n",
      "r[59120066] 1.0\n",
      "r[59120113] 1.0\n",
      "r[59123240] 1.0\n",
      "r[59123827] 1.0\n",
      "r[59123873] 1.0\n",
      "r[59123898] 1.0\n",
      "r[59123905] 1.0\n",
      "r[59123911] 1.0\n",
      "r[59123919] 1.0\n",
      "r[59123924] 1.0\n",
      "r[59123928] 1.0\n",
      "r[59123932] 1.0\n",
      "r[59123953] 1.0\n",
      "r[59123966] 1.0\n",
      "r[59125609] 1.0\n",
      "r[59125613] 1.0\n",
      "r[59125620] 1.0\n",
      "r[59125630] 1.0\n",
      "r[59125637] 1.0\n",
      "r[59125643] 1.0\n",
      "r[59126151] 1.0\n",
      "r[59126206] 1.0\n",
      "r[59128098] 1.0\n",
      "r[59129053] 1.0\n",
      "r[59129064] 1.0\n",
      "r[59129085] 1.0\n",
      "r[59133185] 1.0\n",
      "r[59133200] 1.0\n",
      "r[59133203] 1.0\n",
      "r[59133212] 1.0\n",
      "r[59133318] 1.0\n",
      "r[59140891] 1.0\n",
      "r[59140912] 1.0\n",
      "r[59140961] 1.0\n",
      "r[59140975] 1.0\n",
      "r[59146259] 1.0\n",
      "r[59146263] 1.0\n",
      "r[59147540] 1.0\n",
      "r[59154485] 1.0\n",
      "r[59155649] 1.0\n",
      "r[59156807] 1.0\n",
      "r[59158197] 1.0\n",
      "r[59158861] 1.0\n",
      "r[59158951] 1.0\n",
      "r[59161207] 1.0\n",
      "r[59161664] 1.0\n",
      "r[59162550] 1.0\n",
      "r[59168031] 1.0\n",
      "r[59168033] 1.0\n",
      "r[59168101] 1.0\n",
      "r[9930785225] 1.0\n",
      "r[9930802707] 1.0\n",
      "r[9930802710] 1.0\n",
      "r[9930802712] 1.0\n",
      "r[9936649913] 1.0\n"
     ]
    }
   ],
   "source": [
    "for v in r:\n",
    "    if r[v].X > 0:\n",
    "        print(r[v].VarName, r[v].X)"
   ]
  },
  {
   "cell_type": "code",
   "execution_count": 11,
   "id": "74ecb3087a950124",
   "metadata": {},
   "outputs": [
    {
     "name": "stdout",
     "output_type": "stream",
     "text": [
      "Gurobi Optimizer version 12.0.1 build v12.0.1rc0 (win64 - Windows 11.0 (26100.2))\n",
      "\n",
      "CPU model: AMD Ryzen 9 5900HX with Radeon Graphics, instruction set [SSE2|AVX|AVX2]\n",
      "Thread count: 8 physical cores, 16 logical processors, using up to 16 threads\n",
      "\n",
      "IIS computation: initial model status unknown, solving to determine model status\n",
      "Presolve removed 27525 rows and 12506 columns\n",
      "Presolve time: 1.76s\n",
      "Presolved: 11401 rows, 12479 columns, 103321 nonzeros\n",
      "Variable types: 9405 continuous, 3074 integer (3074 binary)\n",
      "Found heuristic solution: objective 0.0000000\n",
      "\n",
      "Explored 0 nodes (0 simplex iterations) in 1.93 seconds (1.07 work units)\n",
      "Thread count was 16 (of 16 available processors)\n",
      "\n",
      "Solution count 1: 0 \n",
      "\n",
      "Optimal solution found (tolerance 1.00e-04)\n",
      "Best objective 0.000000000000e+00, best bound 0.000000000000e+00, gap 0.0000%\n",
      "IIS runtime: 1.95 seconds (1.07 work units)\n"
     ]
    },
    {
     "ename": "GurobiError",
     "evalue": "Cannot compute IIS on a feasible model",
     "output_type": "error",
     "traceback": [
      "\u001b[1;31m---------------------------------------------------------------------------\u001b[0m",
      "\u001b[1;31mGurobiError\u001b[0m                               Traceback (most recent call last)",
      "Cell \u001b[1;32mIn[11], line 1\u001b[0m\n\u001b[1;32m----> 1\u001b[0m \u001b[43mm\u001b[49m\u001b[38;5;241;43m.\u001b[39;49m\u001b[43mcomputeIIS\u001b[49m\u001b[43m(\u001b[49m\u001b[43m)\u001b[49m\n\u001b[0;32m      3\u001b[0m \u001b[38;5;28;01mfor\u001b[39;00m c \u001b[38;5;129;01min\u001b[39;00m m\u001b[38;5;241m.\u001b[39mgetConstrs():\n\u001b[0;32m      4\u001b[0m     \u001b[38;5;28;01mif\u001b[39;00m c\u001b[38;5;241m.\u001b[39mIISConstr:\n",
      "File \u001b[1;32msrc\\\\gurobipy\\\\_model.pyx:1208\u001b[0m, in \u001b[0;36mgurobipy._model.Model.computeIIS\u001b[1;34m()\u001b[0m\n",
      "\u001b[1;31mGurobiError\u001b[0m: Cannot compute IIS on a feasible model"
     ]
    }
   ],
   "source": [
    "m.computeIIS()\n",
    "\n",
    "for c in m.getConstrs():\n",
    "    if c.IISConstr:\n",
    "        print(f\"Constraint {c.ConstrName} is in the IIS\")\n",
    "\n",
    "for v in m.getVars():\n",
    "    if v.IISLB > 0:\n",
    "        print(f\"Lower bound of {v.VarName} is in the IIS\")\n",
    "    elif v.IISUB > 0:\n",
    "        print(f\"Upper bound of {v.VarName} is in the IIS\")\n"
   ]
  },
  {
   "cell_type": "code",
   "execution_count": null,
   "id": "39250daf267b7e43",
   "metadata": {
    "ExecuteTime": {
     "end_time": "2025-02-19T16:34:10.066806Z",
     "start_time": "2025-02-19T16:34:09.955331Z"
    }
   },
   "outputs": [],
   "source": [
    "for v in m.getVars():\n",
    "    if v.X > 0:\n",
    "        print(v.VarName, v.X)"
   ]
  },
  {
   "cell_type": "code",
   "execution_count": null,
   "id": "93d1714a911526cb",
   "metadata": {
    "ExecuteTime": {
     "end_time": "2025-02-19T19:23:22.112034Z",
     "start_time": "2025-02-19T19:23:22.031006Z"
    }
   },
   "outputs": [],
   "source": [
    "x_0 = {str(xv) : x[xv].X for xv in x}\n",
    "y_0 = {yv : y[yv].X for yv in y}\n",
    "z_0 = {str(zv) : z[zv].X for zv in z}\n",
    "\n",
    "d_0 = {str(dv) : d[dv].X for dv in d}\n",
    "el_0 = {elv: el[elv].X for elv in el}"
   ]
  },
  {
   "cell_type": "code",
   "execution_count": null,
   "id": "a8332415e2e39335",
   "metadata": {
    "ExecuteTime": {
     "end_time": "2025-02-19T19:10:37.046131Z",
     "start_time": "2025-02-19T19:10:37.039587Z"
    }
   },
   "outputs": [],
   "source": [
    "import json"
   ]
  },
  {
   "cell_type": "code",
   "execution_count": null,
   "id": "940a516819c176fe",
   "metadata": {
    "ExecuteTime": {
     "end_time": "2025-02-19T19:10:37.756978Z",
     "start_time": "2025-02-19T19:10:37.716926Z"
    }
   },
   "outputs": [],
   "source": [
    "with open(\"x_sol.json\", \"w\") as f:\n",
    "    json.dump(x_0, f)"
   ]
  },
  {
   "cell_type": "code",
   "execution_count": null,
   "id": "a80f3c01961e4550",
   "metadata": {
    "ExecuteTime": {
     "end_time": "2025-02-19T19:23:27.413479Z",
     "start_time": "2025-02-19T19:23:27.380929Z"
    }
   },
   "outputs": [],
   "source": [
    "with open(\"z_sol.json\", \"w\") as f:\n",
    "    json.dump(z_0, f)\n",
    "\n",
    "with open(\"d_sol.json\", \"w\") as f:\n",
    "    json.dump(d_0, f)\n",
    "\n",
    "with open(\"el_sol.json\", \"w\") as f:\n",
    "    json.dump(el_0, f)"
   ]
  },
  {
   "cell_type": "code",
   "execution_count": null,
   "id": "c953a80f0a09e9ad",
   "metadata": {},
   "outputs": [],
   "source": []
  }
 ],
 "metadata": {
  "kernelspec": {
   "display_name": "CMOR492-DWS_venv1",
   "language": "python",
   "name": "python3"
  },
  "language_info": {
   "codemirror_mode": {
    "name": "ipython",
    "version": 3
   },
   "file_extension": ".py",
   "mimetype": "text/x-python",
   "name": "python",
   "nbconvert_exporter": "python",
   "pygments_lexer": "ipython3",
   "version": "3.11.9"
  }
 },
 "nbformat": 4,
 "nbformat_minor": 5
}
