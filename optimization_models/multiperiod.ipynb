{
 "cells": [
  {
   "cell_type": "code",
   "execution_count": 1,
   "id": "initial_id",
   "metadata": {
    "ExecuteTime": {
     "end_time": "2025-02-19T20:02:05.447672Z",
     "start_time": "2025-02-19T20:02:05.424834Z"
    },
    "collapsed": true
   },
   "outputs": [],
   "source": [
    "import gurobipy as gp\n",
    "from gurobipy import GRB\n",
    "import networkx as nx\n",
    "import numpy as np\n",
    "#   If you are getting ModuleNotFoundError, uncomment the following line...\n",
    "import sys\n",
    "#   ...and then replace 'your_path' with your path to this CMOR492-DWS directory\n",
    "#       (if you're pulling from the github, the directory is called CMOR492-DWS as of 19/02/2025)\n",
    "# sys.path.append('your_path/CMOR492-DWS')\n",
    "# sys.path.append('/Users/danielsuarez/Documents/Academic/Spring2025/SeniorDesign/CMOR492-DWS/')\n",
    "sys.path.append(\"C:\\\\Users\\\\gabri\\\\Documents\\\\CMOR492-DWS\")\n",
    "from network_construction.network import source_treatment, get_Utown\n"
   ]
  },
  {
   "cell_type": "code",
   "execution_count": 2,
   "id": "c2114a07669a9391",
   "metadata": {
    "ExecuteTime": {
     "end_time": "2025-02-19T20:02:06.261066Z",
     "start_time": "2025-02-19T20:02:06.175395Z"
    }
   },
   "outputs": [],
   "source": [
    "G = get_Utown()\n",
    "source_nodes, treatment_nodes = source_treatment(G, 40)  # <-- Specify # starting points for treatment node algorithm"
   ]
  },
  {
   "cell_type": "code",
   "execution_count": 3,
   "id": "e133f38e4866f8fe",
   "metadata": {
    "ExecuteTime": {
     "end_time": "2025-02-19T20:02:09.092485Z",
     "start_time": "2025-02-19T20:02:06.915438Z"
    }
   },
   "outputs": [],
   "source": [
    "### MODEL PARAMETERS\n",
    "\n",
    "# TODO: What if we just make pipe size continuous/linear\n",
    "\n",
    "Path = {}  # Set of shortest paths from each source node i to each treatment node j\n",
    "NLinks = {}  # Number of edges in each path\n",
    "L = {}  # Length of each path (distance)\n",
    "\n",
    "for i in source_nodes:\n",
    "    for j in treatment_nodes:\n",
    "        path = nx.shortest_path(G, source=i, target=j, weight='length')\n",
    "        Path[i, j] = path\n",
    "        NLinks[i, j] = len(path)-1\n",
    "        L[i, j] = nx.path_weight(G, path, weight='length')\n",
    "LE = {e: G.edges[e]['length'] for e in G.edges}  # Length of edge e\n",
    "EL = {v: G.nodes[v]['elevation'] for v in G.nodes}  # Elevation of node v\n",
    "\n",
    "\n",
    "D = [0.2, 0.25, 0.3, 0.35, 0.40, 0.45]  # Pipe diameters\n",
    "CP = {0.05: 8.7, 0.06: 9.5, 0.08: 11,\n",
    "                       0.1: 12.6, 0.15: 43.5, 0.2: 141,\n",
    "                       0.25: 151, 0.3: 161, 0.35: 180,\n",
    "                       0.4: 190, 0.45: 200}  # Cost per unit of pipe\n",
    "\n",
    "\n",
    "SR = {}  # Production at Source node i\n",
    "CAP = {}  # Capacity at treatment node j\n",
    "\n",
    "for node in source_nodes:\n",
    "    G.nodes[node]['production'] = .17\n",
    "    SR[node] = .17\n",
    "\n",
    "total_flow = sum(SR.values())\n",
    "\n",
    "for node in treatment_nodes:\n",
    "    G.nodes[node]['capacity'] = 1000\n",
    "    CAP[node] = 1000\n",
    "\n",
    "Vmin = 0.6 * 60\n",
    "Vmax = 3 * 60\n",
    "\n",
    "CE = 25  # Cost of Excavation\n",
    "CB = 6  # Cost of Bedding\n",
    "TR = 44000  # Fixed Cost of Treatment Plant\n",
    "TRFlow = 100  # Variable Cost of Treatment\n",
    "PICost = 30\n",
    "\n",
    "PF = {'0.05': 8.7, '0.06': 9.5, '0.08': 11,\n",
    "                       '0.1': 12.6, '0.15': 43.5, '0.2': 141,\n",
    "                       '0.25': 151, '0.3': 161, '0.35': 180,\n",
    "                       '0.4': 190, '0.45': 200}  # Fixed Cost of Piping\n",
    "\n",
    "CT = 1000000000  # Cost of trucking\n",
    "M = 1e6\n",
    "\n",
    "Smin = 0.01\n",
    "Smax = 0.1\n",
    "W = 0.5  # Buffer Width\n",
    "\n",
    "R = 0  # Discount factor"
   ]
  },
  {
   "cell_type": "code",
   "execution_count": 37,
   "id": "991500d7d60d1e36",
   "metadata": {
    "ExecuteTime": {
     "end_time": "2025-02-19T20:02:10.504103Z",
     "start_time": "2025-02-19T20:02:09.114701Z"
    }
   },
   "outputs": [],
   "source": [
    "m = gp.Model()\n",
    "\n",
    "### DECISION VARIABLES\n",
    "\n",
    "x = m.addVars(Path.keys(), vtype=GRB.BINARY, name='x')  # Path ij used \n",
    "y = m.addVars(treatment_nodes, vtype=GRB.BINARY, name='y')  # treatment at node j \n",
    "z = m.addVars(G.edges, vtype=GRB.BINARY, name='z')  # edge e used \n",
    "\n",
    "# | Not used anywhere else, at least in this notebook\n",
    "# v\n",
    "# Pipe Size Selection\n",
    "# d_es_names = []\n",
    "# for e in G.edges:\n",
    "#     for s in D:\n",
    "#         d_es_names.append(f\"Edge: {e[0]}---{e[1]} <- Size: {s}\")\n",
    "\n",
    "# v This v is added in ### ADD DECISION VARIABLES FOR MULTIPERIOD\n",
    "# d = m.addVars(G.edges, D, vtype=GRB.BINARY, name='d')  # New replacement pipe size s at edge e \n",
    "\n",
    "a = m.addVars(G.edges, D, vtype=GRB.BINARY, name='a')  # Pipe size s at edge e \n",
    "\n",
    "# Node Elevation\n",
    "el = m.addVars(G.nodes, vtype=GRB.CONTINUOUS, name='el')  # Elevation at node v \n",
    "\n",
    "# Recourse Amount\n",
    "r = m.addVars(source_nodes, vtype=GRB.CONTINUOUS, lb=0.0, name='r')  # Flow handled at trucking at edge e \n",
    "\n",
    "# Flow in Edge e\n",
    "Q = m.addVars(G.edges, vtype=GRB.CONTINUOUS, lb=0.0, name='Q')  # Flow in Edge e \n",
    "\n",
    "# Path Flow\n",
    "p = m.addVars(Path.keys(), vtype=GRB.CONTINUOUS, lb = 0.0, name='p')  # Flow through path ij \n",
    "\n",
    "m.update()"
   ]
  },
  {
   "cell_type": "code",
   "execution_count": 38,
   "id": "37cb025c15dc02c4",
   "metadata": {
    "ExecuteTime": {
     "end_time": "2025-02-19T20:02:47.719445Z",
     "start_time": "2025-02-19T20:02:32.631435Z"
    }
   },
   "outputs": [],
   "source": [
    "### CONSTRAINTS\n",
    "\n",
    "# NODE PRODUCTION MINUS RECOURSE\n",
    "node_prod_rec = m.addConstrs((p[i, j] >= (SR[i] * x[i, j]) - r[i] for i, j in Path.keys()), name='node_prod_rec')\n",
    "\n",
    "# TREATMENT CAPACITY\n",
    "treat_cap = m.addConstrs((gp.quicksum(p[i, j] for i in source_nodes) <= CAP[j] * y[j] for j in treatment_nodes), name='treat_cap')\n",
    "\n",
    "#  NODE ASSIGNMENT\n",
    "node_assign = m.addConstrs((gp.quicksum(x[i, j] for j in treatment_nodes) == 1 for i in source_nodes), name='node_assign')\n",
    "\n",
    "# PIPE SIZING\n",
    "pipe_sizing = m.addConstrs((gp.quicksum(a[*e, s] for s in D) == z[e] for e in G.edges), name='pipe_sizing')  # ALWAYS BE SURE TO UNPACK e\n",
    "\n",
    "# TODO: Go through this with John\n",
    "# FLOW DEFINITION\n",
    "def is_sublist(short_list, long_list):\n",
    "    for i in range(len(long_list) - len(short_list) + 1):\n",
    "        if long_list[i:i + len(short_list)] == short_list:\n",
    "            return True\n",
    "    return False\n",
    "\n",
    "flow_def = m.addConstrs((Q[e] == gp.quicksum(p[i, j] for i, j in Path.keys() if is_sublist(list((e[0], e[1])),Path[i,j])) for e in G.edges), name='flow_def')\n",
    "\n",
    "\n",
    "# MIN/MAX SLOPE\n",
    "min_slope = m.addConstrs((el[e[0]] - el[e[1]] >= (LE[e] * Smin) - (M * (1 - z[e])) for e in G.edges), name='min_slope')\n",
    "max_slope = m.addConstrs((el[e[0]] - el[e[1]] <= (LE[e] * Smax) + (M * (1 - z[e])) for e in G.edges), name='max_slope')\n",
    "\n",
    "# FLOW VELOCITY LIMIT\n",
    "flow_vel = m.addConstrs((Q[e] <= Vmax * gp.quicksum((np.pi / 8) * (s**2) * (a[*e, s]) for s in D) for e in G.edges), name='flow_vel')\n",
    "\n",
    "# PIPES UNDERGROUND\n",
    "underground = m.addConstrs((el[u] <= EL[u] for u in G.nodes), name='underground')\n",
    "m.update()\n",
    "# EDGE ACTIVATION\n",
    "\n",
    "# TODO: Go through this with John 2\n",
    "# EDGE ACTIVATION\n",
    "ePath = {}  # Use this for Edge Activation Constraint\n",
    "for e, p in Path.items():\n",
    "    ePath[e] = [(p[l - 1], p[l]) for l in range(1, len(p))]\n",
    "\n",
    "edge_activate = m.addConstrs((gp.quicksum(z[e] for e in ePath[i, j]) >= NLinks[i, j] * x[i, j] for i, j in Path), name='edge_activate')\n",
    "\n",
    "\n",
    "# ENVELOPES FOR MANNING\n",
    "\n",
    "T = 11.9879\n",
    "P = lambda LE, s: LE / (T * (s**(16/3)))\n",
    "Qmax = lambda s: Vmax * ((np.pi / 8) * (s**2))\n",
    "\n",
    "\n",
    "alpha = m.addVars(G.edges, D, lb=0, name='alpha')\n",
    "beta = m.addVars(G.edges, D, lb=0, name='beta')\n",
    "\n",
    "\n",
    "alpha_2 = m.addConstrs((alpha[*e, s] >= Q[e] + a[*e, s] * Qmax(s) - ( Qmax(s)) for e in G.edges for s in D), name='alpha_2')\n",
    "alpha_3 = m.addConstrs((alpha[*e, s] <= Qmax(s) * a[*e, s] for e in G.edges for s in D), name='alpha_3')\n",
    "alpha_4 = m.addConstrs((alpha[*e, s] <= Q[e] for e in G.edges for s in D), name='alpha_4')\n",
    "alpha_5 = m.addConstrs((alpha[*e, s] <= Qmax(s) for e in G.edges for s in D), name='alpha_5')\n",
    "\n",
    "beta_2 = m.addConstrs((beta[*e, s] >= (Qmax(s) * Q[e]) + (Qmax(s) * alpha[*e, s]) - (Qmax(s)**2) for e in G.edges for s in D), name='beta_2')\n",
    "beta_3 = m.addConstrs((beta[*e, s] <= Qmax(s) * alpha[*e, s] for e in G.edges for s in D), name='beta_3')\n",
    "beta_4 = m.addConstrs((beta[*e, s] <= Qmax(s) * Q[e] for e in G.edges for s in D), name='beta_4')\n",
    "\n",
    "# manning_2 = m.addConstrs((el[e[1]] - el[e[0]] + gp.quicksum(P(LE[e], s) * beta[*e, s] for s in D) <= 0 for e in G.edges), name='manning_2')\n",
    "\n",
    "# ADDED THE BIG M THING HERE BUT IDK IF IT COULD BE IMPROVED\n",
    "manning_2 = m.addConstrs((el[e[1]] - el[e[0]] + gp.quicksum(P(LE[e], s) * beta[*e, s] for s in D) <= (1-z[e])*M for e in G.edges), name='manning_2')\n",
    "m.update()"
   ]
  },
  {
   "cell_type": "code",
   "execution_count": 39,
   "id": "9e128e26dde19055",
   "metadata": {
    "ExecuteTime": {
     "end_time": "2025-02-19T20:02:59.467826Z",
     "start_time": "2025-02-19T20:02:59.457337Z"
    }
   },
   "outputs": [
    {
     "name": "stdout",
     "output_type": "stream",
     "text": [
      "Model has 24786 variables and 38926 constraints.\n"
     ]
    }
   ],
   "source": [
    "# OBJECTIVE EPXR 1: TREATMENT COSTS\n",
    "treat_cost = gp.LinExpr()\n",
    "for j in treatment_nodes:\n",
    "    treat_cost.addTerms(TR, y[j])\n",
    "    for i in source_nodes:\n",
    "        treat_cost.addTerms(TRFlow * SR[i], x[i, j])\n",
    "\n",
    "# OBJECTIVE EXPR 2: EXCAVATION COSTS\n",
    "excav_cost_f = lambda u, v: gp.QuadExpr(CE * (((EL[u] - el[u]) + (EL[v] - el[v])) / 2) * LE[u, v] * gp.quicksum(s + ((2*W) * a[u, v, s]) for s in D))\n",
    "\n",
    "# OBJECTIVE EXPR 3: BEDDING COSTS\n",
    "bed_cost_f = lambda u, v: gp.LinExpr(CB * LE[u, v] * gp.quicksum(s + ((2*W) * a[u, v, s]) for s in D))\n",
    "# OBJECTIVE EXPR 4: PIPE COSTS\n",
    "pipe_cost_f = lambda u, v: gp.LinExpr(LE[u, v] * gp.quicksum(CP[s] * a[u, v, s] for s in D))\n",
    "\n",
    "excav_bed_cost = gp.quicksum(excav_cost_f(u, v) + bed_cost_f(u, v) + pipe_cost_f(u, v) for u, v in G.edges)\n",
    "\n",
    "# OBJECTIVE EXPR 5: RECOURSE TRUCKING\n",
    "\n",
    "rec_cost = gp.LinExpr()\n",
    "for i in source_nodes:\n",
    "    rec_cost.addTerms(CT, r[i])\n",
    "\n",
    "m.setObjective(treat_cost + excav_bed_cost + rec_cost, GRB.MINIMIZE)\n",
    "\n",
    "# m.setObjective(0, GRB.MINIMIZE)\n",
    "\n",
    "m.update()\n",
    "print(f\"Model has {m.NumVars} variables and {m.NumConstrs} constraints.\")"
   ]
  },
  {
   "cell_type": "code",
   "execution_count": 40,
   "id": "98cddf5b0cdf99f4",
   "metadata": {
    "ExecuteTime": {
     "end_time": "2025-02-19T20:03:03.287282Z",
     "start_time": "2025-02-19T20:03:01.341496Z"
    }
   },
   "outputs": [
    {
     "name": "stdout",
     "output_type": "stream",
     "text": [
      "Gurobi Optimizer version 12.0.1 build v12.0.1rc0 (win64 - Windows 11.0 (26100.2))\n",
      "\n",
      "CPU model: AMD Ryzen 9 5900HX with Radeon Graphics, instruction set [SSE2|AVX|AVX2]\n",
      "Thread count: 8 physical cores, 16 logical processors, using up to 16 threads\n",
      "\n",
      "Optimize a model with 38926 rows, 24786 columns and 286316 nonzeros\n",
      "Model fingerprint: 0xb56d5ea5\n",
      "Model has 6054 quadratic objective terms\n",
      "Variable types: 14060 continuous, 10726 integer (10726 binary)\n",
      "Coefficient statistics:\n",
      "  Matrix range     [3e-01, 1e+06]\n",
      "  Objective range  [3e+01, 1e+09]\n",
      "  QObjective range [3e+02, 5e+04]\n",
      "  Bounds range     [1e+00, 1e+00]\n",
      "  RHS range        [1e+00, 1e+06]\n",
      "Presolve removed 12080 rows and 4597 columns\n",
      "Presolve time: 1.02s\n",
      "Presolved: 32576 rows, 25919 columns, 238930 nonzeros\n",
      "Variable types: 15409 continuous, 10510 integer (10510 binary)\n",
      "Found heuristic solution: objective 1.881239e+09\n",
      "Deterministic concurrent LP optimizer: primal and dual simplex\n",
      "Showing primal log only...\n",
      "\n",
      "\n",
      "Root simplex log...\n",
      "\n",
      "Iteration    Objective       Primal Inf.    Dual Inf.      Time\n",
      "   21348    5.5889817e+06   0.000000e+00   5.223016e+11      5s\n",
      "Concurrent spin time: 0.01s\n",
      "\n",
      "Solved with dual simplex\n",
      "\n",
      "Root simplex log...\n",
      "\n",
      "Iteration    Objective       Primal Inf.    Dual Inf.      Time\n",
      "   12030    6.9060678e+06   0.000000e+00   0.000000e+00      6s\n",
      "\n",
      "Root relaxation: objective 6.906068e+06, 12030 iterations, 3.62 seconds (4.73 work units)\n",
      "Total elapsed time = 5.83s (DegenMoves)\n",
      "\n",
      "    Nodes    |    Current Node    |     Objective Bounds      |     Work\n",
      " Expl Unexpl |  Obj  Depth IntInf | Incumbent    BestBd   Gap | It/Node Time\n",
      "\n",
      "     0     0 6906067.85    0  906 1.8812e+09 6906067.85   100%     -    8s\n",
      "H    0     0                    1.878251e+09 6906067.85   100%     -    8s\n",
      "H    0     0                    1.878245e+09 6906067.85   100%     -    9s\n",
      "     0     0 8705982.29    0  902 1.8782e+09 8705982.29   100%     -   20s\n",
      "     0     0 8845706.46    0  901 1.8782e+09 8845706.46   100%     -   21s\n",
      "     0     0 8854333.07    0  939 1.8782e+09 8854333.07   100%     -   22s\n",
      "H    0     0                    1.878001e+09 9318589.98   100%     -   24s\n",
      "     0     0 9318589.98    0  745 1.8780e+09 9318589.98   100%     -   25s\n",
      "H    0     0                    1.857508e+09 9327681.48  99.5%     -   25s\n",
      "H    0     0                    1.790644e+09 9327681.48  99.5%     -   25s\n",
      "H    0     0                    1.790592e+09 9327681.48  99.5%     -   25s\n",
      "H    0     0                    1.790546e+09 9327681.48  99.5%     -   25s\n",
      "     0     0 9373217.52    0  833 1.7905e+09 9373217.52  99.5%     -   27s\n",
      "H    0     0                    1.245008e+09 9378599.85  99.2%     -   27s\n",
      "H    0     0                    1.244984e+09 9378599.85  99.2%     -   27s\n",
      "H    0     0                    1.012078e+09 9378599.85  99.1%     -   27s\n",
      "     0     0 9378599.85    0  781 1.0121e+09 9378599.85  99.1%     -   27s\n",
      "     0     0 9527718.06    0  876 1.0121e+09 9527718.06  99.1%     -   30s\n",
      "     0     0 9538400.95    0  668 1.0121e+09 9538400.95  99.1%     -   31s\n",
      "H    0     0                    1.011968e+09 9538400.95  99.1%     -   32s\n",
      "     0     0 9585343.73    0  618 1.0120e+09 9585343.73  99.1%     -   34s\n",
      "H    0     0                    1.011900e+09 9585363.93  99.1%     -   35s\n",
      "H    0     0                    1.011899e+09 9585363.93  99.1%     -   35s\n",
      "H    0     0                    6.718131e+08 9585363.93  98.6%     -   35s\n",
      "H    0     0                    6.717561e+08 9585363.93  98.6%     -   35s\n",
      "     0     0 9589536.83    0  722 6.7176e+08 9589536.83  98.6%     -   35s\n",
      "     0     0 9608858.99    0  504 6.7176e+08 9608858.99  98.6%     -   36s\n",
      "H    0     0                    1.055077e+07 9610489.71  8.91%     -   37s\n",
      "H    0     0                    1.048087e+07 9610489.71  8.30%     -   37s\n",
      "H    0     0                    1.043767e+07 9610489.71  7.92%     -   37s\n",
      "     0     0 9610489.71    0  770 1.0438e+07 9610489.71  7.92%     -   37s\n",
      "     0     0 9610541.79    0  639 1.0438e+07 9610541.79  7.92%     -   38s\n",
      "     0     0 9639559.13    0  695 1.0438e+07 9639559.13  7.65%     -   39s\n",
      "H    0     0                    1.043398e+07 9639751.48  7.61%     -   39s\n",
      "H    0     0                    1.043281e+07 9639751.48  7.60%     -   40s\n",
      "H    0     0                    1.042095e+07 9639751.48  7.50%     -   40s\n",
      "     0     0 9644677.96    0  525 1.0421e+07 9644677.96  7.45%     -   40s\n",
      "H    0     0                    1.039930e+07 9644677.96  7.26%     -   41s\n",
      "H    0     0                    1.009662e+07 9650440.46  4.42%     -   42s\n",
      "H    0     0                    1.009299e+07 9650440.46  4.38%     -   42s\n",
      "H    0     0                    1.007331e+07 9650440.46  4.20%     -   42s\n",
      "     0     0 9650440.46    0  644 1.0073e+07 9650440.46  4.20%     -   42s\n",
      "     0     0 9650477.22    0  642 1.0073e+07 9650477.22  4.20%     -   43s\n",
      "H    0     0                    1.003734e+07 9650507.01  3.85%     -   44s\n",
      "H    0     0                    9833351.0550 9650507.01  1.86%     -   45s\n",
      "H    0     0                    9826932.2384 9650507.01  1.80%     -   46s\n",
      "H    0     0                    9808943.7410 9650507.73  1.62%     -   46s\n",
      "H    0     0                    9787967.6837 9650507.73  1.40%     -   46s\n",
      "H    0     0                    9778039.8708 9650507.73  1.30%     -   46s\n",
      "     0     0 9650507.73    0  745 9778039.87 9650507.73  1.30%     -   49s\n",
      "     0     0 9650507.73    0  684 9778039.87 9650507.73  1.30%     -   52s\n",
      "     0     0 9650507.73    0  572 9778039.87 9650507.73  1.30%     -   53s\n",
      "     0     0 9650507.73    0  532 9778039.87 9650507.73  1.30%     -   53s\n",
      "     0     0 9650507.73    0  514 9778039.87 9650507.73  1.30%     -   53s\n",
      "     0     0 9664153.67    0  385 9778039.87 9664153.67  1.16%     -   53s\n",
      "     0     0 9664153.67    0  385 9778039.87 9664153.67  1.16%     -   53s\n",
      "     0     0 9671243.04    0  523 9778039.87 9671243.04  1.09%     -   53s\n",
      "     0     0 9671263.58    0  477 9778039.87 9671263.58  1.09%     -   53s\n",
      "     0     0 9692731.13    0  527 9778039.87 9692731.13  0.87%     -   54s\n",
      "     0     0 9692780.83    0  503 9778039.87 9692780.83  0.87%     -   54s\n",
      "     0     0 9692781.35    0  491 9778039.87 9692781.35  0.87%     -   54s\n",
      "     0     0 9694709.77    0  478 9778039.87 9694709.77  0.85%     -   54s\n",
      "     0     0 9694712.33    0  463 9778039.87 9694712.33  0.85%     -   54s\n",
      "     0     0 9709300.01    0  310 9778039.87 9709300.01  0.70%     -   55s\n",
      "     0     0 9711372.52    0  288 9778039.87 9711372.52  0.68%     -   55s\n",
      "     0     0 9718609.05    0  263 9778039.87 9718609.05  0.61%     -   56s\n",
      "H    0     0                    9760261.2670 9718611.14  0.43%     -   56s\n",
      "H    0     0                    9760016.1870 9718611.14  0.42%     -   56s\n",
      "     0     0 9720864.95    0  318 9760016.19 9720864.95  0.40%     -   56s\n",
      "     0     0 9720873.07    0  267 9760016.19 9720873.07  0.40%     -   56s\n",
      "     0     0 9720878.87    0  264 9760016.19 9720878.87  0.40%     -   56s\n",
      "     0     0 9722845.38    0  242 9760016.19 9722845.38  0.38%     -   56s\n",
      "     0     0 9722845.38    0  458 9760016.19 9722845.38  0.38%     -   57s\n",
      "H    0     0                    9755874.5770 9722845.38  0.34%     -   57s\n",
      "     0     0 9722845.38    0  418 9755874.58 9722845.38  0.34%     -   57s\n",
      "     0     0 9722845.38    0  265 9755874.58 9722845.38  0.34%     -   57s\n",
      "     0     0 9722845.38    0  332 9755874.58 9722845.38  0.34%     -   58s\n",
      "     0     0 9722845.38    0  262 9755874.58 9722845.38  0.34%     -   58s\n",
      "     0     0 9724621.79    0  241 9755874.58 9724621.79  0.32%     -   58s\n",
      "     0     0 9724820.16    0  232 9755874.58 9724820.16  0.32%     -   58s\n",
      "H    0     0                    9754696.0570 9727969.89  0.27%     -   58s\n",
      "     0     0 9727969.89    0  183 9754696.06 9727969.89  0.27%     -   58s\n",
      "     0     0 9728659.28    0  180 9754696.06 9728659.28  0.27%     -   58s\n",
      "     0     0 9732585.96    0   64 9754696.06 9732585.96  0.23%     -   58s\n",
      "H    0     0                    9753667.0536 9732608.53  0.22%     -   58s\n",
      "H    0     0                    9753257.1570 9732883.60  0.21%     -   58s\n",
      "     0     0 9732883.60    0   22 9753257.16 9732883.60  0.21%     -   58s\n",
      "     0     0 9734793.13    0  267 9753257.16 9734793.13  0.19%     -   58s\n",
      "     0     0 9734844.34    0  239 9753257.16 9734844.34  0.19%     -   58s\n",
      "H    0     0                    9753025.0570 9734864.35  0.19%     -   58s\n",
      "     0     0 9735007.80    0  231 9753025.06 9735007.80  0.18%     -   58s\n",
      "     0     0 9735325.12    0  223 9753025.06 9735325.12  0.18%     -   58s\n",
      "     0     0 9735325.12    0  356 9753025.06 9735325.12  0.18%     -   59s\n",
      "     0     0 9735325.12    0  275 9753025.06 9735325.12  0.18%     -   59s\n",
      "     0     0 9735325.12    0  231 9753025.06 9735325.12  0.18%     -   59s\n",
      "     0     0 9735325.12    0  197 9753025.06 9735325.12  0.18%     -   59s\n",
      "     0     0 9735325.12    0  192 9753025.06 9735325.12  0.18%     -   59s\n",
      "     0     0 9735325.12    0  188 9753025.06 9735325.12  0.18%     -   59s\n",
      "     0     0 9735837.83    0  189 9753025.06 9735837.83  0.18%     -   59s\n",
      "H    0     0                    9748702.9868 9735842.91  0.13%     -   59s\n",
      "     0     0 9735984.16    0   28 9748702.99 9735984.16  0.13%     -   59s\n",
      "     0     0 9737149.53    0   14 9748702.99 9737149.53  0.12%     -   59s\n",
      "     0     0 9737333.77    0  125 9748702.99 9737333.77  0.12%     -   59s\n",
      "     0     0 9737615.86    0   14 9748702.99 9737615.86  0.11%     -   59s\n",
      "     0     0 9737685.88    0   12 9748702.99 9737685.88  0.11%     -   59s\n",
      "H    0     0                    9747418.2068 9737765.76  0.10%     -   59s\n",
      "     0     0 9737765.76    0   12 9747418.21 9737765.76  0.10%     -   59s\n",
      "     0     0 9737840.73    0  206 9747418.21 9737840.73  0.10%     -   60s\n",
      "     0     0 9737840.73    0  165 9747418.21 9737840.73  0.10%     -   60s\n",
      "     0     0 9737963.05    0  165 9747418.21 9737963.05  0.10%     -   60s\n",
      "     0     0 9737972.40    0  155 9747418.21 9737972.40  0.10%     -   60s\n",
      "     0     0 9741981.14    0   26 9747418.21 9741981.14  0.06%     -   60s\n",
      "     0     0 9742049.47    0   26 9747418.21 9742049.47  0.06%     -   60s\n",
      "H    0     0                    9744562.2768 9742049.47  0.03%     -   60s\n",
      "*    0     0               0    9742467.7468 9742467.75  0.00%     -   60s\n",
      "\n",
      "Cutting planes:\n",
      "  Learned: 35\n",
      "  Gomory: 13\n",
      "  Cover: 16\n",
      "  Implied bound: 134\n",
      "  Clique: 4\n",
      "  MIR: 77\n",
      "  Flow cover: 108\n",
      "  GUB cover: 4\n",
      "  RLT: 53\n",
      "  Relax-and-lift: 24\n",
      "  BQP: 3\n",
      "\n",
      "Explored 1 nodes (91327 simplex iterations) in 60.26 seconds (52.00 work units)\n",
      "Thread count was 16 (of 16 available processors)\n",
      "\n",
      "Solution count 10: 9.74247e+06 9.74456e+06 9.74742e+06 ... 9.76002e+06\n",
      "\n",
      "Optimal solution found (tolerance 1.00e-04)\n",
      "Best objective 9.742467746764e+06, best bound 9.742467746764e+06, gap 0.0000%\n",
      "x[59079984, 59128065] = <gurobi.Var x[59079984,59128065] (value 0.0)>\n"
     ]
    }
   ],
   "source": [
    "# m.write(\"singleperiod_nocontext2.lp\")\n",
    "m.optimize()\n",
    "\n",
    "# Previous index testing\n",
    "# print(f\"{x = }\")\n",
    "print(f\"{x[59079984, 59128065] = }\")\n",
    "# for k_path in Path.keys():\n",
    "#     print(f\"{k_path = }\")\n",
    "#     print(f\"{node_prod_rec[(k_path[0], k_path[1])] = }\")\n",
    "#     print(f\"{node_prod_rec[k_path[0], k_path[1]] = }\")\n",
    "#     print(f\"{node_prod_rec[*k_path] = }\")\n",
    "#     print(f\"{node_prod_rec[k_path] = }\")"
   ]
  },
  {
   "cell_type": "code",
   "execution_count": 41,
   "id": "0aa9ce1c",
   "metadata": {},
   "outputs": [],
   "source": [
    "### Multiperiod-related variables\n",
    "n_periods = 3\n",
    "periods = list(range(n_periods)) # `periods` can be an arbitrary list/tuple, here we just make it [0,1,2]\n",
    "# shorthand for creating historical dictionaries for each decision variables (wrap this in function?)\n",
    "(xt, yt, zt, at, elt, rt, Qt, pt) = [{period: None for period in periods} for _ in (x,y,z,a,el,r,Q,p)] "
   ]
  },
  {
   "cell_type": "code",
   "execution_count": 42,
   "id": "95a4cfb6",
   "metadata": {},
   "outputs": [],
   "source": [
    "for path in Path.keys():\n",
    "    temp = x[path].X"
   ]
  },
  {
   "cell_type": "code",
   "execution_count": null,
   "id": "4423f630",
   "metadata": {},
   "outputs": [],
   "source": [
    "# from copy import deepcopy\n",
    "# Write the value of each decision variable in the first period into the historical dictionaries\n",
    "for var, history_dict in zip((x,y,z,a,el,r,Q,p), (xt,yt,zt,at,elt,rt,Qt,pt)):\n",
    "    history_dict[periods[0]] = var.copy() # Make sure to copy the values, so that changing `x` for example doesn't change the history"
   ]
  },
  {
   "cell_type": "code",
   "execution_count": 45,
   "id": "474b15c1",
   "metadata": {},
   "outputs": [
    {
     "name": "stdout",
     "output_type": "stream",
     "text": [
      "xt[0][path] = <gurobi.Var x[9936649913,59097341] (value 0.0)>\n",
      "xt[0][path] = <gurobi.Var x[9936649913,59097341] (value 0.0)>\n",
      "xt[0][path] = <gurobi.Var x[9936649913,59097341] (value 0.0)>\n"
     ]
    }
   ],
   "source": [
    "for i, ipath in enumerate(Path.keys()):\n",
    "    if i < 3:\n",
    "        print(f\"{xt[0][path] = }\")"
   ]
  },
  {
   "cell_type": "code",
   "execution_count": 46,
   "id": "6b824afe",
   "metadata": {},
   "outputs": [],
   "source": [
    "### CHANGE WASTEWATER FLOW\n",
    "for node in source_nodes:\n",
    "    # Arbitrary choice of new wastewater flow for testing purposes\n",
    "    SR[node] = .34\n",
    "    # G.nodes[node]['production'] = .34 # This variable isn't used anywhere else"
   ]
  },
  {
   "cell_type": "code",
   "execution_count": 47,
   "id": "7ef6366a",
   "metadata": {},
   "outputs": [],
   "source": [
    "### ADD DECISION VARIABLES AND CONSTRAINTS FOR MULTIPERIOD\n",
    "\n",
    "current_period_index = 1\n",
    "\n",
    "## New variables \n",
    "# What new size pipe needs to be installed, if any\n",
    "d = m.addVars(G.edges, D, vtype=GRB.BINARY, name='d')\n",
    "\n",
    "# Whether elevation at vertex v changes\n",
    "c = m.addVars(G.nodes, vtype=GRB.BINARY, name='c')  # Is there elevation change at node v \n",
    "\n",
    "\n",
    "## New constraints\n",
    "# CHANGE IN PIPE SIZE (ensures that at most 1 new pipe size can be selected)\n",
    "pipe_size_change = m.addConstrs((gp.quicksum(d[*e, s] for s in D) <= 1 for e in G.edges), name='pipe_size_change')  # Always unpack e\n",
    "\n",
    "# a-CONSTRAINT (ensures that a truly represents the accurate pipe size)\n",
    "a_constraint = m.addConstrs(\n",
    "    (a[*e, s] <= (d[*e, s] + at[periods[current_period_index-1]][*e, s]) for e in G.edges for s in D), name='a_constraint')\n",
    "# We have to remove ^ this ^ constraint and re-add it after every period, because the numbers from the previous period will change\n",
    "\n",
    "# VERTEX ELEVATION CHANGE ASSIGNMENT\n",
    "elevation_change_assignment = m.addConstrs(\n",
    "    (gp.quicksum(d[*e, s] for s in D) >= 0.5 * (c[e[0]] + c[e[1]]) + (z[*e] - 1) for e in G.edges), name='elevation_change_assignment')\n",
    "\n",
    "# VERTEX ELEVATION CHANGE ENFORCEMENT\n",
    "max_elevation_change_enforcement = m.addConstrs(\n",
    "    (c[u] >= (el[u] - elt[periods[current_period_index-1]][u]) / M for u in G.nodes), name='max_elevation_change_enforcement')\n",
    "min_elevation_change_enforcement = m.addConstrs(\n",
    "    (c[u] >= (elt[periods[current_period_index-1]][u] - el[u]) / M for u in G.nodes), name='min_elevation_change_enforcement')\n",
    "\n",
    "# TREATMENT PLANT CONTINUITY\n",
    "treatment_plant_continuity = m.addConstrs((y[j] >= yt[periods[current_period_index-1]][j] for j in treatment_nodes), name='treatment_plant_continuity')\n",
    "\n",
    "m.update()"
   ]
  },
  {
   "cell_type": "code",
   "execution_count": 48,
   "id": "7aa5f925",
   "metadata": {},
   "outputs": [
    {
     "ename": "AttributeError",
     "evalue": "Unable to retrieve attribute 'X'",
     "output_type": "error",
     "traceback": [
      "\u001b[1;31m---------------------------------------------------------------------------\u001b[0m",
      "\u001b[1;31mAttributeError\u001b[0m                            Traceback (most recent call last)",
      "Cell \u001b[1;32mIn[48], line 2\u001b[0m\n\u001b[0;32m      1\u001b[0m \u001b[38;5;28;01mfor\u001b[39;00m path \u001b[38;5;129;01min\u001b[39;00m Path\u001b[38;5;241m.\u001b[39mkeys():\n\u001b[1;32m----> 2\u001b[0m     temp \u001b[38;5;241m=\u001b[39m \u001b[43mxt\u001b[49m\u001b[43m[\u001b[49m\u001b[38;5;241;43m0\u001b[39;49m\u001b[43m]\u001b[49m\u001b[43m[\u001b[49m\u001b[43mpath\u001b[49m\u001b[43m]\u001b[49m\u001b[38;5;241;43m.\u001b[39;49m\u001b[43mX\u001b[49m\n",
      "File \u001b[1;32msrc\\\\gurobipy\\\\var.pxi:128\u001b[0m, in \u001b[0;36mgurobipy._core.Var.__getattr__\u001b[1;34m()\u001b[0m\n",
      "File \u001b[1;32msrc\\\\gurobipy\\\\var.pxi:156\u001b[0m, in \u001b[0;36mgurobipy._core.Var.getAttr\u001b[1;34m()\u001b[0m\n",
      "File \u001b[1;32msrc\\\\gurobipy\\\\_attrutil.pyx:117\u001b[0m, in \u001b[0;36mgurobipy._attrutil._getattr\u001b[1;34m()\u001b[0m\n",
      "\u001b[1;31mAttributeError\u001b[0m: Unable to retrieve attribute 'X'"
     ]
    }
   ],
   "source": [
    "for path in Path.keys():\n",
    "    temp = xt[0][path].X"
   ]
  },
  {
   "cell_type": "code",
   "execution_count": null,
   "id": "98d2cc73",
   "metadata": {},
   "outputs": [
    {
     "name": "stdout",
     "output_type": "stream",
     "text": [
      "1\n",
      "x[i,j] = <gurobi.Var x[59079984,59128065]>,  r[i] = <gurobi.Var r[59079984]>\n"
     ]
    },
    {
     "ename": "AttributeError",
     "evalue": "Unable to retrieve attribute 'X'",
     "output_type": "error",
     "traceback": [
      "\u001b[1;31m---------------------------------------------------------------------------\u001b[0m",
      "\u001b[1;31mAttributeError\u001b[0m                            Traceback (most recent call last)",
      "Cell \u001b[1;32mIn[13], line 29\u001b[0m\n\u001b[0;32m     26\u001b[0m         treatment_plant_continuity[j]\u001b[38;5;241m.\u001b[39msetAttr(\u001b[38;5;124m\"\u001b[39m\u001b[38;5;124mrhs\u001b[39m\u001b[38;5;124m\"\u001b[39m, yt[periods[current_period_index\u001b[38;5;241m-\u001b[39m\u001b[38;5;241m1\u001b[39m]][j]\u001b[38;5;241m.\u001b[39mX)\n\u001b[0;32m     28\u001b[0m \u001b[38;5;28mprint\u001b[39m(current_period_index)\n\u001b[1;32m---> 29\u001b[0m \u001b[43mmodify_constrs_SR_change\u001b[49m\u001b[43m(\u001b[49m\u001b[43mcurrent_period_index\u001b[49m\u001b[43m)\u001b[49m\n",
      "Cell \u001b[1;32mIn[13], line 8\u001b[0m, in \u001b[0;36mmodify_constrs_SR_change\u001b[1;34m(current_period_index)\u001b[0m\n\u001b[0;32m      6\u001b[0m \u001b[38;5;28;01mfor\u001b[39;00m i,j \u001b[38;5;129;01min\u001b[39;00m Path\u001b[38;5;241m.\u001b[39mkeys():\n\u001b[0;32m      7\u001b[0m     \u001b[38;5;28mprint\u001b[39m(\u001b[38;5;124mf\u001b[39m\u001b[38;5;124m\"\u001b[39m\u001b[38;5;132;01m{\u001b[39;00mx[i,j]\u001b[38;5;250m \u001b[39m\u001b[38;5;132;01m= }\u001b[39;00m\u001b[38;5;124m,  \u001b[39m\u001b[38;5;132;01m{\u001b[39;00mr[i]\u001b[38;5;250m \u001b[39m\u001b[38;5;132;01m= }\u001b[39;00m\u001b[38;5;124m\"\u001b[39m)\n\u001b[1;32m----> 8\u001b[0m     node_prod_rec[i,j]\u001b[38;5;241m.\u001b[39msetAttr(\u001b[38;5;124m\"\u001b[39m\u001b[38;5;124mrhs\u001b[39m\u001b[38;5;124m\"\u001b[39m, (SR[i] \u001b[38;5;241m*\u001b[39m \u001b[43mx\u001b[49m\u001b[43m[\u001b[49m\u001b[43mi\u001b[49m\u001b[43m,\u001b[49m\u001b[43m \u001b[49m\u001b[43mj\u001b[49m\u001b[43m]\u001b[49m\u001b[38;5;241;43m.\u001b[39;49m\u001b[43mX\u001b[49m) \u001b[38;5;241m-\u001b[39m r[i]\u001b[38;5;241m.\u001b[39mX)\n\u001b[0;32m      9\u001b[0m     \u001b[38;5;66;03m# Getting the values out of x and r is not elegant, but I can't find an easy way to \u001b[39;00m\n\u001b[0;32m     10\u001b[0m     \u001b[38;5;66;03m# batch modify constraints, and the \"rhs\" attribute requires a double value, not a gurobi.Var\u001b[39;00m\n\u001b[0;32m     11\u001b[0m \n\u001b[0;32m     12\u001b[0m \u001b[38;5;66;03m# a-CONSTRAINT (depends on a of previous period)\u001b[39;00m\n\u001b[0;32m     13\u001b[0m \u001b[38;5;28;01mfor\u001b[39;00m e \u001b[38;5;129;01min\u001b[39;00m G\u001b[38;5;241m.\u001b[39medges:\n",
      "File \u001b[1;32msrc\\\\gurobipy\\\\var.pxi:128\u001b[0m, in \u001b[0;36mgurobipy._core.Var.__getattr__\u001b[1;34m()\u001b[0m\n",
      "File \u001b[1;32msrc\\\\gurobipy\\\\var.pxi:156\u001b[0m, in \u001b[0;36mgurobipy._core.Var.getAttr\u001b[1;34m()\u001b[0m\n",
      "File \u001b[1;32msrc\\\\gurobipy\\\\_attrutil.pyx:117\u001b[0m, in \u001b[0;36mgurobipy._attrutil._getattr\u001b[1;34m()\u001b[0m\n",
      "\u001b[1;31mAttributeError\u001b[0m: Unable to retrieve attribute 'X'"
     ]
    }
   ],
   "source": [
    "### MODIFY CONSTRAINTS BEFORE STARTING NEW PERIOD\n",
    "def modify_constrs_SR_change(current_period_index):    \n",
    "    # m.update() # Must make sure model is fully up-to-date before modifying attributes\n",
    "\n",
    "    # NODE PRODUCTION MINUS RECOURSE (depends on modified wastewater flow SR)\n",
    "    for i,j in Path.keys():\n",
    "        print(f\"{x[i,j] = },  {r[i] = }\")\n",
    "        node_prod_rec[i,j].setAttr(\"rhs\", (SR[i] * x[i, j]) - r[i])\n",
    "        # Getting the values out of x and r is not elegant, but I can't find an easy way to \n",
    "        # batch modify constraints, and the \"rhs\" attribute requires a double value, not a gurobi.Var\n",
    "\n",
    "    # a-CONSTRAINT (depends on a of previous period)\n",
    "    for e in G.edges:\n",
    "        for s in D:\n",
    "            print(f\"{e =}\")\n",
    "            print(f\"{a_constraint[e,s] = }\")\n",
    "            a_constraint[(e), s].setAttr(\"rhs\", d[*e, s].X + at[periods[current_period_index-1]][*e, s].X)\n",
    "    \n",
    "    # VERTEX ELEVATION CHANGE (depends on elevation at previous period)\n",
    "    for u in G.nodes:\n",
    "        max_elevation_change_enforcement[u].setAttr(\"rhs\", (el[u].X - elt[periods[current_period_index-1]][u].X) / M)\n",
    "        min_elevation_change_enforcement[u].setAttr(\"rhs\", (elt[periods[current_period_index-1]][u].X- el[u].X) / M)\n",
    "\n",
    "    # TREATMENT PLANT CONTINUITY (depends on treatment plant existence in previous period)\n",
    "    for j in treatment_nodes:\n",
    "        treatment_plant_continuity[j].setAttr(\"rhs\", yt[periods[current_period_index-1]][j].X)\n",
    "\n",
    "print(current_period_index)\n",
    "modify_constrs_SR_change(current_period_index)"
   ]
  },
  {
   "cell_type": "code",
   "execution_count": null,
   "id": "7ca8808f",
   "metadata": {},
   "outputs": [],
   "source": [
    "counter = 0\n",
    "for a_constr in a_constraint:\n",
    "    if counter < 1:\n",
    "        print(f\"{a_constr = }\")"
   ]
  },
  {
   "cell_type": "code",
   "execution_count": null,
   "id": "61c6ddc8",
   "metadata": {},
   "outputs": [],
   "source": [
    "for i, iedge in enumerate(G.edges):\n",
    "    if (i < 3):\n",
    "        print(iedge[0])\n",
    "        print(f\"{iedge = },  {u = },  {v = }\")"
   ]
  },
  {
   "cell_type": "code",
   "execution_count": null,
   "id": "12eb0107",
   "metadata": {},
   "outputs": [],
   "source": [
    "### CHANGE OBJECTIVE FUNCTION FOR MULTIPERIOD\n",
    "\n",
    "# OBJECTIVE EPXR 1: add consideration of previous y_j to treatment costs\n",
    "# Treatment cost term in objective function depends on wastewater flow\n",
    "# Easiest to just reinitialize treat_cost rather than combing out the terms depending on previous SR\n",
    "treat_cost = gp.LinExpr()\n",
    "for j in treatment_nodes:\n",
    "    treat_cost.addTerms(TR, y[j])\n",
    "    treat_cost.addTerms(-TR, yt[periods[current_period_index-1]][j])\n",
    "    for i in source_nodes:\n",
    "        treat_cost.addTerms(TRFlow * SR[i], x[i, j])\n",
    "\n",
    "# All other objective expressions stay the same\n",
    "\n",
    "# Modify the objective to account for the new treatment cost and discount factor\n",
    "m.setObjective((treat_cost + excav_bed_cost + rec_cost) / (1 + R)**periods[current_period_index], GRB.MINIMIZE)"
   ]
  },
  {
   "cell_type": "code",
   "execution_count": null,
   "id": "7dd7ea8e",
   "metadata": {},
   "outputs": [],
   "source": [
    "# m.setObjective(0, GRB.MINIMIZE)\n",
    "m.update()"
   ]
  },
  {
   "cell_type": "code",
   "execution_count": null,
   "id": "1d9344c0",
   "metadata": {},
   "outputs": [],
   "source": [
    "m.optimize()"
   ]
  },
  {
   "cell_type": "code",
   "execution_count": null,
   "id": "13220895",
   "metadata": {},
   "outputs": [],
   "source": [
    "[tempi, tempj] = list(Path.keys())[0]\n",
    "print(f\"{tempi = }, {tempj = }\")\n",
    "print(f\"{SR[tempi] = }\")\n",
    "print(f\"{x[tempi,tempj] = }\")\n",
    "\n",
    "print(f\"{x[tempi,tempj].X = }\")\n",
    "\n",
    "print(f\"{r[tempi] = }\")\n",
    "\n",
    "print(f\"{r[tempi].X = }\")"
   ]
  },
  {
   "cell_type": "code",
   "execution_count": null,
   "id": "70c81c32",
   "metadata": {},
   "outputs": [],
   "source": [
    "tuple1 = (1, 2)\n",
    "print(tuple1[0:])\n"
   ]
  },
  {
   "cell_type": "code",
   "execution_count": null,
   "id": "134084f479529b4c",
   "metadata": {
    "ExecuteTime": {
     "end_time": "2025-02-19T16:33:43.034902Z",
     "start_time": "2025-02-19T16:33:43.015191Z"
    }
   },
   "outputs": [],
   "source": [
    "for v in r:\n",
    "    if r[v].X > 0:\n",
    "        print(r[v].VarName, r[v].X)"
   ]
  },
  {
   "cell_type": "code",
   "execution_count": null,
   "id": "74ecb3087a950124",
   "metadata": {},
   "outputs": [],
   "source": [
    "m.computeIIS()\n",
    "\n",
    "for c in m.getConstrs():\n",
    "    if c.IISConstr:\n",
    "        print(f\"Constraint {c.ConstrName} is in the IIS\")\n",
    "\n",
    "for v in m.getVars():\n",
    "    if v.IISLB > 0:\n",
    "        print(f\"Lower bound of {v.VarName} is in the IIS\")\n",
    "    elif v.IISUB > 0:\n",
    "        print(f\"Upper bound of {v.VarName} is in the IIS\")\n"
   ]
  },
  {
   "cell_type": "code",
   "execution_count": null,
   "id": "39250daf267b7e43",
   "metadata": {
    "ExecuteTime": {
     "end_time": "2025-02-19T16:34:10.066806Z",
     "start_time": "2025-02-19T16:34:09.955331Z"
    }
   },
   "outputs": [],
   "source": [
    "for v in m.getVars():\n",
    "    if v.X > 0:\n",
    "        print(v.VarName, v.X)"
   ]
  },
  {
   "cell_type": "code",
   "execution_count": null,
   "id": "f8b3a18c",
   "metadata": {},
   "outputs": [],
   "source": [
    "# Call after past value dictionaries have been initialized and the model has been run once\n",
    "record_period(periods[0], (xt,y,z,el,r,Q,p), ((xt,yt,zt,elt,rt,Qt,pt))) # Must match order\n"
   ]
  },
  {
   "cell_type": "code",
   "execution_count": null,
   "id": "c9fb954b",
   "metadata": {},
   "outputs": [],
   "source": []
  },
  {
   "cell_type": "code",
   "execution_count": null,
   "id": "8ffbb65b",
   "metadata": {},
   "outputs": [],
   "source": [
    "periods = [1,2,3]\n",
    "xt = {period: None for period in periods}\n",
    "xt[periods[0]] = x.copy()\n",
    "print(f\"{type(x) = }\")\n",
    "print(f\"{type(xt[periods[0]]) = }\")\n",
    "print(f\"{list(Path.keys())[0] = }\")\n",
    "print(f\"{xt[periods[0]][list(Path.keys())[0]] = }\")"
   ]
  },
  {
   "cell_type": "code",
   "execution_count": null,
   "id": "7edcb678",
   "metadata": {},
   "outputs": [],
   "source": [
    "path_key_list = [list(key) for key in Path.keys()]\n",
    "print(f\"{path_key_list[0] = }\")\n",
    "print(f\"x{list(path_key_list[0])}\")\n",
    "\n",
    "x_vals = [var.X for (index, var) in enumerate(m.getVars()) if ((index < len(path_key_list)) and (f\"x{path_key_list[index][0]}\" in var.VarName))]\n",
    "var0 = m.getVars()[0]\n",
    "print(f\"{var0 = }\")\n",
    "print(f\"{'x' in var0.VarName = }, {f'{path_key_list[0][0]}' in var0.VarName = }, {f'{path_key_list[0][1]}' in var0.VarName = }\")\n",
    "print(f\"{path_key_list[0] = }\")\n",
    "print(f\"{len(x_vals) = }\")"
   ]
  },
  {
   "cell_type": "code",
   "execution_count": null,
   "id": "93d1714a911526cb",
   "metadata": {
    "ExecuteTime": {
     "end_time": "2025-02-19T19:23:22.112034Z",
     "start_time": "2025-02-19T19:23:22.031006Z"
    }
   },
   "outputs": [],
   "source": [
    "x_0 = {str(xv) : x[xv].X for xv in x}\n",
    "y_0 = {yv : y[yv].X for yv in y}\n",
    "z_0 = {str(zv) : z[zv].X for zv in z}\n",
    "\n",
    "d_0 = {str(dv) : a[dv].X for dv in a}\n",
    "el_0 = {elv: el[elv].X for elv in el}"
   ]
  },
  {
   "cell_type": "code",
   "execution_count": null,
   "id": "a8332415e2e39335",
   "metadata": {
    "ExecuteTime": {
     "end_time": "2025-02-19T19:10:37.046131Z",
     "start_time": "2025-02-19T19:10:37.039587Z"
    }
   },
   "outputs": [],
   "source": [
    "import json"
   ]
  },
  {
   "cell_type": "code",
   "execution_count": null,
   "id": "940a516819c176fe",
   "metadata": {
    "ExecuteTime": {
     "end_time": "2025-02-19T19:10:37.756978Z",
     "start_time": "2025-02-19T19:10:37.716926Z"
    }
   },
   "outputs": [],
   "source": [
    "with open(\"x_sol.json\", \"w\") as f:\n",
    "    json.dump(x_0, f)"
   ]
  },
  {
   "cell_type": "code",
   "execution_count": null,
   "id": "a80f3c01961e4550",
   "metadata": {
    "ExecuteTime": {
     "end_time": "2025-02-19T19:23:27.413479Z",
     "start_time": "2025-02-19T19:23:27.380929Z"
    }
   },
   "outputs": [],
   "source": [
    "with open(\"z_sol.json\", \"w\") as f:\n",
    "    json.dump(z_0, f)\n",
    "\n",
    "with open(\"d_sol.json\", \"w\") as f:\n",
    "    json.dump(d_0, f)\n",
    "\n",
    "with open(\"el_sol.json\", \"w\") as f:\n",
    "    json.dump(el_0, f)"
   ]
  },
  {
   "cell_type": "code",
   "execution_count": null,
   "id": "c953a80f0a09e9ad",
   "metadata": {},
   "outputs": [],
   "source": []
  }
 ],
 "metadata": {
  "kernelspec": {
   "display_name": "CMOR492-DWS_venv1",
   "language": "python",
   "name": "python3"
  },
  "language_info": {
   "codemirror_mode": {
    "name": "ipython",
    "version": 3
   },
   "file_extension": ".py",
   "mimetype": "text/x-python",
   "name": "python",
   "nbconvert_exporter": "python",
   "pygments_lexer": "ipython3",
   "version": "3.11.9"
  }
 },
 "nbformat": 4,
 "nbformat_minor": 5
}
