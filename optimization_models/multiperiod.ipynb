{
 "cells": [
  {
   "cell_type": "code",
   "execution_count": null,
   "id": "initial_id",
   "metadata": {
    "ExecuteTime": {
     "end_time": "2025-02-19T20:02:05.447672Z",
     "start_time": "2025-02-19T20:02:05.424834Z"
    },
    "collapsed": true
   },
   "outputs": [],
   "source": [
    "import gurobipy as gp\n",
    "from gurobipy import GRB\n",
    "import networkx as nx\n",
    "import numpy as np\n",
    "#   If you are getting ModuleNotFoundError, uncomment the following line...\n",
    "import sys\n",
    "#   ...and then replace 'your_path' with your path to this CMOR492-DWS directory\n",
    "#       (if you're pulling from the github, the directory is called CMOR492-DWS as of 19/02/2025)\n",
    "# sys.path.append('your_path/CMOR492-DWS')\n",
    "# sys.path.append('/Users/danielsuarez/Documents/Academic/Spring2025/SeniorDesign/CMOR492-DWS/')\n",
    "sys.path.append(\"C:\\\\Users\\\\gabri\\\\Documents\\\\CMOR492-DWS\") # This is the path on Gabriel Lundquist's machine.\n",
    "from network_construction.network import source_treatment, get_Utown\n"
   ]
  },
  {
   "cell_type": "code",
   "execution_count": 2,
   "id": "c2114a07669a9391",
   "metadata": {
    "ExecuteTime": {
     "end_time": "2025-02-19T20:02:06.261066Z",
     "start_time": "2025-02-19T20:02:06.175395Z"
    }
   },
   "outputs": [],
   "source": [
    "G = get_Utown()\n",
    "source_nodes, treatment_nodes = source_treatment(G, 40)  # <-- Specify # starting points for treatment node algorithm"
   ]
  },
  {
   "cell_type": "code",
   "execution_count": 3,
   "id": "e133f38e4866f8fe",
   "metadata": {
    "ExecuteTime": {
     "end_time": "2025-02-19T20:02:09.092485Z",
     "start_time": "2025-02-19T20:02:06.915438Z"
    }
   },
   "outputs": [],
   "source": [
    "### MODEL PARAMETERS\n",
    "\n",
    "# TODO: What if we just make pipe size continuous/linear\n",
    "\n",
    "Path = {}  # Set of shortest paths from each source node i to each treatment node j\n",
    "NLinks = {}  # Number of edges in each path\n",
    "L = {}  # Length of each path (distance)\n",
    "\n",
    "for i in source_nodes:\n",
    "    for j in treatment_nodes:\n",
    "        path = nx.shortest_path(G, source=i, target=j, weight='length')\n",
    "        Path[i, j] = path\n",
    "        NLinks[i, j] = len(path)-1\n",
    "        L[i, j] = nx.path_weight(G, path, weight='length')\n",
    "LE = {e: G.edges[e]['length'] for e in G.edges}  # Length of edge e\n",
    "EL = {v: G.nodes[v]['elevation'] for v in G.nodes}  # Elevation of node v\n",
    "\n",
    "\n",
    "D = [0.2, 0.25, 0.3, 0.35, 0.40, 0.45]  # Pipe diameters\n",
    "CP = {0.05: 8.7, 0.06: 9.5, 0.08: 11,\n",
    "                       0.1: 12.6, 0.15: 43.5, 0.2: 141,\n",
    "                       0.25: 151, 0.3: 161, 0.35: 180,\n",
    "                       0.4: 190, 0.45: 200}  # Cost per unit of pipe\n",
    "\n",
    "\n",
    "SR = {}  # Production at Source node i\n",
    "CAP = {}  # Capacity at treatment node j\n",
    "\n",
    "for node in source_nodes:\n",
    "    G.nodes[node]['production'] = .17\n",
    "    SR[node] = .17\n",
    "\n",
    "total_flow = sum(SR.values())\n",
    "\n",
    "for node in treatment_nodes:\n",
    "    G.nodes[node]['capacity'] = 1000\n",
    "    CAP[node] = 1000\n",
    "\n",
    "Vmin = 0.6 * 60\n",
    "Vmax = 3 * 60\n",
    "\n",
    "CE = 25  # Cost of Excavation\n",
    "CB = 6  # Cost of Bedding\n",
    "TR = 44000  # Fixed Cost of Treatment Plant\n",
    "TRFlow = 100  # Variable Cost of Treatment\n",
    "PICost = 30\n",
    "\n",
    "PF = {'0.05': 8.7, '0.06': 9.5, '0.08': 11,\n",
    "                       '0.1': 12.6, '0.15': 43.5, '0.2': 141,\n",
    "                       '0.25': 151, '0.3': 161, '0.35': 180,\n",
    "                       '0.4': 190, '0.45': 200}  # Fixed Cost of Piping\n",
    "\n",
    "CT = 1000000000  # Cost of trucking\n",
    "M = 1e6\n",
    "\n",
    "Smin = 0.01\n",
    "Smax = 0.1\n",
    "W = 0.5  # Buffer Width\n",
    "\n",
    "R = 0  # Discount factor"
   ]
  },
  {
   "cell_type": "code",
   "execution_count": 30,
   "id": "991500d7d60d1e36",
   "metadata": {
    "ExecuteTime": {
     "end_time": "2025-02-19T20:02:10.504103Z",
     "start_time": "2025-02-19T20:02:09.114701Z"
    }
   },
   "outputs": [],
   "source": [
    "m = gp.Model()\n",
    "\n",
    "### DECISION VARIABLES\n",
    "\n",
    "x = m.addVars(Path.keys(), vtype=GRB.BINARY, name='x')  # Path ij used \n",
    "y = m.addVars(treatment_nodes, vtype=GRB.BINARY, name='y')  # treatment at node j \n",
    "z = m.addVars(G.edges, vtype=GRB.BINARY, name='z')  # edge e used \n",
    "\n",
    "# | Not used anywhere else, at least in this notebook\n",
    "# v\n",
    "# Pipe Size Selection\n",
    "# d_es_names = []\n",
    "# for e in G.edges:\n",
    "#     for s in D:\n",
    "#         d_es_names.append(f\"Edge: {e[0]}---{e[1]} <- Size: {s}\")\n",
    "\n",
    "# v This v is added in ### ADD DECISION VARIABLES FOR MULTIPERIOD\n",
    "# d = m.addVars(G.edges, D, vtype=GRB.BINARY, name='d')  # New replacement pipe size s at edge e \n",
    "\n",
    "a = m.addVars(G.edges, D, vtype=GRB.BINARY, name='a')  # Pipe size s at edge e \n",
    "\n",
    "# Node Elevation\n",
    "el = m.addVars(G.nodes, vtype=GRB.CONTINUOUS, name='el')  # Elevation at node v \n",
    "\n",
    "# Recourse Amount\n",
    "r = m.addVars(source_nodes, vtype=GRB.CONTINUOUS, lb=0.0, name='r')  # Flow handled by trucking at edge e \n",
    "\n",
    "# Flow in Edge e\n",
    "Q = m.addVars(G.edges, vtype=GRB.CONTINUOUS, lb=0.0, name='Q')  # Flow in Edge e \n",
    "\n",
    "# Path Flow\n",
    "p = m.addVars(Path.keys(), vtype=GRB.CONTINUOUS, lb = 0.0, name='p')  # Flow through path ij \n",
    "\n",
    "m.update()"
   ]
  },
  {
   "cell_type": "code",
   "execution_count": 31,
   "id": "37cb025c15dc02c4",
   "metadata": {
    "ExecuteTime": {
     "end_time": "2025-02-19T20:02:47.719445Z",
     "start_time": "2025-02-19T20:02:32.631435Z"
    }
   },
   "outputs": [],
   "source": [
    "### CONSTRAINTS\n",
    "\n",
    "# NODE PRODUCTION MINUS RECOURSE\n",
    "node_prod_rec = m.addConstrs((p[i, j] >= (SR[i] * x[i, j]) - r[i] for i, j in Path.keys()), name='node_prod_rec')\n",
    "\n",
    "# TREATMENT CAPACITY\n",
    "treat_cap = m.addConstrs((gp.quicksum(p[i, j] for i in source_nodes) <= CAP[j] * y[j] for j in treatment_nodes), name='treat_cap')\n",
    "\n",
    "#  NODE ASSIGNMENT\n",
    "node_assign = m.addConstrs((gp.quicksum(x[i, j] for j in treatment_nodes) == 1 for i in source_nodes), name='node_assign')\n",
    "\n",
    "# PIPE SIZING\n",
    "pipe_sizing = m.addConstrs((gp.quicksum(a[*e, s] for s in D) == z[e] for e in G.edges), name='pipe_sizing')  # ALWAYS BE SURE TO UNPACK e\n",
    "\n",
    "# TODO: Go through this with John\n",
    "# FLOW DEFINITION\n",
    "def is_sublist(short_list, long_list):\n",
    "    for i in range(len(long_list) - len(short_list) + 1):\n",
    "        if long_list[i:i + len(short_list)] == short_list:\n",
    "            return True\n",
    "    return False\n",
    "\n",
    "flow_def = m.addConstrs((Q[e] == gp.quicksum(p[i, j] for i, j in Path.keys() if is_sublist(list((e[0], e[1])),Path[i,j])) for e in G.edges), name='flow_def')\n",
    "\n",
    "\n",
    "# MIN/MAX SLOPE\n",
    "min_slope = m.addConstrs((el[e[0]] - el[e[1]] >= (LE[e] * Smin) - (M * (1 - z[e])) for e in G.edges), name='min_slope')\n",
    "max_slope = m.addConstrs((el[e[0]] - el[e[1]] <= (LE[e] * Smax) + (M * (1 - z[e])) for e in G.edges), name='max_slope')\n",
    "\n",
    "# FLOW VELOCITY LIMIT\n",
    "flow_vel = m.addConstrs((Q[e] <= Vmax * gp.quicksum((np.pi / 8) * (s**2) * (a[*e, s]) for s in D) for e in G.edges), name='flow_vel')\n",
    "\n",
    "# PIPES UNDERGROUND\n",
    "underground = m.addConstrs((el[u] <= EL[u] for u in G.nodes), name='underground')\n",
    "m.update()\n",
    "# EDGE ACTIVATION\n",
    "\n",
    "# TODO: Go through this with John 2\n",
    "# EDGE ACTIVATION\n",
    "ePath = {}  # Use this for Edge Activation Constraint\n",
    "for e, p_ in Path.items(): # Using temporary variable p_ since p is already a decision variable (see above)\n",
    "    ePath[e] = [(p_[l - 1], p_[l]) for l in range(1, len(p_))]\n",
    "\n",
    "edge_activate = m.addConstrs((gp.quicksum(z[e] for e in ePath[i, j]) >= NLinks[i, j] * x[i, j] for i, j in Path), name='edge_activate')\n",
    "\n",
    "\n",
    "# ENVELOPES FOR MANNING\n",
    "\n",
    "T = 11.9879\n",
    "P = lambda LE, s: LE / (T * (s**(16/3)))\n",
    "Qmax = lambda s: Vmax * ((np.pi / 8) * (s**2))\n",
    "\n",
    "\n",
    "alpha = m.addVars(G.edges, D, lb=0, name='alpha')\n",
    "beta = m.addVars(G.edges, D, lb=0, name='beta')\n",
    "\n",
    "\n",
    "alpha_2 = m.addConstrs((alpha[*e, s] >= Q[e] + a[*e, s] * Qmax(s) - ( Qmax(s)) for e in G.edges for s in D), name='alpha_2')\n",
    "alpha_3 = m.addConstrs((alpha[*e, s] <= Qmax(s) * a[*e, s] for e in G.edges for s in D), name='alpha_3')\n",
    "alpha_4 = m.addConstrs((alpha[*e, s] <= Q[e] for e in G.edges for s in D), name='alpha_4')\n",
    "alpha_5 = m.addConstrs((alpha[*e, s] <= Qmax(s) for e in G.edges for s in D), name='alpha_5')\n",
    "\n",
    "beta_2 = m.addConstrs((beta[*e, s] >= (Qmax(s) * Q[e]) + (Qmax(s) * alpha[*e, s]) - (Qmax(s)**2) for e in G.edges for s in D), name='beta_2')\n",
    "beta_3 = m.addConstrs((beta[*e, s] <= Qmax(s) * alpha[*e, s] for e in G.edges for s in D), name='beta_3')\n",
    "beta_4 = m.addConstrs((beta[*e, s] <= Qmax(s) * Q[e] for e in G.edges for s in D), name='beta_4')\n",
    "\n",
    "# manning_2 = m.addConstrs((el[e[1]] - el[e[0]] + gp.quicksum(P(LE[e], s) * beta[*e, s] for s in D) <= 0 for e in G.edges), name='manning_2')\n",
    "\n",
    "# ADDED THE BIG M THING HERE BUT IDK IF IT COULD BE IMPROVED\n",
    "manning_2 = m.addConstrs((el[e[1]] - el[e[0]] + gp.quicksum(P(LE[e], s) * beta[*e, s] for s in D) <= (1-z[e])*M for e in G.edges), name='manning_2')\n",
    "m.update()"
   ]
  },
  {
   "cell_type": "code",
   "execution_count": null,
   "id": "9e128e26dde19055",
   "metadata": {
    "ExecuteTime": {
     "end_time": "2025-02-19T20:02:59.467826Z",
     "start_time": "2025-02-19T20:02:59.457337Z"
    }
   },
   "outputs": [
    {
     "name": "stdout",
     "output_type": "stream",
     "text": [
      "Model has 24786 variables and 38926 constraints.\n"
     ]
    }
   ],
   "source": [
    "# OBJECTIVE EPXR 1: TREATMENT COSTS\n",
    "treat_cost = gp.LinExpr()\n",
    "for j in treatment_nodes:\n",
    "    treat_cost.addTerms(TR, y[j])\n",
    "    for i in source_nodes:\n",
    "        treat_cost.addTerms(TRFlow * SR[i], x[i, j])\n",
    "\n",
    "# OBJECTIVE EXPR 2: EXCAVATION COSTS\n",
    "excav_cost_f = lambda u, v: gp.QuadExpr(CE * (((EL[u] - el[u]) + (EL[v] - el[v])) / 2) * LE[u, v] * gp.quicksum(s + ((2*W) * a[u, v, s]) for s in D))\n",
    "\n",
    "# OBJECTIVE EXPR 3: BEDDING COSTS\n",
    "bed_cost_f = lambda u, v: gp.LinExpr(CB * LE[u, v] * gp.quicksum(s + ((2*W) * a[u, v, s]) for s in D))\n",
    "# OBJECTIVE EXPR 4: PIPE COSTS\n",
    "pipe_cost_f = lambda u, v: gp.LinExpr(LE[u, v] * gp.quicksum(CP[s] * a[u, v, s] for s in D))\n",
    "\n",
    "excav_bed_cost = gp.quicksum(excav_cost_f(u, v) + bed_cost_f(u, v) + pipe_cost_f(u, v) for u, v in G.edges)\n",
    "\n",
    "# OBJECTIVE EXPR 5: RECOURSE TRUCKING\n",
    "\n",
    "rec_cost = gp.LinExpr()\n",
    "for i in source_nodes:\n",
    "    rec_cost.addTerms(CT, r[i])\n",
    "\n",
    "m.setObjective(treat_cost + excav_bed_cost + rec_cost, GRB.MINIMIZE)\n",
    "\n",
    "# m.setObjective(0, GRB.MINIMIZE)\n",
    "\n",
    "m.update()\n",
    "print(f\"Model has {m.NumVars} variables and {m.NumConstrs} constraints.\")"
   ]
  },
  {
   "cell_type": "code",
   "execution_count": null,
   "id": "98cddf5b0cdf99f4",
   "metadata": {
    "ExecuteTime": {
     "end_time": "2025-02-19T20:03:03.287282Z",
     "start_time": "2025-02-19T20:03:01.341496Z"
    }
   },
   "outputs": [
    {
     "name": "stdout",
     "output_type": "stream",
     "text": [
      "Gurobi Optimizer version 12.0.1 build v12.0.1rc0 (win64 - Windows 11.0 (26100.2))\n",
      "\n",
      "CPU model: AMD Ryzen 9 5900HX with Radeon Graphics, instruction set [SSE2|AVX|AVX2]\n",
      "Thread count: 8 physical cores, 16 logical processors, using up to 16 threads\n",
      "\n",
      "Optimize a model with 38926 rows, 24786 columns and 286316 nonzeros\n",
      "Model fingerprint: 0x4f3accb2\n",
      "Model has 6054 quadratic objective terms\n",
      "Variable types: 14060 continuous, 10726 integer (10726 binary)\n",
      "Coefficient statistics:\n",
      "  Matrix range     [2e-01, 1e+06]\n",
      "  Objective range  [2e+01, 1e+09]\n",
      "  QObjective range [3e+02, 5e+04]\n",
      "  Bounds range     [1e+00, 1e+00]\n",
      "  RHS range        [1e+00, 1e+06]\n",
      "Presolve removed 12080 rows and 4597 columns\n",
      "Presolve time: 2.78s\n",
      "Presolved: 32576 rows, 25919 columns, 238930 nonzeros\n",
      "Variable types: 15409 continuous, 10510 integer (10510 binary)\n",
      "Found heuristic solution: objective 5.610350e+07\n",
      "Deterministic concurrent LP optimizer: primal and dual simplex\n",
      "Showing primal log only...\n",
      "\n",
      "\n",
      "Root simplex log...\n",
      "\n",
      "Iteration    Objective       Primal Inf.    Dual Inf.      Time\n",
      "       0    1.0409828e+09   7.211223e+02   4.228251e+10      6s\n",
      "Concurrent spin time: 0.07s\n",
      "\n",
      "Solved with dual simplex\n",
      "\n",
      "Root simplex log...\n",
      "\n",
      "Iteration    Objective       Primal Inf.    Dual Inf.      Time\n",
      "    7897    6.6966365e+06   0.000000e+00   0.000000e+00      9s\n",
      "\n",
      "Root relaxation: objective 6.696636e+06, 7897 iterations, 3.00 seconds (1.51 work units)\n",
      "Total elapsed time = 8.83s (DegenMoves)\n",
      "\n",
      "    Nodes    |    Current Node    |     Objective Bounds      |     Work\n",
      " Expl Unexpl |  Obj  Depth IntInf | Incumbent    BestBd   Gap | It/Node Time\n",
      "\n",
      "     0     0 6696636.49    0  770 5.6104e+07 6696636.49  88.1%     -   15s\n",
      "H    0     0                    5.311494e+07 6696636.49  87.4%     -   15s\n",
      "     0     0 8385491.69    0  895 5.3115e+07 8385491.69  84.2%     -   31s\n",
      "H    0     0                    5.294571e+07 8620524.84  83.7%     -   31s\n",
      "H    0     0                    5.294387e+07 8620524.84  83.7%     -   32s\n",
      "     0     0 8620524.84    0  925 5.2944e+07 8620524.84  83.7%     -   32s\n",
      "     0     0 8632828.04    0  932 5.2944e+07 8632828.04  83.7%     -   33s\n",
      "     0     0 8633186.73    0  914 5.2944e+07 8633186.73  83.7%     -   33s\n",
      "H    0     0                    5.257267e+07 8633186.73  83.6%     -   37s\n",
      "H    0     0                    5.256874e+07 8633186.73  83.6%     -   37s\n",
      "H    0     0                    5.256721e+07 8633186.73  83.6%     -   37s\n",
      "H    0     0                    5.253574e+07 8633186.73  83.6%     -   37s\n",
      "H    0     0                    5.215844e+07 9199361.09  82.4%     -   39s\n",
      "     0     0 9199361.09    0  816 5.2158e+07 9199361.09  82.4%     -   41s\n",
      "H    0     0                    3.021750e+07 9199438.50  69.6%     -   42s\n",
      "H    0     0                    2.641954e+07 9199438.50  65.2%     -   42s\n",
      "H    0     0                    2.632369e+07 9199438.50  65.1%     -   42s\n",
      "H    0     0                    2.631091e+07 9199438.50  65.0%     -   42s\n",
      "     0     0 9257366.70    0  884 2.6311e+07 9257366.70  64.8%     -   43s\n",
      "     0     0 9260930.22    0  946 2.6311e+07 9260930.22  64.8%     -   43s\n",
      "     0     0 9422725.50    0  637 2.6311e+07 9422725.50  64.2%     -   46s\n",
      "     0     0 9441488.99    0  501 2.6311e+07 9441488.99  64.1%     -   47s\n",
      "     0     0 9493807.49    0  510 2.6311e+07 9493807.49  63.9%     -   49s\n",
      "H    0     0                    1.952879e+07 9497784.87  51.4%     -   50s\n",
      "H    0     0                    1.932630e+07 9497784.87  50.9%     -   50s\n",
      "     0     0 9497784.87    0  489 1.9326e+07 9497784.87  50.9%     -   50s\n",
      "H    0     0                    1.097523e+07 9527990.24  13.2%     -   52s\n",
      "H    0     0                    1.090956e+07 9527990.24  12.7%     -   52s\n",
      "     0     0 9527990.24    0  498 1.0910e+07 9527990.24  12.7%     -   52s\n",
      "H    0     0                    9803420.6592 9528485.06  2.80%     -   53s\n",
      "     0     0 9534648.93    0  528 9803420.66 9534648.93  2.74%     -   54s\n",
      "     0     0 9535086.68    0  585 9803420.66 9535086.68  2.74%     -   54s\n",
      "     0     0 9535327.57    0  656 9803420.66 9535327.57  2.73%     -   54s\n",
      "     0     0 9535496.40    0  473 9803420.66 9535496.40  2.73%     -   54s\n",
      "     0     0 9550025.65    0  711 9803420.66 9550025.65  2.58%     -   56s\n",
      "     0     0 9550396.23    0  672 9803420.66 9550396.23  2.58%     -   56s\n",
      "     0     0 9550437.88    0  476 9803420.66 9550437.88  2.58%     -   56s\n",
      "     0     0 9550466.80    0  592 9803420.66 9550466.80  2.58%     -   57s\n",
      "     0     0 9550466.81    0  560 9803420.66 9550466.81  2.58%     -   57s\n",
      "     0     0 9550466.82    0  602 9803420.66 9550466.82  2.58%     -   57s\n",
      "     0     0 9550466.96    0  431 9803420.66 9550466.96  2.58%     -   57s\n",
      "H    0     0                    9794115.9802 9550676.00  2.49%     -   57s\n",
      "H    0     0                    9793061.6102 9550676.00  2.48%     -   58s\n",
      "H    0     0                    9788054.3262 9550676.00  2.43%     -   58s\n",
      "H    0     0                    9760600.9020 9550676.00  2.15%     -   58s\n",
      "     0     0 9555064.57    0  595 9760600.90 9555064.57  2.11%     -   58s\n",
      "     0     0 9555562.77    0  472 9760600.90 9555562.77  2.10%     -   58s\n",
      "     0     0 9569321.14    0  221 9760600.90 9569321.14  1.96%     -   59s\n",
      "     0     0 9569321.14    0  647 9760600.90 9569321.14  1.96%     -   65s\n",
      "H    0     0                    9760368.0760 9569321.14  1.96%     -   65s\n",
      "     0     0 9569321.14    0  477 9760368.08 9569321.14  1.96%     -   68s\n",
      "     0     0 9569321.14    0  317 9760368.08 9569321.14  1.96%     -   68s\n",
      "     0     0 9574252.77    0  296 9760368.08 9574252.77  1.91%     -   69s\n",
      "     0     0 9580265.58    0  200 9760368.08 9580265.58  1.85%     -   69s\n",
      "     0     0 9622746.99    0  350 9760368.08 9622746.99  1.41%     -   70s\n",
      "     0     0 9623091.64    0  310 9760368.08 9623091.64  1.41%     -   70s\n",
      "     0     0 9629305.45    0  498 9760368.08 9629305.45  1.34%     -   70s\n",
      "     0     0 9629670.72    0  506 9760368.08 9629670.72  1.34%     -   71s\n",
      "     0     0 9629729.72    0  398 9760368.08 9629729.72  1.34%     -   71s\n",
      "     0     0 9629729.73    0  329 9760368.08 9629729.73  1.34%     -   71s\n",
      "     0     0 9651240.56    0  337 9760368.08 9651240.56  1.12%     -   71s\n",
      "     0     0 9651278.42    0  303 9760368.08 9651278.42  1.12%     -   71s\n",
      "H    0     0                    9702895.2838 9651921.54  0.53%     -   72s\n",
      "H    0     0                    9699127.9867 9651921.54  0.49%     -   72s\n",
      "H    0     0                    9697043.3867 9651921.54  0.47%     -   72s\n",
      "     0     0 9654017.28    0  265 9697043.39 9654017.28  0.44%     -   72s\n",
      "     0     0 9654074.07    0  274 9697043.39 9654074.07  0.44%     -   72s\n",
      "     0     0 9660184.10    0  245 9697043.39 9660184.10  0.38%     -   73s\n",
      "     0     0 9660184.10    0  376 9697043.39 9660184.10  0.38%     -   74s\n",
      "H    0     0                    9695758.6067 9660184.10  0.37%     -   74s\n",
      "     0     0 9660184.10    0  317 9695758.61 9660184.10  0.37%     -   75s\n",
      "     0     0 9660184.10    0  183 9695758.61 9660184.10  0.37%     -   75s\n",
      "     0     0 9660184.10    0  177 9695758.61 9660184.10  0.37%     -   75s\n",
      "     0     0 9660184.10    0  264 9695758.61 9660184.10  0.37%     -   75s\n",
      "     0     0 9660184.10    0  262 9695758.61 9660184.10  0.37%     -   75s\n",
      "     0     0 9666479.24    0  193 9695758.61 9666479.24  0.30%     -   75s\n",
      "H    0     0                    9687230.0627 9666878.53  0.21%     -   75s\n",
      "     0     0 9666878.53    0  195 9687230.06 9666878.53  0.21%     -   75s\n",
      "     0     0 9672092.31    0   93 9687230.06 9672092.31  0.16%     -   76s\n",
      "     0     0 9672182.44    0   93 9687230.06 9672182.44  0.16%     -   76s\n",
      "     0     0 9672973.68    0  231 9687230.06 9672973.68  0.15%     -   76s\n",
      "     0     0 9672973.68    0  259 9687230.06 9672973.68  0.15%     -   77s\n",
      "H    0     0                    9686997.2367 9672973.68  0.14%     -   77s\n",
      "     0     0 9672973.68    0  177 9686997.24 9672973.68  0.14%     -   77s\n",
      "     0     0 9672973.68    0  160 9686997.24 9672973.68  0.14%     -   77s\n",
      "     0     0 9672973.68    0  157 9686997.24 9672973.68  0.14%     -   77s\n",
      "H    0     0                    9684803.3665 9672973.68  0.12%     -   77s\n",
      "     0     0 9672973.68    0   98 9684803.37 9672973.68  0.12%     -   77s\n",
      "     0     0 9672973.68    0   89 9684803.37 9672973.68  0.12%     -   77s\n",
      "     0     0 9675657.33    0   87 9684803.37 9675657.33  0.09%     -   77s\n",
      "     0     0 9675657.33    0   86 9684803.37 9675657.33  0.09%     -   77s\n",
      "H    0     0                    9680560.6265 9675764.88  0.05%     -   77s\n",
      "     0     0 9676371.52    0   81 9680560.63 9676371.52  0.04%     -   77s\n",
      "     0     0 9676377.20    0   49 9680560.63 9676377.20  0.04%     -   77s\n",
      "     0     0 9679325.19    0   48 9680560.63 9679325.19  0.01%     -   78s\n",
      "     0     0          -    0      9680560.63 9680420.99  0.00%     -   78s\n",
      "\n",
      "Explored 1 nodes (53390 simplex iterations) in 78.28 seconds (27.75 work units)\n",
      "Thread count was 16 (of 16 available processors)\n",
      "\n",
      "Solution count 10: 9.68056e+06 9.68122e+06 9.6848e+06 ... 9.76037e+06\n",
      "\n",
      "Optimal solution found (tolerance 1.00e-04)\n",
      "Best objective 9.680560626475e+06, best bound 9.680420989807e+06, gap 0.0014%\n",
      "x[59079984, 59128065] = <gurobi.Var x[59079984,59128065] (value 0.0)>\n"
     ]
    }
   ],
   "source": [
    "# m.write(\"singleperiod_nocontext2.lp\")\n",
    "m.optimize()"
   ]
  },
  {
   "cell_type": "markdown",
   "id": "a8305fe1",
   "metadata": {},
   "source": [
    "##### Here begins multiperiod work"
   ]
  },
  {
   "cell_type": "code",
   "execution_count": null,
   "id": "0aa9ce1c",
   "metadata": {},
   "outputs": [],
   "source": [
    "### Initializing multiperiod-related variables\n",
    "n_periods = 3\n",
    "periods = list(range(n_periods)) # `periods` can be an arbitrary list/tuple, here we just make it (0,1,2)\n",
    "# v this v is shorthand for creating historical dictionaries for each decision variable (wrap this in function?)\n",
    "(xt, yt, zt, at, elt, rt, Qt, pt) = [{period: None for period in periods} for _ in (x,y,z,a,el,r,Q,p)] "
   ]
  },
  {
   "cell_type": "markdown",
   "id": "dad337c0",
   "metadata": {},
   "source": [
    "##### Problems with modifying and adding constraints: \n",
    "1. When you add or modify a constraint, on model update it clears out the values of the variables, which causes the values of the historical dictionaries to change, if they're just copies of the `tupledict` returned by the constraint initialization functions.\n",
    "2. Setting the `\"rhs\"` attribute on constraints requires a `double` argument, not an argument with `Gurobi.var` variables. \n",
    "\n",
    "##### Solution: \n",
    "1. Manually perform a deeper copy of the `tupledict`, storing keys and values rather than `Gurobi.var` variables\n",
    "2. Manually remove and re-add the modified constraints"
   ]
  },
  {
   "cell_type": "code",
   "execution_count": null,
   "id": "8d4852cc",
   "metadata": {},
   "outputs": [],
   "source": [
    "### ONLY RUN FOR AN EXAMPLE OF MODEL UPDATING CLEARING THE VALUES OF THE GUROBI VARIABLES\n",
    "print(f\"{x = }\")\n",
    "d = m.addVars(G.edges, D, vtype=GRB.BINARY, name='d')\n",
    "m.update()\n",
    "print(f\"{x = }\")"
   ]
  },
  {
   "cell_type": "code",
   "execution_count": null,
   "id": "4423f630",
   "metadata": {},
   "outputs": [],
   "source": [
    "# Write the value of each decision variable in the first period into the historical dictionaries\n",
    "# Can't just call `x.copy()` for example, since that's a shallow copy so the values in the historical dict will change\n",
    "def record_history(period_to_record):\n",
    "    for gurobi_var_dict, history_dict in ((x,xt), (y,yt), (z,zt), (a,at), (el,elt), (r,rt), (Q,Qt), (p,pt)):\n",
    "        history_dict[period_to_record] = {key: gurobi_var.X for key, gurobi_var in gurobi_var_dict.items()}\n",
    "\n",
    "record_history(periods[0])"
   ]
  },
  {
   "cell_type": "code",
   "execution_count": 37,
   "id": "6b824afe",
   "metadata": {},
   "outputs": [],
   "source": [
    "### CHANGE WASTEWATER FLOW\n",
    "for node in source_nodes:\n",
    "    # Arbitrary choice of new wastewater flow for testing purposes\n",
    "    SR[node] = .34\n",
    "    # G.nodes[node]['production'] = .34 # This variable isn't used anywhere else"
   ]
  },
  {
   "cell_type": "code",
   "execution_count": null,
   "id": "7ef6366a",
   "metadata": {},
   "outputs": [],
   "source": [
    "### ADD DECISION VARIABLES AND CONSTRAINTS FOR MULTIPERIOD\n",
    "\n",
    "current_period_index = 1\n",
    "\n",
    "## New variables \n",
    "# What new size pipe needs to be installed, if any\n",
    "d = m.addVars(G.edges, D, vtype=GRB.BINARY, name='d')\n",
    "\n",
    "# Whether elevation at vertex v changes\n",
    "c = m.addVars(G.nodes, vtype=GRB.BINARY, name='c')  # Is there elevation change at node v \n",
    "\n",
    "\n",
    "## New, non-time-dependent constraints\n",
    "# CHANGE IN PIPE SIZE (ensures that at most 1 new pipe size can be selected)\n",
    "pipe_size_change = m.addConstrs((gp.quicksum(d[*e, s] for s in D) <= 1 for e in G.edges), name='pipe_size_change')  # Always unpack e\n",
    "\n",
    "# VERTEX ELEVATION CHANGE ASSIGNMENT\n",
    "elevation_change_assignment = m.addConstrs(\n",
    "    (gp.quicksum(d[*e, s] for s in D) >= 0.5 * (c[e[0]] + c[e[1]]) + (z[*e] - 1) for e in G.edges), name='elevation_change_assignment')\n",
    "\n",
    "# a-CONSTRAINT (ensures that a truly represents the accurate pipe size)\n",
    "a_constraint = m.addConstrs(\n",
    "    (a[*e, s] <= (d[*e, s] + at[periods[current_period_index-1]][*e, s]) for e in G.edges for s in D), name='a_constraint')\n",
    "# We have to remove ^ this ^ constraint and re-add it after every period, because the numbers from the previous period will change\n",
    "\n",
    "# VERTEX ELEVATION CHANGE ENFORCEMENT\n",
    "max_elevation_change_enforcement = m.addConstrs(\n",
    "    (c[u] >= (el[u] - elt[periods[current_period_index-1]][u]) / M for u in G.nodes), name='max_elevation_change_enforcement')\n",
    "# We have to remove ^ this ^ constraint and re-add it after every period, because the numbers from the previous period will change\n",
    "min_elevation_change_enforcement = m.addConstrs(\n",
    "    (c[u] >= (elt[periods[current_period_index-1]][u] - el[u]) / M for u in G.nodes), name='min_elevation_change_enforcement')\n",
    "# We have to remove ^ this ^ constraint and re-add it after every period, because the numbers from the previous period will change\n",
    "\n",
    "# TREATMENT PLANT CONTINUITY\n",
    "treatment_plant_continuity = m.addConstrs((y[j] >= yt[periods[current_period_index-1]][j] for j in treatment_nodes), name='treatment_plant_continuity')\n",
    "# We have to remove ^ this ^ constraint and re-add it after every period, because the numbers from the previous period will change\n",
    "\n",
    "m.update()"
   ]
  },
  {
   "cell_type": "code",
   "execution_count": null,
   "id": "98d2cc73",
   "metadata": {},
   "outputs": [
    {
     "name": "stdout",
     "output_type": "stream",
     "text": [
      "current_period_index = 1\n"
     ]
    }
   ],
   "source": [
    "### EDIT CONSTRAINTS BEFORE STARTING NEW PERIOD--REMOVES PREVIOUS CONSTRAINTS; YOU'LL FIND HANDLES TO THE NEW ONES RETURNED BY THIS METHOD\n",
    "# We *could* just use the global keyword... but I'd like this function to be at least a little portable.\n",
    "def edit_constrs_SR_change(current_period_index):\n",
    "    # Because the \"rhs\" attribute on constraints requires a double value, not a gurobi.Var, \n",
    "    # we have to manually remove and re-add the constraints. \n",
    "\n",
    "    # NODE PRODUCTION MINUS RECOURSE (depends on modified wastewater flow SR)\n",
    "    m.remove(node_prod_rec)\n",
    "    # The _new emphasizes that this is a temporary, local variable that needs to be returned\n",
    "    node_prod_rec_new = m.addConstrs((p[i, j] >= (SR[i] * x[i, j]) - r[i] for i, j in Path.keys()), name='node_prod_rec')\n",
    "\n",
    "    # a-CONSTRAINT (depends on `a` from previous period)\n",
    "    m.remove(a_constraint)\n",
    "    a_constraint_new = m.addConstrs(\n",
    "        (a[*e, s] <= (d[*e, s] + at[periods[current_period_index-1]][*e, s]) for e in G.edges for s in D), name='a_constraint')\n",
    "    \n",
    "    # VERTEX ELEVATION CHANGE (depends on elevation at previous period)\n",
    "    m.remove(max_elevation_change_enforcement)\n",
    "    m.remove(min_elevation_change_enforcement)\n",
    "    max_elevation_change_enforcement_new = m.addConstrs(\n",
    "        (c[u] >= (el[u] - elt[periods[current_period_index-1]][u]) / M for u in G.nodes), name='max_elevation_change_enforcement')\n",
    "    min_elevation_change_enforcement_new = m.addConstrs(\n",
    "        (c[u] >= (elt[periods[current_period_index-1]][u] - el[u]) / M for u in G.nodes), name='min_elevation_change_enforcement')\n",
    "\n",
    "    # TREATMENT PLANT CONTINUITY (depends on treatment plant existence in previous period)\n",
    "    m.remove(treatment_plant_continuity)\n",
    "    treatment_plant_continuity_new = m.addConstrs(\n",
    "        (y[j] >= yt[periods[current_period_index-1]][j] for j in treatment_nodes), name='treatment_plant_continuity')\n",
    "\n",
    "    return (node_prod_rec_new, a_constraint_new, max_elevation_change_enforcement_new, min_elevation_change_enforcement_new, \n",
    "            treatment_plant_continuity_new)\n",
    "\n",
    "(node_prod_rec, a_constraint, max_elevation_change_enforcement, min_elevation_change_enforcement, \n",
    " treatment_plant_continuity) = edit_constrs_SR_change(current_period_index)\n",
    "print(f\"{current_period_index = }\")\n",
    "\n",
    "m.update()"
   ]
  },
  {
   "cell_type": "code",
   "execution_count": null,
   "id": "12eb0107",
   "metadata": {},
   "outputs": [],
   "source": [
    "### CHANGE OBJECTIVE FUNCTION FOR MULTIPERIOD\n",
    "\n",
    "# OBJECTIVE EPXR 1: add consideration of previous y_j to treatment costs\n",
    "# Treatment cost term in objective function depends on wastewater flow\n",
    "# Easiest to just reinitialize treat_cost rather than combing out the terms depending on previous SR\n",
    "def edit_treatment_cost(current_period_index):\n",
    "    treat_cost_new = gp.LinExpr()\n",
    "    for j in treatment_nodes:\n",
    "        treat_cost_new.add(y[j], TR)\n",
    "        treat_cost_new.addConstant(-TR * yt[periods[current_period_index-1]][j])\n",
    "        for i in source_nodes:\n",
    "            treat_cost_new.add(x[i, j], TRFlow * SR[i])\n",
    "    return treat_cost_new\n",
    "\n",
    "    # All other objective expressions stay the same\n",
    "\n",
    "treat_cost = edit_treatment_cost(current_period_index)\n",
    "\n",
    "# Modify the objective to account for the new treatment cost and discount factor\n",
    "m.setObjective((treat_cost + excav_bed_cost + rec_cost) / (1 + R)**periods[current_period_index], GRB.MINIMIZE)"
   ]
  },
  {
   "cell_type": "code",
   "execution_count": 60,
   "id": "7dd7ea8e",
   "metadata": {},
   "outputs": [],
   "source": [
    "# m.setObjective(0, GRB.MINIMIZE)\n",
    "m.update()"
   ]
  },
  {
   "cell_type": "code",
   "execution_count": 58,
   "id": "1d9344c0",
   "metadata": {},
   "outputs": [
    {
     "name": "stdout",
     "output_type": "stream",
     "text": [
      "Gurobi Optimizer version 12.0.1 build v12.0.1rc0 (win64 - Windows 11.0 (26100.2))\n",
      "\n",
      "CPU model: AMD Ryzen 9 5900HX with Radeon Graphics, instruction set [SSE2|AVX|AVX2]\n",
      "Thread count: 8 physical cores, 16 logical processors, using up to 16 threads\n",
      "\n",
      "Optimize a model with 43411 rows, 28015 columns and 300793 nonzeros\n",
      "Model fingerprint: 0x17942874\n",
      "Variable types: 14060 continuous, 13955 integer (13955 binary)\n",
      "Coefficient statistics:\n",
      "  Matrix range     [1e-06, 1e+06]\n",
      "  Objective range  [0e+00, 0e+00]\n",
      "  Bounds range     [1e+00, 1e+00]\n",
      "  RHS range        [7e-05, 1e+06]\n",
      "\n",
      "MIP start from previous solve produced solution with objective 0 (0.13s)\n",
      "Loaded MIP start from previous solve with objective 0\n",
      "\n",
      "\n",
      "Explored 0 nodes (0 simplex iterations) in 0.13 seconds (0.12 work units)\n",
      "Thread count was 1 (of 16 available processors)\n",
      "\n",
      "Solution count 2: 0 0 \n",
      "\n",
      "Optimal solution found (tolerance 1.00e-04)\n",
      "Best objective 0.000000000000e+00, best bound 0.000000000000e+00, gap 0.0000%\n"
     ]
    }
   ],
   "source": [
    "m.optimize()"
   ]
  },
  {
   "cell_type": "code",
   "execution_count": null,
   "id": "ff5f06a3",
   "metadata": {},
   "outputs": [],
   "source": []
  },
  {
   "cell_type": "code",
   "execution_count": null,
   "id": "134084f479529b4c",
   "metadata": {
    "ExecuteTime": {
     "end_time": "2025-02-19T16:33:43.034902Z",
     "start_time": "2025-02-19T16:33:43.015191Z"
    }
   },
   "outputs": [],
   "source": [
    "for v in r:\n",
    "    if r[v].X > 0:\n",
    "        print(r[v].VarName, r[v].X)"
   ]
  },
  {
   "cell_type": "code",
   "execution_count": null,
   "id": "74ecb3087a950124",
   "metadata": {},
   "outputs": [],
   "source": [
    "m.computeIIS()\n",
    "\n",
    "for c in m.getConstrs():\n",
    "    if c.IISConstr:\n",
    "        print(f\"Constraint {c.ConstrName} is in the IIS\")\n",
    "\n",
    "for v in m.getVars():\n",
    "    if v.IISLB > 0:\n",
    "        print(f\"Lower bound of {v.VarName} is in the IIS\")\n",
    "    elif v.IISUB > 0:\n",
    "        print(f\"Upper bound of {v.VarName} is in the IIS\")\n"
   ]
  },
  {
   "cell_type": "code",
   "execution_count": null,
   "id": "93d1714a911526cb",
   "metadata": {
    "ExecuteTime": {
     "end_time": "2025-02-19T19:23:22.112034Z",
     "start_time": "2025-02-19T19:23:22.031006Z"
    }
   },
   "outputs": [],
   "source": [
    "x_0 = {str(xv) : x[xv].X for xv in x}\n",
    "y_0 = {yv : y[yv].X for yv in y}\n",
    "z_0 = {str(zv) : z[zv].X for zv in z}\n",
    "\n",
    "d_0 = {str(dv) : a[dv].X for dv in a}\n",
    "el_0 = {elv: el[elv].X for elv in el}"
   ]
  },
  {
   "cell_type": "code",
   "execution_count": null,
   "id": "a8332415e2e39335",
   "metadata": {
    "ExecuteTime": {
     "end_time": "2025-02-19T19:10:37.046131Z",
     "start_time": "2025-02-19T19:10:37.039587Z"
    }
   },
   "outputs": [],
   "source": [
    "import json"
   ]
  },
  {
   "cell_type": "code",
   "execution_count": null,
   "id": "940a516819c176fe",
   "metadata": {
    "ExecuteTime": {
     "end_time": "2025-02-19T19:10:37.756978Z",
     "start_time": "2025-02-19T19:10:37.716926Z"
    }
   },
   "outputs": [],
   "source": [
    "with open(\"x_sol.json\", \"w\") as f:\n",
    "    json.dump(x_0, f)"
   ]
  },
  {
   "cell_type": "code",
   "execution_count": null,
   "id": "a80f3c01961e4550",
   "metadata": {
    "ExecuteTime": {
     "end_time": "2025-02-19T19:23:27.413479Z",
     "start_time": "2025-02-19T19:23:27.380929Z"
    }
   },
   "outputs": [],
   "source": [
    "with open(\"z_sol.json\", \"w\") as f:\n",
    "    json.dump(z_0, f)\n",
    "\n",
    "with open(\"d_sol.json\", \"w\") as f:\n",
    "    json.dump(d_0, f)\n",
    "\n",
    "with open(\"el_sol.json\", \"w\") as f:\n",
    "    json.dump(el_0, f)"
   ]
  },
  {
   "cell_type": "code",
   "execution_count": null,
   "id": "c953a80f0a09e9ad",
   "metadata": {},
   "outputs": [],
   "source": []
  }
 ],
 "metadata": {
  "kernelspec": {
   "display_name": "CMOR492-DWS_venv1",
   "language": "python",
   "name": "python3"
  },
  "language_info": {
   "codemirror_mode": {
    "name": "ipython",
    "version": 3
   },
   "file_extension": ".py",
   "mimetype": "text/x-python",
   "name": "python",
   "nbconvert_exporter": "python",
   "pygments_lexer": "ipython3",
   "version": "3.11.9"
  }
 },
 "nbformat": 4,
 "nbformat_minor": 5
}
