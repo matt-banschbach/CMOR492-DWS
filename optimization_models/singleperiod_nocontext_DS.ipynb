{
 "cells": [
  {
   "cell_type": "code",
   "execution_count": 3,
   "id": "initial_id",
   "metadata": {
    "ExecuteTime": {
     "end_time": "2025-02-19T20:51:30.690038Z",
     "start_time": "2025-02-19T20:51:30.681245Z"
    },
    "collapsed": true
   },
   "outputs": [],
   "source": [
    "import gurobipy as gp\n",
    "from gurobipy import GRB\n",
    "import networkx as nx\n",
    "import numpy as np\n",
    "\n",
    "import sys\n",
    "sys.path.append('c:\\\\users\\\\jacob\\\\onedrive\\\\documents\\\\college\\\\rice university\\\\cmor492-dws\\\\')\n",
    "from network_construction.network import source_treatment, get_Utown\n",
    "\n",
    "\n"
   ]
  },
  {
   "cell_type": "code",
   "execution_count": 4,
   "id": "c2114a07669a9391",
   "metadata": {
    "ExecuteTime": {
     "end_time": "2025-02-19T20:51:31.876720Z",
     "start_time": "2025-02-19T20:51:31.580413Z"
    }
   },
   "outputs": [],
   "source": [
    "G = get_Utown()\n",
    "source_nodes, treatment_nodes = source_treatment(G, 40)  # <-- Specify # starting points for treatment node algorithm"
   ]
  },
  {
   "cell_type": "code",
   "execution_count": 5,
   "id": "e133f38e4866f8fe",
   "metadata": {
    "ExecuteTime": {
     "end_time": "2025-02-19T20:51:33.282297Z",
     "start_time": "2025-02-19T20:51:32.518320Z"
    }
   },
   "outputs": [],
   "source": [
    "### MODEL PARAMETERS\n",
    "\n",
    "# TODO: What if we just make pipe size continuous/linear\n",
    "\n",
    "Path = {}  # Set of shortest paths from each source node i to each treatment node j\n",
    "NLinks = {}  # Number of edges in each path\n",
    "L = {}  # Length of each path (distance)\n",
    "\n",
    "for i in source_nodes:\n",
    "    for j in treatment_nodes:\n",
    "        path = nx.shortest_path(G, source=i, target=j, weight='length')\n",
    "        Path[i, j] = path\n",
    "        NLinks[i, j] = len(path)-1\n",
    "        L[i, j] = nx.path_weight(G, path, weight='length')\n",
    "LE = {e: G.edges[e]['length'] for e in G.edges}  # Length of edge e\n",
    "EL = {v: G.nodes[v]['elevation'] for v in G.nodes}  # Elevation of node v\n",
    "\n",
    "\n",
    "D = [0.2, 0.25, 0.3, 0.35, 0.40, 0.45]  # Pipe diameters\n",
    "CP = {0.05: 8.7, 0.06: 9.5, 0.08: 11,\n",
    "                       0.1: 12.6, 0.15: 43.5, 0.2: 141,\n",
    "                       0.25: 151, 0.3: 161, 0.35: 180,\n",
    "                       0.4: 190, 0.45: 200}  # Cost per unit of pipe\n",
    "\n",
    "\n",
    "SR = {}  # Production at Source node i\n",
    "CAP = {}  # Capacity at treatment node j\n",
    "\n",
    "for node in source_nodes:\n",
    "    G.nodes[node]['production'] = .17\n",
    "    SR[node] = .17\n",
    "\n",
    "total_flow = sum(SR.values())\n",
    "\n",
    "for node in treatment_nodes:\n",
    "    G.nodes[node]['capacity'] = 1000\n",
    "    CAP[node] = 1000\n",
    "\n",
    "Vmin = 0.6 * 60\n",
    "Vmax = 3 * 60\n",
    "\n",
    "CE = 25  # Cost of Excavation\n",
    "CB = 6  # Cost of Bedding\n",
    "TR = 44000  # Fixed Cost of Treatment Plant\n",
    "TRFlow = 100  # Variable Cost of Treatment\n",
    "PICost = 30\n",
    "\n",
    "PF = {'0.05': 8.7, '0.06': 9.5, '0.08': 11,\n",
    "                       '0.1': 12.6, '0.15': 43.5, '0.2': 141,\n",
    "                       '0.25': 151, '0.3': 161, '0.35': 180,\n",
    "                       '0.4': 190, '0.45': 200}  # Fixed Cost of Piping\n",
    "\n",
    "CT = 1000000000  # Cost of trucking\n",
    "M = 1e6\n",
    "\n",
    "Smin = 0.01\n",
    "Smax = 0.1\n",
    "W = 0.5  # Buffer Width\n"
   ]
  },
  {
   "cell_type": "code",
   "execution_count": 6,
   "id": "991500d7d60d1e36",
   "metadata": {
    "ExecuteTime": {
     "end_time": "2025-02-19T20:51:33.369350Z",
     "start_time": "2025-02-19T20:51:33.282297Z"
    }
   },
   "outputs": [
    {
     "name": "stdout",
     "output_type": "stream",
     "text": [
      "Set parameter Username\n"
     ]
    },
    {
     "name": "stdout",
     "output_type": "stream",
     "text": [
      "Academic license - for non-commercial use only - expires 2025-11-08\n"
     ]
    }
   ],
   "source": [
    "m = gp.Model()\n",
    "\n",
    "### DECISION VARIABLES\n",
    "\n",
    "x = m.addVars(Path.keys(), vtype=GRB.BINARY, name='x')  # Path ij used\n",
    "y = m.addVars(treatment_nodes, vtype=GRB.BINARY, name='y')  # treatment at node j\n",
    "z = m.addVars(G.edges, vtype=GRB.BINARY, name='z')  # edge e used\n",
    "\n",
    "# Pipe Size Selection\n",
    "d_es_names = []\n",
    "for e in G.edges:\n",
    "    for s in D:\n",
    "        d_es_names.append(f\"Edge: {e[0]}---{e[1]} <- Size: {s}\")\n",
    "\n",
    "d = m.addVars(G.edges, D, vtype=GRB.BINARY, name='d')  # Pipe size s at edge e\n",
    "\n",
    "\n",
    "# Recourse Amount\n",
    "r = m.addVars(source_nodes, vtype=GRB.CONTINUOUS, lb=0.0, name='r')  # flow handled at trucking at edge e\n",
    "\n",
    "# Flow in Edge e\n",
    "Q = m.addVars(G.edges, vtype=GRB.CONTINUOUS, lb=0.0, name='Q')  # Flow in Edge e\n",
    "\n",
    "# Node Elevation\n",
    "el = m.addVars(G.nodes, vtype=GRB.CONTINUOUS, name='el')  # Elevation at node el_v\n",
    "\n",
    "# Path Flow\n",
    "p = m.addVars(Path.keys(), vtype=GRB.CONTINUOUS, lb = 0.0, name='p')\n",
    "\n",
    "c = m.addVars(G.nodes, vtype=GRB.BINARY, name='c')\n",
    "\n",
    "m.update()"
   ]
  },
  {
   "cell_type": "code",
   "execution_count": 7,
   "id": "37cb025c15dc02c4",
   "metadata": {
    "ExecuteTime": {
     "end_time": "2025-02-19T20:51:41.457260Z",
     "start_time": "2025-02-19T20:51:35.783708Z"
    }
   },
   "outputs": [],
   "source": [
    "### CONSTRAINTS\n",
    "\n",
    "# NODE PRODUCTION MINUS RECOURSE\n",
    "node_prod_rec = m.addConstrs((p[i, j] >= (SR[i] * x[i, j]) - r[i] for i, j in Path.keys()), name='node_prod_rec')\n",
    "\n",
    "# TREATMENT CAPACITY\n",
    "treat_cap = m.addConstrs((gp.quicksum(p[i, j] for i in source_nodes) <= CAP[j] * y[j] for j in treatment_nodes), name='treat_cap')\n",
    "\n",
    "#  NODE ASSIGNMENT\n",
    "node_assign = m.addConstrs((gp.quicksum(x[i, j] for j in treatment_nodes) == 1 for i in source_nodes), name='node_assign')\n",
    "\n",
    "# PIPE SIZING\n",
    "pipe_sizing = m.addConstrs((gp.quicksum(d[*e, s] for s in D) == z[e] for e in G.edges), name='pipe_sizing')  # ALWAYS BE SURE TO EXPAND e\n",
    "\n",
    "# TODO: Go through this with John\n",
    "# FLOW DEFINITION\n",
    "def is_sublist(short_list, long_list):\n",
    "    for i in range(len(long_list) - len(short_list) + 1):\n",
    "        if long_list[i:i + len(short_list)] == short_list:\n",
    "            return True\n",
    "    return False\n",
    "\n",
    "flow_def = m.addConstrs((Q[e] == gp.quicksum(p[i, j] for i, j in Path.keys() if is_sublist(list((e[0], e[1])),Path[i,j])) for e in G.edges), name='flow_def')\n",
    "\n",
    "\n",
    "# MIN/MAX SLOPE\n",
    "min_slope = m.addConstrs((el[e[0]] - el[e[1]] >= (LE[e] * Smin) - (M * (1 - z[e])) for e in G.edges), name='min_slope')\n",
    "max_slope = m.addConstrs((el[e[0]] - el[e[1]] <= (LE[e] * Smax) + (M * (1 - z[e])) for e in G.edges), name='max_slope')\n",
    "\n",
    "# FLOW VELOCITY LIMIT\n",
    "flow_vel = m.addConstrs((Q[e] <= Vmax * gp.quicksum((np.pi / 8) * (s**2) * (d[*e, s]) for s in D) for e in G.edges), name='flow_vel')\n",
    "\n",
    "# PIPES UNDERGROUND\n",
    "underground = m.addConstrs((el[u] <= EL[u] for u in G.nodes), name='underground')\n",
    "m.update()\n",
    "# EDGE ACTIVATION\n",
    "\n",
    "# TODO: Go through this with John 2\n",
    "# EDGE ACTIVATION\n",
    "ePath = {}  # Use this for Edge Activiation Constraint\n",
    "for e, p in Path.items():\n",
    "    ePath[e] = [(p[l - 1], p[l]) for l in range(1, len(p))]\n",
    "\n",
    "edge_activate = m.addConstrs((gp.quicksum(z[e] for e in ePath[i, j]) >= NLinks[i, j] * x[i, j] for i, j in Path), name='edge_activate')\n",
    "\n",
    "\n",
    "# ENVELOPES FOR MANNING\n",
    "\n",
    "T = 11.9879\n",
    "P = lambda LE, s: LE / (T * (s**(16/3)))\n",
    "Qmax = lambda s: Vmax * ((np.pi / 8) * (s**2))\n",
    "\n",
    "\n",
    "alpha = m.addVars(G.edges, D, lb=0, name='alpha')\n",
    "beta = m.addVars(G.edges, D, lb=0, name='beta')\n",
    "\n",
    "\n",
    "alpha_2 = m.addConstrs((alpha[*e, s] >= Q[e] + d[*e, s] * Qmax(s) - ( Qmax(s)) for e in G.edges for s in D), name='alpha_2')\n",
    "alpha_3 = m.addConstrs((alpha[*e, s] <= Qmax(s) * d[*e, s] for e in G.edges for s in D), name='alpha_3')\n",
    "alpha_4 = m.addConstrs((alpha[*e, s] <= Q[e] for e in G.edges for s in D), name='alpha_4')\n",
    "alpha_5 = m.addConstrs((alpha[*e, s] <= Qmax(s) for e in G.edges for s in D), name='alpha_5')\n",
    "\n",
    "beta_2 = m.addConstrs((beta[*e, s] >= (Qmax(s) * Q[e]) + (Qmax(s) * alpha[*e, s]) - (Qmax(s)**2) for e in G.edges for s in D), name='beta_2')\n",
    "beta_3 = m.addConstrs((beta[*e, s] <= Qmax(s) * alpha[*e, s] for e in G.edges for s in D), name='beta_3')\n",
    "beta_4 = m.addConstrs((beta[*e, s] <= Qmax(s) * Q[e] for e in G.edges for s in D), name='beta_4')\n",
    "\n",
    "# manning_2 = m.addConstrs((el[e[1]] - el[e[0]] + gp.quicksum(P(LE[e], s) * beta[*e, s] for s in D) <= 0 for e in G.edges), name='manning_2')\n",
    "\n",
    "# ADDED THE BIG M THING HERE BUT IDK IF IT COULD BE IMPROVED\n",
    "manning_2 = m.addConstrs((el[e[1]] - el[e[0]] + gp.quicksum(P(LE[e], s) * beta[*e, s] for s in D) <= (1-z[e])*M for e in G.edges), name='manning_2')\n",
    "m.update()"
   ]
  },
  {
   "cell_type": "code",
   "execution_count": 8,
   "id": "9e128e26dde19055",
   "metadata": {
    "ExecuteTime": {
     "end_time": "2025-02-19T20:52:05.619203Z",
     "start_time": "2025-02-19T20:52:05.548534Z"
    }
   },
   "outputs": [
    {
     "name": "stdout",
     "output_type": "stream",
     "text": [
      "Model has 24985 variables and 38926 constraints.\n"
     ]
    }
   ],
   "source": [
    "# OBJECTIVE EPXR 1: TREATMENT COSTS\n",
    "\n",
    "treat_cost = gp.LinExpr()\n",
    "for j in treatment_nodes:\n",
    "    treat_cost.addTerms(TR, y[j])\n",
    "    for i in source_nodes:\n",
    "        treat_cost.addTerms(TRFlow * SR[i], x[i, j])\n",
    "\n",
    "# OBJECTIVE EXPR 2: EXCAVATION COSTS\n",
    "excav_cost_f = lambda u, v: gp.QuadExpr(CE * (((EL[u] - el[u]) + (EL[v] - el[v])) / 2) * LE[u, v] * gp.quicksum(s + ((2*W) * d[u, v, s]) for s in D))\n",
    "\n",
    "# OBJECTIVE EXPR 3: BEDDING COSTS\n",
    "bed_cost_f = lambda u, v: gp.LinExpr(CB * LE[u, v] * gp.quicksum(s + ((2*W) * d[u, v, s]) for s in D))\n",
    "# OBJECTIVE EXPR 4: PIPE COSTS\n",
    "pipe_cost_f = lambda u, v: gp.LinExpr(LE[u, v] * gp.quicksum(CP[s] * d[u, v, s] for s in D))\n",
    "\n",
    "excav_bed_cost = gp.quicksum(excav_cost_f(u, v) + bed_cost_f(u, v) + pipe_cost_f(u, v) for u, v in G.edges)\n",
    "\n",
    "# OBJECTIVE EXPR 5: RECOURSE TRUCKING\n",
    "\n",
    "rec_cost = gp.LinExpr()\n",
    "for i in source_nodes:\n",
    "    rec_cost.addTerms(CT, r[i])\n",
    "\n",
    "m.setObjective(treat_cost + excav_bed_cost + rec_cost, GRB.MINIMIZE)\n",
    "\n",
    "# m.setObjective(0, GRB.MINIMIZE)\n",
    "\n",
    "m.update()\n",
    "print(f\"Model has {m.NumVars} variables and {m.NumConstrs} constraints.\")"
   ]
  },
  {
   "cell_type": "code",
   "execution_count": 9,
   "id": "98cddf5b0cdf99f4",
   "metadata": {
    "ExecuteTime": {
     "end_time": "2025-02-19T20:57:00.534403Z",
     "start_time": "2025-02-19T20:52:08.509666Z"
    }
   },
   "outputs": [
    {
     "name": "stdout",
     "output_type": "stream",
     "text": [
      "Gurobi Optimizer version 11.0.3 build v11.0.3rc0 (win64 - Windows 11+.0 (26100.2))\n",
      "\n",
      "CPU model: 13th Gen Intel(R) Core(TM) i7-13700H, instruction set [SSE2|AVX|AVX2]\n",
      "Thread count: 14 physical cores, 20 logical processors, using up to 20 threads\n",
      "\n",
      "Optimize a model with 38926 rows, 24985 columns and 286316 nonzeros\n",
      "Model fingerprint: 0x1f9d0bc1\n",
      "Model has 6054 quadratic objective terms\n",
      "Variable types: 14060 continuous, 10925 integer (10925 binary)\n",
      "Coefficient statistics:\n",
      "  Matrix range     [2e-01, 1e+06]\n",
      "  Objective range  [2e+01, 1e+09]\n",
      "  QObjective range [3e+02, 5e+04]\n",
      "  Bounds range     [1e+00, 1e+00]\n",
      "  RHS range        [1e+00, 1e+06]\n",
      "Presolve removed 16481 rows and 4796 columns\n",
      "Presolve time: 2.80s\n",
      "Presolved: 28175 rows, 25919 columns, 262824 nonzeros\n",
      "Variable types: 15409 continuous, 10510 integer (10510 binary)\n",
      "Found heuristic solution: objective 2.694206e+09\n",
      "\n",
      "Deterministic concurrent LP optimizer: primal and dual simplex (primal and dual model)\n",
      "Showing primal log only...\n",
      "\n",
      "Root relaxation presolved: 67451 rows, 25130 columns, 300105 nonzeros\n",
      "\n",
      "\n",
      "Root simplex log...\n",
      "\n",
      "Iteration    Objective       Primal Inf.    Dual Inf.      Time\n",
      "       0    2.4070407e+09   7.159057e+02   3.790382e+10     10s\n",
      "    4989    6.8190132e+08   1.775943e+02   3.295560e+10     10s\n",
      "   18229    3.3873412e+07   0.000000e+00   5.857023e+12     15s\n",
      "   21052    1.0261333e+07   0.000000e+00   9.097885e+08     20s\n",
      "   24116    9.5391225e+06   0.000000e+00   6.358200e+09     25s\n",
      "   27066    9.2495964e+06   0.000000e+00   9.576858e+08     30s\n",
      "   30215    9.0177012e+06   0.000000e+00   8.814173e+09     35s\n",
      "   32661    8.9627961e+06   0.000000e+00   1.320995e+10     40s\n",
      "   35148    8.9109710e+06   0.000000e+00   5.867474e+08     45s\n",
      "   37725    8.8521105e+06   0.000000e+00   2.740274e+08     50s\n",
      "   40015    8.8380405e+06   0.000000e+00   1.220364e+10     55s\n",
      "   42135    8.8135275e+06   0.000000e+00   2.482459e+09     60s\n",
      "   44254    8.8019149e+06   0.000000e+00   1.380299e+08     65s\n",
      "   45954    8.7996576e+06   0.000000e+00   1.679382e+08     70s\n",
      "   47984    8.7655336e+06   0.000000e+00   3.626094e+08     75s\n",
      "   49924    8.7595651e+06   0.000000e+00   2.429909e+08     80s\n",
      "   52144    8.7351688e+06   0.000000e+00   2.558274e+08     85s\n",
      "   53934    8.7309926e+06   0.000000e+00   9.729641e+08     90s\n",
      "   55924    8.7061464e+06   0.000000e+00   6.234777e+07     95s\n",
      "   57854    8.7040579e+06   0.000000e+00   2.131895e+06    100s\n",
      "   59834    8.7029708e+06   0.000000e+00   1.421848e+07    105s\n",
      "   61591    6.4040491e+06   1.529701e+03   0.000000e+00    110s\n",
      "   62334    6.4043049e+06   0.000000e+00   0.000000e+00    112s\n",
      "   62334    6.4043049e+06   0.000000e+00   0.000000e+00    112s\n",
      "Concurrent spin time: 21.04s (can be avoided by choosing Method=3)\n",
      "\n",
      "Solved with dual simplex\n",
      "\n",
      "Root relaxation: objective 6.404305e+06, 64536 iterations, 123.83 seconds (52.24 work units)\n",
      "Total elapsed time = 132.94s (DegenMoves)\n",
      "\n",
      "    Nodes    |    Current Node    |     Objective Bounds      |     Work\n",
      " Expl Unexpl |  Obj  Depth IntInf | Incumbent    BestBd   Gap | It/Node Time\n",
      "\n",
      "     0     0 6404304.88    0 1546 2.6942e+09 6404304.88   100%     -  134s\n",
      "H    0     0                    2.694200e+09 6404304.88   100%     -  135s\n",
      "H    0     0                    2.685077e+09 8367778.50   100%     -  245s\n",
      "     0     0 8575920.39    0 1202 2.6851e+09 8575920.39   100%     -  258s\n",
      "     0     0 9132712.96    0 1366 2.6851e+09 9132712.96   100%     -  292s\n",
      "     0     0 9132712.96    0 1265 2.6851e+09 9132712.96   100%     -  304s\n",
      "H    0     0                    2.572775e+09 9132712.96   100%     -  306s\n",
      "     0     0 9132712.96    0 1338 2.5728e+09 9132712.96   100%     -  307s\n",
      "H    0     0                    1.264532e+09 9215217.09  99.3%     -  360s\n",
      "H    0     0                    1.101531e+09 9215217.09  99.2%     -  360s\n",
      "H    0     0                    8.081463e+08 9215217.09  98.9%     -  360s\n",
      "H    0     0                    6.995563e+08 9215217.09  98.7%     -  360s\n",
      "H    0     0                    1.270403e+08 9215217.09  92.7%     -  360s\n",
      "H    0     0                    1.269248e+08 9215217.09  92.7%     -  360s\n",
      "H    0     0                    1.269227e+08 9215217.09  92.7%     -  360s\n",
      "     0     0 9215217.09    0 1239 1.2692e+08 9215217.09  92.7%     -  364s\n",
      "H    0     0                    1.269154e+08 9215235.63  92.7%     -  364s\n",
      "H    0     0                    1.269131e+08 9215235.63  92.7%     -  365s\n",
      "H    0     0                    1.065136e+07 9259834.87  13.1%     -  374s\n",
      "     0     0 9259834.88    0 1218 1.0651e+07 9259834.88  13.1%     -  376s\n",
      "     0     0 9259835.21    0 1021 1.0651e+07 9259835.21  13.1%     -  377s\n",
      "     0     0 9263015.08    0  998 1.0651e+07 9263015.08  13.0%     -  380s\n",
      "     0     0 9409735.72    0  979 1.0651e+07 9409735.72  11.7%     -  403s\n",
      "H    0     0                    1.064189e+07 9414277.18  11.5%     -  405s\n",
      "H    0     0                    1.033680e+07 9414277.18  8.92%     -  405s\n",
      "     0     0 9432046.91    0 1106 1.0337e+07 9432046.91  8.75%     -  421s\n",
      "     0     0 9432046.91    0 1106 1.0337e+07 9432046.91  8.75%     -  422s\n",
      "     0     0 9508236.57    0  784 1.0337e+07 9508236.57  8.02%     -  438s\n",
      "     0     0 9508239.02    0  763 1.0337e+07 9508239.02  8.02%     -  438s\n",
      "H    0     0                    1.026899e+07 9509190.54  7.40%     -  441s\n",
      "H    0     0                    1.026587e+07 9509190.54  7.37%     -  442s\n",
      "     0     0 9514071.68    0  718 1.0266e+07 9514071.68  7.32%     -  447s\n",
      "     0     0 9514071.68    0  718 1.0266e+07 9514071.68  7.32%     -  448s\n",
      "     0     0 9543113.28    0  718 1.0266e+07 9543113.28  7.04%     -  464s\n",
      "H    0     0                    1.026027e+07 9545190.06  6.97%     -  469s\n",
      "     0     0 9550169.00    0  624 1.0260e+07 9550169.00  6.92%     -  473s\n",
      "H    0     0                    9922436.7831 9576536.53  3.49%     -  482s\n",
      "     0     0 9577266.19    0  594 9922436.78 9577266.19  3.48%     -  485s\n",
      "     0     0 9577281.33    0  560 9922436.78 9577281.33  3.48%     -  485s\n",
      "H    0     0                    9906633.8010 9578122.22  3.32%     -  488s\n",
      "     0     0 9579673.76    0  547 9906633.80 9579673.76  3.30%     -  489s\n",
      "     0     0 9590250.01    0  327 9906633.80 9590250.01  3.19%     -  494s\n",
      "H    0     0                    9887220.1333 9595265.57  2.95%     -  496s\n",
      "H    0     0                    9878983.5833 9595265.57  2.87%     -  497s\n",
      "     0     0 9595265.57    0  720 9878983.58 9595265.57  2.87%     -  501s\n",
      "     0     0 9595265.57    0  609 9878983.58 9595265.57  2.87%     -  502s\n",
      "H    0     0                    9876167.1402 9595265.57  2.84%     -  503s\n",
      "H    0     0                    9860185.7902 9615548.76  2.48%     -  508s\n",
      "H    0     0                    9832270.1547 9615548.76  2.20%     -  508s\n",
      "H    0     0                    9815032.3447 9615548.76  2.03%     -  508s\n",
      "H    0     0                    9812848.0348 9615548.76  2.01%     -  508s\n",
      "H    0     0                    9786941.6455 9615548.76  1.75%     -  508s\n",
      "     0     0 9615548.81    0  669 9786941.65 9615548.81  1.75%     -  509s\n",
      "     0     0 9615687.28    0  383 9786941.65 9615687.28  1.75%     -  511s\n",
      "H    0     0                    9761953.0134 9616745.13  1.49%     -  513s\n",
      "     0     0 9623597.33    0  452 9761953.01 9623597.33  1.42%     -  515s\n",
      "     0     0 9623597.57    0  420 9761953.01 9623597.57  1.42%     -  515s\n",
      "     0     0 9629497.24    0  408 9761953.01 9629497.24  1.36%     -  518s\n",
      "     0     0 9629497.34    0  403 9761953.01 9629497.34  1.36%     -  518s\n",
      "     0     0 9629498.14    0  395 9761953.01 9629498.14  1.36%     -  518s\n",
      "     0     0 9629818.59    0  390 9761953.01 9629818.59  1.35%     -  521s\n",
      "     0     0 9629818.59    0  712 9761953.01 9629818.59  1.35%     -  527s\n",
      "     0     0 9629818.59    0  569 9761953.01 9629818.59  1.35%     -  531s\n",
      "     0     0 9629818.59    0  366 9761953.01 9629818.59  1.35%     -  531s\n",
      "     0     0 9629818.59    0  371 9761953.01 9629818.59  1.35%     -  532s\n",
      "     0     0 9631253.94    0  316 9761953.01 9631253.94  1.34%     -  532s\n",
      "     0     0 9635148.53    0  331 9761953.01 9635148.53  1.30%     -  532s\n",
      "     0     0 9643177.47    0  221 9761953.01 9643177.47  1.22%     -  533s\n",
      "     0     0 9645991.47    0  353 9761953.01 9645991.47  1.19%     -  533s\n",
      "     0     0 9645991.47    0  340 9761953.01 9645991.47  1.19%     -  533s\n",
      "     0     0 9645991.47    0  318 9761953.01 9645991.47  1.19%     -  533s\n",
      "     0     0 9659888.84    0  138 9761953.01 9659888.84  1.05%     -  534s\n",
      "     0     0 9659888.84    0  138 9761953.01 9659888.84  1.05%     -  534s\n",
      "H    0     0                    9723320.8890 9660472.67  0.65%     -  535s\n",
      "     0     0 9660472.67    0  139 9723320.89 9660472.67  0.65%     -  535s\n",
      "     0     0 9663857.02    0  293 9723320.89 9663857.02  0.61%     -  536s\n",
      "     0     0 9663917.45    0  236 9723320.89 9663917.45  0.61%     -  536s\n",
      "     0     0 9663917.61    0  222 9723320.89 9663917.61  0.61%     -  536s\n",
      "     0     0 9665587.27    0  198 9723320.89 9665587.27  0.59%     -  537s\n",
      "     0     0 9665587.27    0  290 9723320.89 9665587.27  0.59%     -  537s\n",
      "     0     0 9665587.27    0  460 9723320.89 9665587.27  0.59%     -  539s\n",
      "     0     0 9665587.27    0  367 9723320.89 9665587.27  0.59%     -  540s\n",
      "     0     0 9665587.27    0  259 9723320.89 9665587.27  0.59%     -  541s\n",
      "     0     0 9665587.27    0  310 9723320.89 9665587.27  0.59%     -  541s\n",
      "     0     0 9665587.27    0  211 9723320.89 9665587.27  0.59%     -  541s\n",
      "     0     0 9669221.71    0  239 9723320.89 9669221.71  0.56%     -  541s\n",
      "     0     0 9669851.76    0  314 9723320.89 9669851.76  0.55%     -  542s\n",
      "     0     0 9671350.70    0   57 9723320.89 9671350.70  0.53%     -  542s\n",
      "H    0     0                    9683785.8465 9671847.84  0.12%     -  542s\n",
      "H    0     0                    9683130.1865 9671847.84  0.12%     -  543s\n",
      "     0     0 9671851.32    0  221 9683130.19 9671851.32  0.12%     -  543s\n",
      "     0     0 9671867.86    0  201 9683130.19 9671867.86  0.12%     -  543s\n",
      "     0     0 9674448.27    0  201 9683130.19 9674448.27  0.09%     -  543s\n",
      "     0     0 9674448.27    0  264 9683130.19 9674448.27  0.09%     -  544s\n",
      "     0     0 9674448.27    0  131 9683130.19 9674448.27  0.09%     -  544s\n",
      "     0     0 9674448.27    0  134 9683130.19 9674448.27  0.09%     -  544s\n",
      "     0     0 9674448.27    0  133 9683130.19 9674448.27  0.09%     -  544s\n",
      "     0     0 9675384.48    0   52 9683130.19 9675384.48  0.08%     -  544s\n",
      "     0     0 9676283.11    0   45 9683130.19 9676283.11  0.07%     -  545s\n",
      "     0     0 9677239.66    0   56 9683130.19 9677239.66  0.06%     -  545s\n",
      "     0     0 9677590.75    0   56 9683130.19 9677590.75  0.06%     -  545s\n",
      "     0     0 9677630.20    0   55 9683130.19 9677630.20  0.06%     -  545s\n",
      "H    0     0                    9681845.4065 9677630.20  0.04%     -  545s\n",
      "     0     0 9678483.60    0    7 9681845.41 9678483.60  0.03%     -  545s\n",
      "     0     0 9678483.60    0    7 9681845.41 9678483.60  0.03%     -  545s\n",
      "*    0     0               0    9680560.6265 9680560.63  0.00%     -  545s\n",
      "\n",
      "Cutting planes:\n",
      "  Learned: 33\n",
      "  Gomory: 17\n",
      "  Cover: 30\n",
      "  Implied bound: 162\n",
      "  Clique: 8\n",
      "  MIR: 137\n",
      "  StrongCG: 5\n",
      "  Flow cover: 131\n",
      "  GUB cover: 2\n",
      "  Network: 1\n",
      "  RLT: 55\n",
      "  Relax-and-lift: 37\n",
      "  BQP: 4\n",
      "\n",
      "Explored 1 nodes (186315 simplex iterations) in 545.46 seconds (224.22 work units)\n",
      "Thread count was 20 (of 20 available processors)\n",
      "\n",
      "Solution count 10: 9.68056e+06 9.68185e+06 9.68313e+06 ... 9.83227e+06\n",
      "\n",
      "Optimal solution found (tolerance 1.00e-04)\n",
      "Best objective 9.680560626475e+06, best bound 9.680560626475e+06, gap 0.0000%\n"
     ]
    }
   ],
   "source": [
    "# m.write(\"singleperiod_nocontext2.lp\")\n",
    "m.optimize()"
   ]
  },
  {
   "cell_type": "code",
   "execution_count": 16,
   "id": "134084f479529b4c",
   "metadata": {
    "ExecuteTime": {
     "end_time": "2025-02-19T16:33:43.034902Z",
     "start_time": "2025-02-19T16:33:43.015191Z"
    }
   },
   "outputs": [
    {
     "ename": "AttributeError",
     "evalue": "Unable to retrieve attribute 'X'",
     "output_type": "error",
     "traceback": [
      "\u001b[1;31m---------------------------------------------------------------------------\u001b[0m",
      "\u001b[1;31mAttributeError\u001b[0m                            Traceback (most recent call last)",
      "Cell \u001b[1;32mIn[16], line 2\u001b[0m\n\u001b[0;32m      1\u001b[0m \u001b[38;5;28;01mfor\u001b[39;00m v \u001b[38;5;129;01min\u001b[39;00m r:\n\u001b[1;32m----> 2\u001b[0m     \u001b[38;5;28;01mif\u001b[39;00m \u001b[43mr\u001b[49m\u001b[43m[\u001b[49m\u001b[43mv\u001b[49m\u001b[43m]\u001b[49m\u001b[38;5;241;43m.\u001b[39;49m\u001b[43mX\u001b[49m \u001b[38;5;241m>\u001b[39m \u001b[38;5;241m0\u001b[39m:\n\u001b[0;32m      3\u001b[0m         \u001b[38;5;28mprint\u001b[39m(r[v]\u001b[38;5;241m.\u001b[39mVarName, r[v]\u001b[38;5;241m.\u001b[39mX)\n",
      "File \u001b[1;32msrc\\\\gurobipy\\\\var.pxi:125\u001b[0m, in \u001b[0;36mgurobipy.Var.__getattr__\u001b[1;34m()\u001b[0m\n",
      "File \u001b[1;32msrc\\\\gurobipy\\\\var.pxi:153\u001b[0m, in \u001b[0;36mgurobipy.Var.getAttr\u001b[1;34m()\u001b[0m\n",
      "File \u001b[1;32msrc\\\\gurobipy\\\\attrutil.pxi:103\u001b[0m, in \u001b[0;36mgurobipy._getattr\u001b[1;34m()\u001b[0m\n",
      "\u001b[1;31mAttributeError\u001b[0m: Unable to retrieve attribute 'X'"
     ]
    }
   ],
   "source": [
    "for v in r:\n",
    "    if r[v].X > 0:\n",
    "        print(r[v].VarName, r[v].X)"
   ]
  },
  {
   "cell_type": "code",
   "execution_count": 11,
   "id": "74ecb3087a950124",
   "metadata": {},
   "outputs": [
    {
     "name": "stdout",
     "output_type": "stream",
     "text": [
      "Gurobi Optimizer version 11.0.3 build v11.0.3rc0 (win64 - Windows 11+.0 (26100.2))\n",
      "\n",
      "CPU model: 13th Gen Intel(R) Core(TM) i7-13700H, instruction set [SSE2|AVX|AVX2]\n",
      "Thread count: 14 physical cores, 20 logical processors, using up to 20 threads\n",
      "\n",
      "IIS computation: initial model status unknown, solving to determine model status\n",
      "Presolve removed 24416 rows and 7775 columns\n",
      "Presolve time: 1.78s\n",
      "Presolved: 14510 rows, 17210 columns, 180553 nonzeros\n",
      "Variable types: 9405 continuous, 7805 integer (7805 binary)\n",
      "Found heuristic solution: objective 3.543946e+08\n",
      "\n",
      "Explored 0 nodes (0 simplex iterations) in 2.35 seconds (1.05 work units)\n",
      "Thread count was 20 (of 20 available processors)\n",
      "\n",
      "Solution count 1: 3.54395e+08 \n",
      "\n",
      "Optimal solution found (tolerance 1.00e-04)\n",
      "Best objective 3.543945645197e+08, best bound 3.543945645197e+08, gap 0.0000%\n",
      "IIS runtime: 2.37 seconds (1.05 work units)\n"
     ]
    },
    {
     "ename": "GurobiError",
     "evalue": "Cannot compute IIS on a feasible model",
     "output_type": "error",
     "traceback": [
      "\u001b[1;31m---------------------------------------------------------------------------\u001b[0m",
      "\u001b[1;31mGurobiError\u001b[0m                               Traceback (most recent call last)",
      "Cell \u001b[1;32mIn[11], line 1\u001b[0m\n\u001b[1;32m----> 1\u001b[0m \u001b[43mm\u001b[49m\u001b[38;5;241;43m.\u001b[39;49m\u001b[43mcomputeIIS\u001b[49m\u001b[43m(\u001b[49m\u001b[43m)\u001b[49m\n\u001b[0;32m      3\u001b[0m \u001b[38;5;28;01mfor\u001b[39;00m c \u001b[38;5;129;01min\u001b[39;00m m\u001b[38;5;241m.\u001b[39mgetConstrs():\n\u001b[0;32m      4\u001b[0m     \u001b[38;5;28;01mif\u001b[39;00m c\u001b[38;5;241m.\u001b[39mIISConstr:\n",
      "File \u001b[1;32msrc\\\\gurobipy\\\\model.pxi:1005\u001b[0m, in \u001b[0;36mgurobipy.Model.computeIIS\u001b[1;34m()\u001b[0m\n",
      "\u001b[1;31mGurobiError\u001b[0m: Cannot compute IIS on a feasible model"
     ]
    }
   ],
   "source": [
    "m.computeIIS()\n",
    "\n",
    "for c in m.getConstrs():\n",
    "    if c.IISConstr:\n",
    "        print(f\"Constraint {c.ConstrName} is in the IIS\")\n",
    "\n",
    "for v in m.getVars():\n",
    "    if v.IISLB > 0:\n",
    "        print(f\"Lower bound of {v.VarName} is in the IIS\")\n",
    "    elif v.IISUB > 0:\n",
    "        print(f\"Upper bound of {v.VarName} is in the IIS\")\n"
   ]
  },
  {
   "cell_type": "code",
   "execution_count": 12,
   "id": "39250daf267b7e43",
   "metadata": {
    "ExecuteTime": {
     "end_time": "2025-02-19T16:34:10.066806Z",
     "start_time": "2025-02-19T16:34:09.955331Z"
    }
   },
   "outputs": [
    {
     "ename": "AttributeError",
     "evalue": "Unable to retrieve attribute 'X'",
     "output_type": "error",
     "traceback": [
      "\u001b[1;31m---------------------------------------------------------------------------\u001b[0m",
      "\u001b[1;31mAttributeError\u001b[0m                            Traceback (most recent call last)",
      "Cell \u001b[1;32mIn[12], line 2\u001b[0m\n\u001b[0;32m      1\u001b[0m \u001b[38;5;28;01mfor\u001b[39;00m v \u001b[38;5;129;01min\u001b[39;00m m\u001b[38;5;241m.\u001b[39mgetVars():\n\u001b[1;32m----> 2\u001b[0m     \u001b[38;5;28;01mif\u001b[39;00m \u001b[43mv\u001b[49m\u001b[38;5;241;43m.\u001b[39;49m\u001b[43mX\u001b[49m \u001b[38;5;241m>\u001b[39m \u001b[38;5;241m0\u001b[39m:\n\u001b[0;32m      3\u001b[0m         \u001b[38;5;28mprint\u001b[39m(v\u001b[38;5;241m.\u001b[39mVarName, v\u001b[38;5;241m.\u001b[39mX)\n",
      "File \u001b[1;32msrc\\\\gurobipy\\\\var.pxi:125\u001b[0m, in \u001b[0;36mgurobipy.Var.__getattr__\u001b[1;34m()\u001b[0m\n",
      "File \u001b[1;32msrc\\\\gurobipy\\\\var.pxi:153\u001b[0m, in \u001b[0;36mgurobipy.Var.getAttr\u001b[1;34m()\u001b[0m\n",
      "File \u001b[1;32msrc\\\\gurobipy\\\\attrutil.pxi:103\u001b[0m, in \u001b[0;36mgurobipy._getattr\u001b[1;34m()\u001b[0m\n",
      "\u001b[1;31mAttributeError\u001b[0m: Unable to retrieve attribute 'X'"
     ]
    }
   ],
   "source": [
    "for v in m.getVars():\n",
    "    if v.X > 0:\n",
    "        print(v.VarName, v.X)"
   ]
  },
  {
   "cell_type": "code",
   "execution_count": 13,
   "id": "93d1714a911526cb",
   "metadata": {
    "ExecuteTime": {
     "end_time": "2025-02-19T21:11:55.788832Z",
     "start_time": "2025-02-19T21:11:55.688964Z"
    }
   },
   "outputs": [
    {
     "ename": "AttributeError",
     "evalue": "Unable to retrieve attribute 'X'",
     "output_type": "error",
     "traceback": [
      "\u001b[1;31m---------------------------------------------------------------------------\u001b[0m",
      "\u001b[1;31mAttributeError\u001b[0m                            Traceback (most recent call last)",
      "Cell \u001b[1;32mIn[13], line 1\u001b[0m\n\u001b[1;32m----> 1\u001b[0m x_0 \u001b[38;5;241m=\u001b[39m \u001b[43m{\u001b[49m\u001b[38;5;28;43mstr\u001b[39;49m\u001b[43m(\u001b[49m\u001b[43mxv\u001b[49m\u001b[43m)\u001b[49m\u001b[43m \u001b[49m\u001b[43m:\u001b[49m\u001b[43m \u001b[49m\u001b[43mx\u001b[49m\u001b[43m[\u001b[49m\u001b[43mxv\u001b[49m\u001b[43m]\u001b[49m\u001b[38;5;241;43m.\u001b[39;49m\u001b[43mX\u001b[49m\u001b[43m \u001b[49m\u001b[38;5;28;43;01mfor\u001b[39;49;00m\u001b[43m \u001b[49m\u001b[43mxv\u001b[49m\u001b[43m \u001b[49m\u001b[38;5;129;43;01min\u001b[39;49;00m\u001b[43m \u001b[49m\u001b[43mx\u001b[49m\u001b[43m}\u001b[49m\n\u001b[0;32m      2\u001b[0m y_0 \u001b[38;5;241m=\u001b[39m {yv :     y[yv]\u001b[38;5;241m.\u001b[39mX \u001b[38;5;28;01mfor\u001b[39;00m yv \u001b[38;5;129;01min\u001b[39;00m y}\n\u001b[0;32m      3\u001b[0m z_0 \u001b[38;5;241m=\u001b[39m {\u001b[38;5;28mstr\u001b[39m(zv) : z[zv]\u001b[38;5;241m.\u001b[39mX \u001b[38;5;28;01mfor\u001b[39;00m zv \u001b[38;5;129;01min\u001b[39;00m z}\n",
      "Cell \u001b[1;32mIn[13], line 1\u001b[0m, in \u001b[0;36m<dictcomp>\u001b[1;34m(.0)\u001b[0m\n\u001b[1;32m----> 1\u001b[0m x_0 \u001b[38;5;241m=\u001b[39m {\u001b[38;5;28mstr\u001b[39m(xv) : \u001b[43mx\u001b[49m\u001b[43m[\u001b[49m\u001b[43mxv\u001b[49m\u001b[43m]\u001b[49m\u001b[38;5;241;43m.\u001b[39;49m\u001b[43mX\u001b[49m \u001b[38;5;28;01mfor\u001b[39;00m xv \u001b[38;5;129;01min\u001b[39;00m x}\n\u001b[0;32m      2\u001b[0m y_0 \u001b[38;5;241m=\u001b[39m {yv :     y[yv]\u001b[38;5;241m.\u001b[39mX \u001b[38;5;28;01mfor\u001b[39;00m yv \u001b[38;5;129;01min\u001b[39;00m y}\n\u001b[0;32m      3\u001b[0m z_0 \u001b[38;5;241m=\u001b[39m {\u001b[38;5;28mstr\u001b[39m(zv) : z[zv]\u001b[38;5;241m.\u001b[39mX \u001b[38;5;28;01mfor\u001b[39;00m zv \u001b[38;5;129;01min\u001b[39;00m z}\n",
      "File \u001b[1;32msrc\\\\gurobipy\\\\var.pxi:125\u001b[0m, in \u001b[0;36mgurobipy.Var.__getattr__\u001b[1;34m()\u001b[0m\n",
      "File \u001b[1;32msrc\\\\gurobipy\\\\var.pxi:153\u001b[0m, in \u001b[0;36mgurobipy.Var.getAttr\u001b[1;34m()\u001b[0m\n",
      "File \u001b[1;32msrc\\\\gurobipy\\\\attrutil.pxi:103\u001b[0m, in \u001b[0;36mgurobipy._getattr\u001b[1;34m()\u001b[0m\n",
      "\u001b[1;31mAttributeError\u001b[0m: Unable to retrieve attribute 'X'"
     ]
    }
   ],
   "source": [
    "x_0 = {str(xv) : x[xv].X for xv in x}\n",
    "y_0 = {yv :     y[yv].X for yv in y}\n",
    "z_0 = {str(zv) : z[zv].X for zv in z}\n",
    "\n",
    "d_0 = {str(dv) : d[dv].X for dv in d}\n",
    "el_0 = {elv:    el[elv].X for elv in el}"
   ]
  },
  {
   "cell_type": "code",
   "execution_count": null,
   "id": "a8332415e2e39335",
   "metadata": {
    "ExecuteTime": {
     "end_time": "2025-02-19T21:11:57.457180Z",
     "start_time": "2025-02-19T21:11:57.449833Z"
    }
   },
   "outputs": [],
   "source": [
    "import json"
   ]
  },
  {
   "cell_type": "code",
   "execution_count": null,
   "id": "940a516819c176fe",
   "metadata": {
    "ExecuteTime": {
     "end_time": "2025-02-19T21:11:58.181073Z",
     "start_time": "2025-02-19T21:11:58.128199Z"
    }
   },
   "outputs": [],
   "source": [
    "with open(\"x_sol.json\", \"w\") as f:\n",
    "    json.dump(x_0, f)"
   ]
  },
  {
   "cell_type": "code",
   "execution_count": null,
   "id": "a80f3c01961e4550",
   "metadata": {
    "ExecuteTime": {
     "end_time": "2025-02-19T21:11:58.912198Z",
     "start_time": "2025-02-19T21:11:58.879892Z"
    }
   },
   "outputs": [],
   "source": [
    "with open(\"z_sol.json\", \"w\") as f:\n",
    "    json.dump(z_0, f)\n",
    "\n",
    "with open(\"d_sol.json\", \"w\") as f:\n",
    "    json.dump(d_0, f)\n",
    "\n",
    "with open(\"el_sol.json\", \"w\") as f:\n",
    "    json.dump(el_0, f)"
   ]
  },
  {
   "cell_type": "code",
   "execution_count": 24,
   "id": "c953a80f0a09e9ad",
   "metadata": {},
   "outputs": [
    {
     "name": "stdout",
     "output_type": "stream",
     "text": [
      "I'm a model!\n"
     ]
    }
   ],
   "source": [
    "from processing import ModelOutput\n",
    "\n",
    "mo = ModelOutput(m)\n",
    "print(mo)"
   ]
  },
  {
   "cell_type": "code",
   "execution_count": null,
   "id": "8404fd33",
   "metadata": {},
   "outputs": [
    {
     "ename": "GurobiError",
     "evalue": "Unable to retrieve attribute 'X'",
     "output_type": "error",
     "traceback": [
      "\u001b[1;31m---------------------------------------------------------------------------\u001b[0m",
      "\u001b[1;31mGurobiError\u001b[0m                               Traceback (most recent call last)",
      "Cell \u001b[1;32mIn[33], line 1\u001b[0m\n\u001b[1;32m----> 1\u001b[0m \u001b[43mm\u001b[49m\u001b[38;5;241;43m.\u001b[39;49m\u001b[43mwrite\u001b[49m\u001b[43m(\u001b[49m\u001b[38;5;124;43m\"\u001b[39;49m\u001b[38;5;124;43moutput_expr.sol\u001b[39;49m\u001b[38;5;124;43m\"\u001b[39;49m\u001b[43m)\u001b[49m\n",
      "File \u001b[1;32msrc\\\\gurobipy\\\\model.pxi:1391\u001b[0m, in \u001b[0;36mgurobipy.Model.write\u001b[1;34m()\u001b[0m\n",
      "\u001b[1;31mGurobiError\u001b[0m: Unable to retrieve attribute 'X'"
     ]
    }
   ],
   "source": [
    "m.write(\"output_expr.sol\")"
   ]
  },
  {
   "cell_type": "code",
   "execution_count": 26,
   "id": "d5408bca",
   "metadata": {},
   "outputs": [
    {
     "ename": "AttributeError",
     "evalue": "Unable to retrieve attribute 'x'",
     "output_type": "error",
     "traceback": [
      "\u001b[1;31m---------------------------------------------------------------------------\u001b[0m",
      "\u001b[1;31mAttributeError\u001b[0m                            Traceback (most recent call last)",
      "Cell \u001b[1;32mIn[26], line 1\u001b[0m\n\u001b[1;32m----> 1\u001b[0m solution \u001b[38;5;241m=\u001b[39m \u001b[43m{\u001b[49m\u001b[43mvar\u001b[49m\u001b[38;5;241;43m.\u001b[39;49m\u001b[43mvarName\u001b[49m\u001b[43m:\u001b[49m\u001b[43m \u001b[49m\u001b[43mvar\u001b[49m\u001b[38;5;241;43m.\u001b[39;49m\u001b[43mx\u001b[49m\u001b[43m \u001b[49m\u001b[38;5;28;43;01mfor\u001b[39;49;00m\u001b[43m \u001b[49m\u001b[43mvar\u001b[49m\u001b[43m \u001b[49m\u001b[38;5;129;43;01min\u001b[39;49;00m\u001b[43m \u001b[49m\u001b[43mm\u001b[49m\u001b[38;5;241;43m.\u001b[39;49m\u001b[43mgetVars\u001b[49m\u001b[43m(\u001b[49m\u001b[43m)\u001b[49m\u001b[43m}\u001b[49m\n",
      "Cell \u001b[1;32mIn[26], line 1\u001b[0m, in \u001b[0;36m<dictcomp>\u001b[1;34m(.0)\u001b[0m\n\u001b[1;32m----> 1\u001b[0m solution \u001b[38;5;241m=\u001b[39m {var\u001b[38;5;241m.\u001b[39mvarName: \u001b[43mvar\u001b[49m\u001b[38;5;241;43m.\u001b[39;49m\u001b[43mx\u001b[49m \u001b[38;5;28;01mfor\u001b[39;00m var \u001b[38;5;129;01min\u001b[39;00m m\u001b[38;5;241m.\u001b[39mgetVars()}\n",
      "File \u001b[1;32msrc\\\\gurobipy\\\\var.pxi:125\u001b[0m, in \u001b[0;36mgurobipy.Var.__getattr__\u001b[1;34m()\u001b[0m\n",
      "File \u001b[1;32msrc\\\\gurobipy\\\\var.pxi:153\u001b[0m, in \u001b[0;36mgurobipy.Var.getAttr\u001b[1;34m()\u001b[0m\n",
      "File \u001b[1;32msrc\\\\gurobipy\\\\attrutil.pxi:103\u001b[0m, in \u001b[0;36mgurobipy._getattr\u001b[1;34m()\u001b[0m\n",
      "\u001b[1;31mAttributeError\u001b[0m: Unable to retrieve attribute 'x'"
     ]
    }
   ],
   "source": [
    "solution = {var.varName: var.x for var in m.getVars()}"
   ]
  },
  {
   "cell_type": "code",
   "execution_count": null,
   "id": "d4581866",
   "metadata": {},
   "outputs": [
    {
     "ename": "GurobiError",
     "evalue": "Can't import file 'solved_in_10.mps' into a model",
     "output_type": "error",
     "traceback": [
      "\u001b[1;31m---------------------------------------------------------------------------\u001b[0m",
      "\u001b[1;31mGurobiError\u001b[0m                               Traceback (most recent call last)",
      "Cell \u001b[1;32mIn[31], line 3\u001b[0m\n\u001b[0;32m      1\u001b[0m zombie \u001b[38;5;241m=\u001b[39m gp\u001b[38;5;241m.\u001b[39mModel(\u001b[38;5;124m\"\u001b[39m\u001b[38;5;124mZombie\u001b[39m\u001b[38;5;124m\"\u001b[39m)\n\u001b[1;32m----> 3\u001b[0m \u001b[43mzombie\u001b[49m\u001b[38;5;241;43m.\u001b[39;49m\u001b[43mread\u001b[49m\u001b[43m(\u001b[49m\u001b[38;5;124;43m\"\u001b[39;49m\u001b[38;5;124;43msolved_in_10.mps\u001b[39;49m\u001b[38;5;124;43m\"\u001b[39;49m\u001b[43m)\u001b[49m\n",
      "File \u001b[1;32msrc\\\\gurobipy\\\\model.pxi:1849\u001b[0m, in \u001b[0;36mgurobipy.Model.read\u001b[1;34m()\u001b[0m\n",
      "\u001b[1;31mGurobiError\u001b[0m: Can't import file 'solved_in_10.mps' into a model"
     ]
    }
   ],
   "source": [
    "zombie = gp.Model(\"Zombie\")\n",
    "\n",
    "zombie.read(\"solved_in_10.mps\")"
   ]
  }
 ],
 "metadata": {
  "kernelspec": {
   "display_name": "stone",
   "language": "python",
   "name": "python3"
  },
  "language_info": {
   "codemirror_mode": {
    "name": "ipython",
    "version": 3
   },
   "file_extension": ".py",
   "mimetype": "text/x-python",
   "name": "python",
   "nbconvert_exporter": "python",
   "pygments_lexer": "ipython3",
   "version": "3.11.4"
  }
 },
 "nbformat": 4,
 "nbformat_minor": 5
}
