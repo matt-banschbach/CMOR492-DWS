{
 "cells": [
  {
   "cell_type": "code",
   "execution_count": null,
   "id": "ec74dd71",
   "metadata": {},
   "outputs": [],
   "source": [
    "import optimization_model as opt"
   ]
  },
  {
   "cell_type": "code",
   "execution_count": null,
   "id": "c68193b4",
   "metadata": {},
   "outputs": [],
   "source": [
    "model = opt.DWSOptimizationModel(contextual=True, \n",
    "                                 x_context_filename=\"context/x_sol.json\", \n",
    "                                 y_context_filename=\"context/y_sol.json\", \n",
    "                                 z_context_filename=\"context/z_sol.json\", \n",
    "                                 a_context_filename=\"context/d_sol.json\", \n",
    "                                 el_context_filename=\"context/el_sol.json\")"
   ]
  }
 ],
 "metadata": {
  "kernelspec": {
   "display_name": "SeniorProject_env1",
   "language": "python",
   "name": "python3"
  },
  "language_info": {
   "name": "python",
   "version": "3.12.3"
  }
 },
 "nbformat": 4,
 "nbformat_minor": 5
}
