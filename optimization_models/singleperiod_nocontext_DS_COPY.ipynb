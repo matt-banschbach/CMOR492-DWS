{
 "cells": [
  {
   "cell_type": "code",
   "id": "initial_id",
   "metadata": {
    "collapsed": true,
    "ExecuteTime": {
     "end_time": "2025-02-11T21:08:57.219771Z",
     "start_time": "2025-02-11T21:08:51.085560Z"
    }
   },
   "source": [
    "import gurobipy as gp\n",
    "from gurobipy import GRB\n",
    "import networkx as nx\n",
    "# import osmnx as ox\n",
    "import numpy as np\n",
    "from itertools import product\n",
    "\n",
    "# import sys\n",
    "# sys.path.append('/Users/danielsuarez/Documents/Academic/Spring2025/SeniorDesign/CMOR492-DWS/')\n",
    "\n",
    "from network_construction.network import source_treatment, get_Utown\n",
    "\n"
   ],
   "outputs": [],
   "execution_count": 1
  },
  {
   "cell_type": "code",
   "id": "c2114a07669a9391",
   "metadata": {
    "ExecuteTime": {
     "end_time": "2025-02-11T21:12:28.313264Z",
     "start_time": "2025-02-11T21:12:28.269256Z"
    }
   },
   "source": [
    "G = get_Utown()\n",
    "source_nodes, treatment_nodes = source_treatment(G, 40)  # <-- Specify # starting points for treatment node algorithm"
   ],
   "outputs": [],
   "execution_count": 2
  },
  {
   "metadata": {
    "ExecuteTime": {
     "end_time": "2025-02-11T21:25:37.773806Z",
     "start_time": "2025-02-11T21:25:37.763892Z"
    }
   },
   "cell_type": "code",
   "source": "",
   "id": "2f19bfd5c0ea7e6a",
   "outputs": [
    {
     "data": {
      "text/plain": [
       "networkx.classes.digraph.DiGraph"
      ]
     },
     "execution_count": 7,
     "metadata": {},
     "output_type": "execute_result"
    }
   ],
   "execution_count": 7
  },
  {
   "metadata": {
    "ExecuteTime": {
     "end_time": "2025-02-11T21:13:25.717576Z",
     "start_time": "2025-02-11T21:13:25.706047Z"
    }
   },
   "cell_type": "code",
   "source": "G.edges[(59156807, 59162550)]",
   "id": "844c5532d1587e2a",
   "outputs": [
    {
     "data": {
      "text/plain": [
       "{'osmid': 7942860,\n",
       " 'name': 'Mc Gorkle Street',\n",
       " 'highway': 'residential',\n",
       " 'oneway': False,\n",
       " 'reversed': True,\n",
       " 'length': 41.891999999999996}"
      ]
     },
     "execution_count": 4,
     "metadata": {},
     "output_type": "execute_result"
    }
   ],
   "execution_count": 4
  },
  {
   "metadata": {},
   "cell_type": "code",
   "outputs": [],
   "execution_count": null,
   "source": "paths = nx.all_pairs_shortest_path(G, weight='length')",
   "id": "d321920098a28072"
  },
  {
   "metadata": {
    "ExecuteTime": {
     "end_time": "2025-02-11T21:30:23.434279Z",
     "start_time": "2025-02-11T21:30:23.425146Z"
    }
   },
   "cell_type": "code",
   "source": [
    "p0 = nx.shortest_path(G, source=59110295, target=59110295, weight='length')\n",
    "print(len(p0) - 1)\n",
    "print(nx.path_weight(G, p0, weight='length'))"
   ],
   "id": "176b879f2822b166",
   "outputs": [
    {
     "name": "stdout",
     "output_type": "stream",
     "text": [
      "0\n",
      "0\n"
     ]
    }
   ],
   "execution_count": 9
  },
  {
   "metadata": {
    "ExecuteTime": {
     "end_time": "2025-02-11T21:24:42.026333Z",
     "start_time": "2025-02-11T21:24:42.016803Z"
    }
   },
   "cell_type": "code",
   "source": "G.nodes[59110295] == G.nodes[59110295]",
   "id": "893ba5d4e8534d05",
   "outputs": [
    {
     "data": {
      "text/plain": [
       "True"
      ]
     },
     "execution_count": 6,
     "metadata": {},
     "output_type": "execute_result"
    }
   ],
   "execution_count": 6
  },
  {
   "cell_type": "code",
   "id": "e133f38e4866f8fe",
   "metadata": {
    "ExecuteTime": {
     "end_time": "2025-02-11T21:02:51.873542Z",
     "start_time": "2025-02-11T21:02:50.694939Z"
    }
   },
   "source": [
    "### MODEL PARAMETERS\n",
    "\n",
    "Path = {}  # Set of shortest paths from each source node i to each treatment node j\n",
    "NLinks = {}  # Number of edges in each path\n",
    "L = {}  # Length of each path (distance)\n",
    "\n",
    "\n",
    "for u, v in product(G.nodes, repeat=2):\n",
    "    path = nx.shortest_path(G, source=u, target=v, weight='length')\n",
    "    Path[u, v] = path\n",
    "    NLinks[u, v] = len(path) - 1\n",
    "    L[u, v] = nx.path_weight(G, path, weight='length')\n",
    "\n",
    "\n",
    "\n",
    "# TODO: What if we just make pipe size continuous/linear\n",
    "\n",
    "\n",
    "LE = {e: G.edges[e]['length'] for e in G.edges}  # Length of edge e\n",
    "EL = {v: G.nodes[v]['elevation'] for v in G.nodes}  # Elevation of node v\n",
    "\n",
    "\n",
    "D = [0.2, 0.25, 0.3, 0.35, 0.40, 0.45]  # Pipe diameters\n",
    "CP = {0.05: 8.7, 0.06: 9.5, 0.08: 11,\n",
    "                       0.1: 12.6, 0.15: 43.5, 0.2: 141,\n",
    "                       0.25: 151, 0.3: 161, 0.35: 180,\n",
    "                       0.4: 190, 0.45: 200}  # Cost per unit of pipe\n",
    "\n",
    "\n",
    "SR = {}  # Production at node u\n",
    "CAP = {}  # Treatment Capacity at node u if plant built\n",
    "\n",
    "\n",
    "for node in source_nodes:\n",
    "    G.nodes[node]['production'] = 0.05\n",
    "    SR[node] = 0.05\n",
    "\n",
    "\n",
    "total_flow = sum(SR.values())\n",
    "\n",
    "\n",
    "for node in treatment_nodes:\n",
    "    G.nodes[node]['capacity'] = 1000\n",
    "    CAP[node] = 1000\n",
    "\n",
    "\n",
    "Vmin = 0.6\n",
    "Vmax = 3\n",
    "\n",
    "CE = 25  # Cost of Excavation\n",
    "CB = 6  # Cost of Bedding\n",
    "TR = 44000  # Fixed Cost of Treatment Plant\n",
    "TRFlow = 100  # Variable Cost of Treatment\n",
    "PICost = 30\n",
    "\n",
    "# PF = {'0.05': 8.7, '0.06': 9.5, '0.08': 11,\n",
    "#                        '0.1': 12.6, '0.15': 43.5, '0.2': 141,\n",
    "#                        '0.25': 151, '0.3': 161, '0.35': 180,\n",
    "#                        '0.4': 190, '0.45': 200}  # Fixed Cost of Piping\n",
    "\n",
    "CT = 1000000000  # Cost of trucking\n",
    "M = 1e6\n",
    "\n",
    "Smin = 0.01\n",
    "Smax = 0.1\n",
    "W = 0.5  # Buffer Width\n"
   ],
   "outputs": [],
   "execution_count": 26
  },
  {
   "cell_type": "code",
   "id": "991500d7d60d1e36",
   "metadata": {
    "ExecuteTime": {
     "end_time": "2025-02-11T21:02:53.174077Z",
     "start_time": "2025-02-11T21:02:52.846753Z"
    }
   },
   "source": [
    "m = gp.Model()\n",
    "\n",
    "### DECISION VARIABLES\n",
    "\n",
    "x = m.addVars(Path.keys(), vtype=GRB.BINARY, name='x') # Assign node u to treatment node v\n",
    "y = m.addVars(G.nodes, vtype=GRB.BINARY, name='y')  # build treatment plant at node v\n",
    "z = m.addVars(G.edges, vtype=GRB.BINARY, name='z')  # edge e used\n",
    "d = m.addVars(G.edges, D, vtype=GRB.BINARY, name='d')  # Pipe size s at edge e\n",
    "\n",
    "r = m.addVars(G.nodes, vtype=GRB.CONTINUOUS, lb=0.0, name='r')  # flow handled at trucking at node u (recourse)\n",
    "\n",
    "Q = m.addVars(G.edges, vtype=GRB.CONTINUOUS, lb=0.0, name='Q')  # Flow in Edge e\n",
    "\n",
    "el = m.addVars(G.nodes, vtype=GRB.CONTINUOUS, name='el')  # Elevation at node u\n",
    "\n",
    "p = m.addVars(Path.keys(), vtype=GRB.CONTINUOUS, lb = 0.0, name='p') # Path flow\n",
    "\n",
    "m.update()"
   ],
   "outputs": [],
   "execution_count": 27
  },
  {
   "cell_type": "code",
   "id": "754aed131d585471",
   "metadata": {
    "ExecuteTime": {
     "end_time": "2025-02-11T21:03:02.689619Z",
     "start_time": "2025-02-11T21:02:55.027237Z"
    }
   },
   "source": [
    "### CONSTRAINTS\n",
    "\n",
    "# NODE PRODUCTION MINUS RECOURSE\n",
    "node_prod_rec = m.addConstrs((p[u, v] >= (SR[u] * x[u, v]) - r[u] for u, v in Path.keys()), name='node_prod_rec')\n",
    "\n",
    "# TREATMENT CAPACITY\n",
    "treat_cap = m.addConstrs((gp.quicksum(p[i, j] for i in source_nodes) <= CAP[j] * y[j] for j in treatment_nodes), name='treat_cap')\n",
    "\n",
    "#  NODE ASSIGNMENT\n",
    "node_assign = m.addConstrs((gp.quicksum(x[i, j] for j in treatment_nodes) >= 1 for i in source_nodes), name='node_assignment')\n",
    "\n",
    "# PIPE SIZING\n",
    "pipe_sizing = m.addConstrs((gp.quicksum(d[*e, s] for s in D) == z[e] for e in G.edges), name='pipe_sizing')  # ALWAYS BE SURE TO EXPAND e\n",
    "\n",
    "# TODO: Go through this with John\n",
    "# FLOW DEFINITION\n",
    "def is_sublist(short_list, long_list):\n",
    "    for i in range(len(long_list) - len(short_list) + 1):\n",
    "        if long_list[i:i + len(short_list)] == short_list:\n",
    "            return True\n",
    "    return False\n",
    "\n",
    "flow_def = m.addConstrs((Q[e] == gp.quicksum(p[i, j] for i, j in Path.keys() if is_sublist(list((e[0], e[1])),Path[i,j])) for e in G.edges), name='flow_def')\n",
    "\n",
    "\n",
    "# MIN/MAX SLOPE\n",
    "min_slope = m.addConstrs((el[e[0]] - el[e[1]] >= (LE[e] * Smin) - (M * (1 - z[e])) for e in G.edges), name='min_slope')\n",
    "max_slope = m.addConstrs((el[e[0]] - el[e[1]] <= (LE[e] * Smax) + (M * (1 - z[e])) for e in G.edges), name='max_slope')\n",
    "\n",
    "# FLOW VELOCITY LIMIT\n",
    "flow_vel = m.addConstrs((Q[e] <= Vmax * gp.quicksum((np.pi / 8) * (s**2) * (d[*e, s]) for s in D) for e in G.edges), name='flow_vel')\n",
    "\n",
    "# PIPES UNDERGROUND\n",
    "underground = m.addConstrs((el[i] <= EL[i] for i in source_nodes), name='underground')\n",
    "m.update()"
   ],
   "outputs": [],
   "execution_count": 28
  },
  {
   "metadata": {
    "ExecuteTime": {
     "end_time": "2025-02-11T21:03:02.882365Z",
     "start_time": "2025-02-11T21:03:02.698650Z"
    }
   },
   "cell_type": "code",
   "source": [
    "# EDGE ACTIVATION\n",
    "\n",
    "# TODO: Go through this with John 2\n",
    "# EDGE ACTIVATION\n",
    "ePath = {}  # Use this for Edge Activiation Constraint\n",
    "for e, p in Path.items():\n",
    "    ePath[e] = [(p[l - 1], p[l]) for l in range(1, len(p))]\n",
    "\n",
    "edge_activate = m.addConstrs((gp.quicksum(z[e] for e in ePath[i, j]) >= NLinks[i, j] * x[i, j] for i, j in Path), name='edge_activate')"
   ],
   "id": "3f2da17a18615ae2",
   "outputs": [],
   "execution_count": 29
  },
  {
   "cell_type": "code",
   "id": "37cb025c15dc02c4",
   "metadata": {
    "ExecuteTime": {
     "end_time": "2025-02-11T21:03:03.987020Z",
     "start_time": "2025-02-11T21:03:03.106381Z"
    }
   },
   "source": [
    "# ENVELOPES FOR MANNING\n",
    "\n",
    "T = 11.9879\n",
    "P = lambda LE, s: LE / (T * (s**(16/3)))\n",
    "Qmax = lambda s: Vmax * ((np.pi / 8) * (s**2))\n",
    "\n",
    "\n",
    "alpha = m.addVars(G.edges, D, lb=0, name='alpha')\n",
    "beta = m.addVars(G.edges, D, lb=0, name='beta')\n",
    "\n",
    "\n",
    "alpha_2 = m.addConstrs((alpha[*e, s] >= Q[e] + d[*e, s] * Qmax(s) - ( Qmax(s)) for e in G.edges for s in D), name='alpha_2')\n",
    "alpha_3 = m.addConstrs((alpha[*e, s] <= Qmax(s) * d[*e, s] for e in G.edges for s in D), name='alpha_3')\n",
    "alpha_4 = m.addConstrs((alpha[*e, s] <= Q[e] for e in G.edges for s in D), name='alpha_4')\n",
    "alpha_5 = m.addConstrs((alpha[*e, s] <= Qmax(s) for e in G.edges for s in D), name='alpha_5')\n",
    "\n",
    "beta_2 = m.addConstrs((beta[*e, s] >= (Qmax(s) * Q[e]) + (Qmax(s) * alpha[*e, s]) - (Qmax(s)**2) for e in G.edges for s in D), name='beta_2')\n",
    "beta_3 = m.addConstrs((beta[*e, s] <= Qmax(s) * alpha[*e, s] for e in G.edges for s in D), name='beta_3')\n",
    "beta_4 = m.addConstrs((beta[*e, s] <= Qmax(s) * Q[e] for e in G.edges for s in D), name='beta_4')\n",
    "\n",
    "# manning_2 = m.addConstrs((el[e[1]] - el[e[0]] + gp.quicksum(P(LE[e], s) * beta[*e, s] for s in D) <= 0 for e in G.edges), name='manning_2')\n",
    "\n",
    "# ADDED THE BIG M THING HERE BUT IDK IF IT COULD BE IMPROVED\n",
    "manning_2 = m.addConstrs((el[e[1]] - el[e[0]] + gp.quicksum(P(LE[e], s) * beta[*e, s] for s in D) <= (1-z[e])*M for e in G.edges), name='manning_2')\n",
    "m.update()"
   ],
   "outputs": [],
   "execution_count": 30
  },
  {
   "cell_type": "code",
   "execution_count": null,
   "id": "27df447735f9b5b3",
   "metadata": {},
   "outputs": [],
   "source": [
    "# # MANNING'S EQUATION\n",
    "#\n",
    "# # manning = m.addConstrs(\n",
    "# #     (LE[u, v, 0] * gp.quicksum(d_es[u, v, 0, s] * ((Q[u, v, 0]**2) / ((11.9879 * (s**(8/3)))**2)) for s in D)\n",
    "# #      <= el[u] - el[v] for u, v, _ in G.edges),\n",
    "# #     name=\"manning\")\n",
    "#\n",
    "\n",
    "# JOHN REFORMULATION\n",
    "# manning = m.addConstrs((LE[u, v, 0] * ((Q[u, v, 0] / (11.9879 * (s**2.6666667)))**2) <=\n",
    "#                         el[u] - el[v] + (M * (1 - d_es[u, v, 0, s])) for u, v, _ in G.edges for s in D),\n",
    "#                        name=\"manning\")\n",
    "\n",
    "# m.update()"
   ]
  },
  {
   "cell_type": "code",
   "id": "9e128e26dde19055",
   "metadata": {
    "ExecuteTime": {
     "end_time": "2025-02-11T21:03:07.239218Z",
     "start_time": "2025-02-11T21:03:07.072528Z"
    }
   },
   "source": [
    "### OBJECTIVE EPXR 1: TREATMENT COSTS\n",
    "\n",
    "treat_cost = gp.LinExpr()\n",
    "for j in treatment_nodes:\n",
    "    treat_cost.addTerms(TR, y[j])\n",
    "    for i in source_nodes:\n",
    "        treat_cost.addTerms(TRFlow * SR[i], x[i, j])\n",
    "\n",
    "# OBJECTIVE EXPR 2: EXCAVATION COSTS\n",
    "excav_cost_f = lambda u, v: gp.QuadExpr(CE * (((EL[u] - el[u]) + (EL[v] - el[v])) / 2) * LE[u, v] * gp.quicksum(s + ((2*W) * d[u, v, s]) for s in D))\n",
    "\n",
    "# OBJECTIVE EXPR 3: BEDDING COSTS\n",
    "bed_cost_f = lambda u, v: gp.LinExpr(CB * LE[u, v] * gp.quicksum(s + ((2*W) * d[u, v, s]) for s in D))\n",
    "# OBJECTIVE EXPR 4: PIPE COSTS\n",
    "pipe_cost_f = lambda u, v: gp.LinExpr(LE[u, v] * gp.quicksum(CP[s] * d[u, v, s] for s in D))\n",
    "\n",
    "excav_bed_cost = gp.quicksum(excav_cost_f(u, v) + bed_cost_f(u, v) + pipe_cost_f(u, v) for u, v in G.edges)\n",
    "\n",
    "# OBJECTIVE EXPR 5: RECOURSE TRUCKING\n",
    "\n",
    "rec_cost = gp.LinExpr()\n",
    "for i in source_nodes:\n",
    "    rec_cost.addTerms(CT, r[i])\n",
    "\n",
    "m.setObjective(treat_cost + excav_bed_cost + rec_cost, GRB.MINIMIZE)\n",
    "\n",
    "# m.setObjective(0, GRB.MINIMIZE)\n",
    "\n",
    "m.update()\n",
    "print(f\"Model has {m.NumVars} variables and {m.NumConstrs} constraints.\")"
   ],
   "outputs": [
    {
     "name": "stdout",
     "output_type": "stream",
     "text": [
      "Model has 17974 variables and 32093 constraints.\n"
     ]
    }
   ],
   "execution_count": 31
  },
  {
   "cell_type": "code",
   "id": "b9f2d75853bad476",
   "metadata": {
    "ExecuteTime": {
     "end_time": "2025-02-11T21:04:45.886299Z",
     "start_time": "2025-02-11T21:03:13.756159Z"
    }
   },
   "source": [
    "m.optimize()"
   ],
   "outputs": [
    {
     "name": "stdout",
     "output_type": "stream",
     "text": [
      "Gurobi Optimizer version 11.0.3 build v11.0.3rc0 (win64 - Windows 11+.0 (26100.2))\n",
      "\n",
      "CPU model: AMD Ryzen 7 5800HS with Radeon Graphics, instruction set [SSE2|AVX|AVX2]\n",
      "Thread count: 8 physical cores, 16 logical processors, using up to 16 threads\n",
      "\n",
      "Optimize a model with 32093 rows, 17974 columns and 180829 nonzeros\n",
      "Model fingerprint: 0x7437315c\n",
      "Model has 6054 quadratic objective terms\n",
      "Variable types: 10680 continuous, 7294 integer (7294 binary)\n",
      "Coefficient statistics:\n",
      "  Matrix range     [5e-02, 1e+06]\n",
      "  Objective range  [5e+00, 1e+09]\n",
      "  QObjective range [3e+02, 5e+04]\n",
      "  Bounds range     [1e+00, 1e+00]\n",
      "  RHS range        [2e-03, 1e+06]\n",
      "Presolve removed 16814 rows and 4886 columns\n",
      "Presolve time: 1.30s\n",
      "Presolved: 20697 rows, 18506 columns, 142461 nonzeros\n",
      "Variable types: 11635 continuous, 6871 integer (6871 binary)\n",
      "Found heuristic solution: objective 7.338846e+09\n",
      "Found heuristic solution: objective -7.24648e+10\n",
      "Found heuristic solution: objective -2.69652e+11\n",
      "\n",
      "Deterministic concurrent LP optimizer: primal and dual simplex (primal and dual model)\n",
      "Showing primal log only...\n",
      "\n",
      "Root relaxation presolved: 39145 rows, 18178 columns, 159822 nonzeros\n",
      "\n",
      "\n",
      "Root simplex log...\n",
      "\n",
      "Iteration    Objective       Primal Inf.    Dual Inf.      Time\n",
      "    9509   -3.4640356e+11   8.404531e+03   4.620785e+12      5s\n",
      "   23019   -2.8853479e+11   0.000000e+00   2.086373e+14     10s\n",
      "   27656   -2.9159949e+11   0.000000e+00   1.508832e+13     15s\n",
      "   32520   -3.2231234e+11   0.000000e+00   1.029385e+15     20s\n",
      "   36087   -3.4926692e+11   0.000000e+00   2.423096e+13     25s\n",
      "   39567   -3.5081665e+11   0.000000e+00   1.111510e+13     30s\n",
      "Concurrent spin time: 0.01s\n",
      "\n",
      "Solved with primal simplex\n",
      "\n",
      "Root relaxation: objective -3.515062e+11, 57075 iterations, 29.63 seconds (11.22 work units)\n",
      "Total elapsed time = 33.03s (DegenMoves)\n",
      "\n",
      "    Nodes    |    Current Node    |     Objective Bounds      |     Work\n",
      " Expl Unexpl |  Obj  Depth IntInf | Incumbent    BestBd   Gap | It/Node Time\n",
      "\n",
      "     0     0 -3.515e+11    0 2874 -2.697e+11 -3.515e+11  30.4%     -   34s\n",
      "H    0     0                    -3.25983e+11 -3.515e+11  7.83%     -   35s\n",
      "H    0     0                    -3.25983e+11 -3.515e+11  7.83%     -   35s\n",
      "H    0     0                    -3.26193e+11 -3.266e+11  0.13%     -   72s\n",
      "H    0     0                    -3.26193e+11 -3.266e+11  0.13%     -   72s\n",
      "H    0     0                    -3.26201e+11 -3.266e+11  0.13%     -   72s\n",
      "H    0     0                    -3.26372e+11 -3.266e+11  0.08%     -   72s\n",
      "H    0     0                    -3.26374e+11 -3.266e+11  0.08%     -   72s\n",
      "H    0     0                    -3.26379e+11 -3.266e+11  0.08%     -   72s\n",
      "H    0     0                    -3.26379e+11 -3.266e+11  0.08%     -   72s\n",
      "H    0     0                    -3.26380e+11 -3.266e+11  0.08%     -   72s\n",
      "H    0     0                    -3.26397e+11 -3.266e+11  0.07%     -   72s\n",
      "H    0     0                    -3.26405e+11 -3.266e+11  0.07%     -   72s\n",
      "H    0     0                    -3.26410e+11 -3.266e+11  0.07%     -   72s\n",
      "H    0     0                    -3.26410e+11 -3.266e+11  0.07%     -   72s\n",
      "H    0     0                    -3.26415e+11 -3.266e+11  0.07%     -   72s\n",
      "H    0     0                    -3.26415e+11 -3.266e+11  0.07%     -   72s\n",
      "H    0     0                    -3.26416e+11 -3.266e+11  0.07%     -   72s\n",
      "     0     0 -3.265e+11    0  727 -3.264e+11 -3.265e+11  0.01%     -   78s\n",
      "     0     0 -3.265e+11    0  724 -3.264e+11 -3.265e+11  0.01%     -   78s\n",
      "     0     0 -3.265e+11    0  724 -3.264e+11 -3.265e+11  0.01%     -   78s\n",
      "H    0     0                    -3.26416e+11 -3.265e+11  0.01%     -   79s\n",
      "H    0     0                    -3.26416e+11 -3.265e+11  0.01%     -   79s\n",
      "H    0     0                    -3.26416e+11 -3.265e+11  0.01%     -   79s\n",
      "H    0     0                    -3.26416e+11 -3.265e+11  0.01%     -   79s\n",
      "H    0     0                    -3.26416e+11 -3.265e+11  0.01%     -   79s\n",
      "H    0     0                    -3.26416e+11 -3.265e+11  0.01%     -   79s\n",
      "     0     0 -3.265e+11    0  700 -3.264e+11 -3.265e+11  0.01%     -   79s\n",
      "     0     0 -3.265e+11    0  700 -3.264e+11 -3.265e+11  0.01%     -   80s\n",
      "     0     0 -3.265e+11    0  699 -3.264e+11 -3.265e+11  0.01%     -   80s\n",
      "     0     0 -3.265e+11    0  699 -3.264e+11 -3.265e+11  0.01%     -   80s\n",
      "H    0     0                    -3.26416e+11 -3.265e+11  0.01%     -   81s\n",
      "     0     0 -3.265e+11    0  598 -3.264e+11 -3.265e+11  0.01%     -   82s\n",
      "     0     0 -3.265e+11    0 1279 -3.264e+11 -3.265e+11  0.01%     -   86s\n",
      "     0     0 -3.265e+11    0  683 -3.264e+11 -3.265e+11  0.01%     -   91s\n",
      "H    0     0                    -3.26416e+11 -3.265e+11  0.01%     -   91s\n",
      "H    0     0                    -3.26418e+11 -3.265e+11  0.01%     -   91s\n",
      "     0     0          -    0      -3.264e+11 -3.264e+11  0.01%     -   91s\n",
      "\n",
      "Cutting planes:\n",
      "  Learned: 24\n",
      "  Gomory: 10\n",
      "  Cover: 3\n",
      "  Implied bound: 217\n",
      "  Clique: 101\n",
      "  MIR: 266\n",
      "  Flow cover: 104\n",
      "  RLT: 480\n",
      "  Relax-and-lift: 30\n",
      "  BQP: 59\n",
      "\n",
      "Explored 1 nodes (114017 simplex iterations) in 92.06 seconds (33.51 work units)\n",
      "Thread count was 16 (of 16 available processors)\n",
      "\n",
      "Solution count 10: -3.26419e+11 -3.26418e+11 -3.26416e+11 ... -3.26416e+11\n",
      "\n",
      "Optimal solution found (tolerance 1.00e-04)\n",
      "Warning: max constraint violation (2.0147e-06) exceeds tolerance\n",
      "Best objective -3.264190943037e+11, best bound -3.264391114647e+11, gap 0.0061%\n"
     ]
    }
   ],
   "execution_count": 32
  },
  {
   "metadata": {
    "ExecuteTime": {
     "end_time": "2025-02-11T21:04:53.223724Z",
     "start_time": "2025-02-11T21:04:53.211304Z"
    }
   },
   "cell_type": "code",
   "source": [
    "for v in r:\n",
    "    if r[v].X > 0:\n",
    "        print(r[v].VarName, r[v].X)"
   ],
   "id": "134084f479529b4c",
   "outputs": [
    {
     "name": "stdout",
     "output_type": "stream",
     "text": [
      "r_59079200 0.05\n",
      "r_59079983 0.027439657444652012\n",
      "r_59079984 0.05\n",
      "r_59080764 0.05\n",
      "r_59080765 0.05\n",
      "r_59080775 0.05\n",
      "r_59081555 0.047058648087169884\n",
      "r_59081564 0.0075217479059686105\n",
      "r_59081605 0.05\n",
      "r_59081615 0.05\n",
      "r_59081625 0.05\n",
      "r_59081682 0.05\n",
      "r_59081782 0.0033521704859389365\n",
      "r_59081790 0.05\n",
      "r_59081840 0.05\n",
      "r_59081845 0.05\n",
      "r_59082151 0.05\n",
      "r_59082376 0.05\n",
      "r_59082984 0.05\n",
      "r_59084971 0.05\n",
      "r_59084975 0.05\n",
      "r_59084990 0.02643805509807655\n",
      "r_59090484 0.026438055098076556\n",
      "r_59091067 0.04839105766356029\n",
      "r_59091076 0.05\n",
      "r_59094292 0.026438055098076542\n",
      "r_59095026 0.0028761101961530915\n",
      "r_59095700 0.04829571420301461\n",
      "r_59095757 0.05\n",
      "r_59095758 0.05\n",
      "r_59096556 0.004834555477773124\n",
      "r_59096570 0.04804155471837998\n",
      "r_59096600 0.05\n",
      "r_59096602 0.05\n",
      "r_59097709 0.05\n",
      "r_59101042 0.05\n",
      "r_59101100 0.05\n",
      "r_59101385 0.05\n",
      "r_59101386 0.03640388704438444\n",
      "r_59101390 0.05\n",
      "r_59102119 0.05\n",
      "r_59103172 0.02620002495316497\n",
      "r_59103180 0.05\n",
      "r_59104191 0.05\n",
      "r_59105503 0.05\n",
      "r_59105510 0.04027219819860369\n",
      "r_59106124 0.05\n",
      "r_59106145 0.05\n",
      "r_59107322 0.026438055098076556\n",
      "r_59108226 0.05\n",
      "r_59108232 0.04827604628895765\n",
      "r_59108749 0.02643805509807655\n",
      "r_59108758 0.05\n",
      "r_59110213 0.05\n",
      "r_59110218 0.05\n",
      "r_59110286 0.05\n",
      "r_59110295 0.026438055098076556\n",
      "r_59110359 0.02643805509807655\n",
      "r_59110368 0.05\n",
      "r_59110431 0.05\n",
      "r_59112331 0.05\n",
      "r_59112334 0.05\n",
      "r_59112337 0.05\n",
      "r_59112339 0.05\n",
      "r_59112341 0.05\n",
      "r_59112347 0.05\n",
      "r_59112364 0.002876110196153102\n",
      "r_59112870 0.05\n",
      "r_59113454 0.05\n",
      "r_59113465 0.02643805509807655\n",
      "r_59113590 0.026438055098076556\n",
      "r_59115071 0.05\n",
      "r_59115076 0.05\n",
      "r_59115377 0.05\n",
      "r_59115384 0.05\n",
      "r_59116270 0.05\n",
      "r_59116275 0.05\n",
      "r_59116279 0.03969164910540849\n",
      "r_59116284 0.05\n",
      "r_59116286 0.05\n",
      "r_59116291 0.05\n",
      "r_59116298 0.05\n",
      "r_59116300 0.05\n",
      "r_59116306 0.05\n",
      "r_59116687 0.05\n",
      "r_59117099 0.05\n",
      "r_59117103 0.05\n",
      "r_59117109 0.05\n",
      "r_59117596 0.05\n",
      "r_59120062 0.05\n",
      "r_59120066 0.05\n",
      "r_59120109 0.04899839765342455\n",
      "r_59120113 0.05\n",
      "r_59121412 0.05\n",
      "r_59121420 0.05\n",
      "r_59123240 0.05\n",
      "r_59123246 0.05\n",
      "r_59123827 0.05\n",
      "r_59123873 0.05\n",
      "r_59123892 0.026438055098076545\n",
      "r_59123898 0.05\n",
      "r_59123905 0.05\n",
      "r_59123911 0.05\n",
      "r_59123919 0.04523939710213298\n",
      "r_59123924 0.05\n",
      "r_59123928 0.05\n",
      "r_59123932 0.05\n",
      "r_59123953 0.05\n",
      "r_59123966 0.002876110196153081\n",
      "r_59124248 0.04952393971021417\n",
      "r_59124459 0.024359924769322767\n",
      "r_59125598 0.05\n",
      "r_59125609 0.05\n",
      "r_59125613 0.05\n",
      "r_59125620 0.05\n",
      "r_59125630 0.05\n",
      "r_59125637 0.05\n",
      "r_59125639 0.05\n",
      "r_59125643 0.05\n",
      "r_59126151 0.05\n",
      "r_59126206 0.03674640599266806\n",
      "r_59127838 0.002876110196153081\n",
      "r_59128069 0.05\n",
      "r_59128098 0.03280760033238329\n",
      "r_59129053 0.05\n",
      "r_59129064 0.05\n",
      "r_59129073 0.05\n",
      "r_59129085 0.05\n",
      "r_59129094 0.05\n",
      "r_59129101 0.05\n",
      "r_59129518 0.05\n",
      "r_59129525 0.05\n",
      "r_59133185 0.05\n",
      "r_59133189 0.05\n",
      "r_59133192 0.05\n",
      "r_59133200 0.05\n",
      "r_59133203 0.05\n",
      "r_59133212 0.05\n",
      "r_59133318 0.05\n",
      "r_59138750 0.026200024953172762\n",
      "r_59140891 0.05\n",
      "r_59140912 0.05\n",
      "r_59140961 0.05\n",
      "r_59140975 0.05\n",
      "r_59143486 0.02667608524298034\n",
      "r_59145411 0.05\n",
      "r_59145427 0.004600063907195454\n",
      "r_59146257 0.05\n",
      "r_59146259 0.05\n",
      "r_59146263 0.05\n",
      "r_59146264 0.05\n",
      "r_59146308 0.05\n",
      "r_59146313 0.026438055098076556\n",
      "r_59147494 0.05\n",
      "r_59147540 0.05\n",
      "r_59153751 0.05\n",
      "r_59154485 0.05\n",
      "r_59154488 0.05\n",
      "r_59155649 0.02851618542683035\n",
      "r_59156807 0.05\n",
      "r_59158197 0.05\n",
      "r_59158861 0.05\n",
      "r_59158951 0.002876110196153081\n",
      "r_59161207 0.05\n",
      "r_59161664 0.002876110196153081\n",
      "r_59162550 0.05\n",
      "r_59168031 0.05\n",
      "r_59168033 0.05\n",
      "r_59168101 0.05\n",
      "r_3584201894 0.05\n",
      "r_4231830135 0.05\n",
      "r_9930785225 0.05\n",
      "r_9930802707 0.05\n",
      "r_9930802710 0.0028761101961531006\n",
      "r_9930802712 0.05\n",
      "r_9930802713 0.05\n",
      "r_9936649913 0.05\n",
      "r_9941438054 0.05\n"
     ]
    }
   ],
   "execution_count": 33
  },
  {
   "metadata": {},
   "cell_type": "code",
   "outputs": [],
   "execution_count": null,
   "source": "",
   "id": "906c0a7c478d0884"
  },
  {
   "cell_type": "code",
   "id": "74ecb3087a950124",
   "metadata": {
    "ExecuteTime": {
     "end_time": "2025-02-11T17:36:07.878103Z",
     "start_time": "2025-02-11T17:36:07.794148Z"
    }
   },
   "source": [
    "m.computeIIS()\n",
    "\n",
    "for c in m.getConstrs():\n",
    "    if c.IISConstr:\n",
    "        print(f\"Constraint {c.ConstrName} is in the IIS\")\n",
    "\n",
    "for v in m.getVars():\n",
    "    if v.IISLB > 0:\n",
    "        print(f\"Lower bound of {v.VarName} is in the IIS\")\n",
    "    elif v.IISUB > 0:\n",
    "        print(f\"Upper bound of {v.VarName} is in the IIS\")\n"
   ],
   "outputs": [
    {
     "name": "stdout",
     "output_type": "stream",
     "text": [
      "Constraint node_assign[9936649913] is in the IIS\n",
      "Constraint min_slope[9936649913,59112341] is in the IIS\n",
      "Constraint edge_activate[9936649913,59128065] is in the IIS\n",
      "Constraint edge_activate[9936649913,59116291] is in the IIS\n",
      "Constraint edge_activate[9936649913,9941438054] is in the IIS\n",
      "Constraint edge_activate[9936649913,59123881] is in the IIS\n",
      "Constraint edge_activate[9936649913,59117577] is in the IIS\n",
      "Constraint edge_activate[9936649913,59101385] is in the IIS\n",
      "Constraint edge_activate[9936649913,59091084] is in the IIS\n",
      "Constraint edge_activate[9936649913,59115372] is in the IIS\n",
      "Constraint edge_activate[9936649913,59153773] is in the IIS\n",
      "Constraint edge_activate[9936649913,59079983] is in the IIS\n",
      "Constraint edge_activate[9936649913,59146899] is in the IIS\n",
      "Constraint edge_activate[9936649913,59164150] is in the IIS\n",
      "Constraint edge_activate[9936649913,59118652] is in the IIS\n",
      "Constraint edge_activate[9936649913,59097341] is in the IIS\n",
      "Constraint edge_activate[9936649913,59081566] is in the IIS\n",
      "Constraint manning_2[59112341,9936649913] is in the IIS\n",
      "Lower bound of beta[59112341,9936649913,0.2] is in the IIS\n",
      "Lower bound of beta[59112341,9936649913,0.25] is in the IIS\n",
      "Lower bound of beta[59112341,9936649913,0.3] is in the IIS\n",
      "Lower bound of beta[59112341,9936649913,0.35] is in the IIS\n",
      "Lower bound of beta[59112341,9936649913,0.4] is in the IIS\n",
      "Lower bound of beta[59112341,9936649913,0.45] is in the IIS\n"
     ]
    }
   ],
   "execution_count": 92
  },
  {
   "cell_type": "code",
   "execution_count": null,
   "id": "39250daf267b7e43",
   "metadata": {},
   "outputs": [],
   "source": []
  }
 ],
 "metadata": {
  "kernelspec": {
   "display_name": "base",
   "language": "python",
   "name": "python3"
  },
  "language_info": {
   "codemirror_mode": {
    "name": "ipython",
    "version": 3
   },
   "file_extension": ".py",
   "mimetype": "text/x-python",
   "name": "python",
   "nbconvert_exporter": "python",
   "pygments_lexer": "ipython3",
   "version": "3.12.2"
  }
 },
 "nbformat": 4,
 "nbformat_minor": 5
}
