{
 "cells": [
  {
   "cell_type": "code",
   "execution_count": 1,
   "id": "caba5b9989af7c8a",
   "metadata": {
    "ExecuteTime": {
     "end_time": "2025-02-23T22:38:53.111922Z",
     "start_time": "2025-02-23T22:38:53.095922Z"
    }
   },
   "outputs": [],
   "source": [
    "import sys"
   ]
  },
  {
   "cell_type": "code",
   "execution_count": 2,
   "id": "5ed70b181884f07",
   "metadata": {
    "ExecuteTime": {
     "end_time": "2025-02-23T22:42:05.493675Z",
     "start_time": "2025-02-23T22:42:05.487243Z"
    }
   },
   "outputs": [],
   "source": [
    "# sys.path.append(\"C:\\\\Users\\mbans\\Desktop\\CMOR492-DWS\\DWS\")\n",
    "sys.path.append(\"D:\\\\Users\\\\gabri\\\\Documents\\\\Distributed Water System Modeling Spring 2025\\\\CMOR492-DWS\")"
   ]
  },
  {
   "cell_type": "code",
   "execution_count": 3,
   "id": "initial_id",
   "metadata": {
    "ExecuteTime": {
     "end_time": "2025-02-24T00:03:13.144419Z",
     "start_time": "2025-02-24T00:03:07.097410Z"
    },
    "collapsed": true
   },
   "outputs": [
    {
     "name": "stderr",
     "output_type": "stream",
     "text": [
      "D:\\Users\\gabri\\Documents\\Distributed Water System Modeling Spring 2025\\CMOR492-DWS\\network_construction\\network.py:12: SyntaxWarning: invalid escape sequence '\\m'\n",
      "  config.read('C:\\\\Users\\mbans\\Desktop\\CMOR492-DWS\\DWS\\config.ini')\n"
     ]
    }
   ],
   "source": [
    "import gurobipy as gp\n",
    "from gurobipy import GRB\n",
    "import networkx as nx\n",
    "import numpy as np\n",
    "from network_construction.network import source_treatment, get_Utown\n",
    "import json"
   ]
  },
  {
   "cell_type": "code",
   "execution_count": 4,
   "id": "db358b6848928b3e",
   "metadata": {
    "ExecuteTime": {
     "end_time": "2025-02-24T00:03:14.201493Z",
     "start_time": "2025-02-24T00:03:13.929340Z"
    }
   },
   "outputs": [],
   "source": [
    "G = get_Utown()\n",
    "source_nodes, treatment_nodes = source_treatment(G)"
   ]
  },
  {
   "cell_type": "code",
   "execution_count": 5,
   "id": "9093280aa7f884e4",
   "metadata": {
    "ExecuteTime": {
     "end_time": "2025-02-24T00:03:16.832673Z",
     "start_time": "2025-02-24T00:03:14.816867Z"
    }
   },
   "outputs": [],
   "source": [
    "### MODEL PARAMETERS\n",
    "\n",
    "# TODO: What if we just make pipe size continuous/linear\n",
    "\n",
    "Path = {}  # Set of shortest paths from each source node i to each treatment node j\n",
    "NLinks = {}  # Number of edges in each path\n",
    "L = {}  # Length of each path (distance)\n",
    "\n",
    "for i in source_nodes:\n",
    "    for j in treatment_nodes:\n",
    "        path = nx.shortest_path(G, source=i, target=j, weight='length')\n",
    "        Path[i, j] = path\n",
    "        NLinks[i, j] = len(path)-1\n",
    "        L[i, j] = nx.path_weight(G, path, weight='length')\n",
    "LE = {e: G.edges[e]['length'] for e in G.edges}  # Length of edge e\n",
    "EL = {v: G.nodes[v]['elevation'] for v in G.nodes}  # Elevation of node v\n",
    "\n",
    "\n",
    "D = [0.2, 0.25, 0.3, 0.35, 0.40, 0.45]  # Pipe diameters\n",
    "CP = {0.05: 8.7, 0.06: 9.5, 0.08: 11,\n",
    "                       0.1: 12.6, 0.15: 43.5, 0.2: 141,\n",
    "                       0.25: 151, 0.3: 161, 0.35: 180,\n",
    "                       0.4: 190, 0.45: 200}  # Cost per unit of pipe\n",
    "\n",
    "\n",
    "SR = {}  # Production at Source node i\n",
    "CAP = {}  # Capacity at treatment node j\n",
    "\n",
    "for node in source_nodes:\n",
    "    G.nodes[node]['production'] = .17 * 2\n",
    "    SR[node] = .17 * 2\n",
    "\n",
    "total_flow = sum(SR.values())\n",
    "\n",
    "for node in treatment_nodes:\n",
    "    G.nodes[node]['capacity'] = 100\n",
    "    CAP[node] = 100\n",
    "\n",
    "Vmin = 0.6 * 60\n",
    "Vmax = 3 * 60\n",
    "\n",
    "CE = 25  # Cost of Excavation\n",
    "CB = 6  # Cost of Bedding\n",
    "TR = 44000  # Fixed Cost of Treatment Plant\n",
    "TRFlow = 100  # Variable Cost of Treatment\n",
    "PICost = 30\n",
    "\n",
    "PF = {'0.05': 8.7, '0.06': 9.5, '0.08': 11,\n",
    "                       '0.1': 12.6, '0.15': 43.5, '0.2': 141,\n",
    "                       '0.25': 151, '0.3': 161, '0.35': 180,\n",
    "                       '0.4': 190, '0.45': 200}  # Fixed Cost of Piping\n",
    "\n",
    "CT = 1000000000  # Cost of trucking\n",
    "M = 1e6\n",
    "\n",
    "Smin = 0.01\n",
    "Smax = 0.1\n",
    "W = 0.5  # Buffer Width\n",
    "\n",
    "T = [0, 1]"
   ]
  },
  {
   "cell_type": "code",
   "execution_count": 6,
   "id": "8fbe49f0008957c8",
   "metadata": {
    "ExecuteTime": {
     "end_time": "2025-02-24T00:03:17.740082Z",
     "start_time": "2025-02-24T00:03:17.431765Z"
    }
   },
   "outputs": [],
   "source": [
    "import ast\n",
    "\n",
    "### T=0 PARAMETERS\n",
    "\n",
    "with (open(\"context/x_sol.json\", \"r\") as f):\n",
    "    x_0 = {ast.literal_eval(k): v for k, v in json.load(f).items()}\n",
    "\n",
    "with open(\"context/y_sol.json\", \"r\") as f:\n",
    "    y_0 = {ast.literal_eval(k): v for k, v in json.load(f).items()}\n",
    "\n",
    "with open(\"context/z_sol.json\", \"r\") as f:\n",
    "    z_0 = {ast.literal_eval(k): v for k, v in json.load(f).items()}\n",
    "\n",
    "with open(\"context/d_sol.json\", \"r\") as f:\n",
    "    d_0 = {ast.literal_eval(k): v for k, v in json.load(f).items()}\n",
    "\n",
    "with open(\"context/el_sol.json\", \"r\") as f:\n",
    "    el_0 = {ast.literal_eval(k): v for k, v in json.load(f).items()}\n"
   ]
  },
  {
   "cell_type": "code",
   "execution_count": 7,
   "id": "7a2963920def0af9",
   "metadata": {
    "ExecuteTime": {
     "end_time": "2025-02-24T00:03:19.523648Z",
     "start_time": "2025-02-24T00:03:19.236152Z"
    }
   },
   "outputs": [
    {
     "name": "stdout",
     "output_type": "stream",
     "text": [
      "Set parameter Username\n",
      "Academic license - for non-commercial use only - expires 2025-10-17\n"
     ]
    }
   ],
   "source": [
    "m = gp.Model()\n",
    "\n",
    "x = m.addVars(Path.keys(), T, vtype=GRB.BINARY, name='x')  # Path ij used\n",
    "y = m.addVars(treatment_nodes, T, vtype=GRB.BINARY, name='y')  # treatment at node j\n",
    "z = m.addVars(G.edges, T, vtype=GRB.BINARY, name='z')  # edge e used\n",
    "\n",
    "d = m.addVars(G.edges, D, T, vtype=GRB.BINARY, name='d')  # Pipe size s at edge e\n",
    "\n",
    "a = m.addVars(G.edges, D, vtype=GRB.BINARY, name='a')\n",
    "\n",
    "r = m.addVars(source_nodes, vtype=GRB.CONTINUOUS, lb=0.0, name='r')  # flow handled at trucking at edge e\n",
    "\n",
    "Q = m.addVars(G.edges, vtype=GRB.CONTINUOUS, lb=0.0, name='Q')  # Flow in Edge e\n",
    "\n",
    "el = m.addVars(G.nodes, T, vtype=GRB.CONTINUOUS, name='el')  # Elevation at node el_v\n",
    "\n",
    "p = m.addVars(Path.keys(), vtype=GRB.CONTINUOUS, lb = 0.0, name='p')\n",
    "\n",
    "c = m.addVars(G.nodes, vtype=GRB.BINARY, name='c')\n",
    "\n",
    "m.update()"
   ]
  },
  {
   "cell_type": "code",
   "execution_count": 8,
   "id": "73889fa4f707078",
   "metadata": {
    "ExecuteTime": {
     "end_time": "2025-02-24T00:03:20.634127Z",
     "start_time": "2025-02-24T00:03:20.348800Z"
    }
   },
   "outputs": [],
   "source": [
    "x_0_c = m.addConstrs((x[i, j, 0] == x_0[i, j] for i, j in Path.keys()), name='x_0')\n",
    "\n",
    "y_0_c = m.addConstrs((y[j, 0] == y_0[j] for j in treatment_nodes), name='y_0')\n",
    "\n",
    "z_0_c = m.addConstrs((z[*e, 0] == z_0[e] for e in G.edges), name='z_0')\n",
    "\n",
    "d_0_c = m.addConstrs((d[*e, s, 0] == d_0[*e, s] for e in G.edges for s in D), name='d_0')\n",
    "\n",
    "el_0_c = m.addConstrs((el[u, 0] == el_0[u] for u in G.nodes), name='el_0')"
   ]
  },
  {
   "cell_type": "code",
   "execution_count": null,
   "id": "daa8495301b3830b",
   "metadata": {
    "ExecuteTime": {
     "end_time": "2025-02-24T00:03:35.689563Z",
     "start_time": "2025-02-24T00:03:21.762045Z"
    }
   },
   "outputs": [],
   "source": [
    "### CONSTRAINTS\n",
    "\n",
    "# NODE PRODUCTION MINUS RECOURSE\n",
    "node_prod_rec = m.addConstrs((p[i, j] >= (SR[i] * x[i, j, 1]) - r[i] for i, j in Path.keys()), name='node_prod_rec')\n",
    "\n",
    "# TREATMENT CAPACITY\n",
    "treat_cap = m.addConstrs((gp.quicksum(p[i, j] for i in source_nodes) <= CAP[j] * y[j, 1] for j in treatment_nodes), name='treat_cap')\n",
    "\n",
    "#  NODE ASSIGNMENT\n",
    "node_assign = m.addConstrs((gp.quicksum(x[i, j, 1] for j in treatment_nodes) == 1 for i in source_nodes), name='node_assign')\n",
    "\n",
    "# EDGE ACTIVATION\n",
    "ePath = {}  # Use this for Edge Activiation Constraint\n",
    "for e, p_ in Path.items():\n",
    "    ePath[e] = [(p_[l - 1], p_[l]) for l in range(1, len(p_))]\n",
    "\n",
    "edge_activate = m.addConstrs((gp.quicksum(z[*e, 1] for e in ePath[i, j]) >= NLinks[i, j] * x[i, j, 1] for i, j in Path), name='edge_activate')\n",
    "\n",
    "# FLOW DEFINITION\n",
    "def is_sublist(short_list, long_list):\n",
    "    for i in range(len(long_list) - len(short_list) + 1):\n",
    "        if long_list[i:i + len(short_list)] == short_list:\n",
    "            return True\n",
    "    return False\n",
    "\n",
    "flow_def = m.addConstrs((Q[e] == gp.quicksum(p[i, j] for i, j in Path.keys() if is_sublist(list((e[0], e[1])),Path[i,j])) for e in G.edges), name='flow_def')\n"
   ]
  },
  {
   "cell_type": "code",
   "execution_count": 15,
   "id": "ca14bf53c694e9e5",
   "metadata": {
    "ExecuteTime": {
     "end_time": "2025-02-24T00:03:37.082102Z",
     "start_time": "2025-02-24T00:03:35.978843Z"
    }
   },
   "outputs": [],
   "source": [
    "# PIPE SIZING\n",
    "pipe_sizing1 = m.addConstrs((gp.quicksum(a[*e, s] for s in D) == z[*e, 1] for e in G.edges), name='pipe_size_a')\n",
    "pipe_sizing2 = m.addConstrs((gp.quicksum(d[*e, s, 1] for s in D) <= 1 for e in G.edges), name='pipe_sizing_d')\n",
    "\n",
    "# a-Constraint\n",
    "a_constraint = m.addConstrs((a[*e, s] == d[*e, s, 1] + d_0[*e, s] for e in G.edges for s in D), name='a_constraint')\n",
    "\n",
    "# NODE ELEVATION CHANGE\n",
    "node_elevation1 = m.addConstrs((gp.quicksum(d[*e, s, 1] for s in D) >= (0.5 * (c[e[0]] - c[e[1]])) + (z[*e, 1] - 1) for e in G.edges), name='node_elevation1')\n",
    "cu_cons1 = m.addConstrs((c[u] >= (el[u, 1] - el_0[u]) / M for u in G.nodes), name='cu_cons1')\n",
    "cu_cons2 = m.addConstrs((c[u] >= (el_0[u] - el[u, 1]) / M for u in G.nodes), name='cu_cons2')\n",
    "\n",
    "# MIN/MAX SLOPE\n",
    "min_slope = m.addConstrs((el[e[0], 1] - el[e[1], 1] >= (LE[e] * Smin) - (M * (1 - z[*e, 1])) for e in G.edges), name='min_slope')\n",
    "max_slope = m.addConstrs((el[e[0], 1] - el[e[1], 1] <= (LE[e] * Smax) + (M * (1 - z[*e, 1])) for e in G.edges), name='max_slope')\n",
    "\n",
    "# FLOW VELOCITY LIMIT\n",
    "flow_vel = m.addConstrs((Q[e] <= Vmax * gp.quicksum((np.pi / 8) * (s**2) * (a[*e, s]) for s in D) for e in G.edges), name='flow_vel')\n",
    "\n",
    "# BELOW GROUND PIPES\n",
    "underground = m.addConstrs((el[u, 1] <= EL[u] for u in G.nodes), name='underground')\n",
    "\n",
    "# TREATMENT CONTINUITY\n",
    "treatment_cont = m.addConstrs((y_0[j] <= y[j, 1] for j in treatment_nodes), name='treatment_cont')\n",
    "\n",
    "# ENVELOPES FOR MANNING\n",
    "\n",
    "T_ = 11.9879\n",
    "P = lambda LE, s: LE / (T_ * (s**(16/3)))\n",
    "Qmax = lambda s: Vmax * ((np.pi / 8) * (s**2))\n",
    "\n",
    "\n",
    "alpha = m.addVars(G.edges, D, lb=0, name='alpha')\n",
    "beta = m.addVars(G.edges, D, lb=0, name='beta')\n",
    "\n",
    "\n",
    "alpha_2 = m.addConstrs((alpha[*e, s] >= Q[e] + a[*e, s] * Qmax(s) - ( Qmax(s)) for e in G.edges for s in D), name='alpha_2')\n",
    "alpha_3 = m.addConstrs((alpha[*e, s] <= Qmax(s) * a[*e, s] for e in G.edges for s in D), name='alpha_3')\n",
    "alpha_4 = m.addConstrs((alpha[*e, s] <= Q[e] for e in G.edges for s in D), name='alpha_4')\n",
    "alpha_5 = m.addConstrs((alpha[*e, s] <= Qmax(s) for e in G.edges for s in D), name='alpha_5')\n",
    "\n",
    "beta_2 = m.addConstrs((beta[*e, s] >= (Qmax(s) * Q[e]) + (Qmax(s) * alpha[*e, s]) - (Qmax(s)**2) for e in G.edges for s in D), name='beta_2')\n",
    "beta_3 = m.addConstrs((beta[*e, s] <= Qmax(s) * alpha[*e, s] for e in G.edges for s in D), name='beta_3')\n",
    "beta_4 = m.addConstrs((beta[*e, s] <= Qmax(s) * Q[e] for e in G.edges for s in D), name='beta_4')\n",
    "\n",
    "manning_2 = m.addConstrs((el[e[1], 1] - el[e[0], 1] + gp.quicksum(P(LE[e], s) * beta[*e, s] for s in D) <= (1-z[*e, 1]) * M for e in G.edges), name='manning_2')\n",
    "m.update()"
   ]
  },
  {
   "cell_type": "code",
   "execution_count": 16,
   "id": "e9b9356552d1b5bb",
   "metadata": {
    "ExecuteTime": {
     "end_time": "2025-02-24T00:03:37.235732Z",
     "start_time": "2025-02-24T00:03:37.094195Z"
    }
   },
   "outputs": [
    {
     "name": "stdout",
     "output_type": "stream",
     "text": [
      "Model has 38940 variables and 54336 constraints.\n"
     ]
    }
   ],
   "source": [
    "# OBJECTIVE EPXR 1: TREATMENT COSTS\n",
    "\n",
    "treat_cost = gp.LinExpr()\n",
    "for j in treatment_nodes:\n",
    "    treat_cost.addTerms(TR, y[j, 1])\n",
    "    treat_cost.addTerms(-1*TR, y[j, 0])\n",
    "    for i in source_nodes:\n",
    "        treat_cost.addTerms(TRFlow * SR[i], x[i, j, 1])\n",
    "\n",
    "\n",
    "# OBJECTIVE EXPR 2: EXCAVATION COSTS\n",
    "excav_cost_f = lambda u, v: gp.QuadExpr(CE * (((EL[u] - el[u, 1]) + (EL[v] - el[v, 1])) / 2) * LE[u, v] * gp.quicksum(s + ((2*W) * d[u, v, s, 1]) for s in D))\n",
    "\n",
    "\n",
    "\n",
    "# OBJECTIVE EXPR 3: BEDDING COSTS\n",
    "bed_cost_f = lambda u, v: gp.LinExpr(CB * LE[u, v] * gp.quicksum(s + ((2*W) * d[u, v, s, 1]) for s in D))\n",
    "\n",
    "\n",
    "# OBJECTIVE EXPR 4: PIPE COSTS\n",
    "pipe_cost_f = lambda u, v: gp.LinExpr(LE[u, v] * gp.quicksum(CP[s] * d[u, v, s, 1] for s in D))\n",
    "\n",
    "excav_bed_cost = gp.quicksum(excav_cost_f(u, v) + bed_cost_f(u, v) + pipe_cost_f(u, v) for u, v in G.edges)\n",
    "\n",
    "\n",
    "\n",
    "# OBJECTIVE EXPR 5: RECOURSE TRUCKING\n",
    "rec_cost = gp.LinExpr()\n",
    "for i in source_nodes:\n",
    "    rec_cost.addTerms(CT, r[i])\n",
    "\n",
    "m.setObjective(treat_cost + excav_bed_cost + rec_cost, GRB.MINIMIZE)\n",
    "\n",
    "print(f\"Model has {m.NumVars} variables and {m.NumConstrs} constraints.\")\n",
    "# m.setObjective(0, GRB.MINIMIZE)\n",
    "m.update()"
   ]
  },
  {
   "cell_type": "code",
   "execution_count": 17,
   "id": "35dcbbd044aa4c74",
   "metadata": {
    "ExecuteTime": {
     "end_time": "2025-02-24T00:03:55.710711Z",
     "start_time": "2025-02-24T00:03:41.190170Z"
    }
   },
   "outputs": [
    {
     "name": "stdout",
     "output_type": "stream",
     "text": [
      "Gurobi Optimizer version 11.0.3 build v11.0.3rc0 (win64 - Windows 11+.0 (26100.2))\n",
      "\n",
      "CPU model: AMD Ryzen 7 5800HS with Radeon Graphics, instruction set [SSE2|AVX|AVX2]\n",
      "Thread count: 8 physical cores, 16 logical processors, using up to 16 threads\n",
      "\n",
      "Optimize a model with 54336 rows, 38940 columns and 311717 nonzeros\n",
      "Model fingerprint: 0xddb8f2dc\n",
      "Model has 6054 quadratic objective terms\n",
      "Variable types: 14259 continuous, 24681 integer (24681 binary)\n",
      "Coefficient statistics:\n",
      "  Matrix range     [1e-06, 1e+06]\n",
      "  Objective range  [3e+01, 1e+09]\n",
      "  QObjective range [3e+02, 5e+04]\n",
      "  Bounds range     [1e+00, 1e+00]\n",
      "  RHS range        [7e-05, 1e+06]\n",
      "Presolve removed 48774 rows and 34159 columns\n",
      "Presolve time: 1.17s\n",
      "Presolved: 7890 rows, 7109 columns, 32845 nonzeros\n",
      "Variable types: 4682 continuous, 2427 integer (2427 binary)\n",
      "Found heuristic solution: objective 9.453271e+09\n",
      "\n",
      "Root relaxation: objective 2.919912e+08, 2129 iterations, 0.12 seconds (0.06 work units)\n",
      "\n",
      "    Nodes    |    Current Node    |     Objective Bounds      |     Work\n",
      " Expl Unexpl |  Obj  Depth IntInf | Incumbent    BestBd   Gap | It/Node Time\n",
      "\n",
      "     0     0 2.9199e+08    0  264 9.4533e+09 2.9199e+08  96.9%     -    1s\n",
      "     0     0 2.9291e+08    0  328 9.4533e+09 2.9291e+08  96.9%     -    2s\n",
      "H    0     0                    7.128112e+09 2.9293e+08  95.9%     -    2s\n",
      "H    0     0                    6.836371e+09 2.9302e+08  95.7%     -    2s\n",
      "     0     0 2.9302e+08    0  272 6.8364e+09 2.9302e+08  95.7%     -    2s\n",
      "     0     0 2.9302e+08    0  271 6.8364e+09 2.9302e+08  95.7%     -    2s\n",
      "H    0     0                    6.836369e+09 2.9302e+08  95.7%     -    3s\n",
      "H    0     0                    5.752343e+09 2.9302e+08  94.9%     -    3s\n",
      "H    0     0                    5.304727e+09 2.9351e+08  94.5%     -    3s\n",
      "     0     0 2.9351e+08    0  335 5.3047e+09 2.9351e+08  94.5%     -    3s\n",
      "H    0     0                    5.304723e+09 2.9352e+08  94.5%     -    3s\n",
      "H    0     0                    5.304593e+09 2.9352e+08  94.5%     -    3s\n",
      "     0     0 2.9352e+08    0  314 5.3046e+09 2.9352e+08  94.5%     -    3s\n",
      "H    0     0                    2.853182e+09 2.9352e+08  89.7%     -    3s\n",
      "H    0     0                    2.120418e+09 2.9352e+08  86.2%     -    3s\n",
      "     0     0 2.9363e+08    0  236 2.1204e+09 2.9363e+08  86.2%     -    3s\n",
      "H    0     0                    6.344351e+08 2.9364e+08  53.7%     -    4s\n",
      "     0     0 2.9364e+08    0  260 6.3444e+08 2.9364e+08  53.7%     -    4s\n",
      "H    0     0                    2.949773e+08 2.9364e+08  0.45%     -    4s\n",
      "     0     0 2.9366e+08    0  195 2.9498e+08 2.9366e+08  0.45%     -    4s\n",
      "     0     0 2.9366e+08    0  194 2.9498e+08 2.9366e+08  0.45%     -    4s\n",
      "H    0     0                    2.949487e+08 2.9369e+08  0.43%     -    4s\n",
      "     0     0 2.9369e+08    0  200 2.9495e+08 2.9369e+08  0.43%     -    4s\n",
      "     0     0 2.9369e+08    0  201 2.9495e+08 2.9369e+08  0.43%     -    4s\n",
      "     0     0 2.9369e+08    0  206 2.9495e+08 2.9369e+08  0.43%     -    4s\n",
      "     0     0 2.9373e+08    0  242 2.9495e+08 2.9373e+08  0.41%     -    4s\n",
      "     0     0 2.9373e+08    0  240 2.9495e+08 2.9373e+08  0.41%     -    5s\n",
      "H    0     0                    2.943157e+08 2.9373e+08  0.20%     -    5s\n",
      "H    0     2                    2.943139e+08 2.9373e+08  0.20%     -    5s\n",
      "     0     2 2.9373e+08    0  240 2.9431e+08 2.9373e+08  0.20%     -    5s\n",
      "H   33    30                    2.943129e+08 2.9397e+08  0.12%  50.5    6s\n",
      "H   34    30                    2.942228e+08 2.9397e+08  0.09%  49.9    6s\n",
      "H  108    84                    2.941801e+08 2.9398e+08  0.07%  44.0    6s\n",
      "H  219   142                    2.941792e+08 2.9398e+08  0.07%  36.4    7s\n",
      "H  222   142                    2.941787e+08 2.9398e+08  0.07%  36.0    7s\n",
      "H  224   142                    2.941692e+08 2.9398e+08  0.07%  35.8    7s\n",
      "H  773   304                    2.941681e+08 2.9401e+08  0.05%  24.5    8s\n",
      "H  783   304                    2.941670e+08 2.9401e+08  0.05%  24.3    8s\n",
      "  1118   358 2.9413e+08   25   76 2.9417e+08 2.9408e+08  0.03%  26.6   10s\n",
      "* 2738   712              48    2.941656e+08 2.9412e+08  0.01%  19.8   13s\n",
      "* 3113   837              49    2.941644e+08 2.9413e+08  0.01%  18.4   14s\n",
      "H 3328   809                    2.941635e+08 2.9413e+08  0.01%  17.8   14s\n",
      "\n",
      "Cutting planes:\n",
      "  Learned: 39\n",
      "  Gomory: 20\n",
      "  Lift-and-project: 9\n",
      "  Cover: 20\n",
      "  Implied bound: 223\n",
      "  Clique: 3\n",
      "  MIR: 105\n",
      "  StrongCG: 1\n",
      "  Flow cover: 205\n",
      "  GUB cover: 2\n",
      "  Inf proof: 2\n",
      "  Zero half: 1\n",
      "  RLT: 90\n",
      "  Relax-and-lift: 78\n",
      "  BQP: 6\n",
      "  PSD: 1\n",
      "\n",
      "Explored 3637 nodes (67797 simplex iterations) in 14.50 seconds (5.84 work units)\n",
      "Thread count was 16 (of 16 available processors)\n",
      "\n",
      "Solution count 10: 2.94163e+08 2.94164e+08 2.94166e+08 ... 2.94223e+08\n",
      "\n",
      "Optimal solution found (tolerance 1.00e-04)\n",
      "Best objective 2.941634930875e+08, best bound 2.941374993513e+08, gap 0.0088%\n"
     ]
    }
   ],
   "source": [
    "m.optimize()"
   ]
  },
  {
   "cell_type": "code",
   "execution_count": null,
   "id": "89161be3142011be",
   "metadata": {},
   "outputs": [],
   "source": [
    "m.computeIIS()\n",
    "\n",
    "for c in m.getConstrs():\n",
    "    if c.IISConstr:\n",
    "        print(f\"Constraint {c.ConstrName} is in the IIS\")\n",
    "\n",
    "for v in m.getVars():\n",
    "    if v.IISLB > 0:\n",
    "        print(f\"Lower bound of {v.VarName} is in the IIS\")\n",
    "    elif v.IISUB > 0:\n",
    "        print(f\"Upper bound of {v.VarName} is in the IIS\")"
   ]
  },
  {
   "cell_type": "code",
   "execution_count": null,
   "id": "221c7c332c5eaeac",
   "metadata": {},
   "outputs": [],
   "source": []
  }
 ],
 "metadata": {
  "kernelspec": {
   "display_name": "CMOR492-DWS_venv1",
   "language": "python",
   "name": "python3"
  },
  "language_info": {
   "codemirror_mode": {
    "name": "ipython",
    "version": 3
   },
   "file_extension": ".py",
   "mimetype": "text/x-python",
   "name": "python",
   "nbconvert_exporter": "python",
   "pygments_lexer": "ipython3",
   "version": "3.11.9"
  }
 },
 "nbformat": 4,
 "nbformat_minor": 5
}
