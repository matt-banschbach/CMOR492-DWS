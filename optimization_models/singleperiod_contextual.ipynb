{
 "cells": [
  {
   "cell_type": "code",
   "id": "initial_id",
   "metadata": {
    "collapsed": true,
    "ExecuteTime": {
     "end_time": "2025-02-19T21:12:42.435316Z",
     "start_time": "2025-02-19T21:12:42.425639Z"
    }
   },
   "source": [
    "import gurobipy as gp\n",
    "from gurobipy import GRB\n",
    "import networkx as nx\n",
    "import numpy as np\n",
    "from network_construction.network import source_treatment, get_Utown\n",
    "import json"
   ],
   "outputs": [],
   "execution_count": 158
  },
  {
   "metadata": {
    "ExecuteTime": {
     "end_time": "2025-02-19T21:12:43.185470Z",
     "start_time": "2025-02-19T21:12:43.134803Z"
    }
   },
   "cell_type": "code",
   "source": [
    "G = get_Utown()\n",
    "source_nodes, treatment_nodes = source_treatment(G, 40)  # <-- Specify # starting points for treatment node algorithm"
   ],
   "id": "db358b6848928b3e",
   "outputs": [],
   "execution_count": 159
  },
  {
   "metadata": {
    "ExecuteTime": {
     "end_time": "2025-02-19T21:12:46.521867Z",
     "start_time": "2025-02-19T21:12:44.086441Z"
    }
   },
   "cell_type": "code",
   "source": [
    "### MODEL PARAMETERS\n",
    "\n",
    "# TODO: What if we just make pipe size continuous/linear\n",
    "\n",
    "Path = {}  # Set of shortest paths from each source node i to each treatment node j\n",
    "NLinks = {}  # Number of edges in each path\n",
    "L = {}  # Length of each path (distance)\n",
    "\n",
    "for i in source_nodes:\n",
    "    for j in treatment_nodes:\n",
    "        path = nx.shortest_path(G, source=i, target=j, weight='length')\n",
    "        Path[i, j] = path\n",
    "        NLinks[i, j] = len(path)-1\n",
    "        L[i, j] = nx.path_weight(G, path, weight='length')\n",
    "LE = {e: G.edges[e]['length'] for e in G.edges}  # Length of edge e\n",
    "EL = {v: G.nodes[v]['elevation'] for v in G.nodes}  # Elevation of node v\n",
    "\n",
    "\n",
    "D = [0.2, 0.25, 0.3, 0.35, 0.40, 0.45]  # Pipe diameters\n",
    "CP = {0.05: 8.7, 0.06: 9.5, 0.08: 11,\n",
    "                       0.1: 12.6, 0.15: 43.5, 0.2: 141,\n",
    "                       0.25: 151, 0.3: 161, 0.35: 180,\n",
    "                       0.4: 190, 0.45: 200}  # Cost per unit of pipe\n",
    "\n",
    "\n",
    "SR = {}  # Production at Source node i\n",
    "CAP = {}  # Capacity at treatment node j\n",
    "\n",
    "for node in source_nodes:\n",
    "    G.nodes[node]['production'] = .17 * 2\n",
    "    SR[node] = .17 * 2\n",
    "\n",
    "total_flow = sum(SR.values())\n",
    "\n",
    "for node in treatment_nodes:\n",
    "    G.nodes[node]['capacity'] = 100\n",
    "    CAP[node] = 100\n",
    "\n",
    "Vmin = 0.6 * 60\n",
    "Vmax = 3 * 60\n",
    "\n",
    "CE = 25  # Cost of Excavation\n",
    "CB = 6  # Cost of Bedding\n",
    "TR = 44000  # Fixed Cost of Treatment Plant\n",
    "TRFlow = 100  # Variable Cost of Treatment\n",
    "PICost = 30\n",
    "\n",
    "PF = {'0.05': 8.7, '0.06': 9.5, '0.08': 11,\n",
    "                       '0.1': 12.6, '0.15': 43.5, '0.2': 141,\n",
    "                       '0.25': 151, '0.3': 161, '0.35': 180,\n",
    "                       '0.4': 190, '0.45': 200}  # Fixed Cost of Piping\n",
    "\n",
    "CT = 1000000000  # Cost of trucking\n",
    "M = 1e6\n",
    "\n",
    "Smin = 0.01\n",
    "Smax = 0.1\n",
    "W = 0.5  # Buffer Width\n",
    "\n",
    "T = [0, 1]"
   ],
   "id": "9093280aa7f884e4",
   "outputs": [],
   "execution_count": 160
  },
  {
   "metadata": {
    "ExecuteTime": {
     "end_time": "2025-02-19T21:12:47.514866Z",
     "start_time": "2025-02-19T21:12:47.272743Z"
    }
   },
   "cell_type": "code",
   "source": [
    "import ast\n",
    "\n",
    "### T=0 PARAMETERS\n",
    "\n",
    "with (open(\"x_sol.json\", \"r\") as f):\n",
    "    x_0 = {ast.literal_eval(k): v for k, v in json.load(f).items()}\n",
    "\n",
    "with open(\"y_sol.json\", \"r\") as f:\n",
    "    y_0 = {ast.literal_eval(k): v for k, v in json.load(f).items()}\n",
    "\n",
    "with open(\"z_sol.json\", \"r\") as f:\n",
    "    z_0 = {ast.literal_eval(k): v for k, v in json.load(f).items()}\n",
    "\n",
    "with open(\"d_sol.json\", \"r\") as f:\n",
    "    d_0 = {ast.literal_eval(k): v for k, v in json.load(f).items()}\n",
    "\n",
    "with open(\"el_sol.json\", \"r\") as f:\n",
    "    el_0 = {ast.literal_eval(k): v for k, v in json.load(f).items()}\n"
   ],
   "id": "8fbe49f0008957c8",
   "outputs": [],
   "execution_count": 161
  },
  {
   "metadata": {
    "ExecuteTime": {
     "end_time": "2025-02-19T21:12:50.049099Z",
     "start_time": "2025-02-19T21:12:49.563371Z"
    }
   },
   "cell_type": "code",
   "source": [
    "m = gp.Model()\n",
    "\n",
    "x = m.addVars(Path.keys(), T, vtype=GRB.BINARY, name='x')  # Path ij used\n",
    "y = m.addVars(treatment_nodes, T, vtype=GRB.BINARY, name='y')  # treatment at node j\n",
    "z = m.addVars(G.edges, T, vtype=GRB.BINARY, name='z')  # edge e used\n",
    "\n",
    "d = m.addVars(G.edges, D, T, vtype=GRB.BINARY, name='d')  # Pipe size s at edge e\n",
    "\n",
    "a = m.addVars(G.edges, D, vtype=GRB.BINARY, name='a')\n",
    "\n",
    "r = m.addVars(source_nodes, vtype=GRB.CONTINUOUS, lb=0.0, name='r')  # flow handled at trucking at edge e\n",
    "\n",
    "Q = m.addVars(G.edges, vtype=GRB.CONTINUOUS, lb=0.0, name='Q')  # Flow in Edge e\n",
    "\n",
    "el = m.addVars(G.nodes, T, vtype=GRB.CONTINUOUS, name='el')  # Elevation at node el_v\n",
    "\n",
    "p = m.addVars(Path.keys(), vtype=GRB.CONTINUOUS, lb = 0.0, name='p')\n",
    "\n",
    "c = m.addVars(G.nodes, vtype=GRB.BINARY, name='c')\n",
    "\n",
    "m.update()"
   ],
   "id": "7a2963920def0af9",
   "outputs": [],
   "execution_count": 162
  },
  {
   "metadata": {
    "ExecuteTime": {
     "end_time": "2025-02-19T21:12:51.085532Z",
     "start_time": "2025-02-19T21:12:50.760952Z"
    }
   },
   "cell_type": "code",
   "source": [
    "x_0_c = m.addConstrs((x[i, j, 0] == x_0[i, j] for i, j in Path.keys()), name='x_0')\n",
    "\n",
    "y_0_c = m.addConstrs((y[j, 0] == y_0[j] for j in treatment_nodes), name='y_0')\n",
    "\n",
    "z_0_c = m.addConstrs((z[*e, 0] == z_0[e] for e in G.edges), name='z_0')\n",
    "\n",
    "d_0_c = m.addConstrs((d[*e, s, 0] == d_0[*e, s] for e in G.edges for s in D), name='d_0')\n",
    "\n",
    "el_0_c = m.addConstrs((el[u, 0] == el_0[u] for u in G.nodes), name='el_0')"
   ],
   "id": "73889fa4f707078",
   "outputs": [],
   "execution_count": 163
  },
  {
   "metadata": {
    "ExecuteTime": {
     "end_time": "2025-02-19T21:13:10.284747Z",
     "start_time": "2025-02-19T21:12:52.383119Z"
    }
   },
   "cell_type": "code",
   "source": [
    "### CONSTRAINTS\n",
    "\n",
    "# NODE PRODUCTION MINUS RECOURSE\n",
    "node_prod_rec = m.addConstrs((p[i, j] >= (SR[i] * x[i, j, 1]) - r[i] for i, j in Path.keys()), name='node_prod_rec')\n",
    "\n",
    "\n",
    "# TREATMENT CAPACITY\n",
    "treat_cap = m.addConstrs((gp.quicksum(p[i, j] for i in source_nodes) <= CAP[j] * y[j, 1] for j in treatment_nodes), name='treat_cap')\n",
    "\n",
    "#  NODE ASSIGNMENT\n",
    "node_assign = m.addConstrs((gp.quicksum(x[i, j, 1] for j in treatment_nodes) == 1 for i in source_nodes), name='node_assign')\n",
    "\n",
    "# EDGE ACTIVATION\n",
    "ePath = {}  # Use this for Edge Activiation Constraint\n",
    "for e, p_ in Path.items():\n",
    "    ePath[e] = [(p_[l - 1], p_[l]) for l in range(1, len(p_))]\n",
    "\n",
    "edge_activate = m.addConstrs((gp.quicksum(z[*e, 1] for e in ePath[i, j]) >= NLinks[i, j] * x[i, j, 1] for i, j in Path), name='edge_activate')\n",
    "\n",
    "# FLOW DEFINITION\n",
    "def is_sublist(short_list, long_list):\n",
    "    for i in range(len(long_list) - len(short_list) + 1):\n",
    "        if long_list[i:i + len(short_list)] == short_list:\n",
    "            return True\n",
    "    return False\n",
    "\n",
    "flow_def = m.addConstrs((Q[e] == gp.quicksum(p[i, j] for i, j in Path.keys() if is_sublist(list((e[0], e[1])),Path[i,j])) for e in G.edges), name='flow_def')\n"
   ],
   "id": "daa8495301b3830b",
   "outputs": [],
   "execution_count": 164
  },
  {
   "metadata": {
    "ExecuteTime": {
     "end_time": "2025-02-19T21:13:43.339897Z",
     "start_time": "2025-02-19T21:13:41.997328Z"
    }
   },
   "cell_type": "code",
   "source": [
    "# PIPE SIZING\n",
    "pipe_sizing1 = m.addConstrs((gp.quicksum(a[*e, s] for s in D) == z[*e, 1] for e in G.edges), name='pipe_size_a')\n",
    "pipe_sizing2 = m.addConstrs((gp.quicksum(d[*e, s, 1] for s in D) <= 1 for e in G.edges), name='pipe_sizing_d')\n",
    "\n",
    "# a-Constraint\n",
    "a_constraint = m.addConstrs((a[*e, s] == d[*e, s, 1] + d_0[*e, s] for e in G.edges for s in D), name='a_constraint')\n",
    "\n",
    "# NODE ELEVATION CHANGE\n",
    "node_elevation1 = m.addConstrs((gp.quicksum(d[*e, s, 1] for s in D) >= (0.5 * (c[e[0]] - c[e[1]])) + (z[*e, 1] - 1) for e in G.edges), name='node_elevation1')\n",
    "cu_cons1 = m.addConstrs((c[u] >= (el[u, 1] - el_0[u]) / M for u in G.nodes), name='cu_cons1')\n",
    "cu_cons2 = m.addConstrs((c[u] >= (el_0[u] - el[u, 1]) / M for u in G.nodes), name='cu_cons2')\n",
    "\n",
    "# MIN/MAX SLOPE\n",
    "min_slope = m.addConstrs((el[e[0], 1] - el[e[1], 1] >= (LE[e] * Smin) - (M * (1 - z[*e, 1])) for e in G.edges), name='min_slope')\n",
    "max_slope = m.addConstrs((el[e[0], 1] - el[e[1], 1] <= (LE[e] * Smax) + (M * (1 - z[*e, 1])) for e in G.edges), name='max_slope')\n",
    "\n",
    "# FLOW VELOCITY LIMIT\n",
    "flow_vel = m.addConstrs((Q[e] <= Vmax * gp.quicksum((np.pi / 8) * (s**2) * (a[*e, s]) for s in D) for e in G.edges), name='flow_vel')\n",
    "\n",
    "# BELOW GROUND PIPES\n",
    "underground = m.addConstrs((el[u, 1] <= EL[u] for u in G.nodes), name='underground')\n",
    "\n",
    "# TREATMENT CONTINUITY\n",
    "treatment_cont = m.addConstrs((y_0[j] <= y[j, 1] for j in treatment_nodes), name='treatment_cont')\n",
    "\n",
    "# ENVELOPES FOR MANNING\n",
    "\n",
    "T_ = 11.9879\n",
    "P = lambda LE, s: LE / (T_ * (s**(16/3)))\n",
    "Qmax = lambda s: Vmax * ((np.pi / 8) * (s**2))\n",
    "\n",
    "\n",
    "alpha = m.addVars(G.edges, D, lb=0, name='alpha')\n",
    "beta = m.addVars(G.edges, D, lb=0, name='beta')\n",
    "\n",
    "\n",
    "alpha_2 = m.addConstrs((alpha[*e, s] >= Q[e] + a[*e, s] * Qmax(s) - ( Qmax(s)) for e in G.edges for s in D), name='alpha_2')\n",
    "alpha_3 = m.addConstrs((alpha[*e, s] <= Qmax(s) * a[*e, s] for e in G.edges for s in D), name='alpha_3')\n",
    "alpha_4 = m.addConstrs((alpha[*e, s] <= Q[e] for e in G.edges for s in D), name='alpha_4')\n",
    "alpha_5 = m.addConstrs((alpha[*e, s] <= Qmax(s) for e in G.edges for s in D), name='alpha_5')\n",
    "\n",
    "beta_2 = m.addConstrs((beta[*e, s] >= (Qmax(s) * Q[e]) + (Qmax(s) * alpha[*e, s]) - (Qmax(s)**2) for e in G.edges for s in D), name='beta_2')\n",
    "beta_3 = m.addConstrs((beta[*e, s] <= Qmax(s) * alpha[*e, s] for e in G.edges for s in D), name='beta_3')\n",
    "beta_4 = m.addConstrs((beta[*e, s] <= Qmax(s) * Q[e] for e in G.edges for s in D), name='beta_4')\n",
    "\n",
    "manning_2 = m.addConstrs((el[e[1], 1] - el[e[0], 1] + gp.quicksum(P(LE[e], s) * beta[*e, s] for s in D) <= (1-z[*e, 1]) * M for e in G.edges), name='manning_2')\n",
    "m.update()"
   ],
   "id": "ca14bf53c694e9e5",
   "outputs": [],
   "execution_count": 166
  },
  {
   "metadata": {
    "ExecuteTime": {
     "end_time": "2025-02-19T21:13:44.035936Z",
     "start_time": "2025-02-19T21:13:44.028053Z"
    }
   },
   "cell_type": "code",
   "source": [
    "print(f\"Model has {m.NumVars} variables and {m.NumConstrs} constraints.\")\n",
    "m.setObjective(0, GRB.MINIMIZE)\n",
    "m.update()"
   ],
   "id": "e9b9356552d1b5bb",
   "outputs": [
    {
     "name": "stdout",
     "output_type": "stream",
     "text": [
      "Model has 38940 variables and 54336 constraints.\n"
     ]
    }
   ],
   "execution_count": 167
  },
  {
   "metadata": {
    "ExecuteTime": {
     "end_time": "2025-02-19T21:13:46.660859Z",
     "start_time": "2025-02-19T21:13:45.911809Z"
    }
   },
   "cell_type": "code",
   "source": "m.optimize()",
   "id": "35dcbbd044aa4c74",
   "outputs": [
    {
     "name": "stdout",
     "output_type": "stream",
     "text": [
      "Gurobi Optimizer version 11.0.3 build v11.0.3rc0 (win64 - Windows 11+.0 (26100.2))\n",
      "\n",
      "CPU model: AMD Ryzen 7 5800HS with Radeon Graphics, instruction set [SSE2|AVX|AVX2]\n",
      "Thread count: 8 physical cores, 16 logical processors, using up to 16 threads\n",
      "\n",
      "Optimize a model with 54336 rows, 38940 columns and 311717 nonzeros\n",
      "Model fingerprint: 0x3193a6e5\n",
      "Variable types: 14259 continuous, 24681 integer (24681 binary)\n",
      "Coefficient statistics:\n",
      "  Matrix range     [1e-06, 1e+06]\n",
      "  Objective range  [0e+00, 0e+00]\n",
      "  Bounds range     [1e+00, 1e+00]\n",
      "  RHS range        [7e-05, 1e+06]\n",
      "Presolve removed 51033 rows and 36452 columns\n",
      "Presolve time: 0.56s\n",
      "Presolved: 3303 rows, 2488 columns, 12326 nonzeros\n",
      "Variable types: 2062 continuous, 426 integer (426 binary)\n",
      "Found heuristic solution: objective 0.0000000\n",
      "\n",
      "Explored 0 nodes (0 simplex iterations) in 0.72 seconds (0.28 work units)\n",
      "Thread count was 16 (of 16 available processors)\n",
      "\n",
      "Solution count 1: 0 \n",
      "\n",
      "Optimal solution found (tolerance 1.00e-04)\n",
      "Best objective 0.000000000000e+00, best bound 0.000000000000e+00, gap 0.0000%\n"
     ]
    }
   ],
   "execution_count": 168
  },
  {
   "metadata": {},
   "cell_type": "code",
   "source": [
    "m.computeIIS()\n",
    "\n",
    "for c in m.getConstrs():\n",
    "    if c.IISConstr:\n",
    "        print(f\"Constraint {c.ConstrName} is in the IIS\")\n",
    "\n",
    "for v in m.getVars():\n",
    "    if v.IISLB > 0:\n",
    "        print(f\"Lower bound of {v.VarName} is in the IIS\")\n",
    "    elif v.IISUB > 0:\n",
    "        print(f\"Upper bound of {v.VarName} is in the IIS\")"
   ],
   "id": "89161be3142011be",
   "outputs": [],
   "execution_count": null
  },
  {
   "metadata": {},
   "cell_type": "code",
   "outputs": [],
   "execution_count": null,
   "source": "",
   "id": "221c7c332c5eaeac"
  }
 ],
 "metadata": {
  "kernelspec": {
   "display_name": "Python 3",
   "language": "python",
   "name": "python3"
  },
  "language_info": {
   "codemirror_mode": {
    "name": "ipython",
    "version": 2
   },
   "file_extension": ".py",
   "mimetype": "text/x-python",
   "name": "python",
   "nbconvert_exporter": "python",
   "pygments_lexer": "ipython2",
   "version": "2.7.6"
  }
 },
 "nbformat": 4,
 "nbformat_minor": 5
}
