{
 "cells": [
  {
   "cell_type": "code",
   "id": "initial_id",
   "metadata": {
    "collapsed": true,
    "ExecuteTime": {
     "end_time": "2025-01-24T03:17:24.874601Z",
     "start_time": "2025-01-24T03:17:22.888002Z"
    }
   },
   "source": [
    "import gurobipy as gp\n",
    "from gurobipy import GRB\n",
    "import networkx as nx\n",
    "import osmnx as ox\n",
    "import numpy as np\n",
    "from network_construction.network import source_treatment"
   ],
   "outputs": [],
   "execution_count": 1
  },
  {
   "metadata": {
    "ExecuteTime": {
     "end_time": "2025-01-24T03:17:58.222692Z",
     "start_time": "2025-01-24T03:17:58.206230Z"
    }
   },
   "cell_type": "code",
   "source": [
    "G = ox.load_graphml(\"C:\\\\Users\\mbans\\Desktop\\CMOR492-DWS\\DWS\\\\network_construction\\\\road_net_2.graphml\")\n",
    "source_nodes, treatment_nodes = source_treatment(G, 20)  # <-- Specify # starting points for treatment node algorithm"
   ],
   "id": "c2114a07669a9391",
   "outputs": [],
   "execution_count": 4
  },
  {
   "metadata": {
    "ExecuteTime": {
     "end_time": "2025-01-24T03:19:53.025395Z",
     "start_time": "2025-01-24T03:19:53.020035Z"
    }
   },
   "cell_type": "code",
   "source": "G.edges[(59153773, 59082151, 0)]",
   "id": "5e94129b7775e657",
   "outputs": [
    {
     "data": {
      "text/plain": [
       "{'osmid': 7942505,\n",
       " 'name': 'Buddy Shaw Road',\n",
       " 'highway': 'residential',\n",
       " 'oneway': False,\n",
       " 'reversed': True,\n",
       " 'length': 1129.7720000000002}"
      ]
     },
     "execution_count": 11,
     "metadata": {},
     "output_type": "execute_result"
    }
   ],
   "execution_count": 11
  },
  {
   "metadata": {
    "ExecuteTime": {
     "end_time": "2025-01-24T03:22:04.056322Z",
     "start_time": "2025-01-24T03:22:04.048898Z"
    }
   },
   "cell_type": "code",
   "source": [
    "### MODEL PARAMETERS\n",
    "\n",
    "Path = {}  # Set of shortest paths from each source node i to each treatment node j\n",
    "NLinks = {}  # Number of edges in each path\n",
    "L = {}  # Length of each path (distance)\n",
    "\n",
    "for i in source_nodes:\n",
    "    for j in treatment_nodes:\n",
    "        path = nx.shortest_path(G, source=i, target=j, weight='length')\n",
    "        Path[i, j] = path\n",
    "        NLinks[i, j] = len(path)-1\n",
    "        L[i, j] = nx.path_weight(G, path, weight='length')\n",
    "LE = {e: G.edges[e]['length'] for e in G.edges}  # Length of edge e\n",
    "EL = {v: G.nodes[v]['elevation'] for v in G.nodes}  # Elevation of node v\n",
    "\n",
    "\n",
    "D = [0.2, 0.25, 0.3, 0.35, 0.40, 0.45]  # Pipe diameters\n",
    "CP = {0.05: 8.7, 0.06: 9.5, 0.08: 11,\n",
    "                       0.1: 12.6, 0.15: 43.5, 0.2: 141,\n",
    "                       0.25: 151, 0.3: 161, 0.35: 180,\n",
    "                       0.4: 190, 0.45: 200}  # Cost per unit of pipe\n",
    "\n",
    "SR = {}  # Production at Source node i\n",
    "CAP = {}  # Capacity at treatment node j\n",
    "\n",
    "for node in source_nodes:\n",
    "    G.nodes[node]['production'] = 1.8\n",
    "    SR[node] = 1.8\n",
    "\n",
    "total_flow = sum(SR.values())\n",
    "\n",
    "for node in treatment_nodes:\n",
    "    G.nodes[node]['capacity'] = 1000\n",
    "    CAP[node] = 1000\n",
    "\n",
    "Vmin = 0.6\n",
    "Vmax = 3\n",
    "\n",
    "CE = 25  # Cost of Excavation\n",
    "CB = 6  # Cost of Bedding\n",
    "TR = 44000  # Fixed Cost of Treatment Plant\n",
    "TRFlow = 100  # Variable Cost of Treatment\n",
    "PICost = 30\n",
    "\n",
    "PF = {'0.05': 8.7, '0.06': 9.5, '0.08': 11,\n",
    "                       '0.1': 12.6, '0.15': 43.5, '0.2': 141,\n",
    "                       '0.25': 151, '0.3': 161, '0.35': 180,\n",
    "                       '0.4': 190, '0.45': 200}  # Fixed Cost of Piping\n",
    "\n",
    "CT = 10000000  # Cost of trucking\n",
    "M = 1e6\n",
    "\n",
    "Smin = 0.01\n",
    "Smax = 0.1\n",
    "W = 0.5  # Buffer Width"
   ],
   "id": "e133f38e4866f8fe",
   "outputs": [],
   "execution_count": 15
  },
  {
   "metadata": {},
   "cell_type": "code",
   "outputs": [],
   "execution_count": null,
   "source": [
    "m = gp.Model()\n",
    "\n",
    "### DECISION VARIABLES\n",
    "\n",
    "x = m.addVars(Path.keys(), vtype=GRB.BINARY, name=[f'x_({i}{j})' for i, j in Path.keys()])  # Path ij used\n",
    "y = m.addVars(treatment_nodes, vtype=GRB.BINARY, name=[f'y_{j}' for j in treatment_nodes])  # treatment at node j\n",
    "z = m.addVars(G.edges, vtype=GRB.BINARY, name=[f'z_{e}' for e in G.edges])  # edge e used\n",
    "\n",
    "d_es_names = []\n",
    "for e in G.edges:\n",
    "    for s in D:\n",
    "        d_es_names.append(f\"d_{e}_{s}\")\n",
    "\n",
    "d_es = m.addVars(G.edges, D, vtype=GRB.BINARY, name=d_es_names)  # Pipe size s at edge e\n",
    "\n",
    "# Recourse Amount\n",
    "r = m.addVars(source_nodes, vtype=GRB.CONTINUOUS, lb=0.0, name=[f'r_{i}' for i in source_nodes])  # flow handled at trucking at edge e\n",
    "\n",
    "# Flow in Edge e\n",
    "Q = m.addVars(G.edges, vtype=GRB.CONTINUOUS, lb=0.0, name=[f'q_{e}' for e in G.edges])  # Flow in Edge e\n",
    "\n",
    "# Node Elevation\n",
    "el = m.addVars(G.nodes, vtype=GRB.CONTINUOUS, name=[f'el_{v}' for v in G.nodes])  # Elevation at node el_v\n",
    "\n",
    "# Path Flow\n",
    "p = m.addVars(list(Path.keys()), vtype=GRB.CONTINUOUS, lb = 0.0, name=[f\"p_{i}{j}\" for i, j in Path.keys()])\n",
    "\n",
    "m.update()"
   ],
   "id": "991500d7d60d1e36"
  },
  {
   "metadata": {},
   "cell_type": "code",
   "outputs": [],
   "execution_count": null,
   "source": [
    "### CONSTRAINTS\n",
    "\n",
    "# NODE PRODUCTION MINUS RECOURSE\n",
    "\n",
    "node_prod_rec = m.addConstrs(p[i, j] >= (SR[i] * x[i, j]) - r[i] for i, j in Path.keys())\n",
    "\n",
    "\n",
    "\n",
    "# TREATMENT CAPACITY\n",
    "# treat_cap = m.addConstrs(gp.quicksum(SR[i] * x[i, j] for i in source_nodes) <= CAP[j]*y[j] for j in treatment_nodes)\n",
    "treat_cap = m.addConstrs(gp.quicksum(p[i, j] for i in source_nodes) <= CAP[j] * y[j] for j in treatment_nodes)\n",
    "\n",
    "#  NODE ASSIGNMENT\n",
    "node_assign = m.addConstrs(gp.quicksum(x[i, j] for j in treatment_nodes) == 1 for i in source_nodes)\n",
    "\n",
    "# PIPE SIZING\n",
    "pipe_sizing = m.addConstrs(gp.quicksum(d_es[*e, s] for s in D) == z[e] for e in G.edges)\n",
    "\n",
    "# FLOW DEFINITION\n",
    "def is_sublist(short_list, long_list):\n",
    "    for i in range(len(long_list) - len(short_list) + 1):\n",
    "        if long_list[i:i + len(short_list)] == short_list:\n",
    "            return True\n",
    "    return False\n",
    "\n",
    "flow_def = m.addConstrs(Q[e] == gp.quicksum(p[i, j] for i, j in Path.keys() if is_sublist(list(e),Path[i,j])) for e in G.edges)\n",
    "\n",
    "# EDGE ACTIVATION\n",
    "Path_e = {}  # Use this for Edge Activiation Constraint\n",
    "for e, p in Path.items():\n",
    "    Path_e[e] = [(p[l - 1], p[l]) for l in range(1, len(p))]\n",
    "\n",
    "edge_activate = m.addConstrs(gp.quicksum(z[e] for e in Path_e[i, j]) >= NLinks[i, j] * x[i, j] for i, j in Path)\n",
    "\n",
    "\n",
    "# FLOW VELOCITY LIMIT\n",
    "flow_vel = m.addConstrs(Q[e] <= Vmax * gp.quicksum((np.pi / 8) * (s**2) * (d_es[*e, s]) for s in D) for e in G.edges)\n",
    "\n",
    "# MIN/MAX SLOPE\n",
    "min_slope = m.addConstrs(el[e[0]] - el[e[1]] >= (LE[e[0], e[1]] * Smin) - (M * (1 - z[e])) for e in G.edges)\n",
    "max_slope = m.addConstrs(el[e[0]] - el[e[1]] <= (LE[e[0], e[1]] * Smax) + (M * (1 - z[e])) for e in G.edges)\n",
    "\n",
    "\n",
    "# MANNING'S EQUATION\n",
    "\n",
    "# # Create new variables for the squared terms\n",
    "# Q_squared = m.addVars(G.edges, name=\"Q_squared\")\n",
    "#\n",
    "# manning = m.addConstrs(\n",
    "#     (LE[u, v] * gp.quicksum(d_es[u, v, s] * Q_squared[u, v] / (11.9879 * (s**(8/3)))**2 for s in D)\n",
    "#      <= el[u] - el[v] for u, v in G.edges),\n",
    "#     name=\"manning\")\n",
    "#\n",
    "# # Add constraints to enforce Q_squared[u, v] = Q[u, v]^2\n",
    "# q_square = m.addConstrs((Q_squared[u, v] == Q[u, v] * Q[u, v] for u, v in G.edges), name=\"Q_squared_def\")\n",
    "\n",
    "\n",
    "# PIPES UNDERGROUND\n",
    "underground = m.addConstrs(el[i] <= EL[i] for i in source_nodes)\n",
    "\n",
    "m.update()"
   ],
   "id": "f352b54044a467d5"
  },
  {
   "metadata": {},
   "cell_type": "code",
   "outputs": [],
   "execution_count": null,
   "source": [
    "### OBJECTIVE\n",
    "\n",
    "\n",
    "treat_cost = gp.LinExpr()\n",
    "\n",
    "for j in treatment_nodes:\n",
    "    treat_cost.addTerms(TR, y[j])\n",
    "    for i in source_nodes:\n",
    "        treat_cost.addTerms(TRFlow * SR[i], x[i, j])\n",
    "\n",
    "# OBJECTIVE EXPR 2: EXCAVATION COSTS\n",
    "excav_cost_f = lambda u, v: gp.QuadExpr(CE * (((EL[u] - el[u]) + (EL[v] - el[v])) / 2) * LE[u, v] * gp.quicksum(s + ((2*W)*d_es[u, v, s]) for s in D))\n",
    "\n",
    "# OBJECTIVE EXPR 3: BEDDING COSTS\n",
    "bed_cost_f = lambda u, v: gp.LinExpr(CB *  LE[u, v] * gp.quicksum(s + ((2*W)*d_es[u, v, s]) for s in D))\n",
    "\n",
    "\n",
    "# OBJECTIVE EXPR 4: PIPE COSTS\n",
    "pipe_cost_f = lambda u, v: gp.LinExpr(LE[u, v] * gp.quicksum(CP[s] * d_es[u, v, s] for s in D))\n",
    "\n",
    "excav_bed_cost = gp.quicksum(excav_cost_f(u, v) + bed_cost_f(u, v) + pipe_cost_f(u, v) for u, v in G.edges)\n",
    "\n",
    "# OBJECTIVE EXPR 5: RECOURSE TRUCKING\n",
    "\n",
    "rec_cost = gp.LinExpr()\n",
    "for i in source_nodes:\n",
    "    rec_cost.addTerms(CT, r[i])\n",
    "m.setObjective(treat_cost + excav_bed_cost + rec_cost, GRB.MINIMIZE)\n",
    "\n",
    "m.update()"
   ],
   "id": "85c7f35b3b598eaf"
  },
  {
   "metadata": {},
   "cell_type": "code",
   "outputs": [],
   "execution_count": null,
   "source": "print(f\"Model has {m.NumVars} variables and {m.NumConstrs} constraints.\")",
   "id": "9e128e26dde19055"
  },
  {
   "metadata": {},
   "cell_type": "code",
   "outputs": [],
   "execution_count": null,
   "source": "m.optimize()",
   "id": "b9f2d75853bad476"
  }
 ],
 "metadata": {
  "kernelspec": {
   "display_name": "Python 3",
   "language": "python",
   "name": "python3"
  },
  "language_info": {
   "codemirror_mode": {
    "name": "ipython",
    "version": 2
   },
   "file_extension": ".py",
   "mimetype": "text/x-python",
   "name": "python",
   "nbconvert_exporter": "python",
   "pygments_lexer": "ipython2",
   "version": "2.7.6"
  }
 },
 "nbformat": 4,
 "nbformat_minor": 5
}
