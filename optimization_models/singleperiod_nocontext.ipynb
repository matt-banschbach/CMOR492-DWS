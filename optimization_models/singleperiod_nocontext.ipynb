{
 "cells": [
  {
   "cell_type": "code",
   "id": "initial_id",
   "metadata": {
    "collapsed": true,
    "ExecuteTime": {
     "end_time": "2025-03-25T19:51:08.894030Z",
     "start_time": "2025-03-25T19:51:08.882028Z"
    }
   },
   "source": [
    "import gurobipy as gp\n",
    "from gurobipy import GRB\n",
    "import networkx as nx\n",
    "import numpy as np\n",
    "from network_construction.network import source_treatment, get_Utown\n",
    "\n",
    "import sys\n",
    "sys.path.append(\"C:\\\\Users\\mbans\\Desktop\\CMOR492-DWS\\DWS\")\n",
    "\n",
    "# sys.path.append('/Users/danielsuarez/Documents/Academic/Spring2025/SeniorDesign/CMOR492-DWS/')"
   ],
   "outputs": [],
   "execution_count": 5
  },
  {
   "cell_type": "code",
   "id": "c2114a07669a9391",
   "metadata": {
    "ExecuteTime": {
     "end_time": "2025-03-25T19:51:08.965771Z",
     "start_time": "2025-03-25T19:51:08.909613Z"
    }
   },
   "source": [
    "G = get_Utown()\n",
    "source_nodes, treatment_nodes = source_treatment(G)"
   ],
   "outputs": [],
   "execution_count": 6
  },
  {
   "metadata": {
    "ExecuteTime": {
     "end_time": "2025-03-25T20:00:57.697924Z",
     "start_time": "2025-03-25T20:00:57.131631Z"
    }
   },
   "cell_type": "code",
   "source": [
    "# USER SET PARAMETERS\n",
    "SOURCE_PROD = 0.17\n",
    "TREATMENT_CAP = 2 * SOURCE_PROD * len(source_nodes)"
   ],
   "id": "14d5256a96bb5b29",
   "outputs": [
    {
     "ename": "NameError",
     "evalue": "name 'source_nodes' is not defined",
     "output_type": "error",
     "traceback": [
      "\u001B[1;31m---------------------------------------------------------------------------\u001B[0m",
      "\u001B[1;31mNameError\u001B[0m                                 Traceback (most recent call last)",
      "Cell \u001B[1;32mIn[1], line 3\u001B[0m\n\u001B[0;32m      1\u001B[0m \u001B[38;5;66;03m# USER SET PARAMETERS\u001B[39;00m\n\u001B[0;32m      2\u001B[0m SOURCE_PROD \u001B[38;5;241m=\u001B[39m \u001B[38;5;241m0.17\u001B[39m\n\u001B[1;32m----> 3\u001B[0m TREATMENT_CAP \u001B[38;5;241m=\u001B[39m \u001B[38;5;241m2\u001B[39m \u001B[38;5;241m*\u001B[39m SOURCE_PROD \u001B[38;5;241m*\u001B[39m \u001B[38;5;28mlen\u001B[39m(\u001B[43msource_nodes\u001B[49m)\n",
      "\u001B[1;31mNameError\u001B[0m: name 'source_nodes' is not defined"
     ]
    }
   ],
   "execution_count": 1
  },
  {
   "cell_type": "code",
   "id": "e133f38e4866f8fe",
   "metadata": {
    "ExecuteTime": {
     "end_time": "2025-03-25T19:51:11.167495Z",
     "start_time": "2025-03-25T19:51:09.023331Z"
    }
   },
   "source": [
    "### MODEL PARAMETERS\n",
    "\n",
    "Path = {}  # Set of shortest paths from each source node i to each treatment node j\n",
    "NLinks = {}  # Number of edges in each path\n",
    "L = {}  # Length of each path (distance)\n",
    "\n",
    "for i in source_nodes:\n",
    "    for j in treatment_nodes:\n",
    "        path = nx.shortest_path(G, source=i, target=j, weight='length')\n",
    "        Path[i, j] = path\n",
    "        NLinks[i, j] = len(path)-1\n",
    "        L[i, j] = nx.path_weight(G, path, weight='length')\n",
    "\n",
    "LE = {e: G.edges[e]['length'] for e in G.edges}  # Length of edge e\n",
    "EL = {v: G.nodes[v]['elevation'] for v in G.nodes}  # Elevation of node v\n",
    "\n",
    "D = [0.2, 0.3, 0.4, 0.45]  # Pipe diameters\n",
    "CP = {0.05: 8.7, 0.06: 9.5, 0.08: 11,\n",
    "                       0.1: 12.6, 0.15: 43.5, 0.2: 141,\n",
    "                       0.25: 151, 0.3: 161, 0.35: 180,\n",
    "                       0.4: 190, 0.45: 200}  # Cost per unit of pipe\n",
    "\n",
    "SR = {}  # Production at Source node i\n",
    "for node in source_nodes:\n",
    "    G.nodes[node]['production'] = SOURCE_PROD # Per Minute\n",
    "    SR[node] = SOURCE_PROD\n",
    "\n",
    "CAP = {}  # Capacity at treatment node j\n",
    "for node in treatment_nodes:\n",
    "    G.nodes[node]['capacity'] = TREATMENT_CAP\n",
    "    CAP[node] = TREATMENT_CAP\n",
    "\n",
    "Vmin = 0.6 * 60\n",
    "Vmax = 3 * 60 # (m/s) * (60s/min.)\n",
    "\n",
    "CE = 25  # Cost of Excavation\n",
    "CB = 6  # Cost of Bedding\n",
    "TR = 44000  # Fixed Cost of Treatment Plant\n",
    "TRFlow = 100  # Variable Cost of Treatment\n",
    "\n",
    "CT = 1000000  # Cost of trucking (recourse)\n",
    "M = 1e7  # Arbitrarily Large Number\n",
    "\n",
    "Smin = 0.01  # Min slope grade\n",
    "Smax = 0.1  # Max slope grade\n",
    "W = 0.5  # (m) Buffer Width\n"
   ],
   "outputs": [],
   "execution_count": 8
  },
  {
   "cell_type": "code",
   "id": "991500d7d60d1e36",
   "metadata": {
    "ExecuteTime": {
     "end_time": "2025-03-25T19:51:11.382328Z",
     "start_time": "2025-03-25T19:51:11.176594Z"
    }
   },
   "source": [
    "m = gp.Model()\n",
    "\n",
    "### DECISION VARIABLES\n",
    "\n",
    "x = m.addVars(Path.keys(), vtype=GRB.BINARY, name='x')  # Path ij used\n",
    "y = m.addVars(treatment_nodes, vtype=GRB.BINARY, name='y')  # treatment at node j\n",
    "z = m.addVars(G.edges, vtype=GRB.BINARY, name='z')  # edge e used\n",
    "\n",
    "d = m.addVars(G.edges, D, vtype=GRB.BINARY, name='d')  # Pipe size s at edge e\n",
    "\n",
    "\n",
    "# Recourse Amount\n",
    "r = m.addVars(source_nodes, vtype=GRB.CONTINUOUS, lb=0.0, name='r')  # flow handled at trucking at edge e\n",
    "\n",
    "# Flow in Edge e\n",
    "Q = m.addVars(G.edges, vtype=GRB.CONTINUOUS, lb=0.0, name='Q')  # Flow in Edge e\n",
    "\n",
    "# Node Elevation\n",
    "el = m.addVars(G.nodes, vtype=GRB.CONTINUOUS, lb=0.0, name='el')  # Elevation at node el_v\n",
    "\n",
    "# Path Flow\n",
    "p = m.addVars(Path.keys(), vtype=GRB.CONTINUOUS, lb = 0.0, name='p')\n",
    "\n",
    "c = m.addVars(G.nodes, vtype=GRB.BINARY, name='c')\n",
    "\n",
    "m.update()"
   ],
   "outputs": [
    {
     "name": "stdout",
     "output_type": "stream",
     "text": [
      "Set parameter Username\n",
      "Academic license - for non-commercial use only - expires 2026-01-17\n"
     ]
    }
   ],
   "execution_count": 9
  },
  {
   "metadata": {
    "ExecuteTime": {
     "end_time": "2025-03-25T19:51:11.527735Z",
     "start_time": "2025-03-25T19:51:11.520730Z"
    }
   },
   "cell_type": "code",
   "source": [
    "# UNCOMMENT IF YOU WANT TO MODEL A CENTRALIZED SYSTEM\n",
    "# centralized = m.addConstr(gp.quicksum(y[j] for j in treatment_nodes) == 1, name='centralized system')\n",
    "# m.update()"
   ],
   "id": "610ab4700a1b9c67",
   "outputs": [],
   "execution_count": 10
  },
  {
   "cell_type": "code",
   "id": "37cb025c15dc02c4",
   "metadata": {
    "ExecuteTime": {
     "end_time": "2025-03-25T19:51:26.819381Z",
     "start_time": "2025-03-25T19:51:11.803037Z"
    }
   },
   "source": [
    "### CONSTRAINTS\n",
    "\n",
    "# NODE PRODUCTION MINUS RECOURSE\n",
    "node_prod_rec = m.addConstrs((p[i, j] >= (SR[i] * x[i, j]) - r[i] for i, j in Path.keys()), name='node_prod_rec')\n",
    "\n",
    "# TREATMENT CAPACITY\n",
    "treat_cap = m.addConstrs((gp.quicksum(p[i, j] for i in source_nodes) <= CAP[j] * y[j] for j in treatment_nodes), name='treat_cap')\n",
    "\n",
    "#  NODE ASSIGNMENT\n",
    "node_assign = m.addConstrs((gp.quicksum(x[i, j] for j in treatment_nodes) == 1 for i in source_nodes), name='node_assign')\n",
    "\n",
    "# PIPE SIZING\n",
    "pipe_sizing = m.addConstrs((gp.quicksum(d[*e, s] for s in D) == z[e] for e in G.edges), name='pipe_sizing')  # ALWAYS BE SURE TO EXPAND e\n",
    "\n",
    "# TODO: Go through this with John\n",
    "# FLOW DEFINITION\n",
    "def is_sublist(short_list, long_list):\n",
    "    for i in range(len(long_list) - len(short_list) + 1):\n",
    "        if long_list[i:i + len(short_list)] == short_list:\n",
    "            return True\n",
    "    return False\n",
    "\n",
    "flow_def = m.addConstrs((Q[e] == gp.quicksum(p[i, j] for i, j in Path.keys() if is_sublist(list((e[0], e[1])),Path[i,j])) for e in G.edges), name='flow_def')\n",
    "\n",
    "\n",
    "# MIN/MAX SLOPE\n",
    "min_slope = m.addConstrs((el[e[0]] - el[e[1]] >= (LE[e] * Smin) - (M * (1 - z[e])) for e in G.edges), name='min_slope')\n",
    "max_slope = m.addConstrs((el[e[0]] - el[e[1]] <= (LE[e] * Smax) + (M * (1 - z[e])) for e in G.edges), name='max_slope')\n",
    "\n",
    "# FLOW VELOCITY LIMIT\n",
    "flow_vel = m.addConstrs((Q[e] <= Vmax * gp.quicksum((np.pi / 8) * (s**2) * (d[*e, s]) for s in D) for e in G.edges), name='flow_vel')\n",
    "\n",
    "# PIPES UNDERGROUND\n",
    "underground = m.addConstrs((el[u] <= EL[u] for u in G.nodes), name='underground')\n",
    "m.update()\n",
    "# EDGE ACTIVATION\n",
    "\n",
    "# TODO: Go through this with John 2\n",
    "# EDGE ACTIVATION\n",
    "ePath = {}  # Use this for Edge Activiation Constraint\n",
    "for e, p in Path.items():\n",
    "    ePath[e] = [(p[l - 1], p[l]) for l in range(1, len(p))]\n",
    "\n",
    "edge_activate = m.addConstrs((gp.quicksum(z[e] for e in ePath[i, j]) >= NLinks[i, j] * x[i, j] for i, j in Path), name='edge_activate')\n",
    "\n",
    "\n",
    "# ENVELOPES FOR MANNING\n",
    "\n",
    "T = 11.9879\n",
    "P = lambda LE, s: LE / (T * (s**(16/3)))\n",
    "Qmax = lambda s: Vmax * ((np.pi / 8) * (s**2))\n",
    "\n",
    "\n",
    "alpha = m.addVars(G.edges, D, lb=0, name='alpha')\n",
    "beta = m.addVars(G.edges, D, lb=0, name='beta')\n",
    "\n",
    "\n",
    "alpha_2 = m.addConstrs((alpha[*e, s] >= Q[e] + d[*e, s] * Qmax(s) - ( Qmax(s)) for e in G.edges for s in D), name='alpha_2')\n",
    "alpha_3 = m.addConstrs((alpha[*e, s] <= Qmax(s) * d[*e, s] for e in G.edges for s in D), name='alpha_3')\n",
    "alpha_4 = m.addConstrs((alpha[*e, s] <= Q[e] for e in G.edges for s in D), name='alpha_4')\n",
    "alpha_5 = m.addConstrs((alpha[*e, s] <= Qmax(s) for e in G.edges for s in D), name='alpha_5')\n",
    "\n",
    "beta_2 = m.addConstrs((beta[*e, s] >= (Qmax(s) * Q[e]) + (Qmax(s) * alpha[*e, s]) - (Qmax(s)**2) for e in G.edges for s in D), name='beta_2')\n",
    "beta_3 = m.addConstrs((beta[*e, s] <= Qmax(s) * alpha[*e, s] for e in G.edges for s in D), name='beta_3')\n",
    "beta_4 = m.addConstrs((beta[*e, s] <= Qmax(s) * Q[e] for e in G.edges for s in D), name='beta_4')\n",
    "\n",
    "# manning_2 = m.addConstrs((el[e[1]] - el[e[0]] + gp.quicksum(P(LE[e], s) * beta[*e, s] for s in D) <= 0 for e in G.edges), name='manning_2')\n",
    "\n",
    "# ADDED THE BIG M THING HERE BUT IDK IF IT COULD BE IMPROVED\n",
    "manning_2 = m.addConstrs((el[e[1]] - el[e[0]] + gp.quicksum(P(LE[e], s) * beta[*e, s] for s in D) <= (1-z[e])*M for e in G.edges), name='manning_2')\n",
    "m.update()"
   ],
   "outputs": [],
   "execution_count": 11
  },
  {
   "cell_type": "code",
   "id": "9e128e26dde19055",
   "metadata": {
    "ExecuteTime": {
     "end_time": "2025-03-25T19:53:29.044140Z",
     "start_time": "2025-03-25T19:53:28.914547Z"
    }
   },
   "source": [
    "# OBJECTIVE EPXR 1: TREATMENT COSTS\n",
    "\n",
    "treat_cost = gp.LinExpr()\n",
    "for j in treatment_nodes:\n",
    "    treat_cost.addTerms(TR, y[j])\n",
    "    for i in source_nodes:\n",
    "        treat_cost.addTerms(TRFlow * SR[i], x[i, j])\n",
    "\n",
    "# OBJECTIVE EXPR 2: EXCAVATION COSTS\n",
    "excav_cost_f = lambda u, v: gp.QuadExpr(CE * (((EL[u] - el[u]) + (EL[v] - el[v])) / 2) * LE[u, v] * gp.quicksum(s + ((2*W) * d[u, v, s]) for s in D))\n",
    "\n",
    "# OBJECTIVE EXPR 3: BEDDING COSTS\n",
    "bed_cost_f = lambda u, v: gp.LinExpr(CB * LE[u, v] * gp.quicksum(s + ((2*W) * d[u, v, s]) for s in D))\n",
    "# OBJECTIVE EXPR 4: PIPE COSTS\n",
    "pipe_cost_f = lambda u, v: gp.LinExpr(LE[u, v] * gp.quicksum(CP[s] * d[u, v, s] for s in D))\n",
    "\n",
    "excav_bed_cost = gp.quicksum(excav_cost_f(u, v) + bed_cost_f(u, v) + pipe_cost_f(u, v) for u, v in G.edges)\n",
    "\n",
    "# OBJECTIVE EXPR 5: RECOURSE TRUCKING\n",
    "\n",
    "rec_cost = gp.LinExpr()\n",
    "for i in source_nodes:\n",
    "    rec_cost.addTerms(CT, r[i])\n",
    "\n",
    "m.setObjective(treat_cost + excav_bed_cost + rec_cost, GRB.MINIMIZE)\n",
    "\n",
    "# m.setObjective(0, GRB.MINIMIZE)\n",
    "\n",
    "m.update()\n",
    "print(f\"Model has {m.NumVars} variables and {m.NumConstrs} constraints.\")"
   ],
   "outputs": [
    {
     "name": "stdout",
     "output_type": "stream",
     "text": [
      "Model has 21955 variables and 31856 constraints.\n"
     ]
    }
   ],
   "execution_count": 12
  },
  {
   "metadata": {
    "jupyter": {
     "is_executing": true
    },
    "ExecuteTime": {
     "end_time": "2025-03-25T20:00:03.158736900Z",
     "start_time": "2025-03-25T19:53:31.647529Z"
    }
   },
   "cell_type": "code",
   "source": [
    "# m.write(\"singleperiod_nocontext2.lp\")\n",
    "m.optimize()"
   ],
   "id": "98cddf5b0cdf99f4",
   "outputs": [
    {
     "name": "stdout",
     "output_type": "stream",
     "text": [
      "Gurobi Optimizer version 11.0.3 build v11.0.3rc0 (win64 - Windows 11+.0 (26100.2))\n",
      "\n",
      "CPU model: AMD Ryzen 7 5800HS with Radeon Graphics, instruction set [SSE2|AVX|AVX2]\n",
      "Thread count: 8 physical cores, 16 logical processors, using up to 16 threads\n",
      "\n",
      "Optimize a model with 31856 rows, 21955 columns and 268136 nonzeros\n",
      "Model fingerprint: 0x150ac239\n",
      "Model has 4036 quadratic objective terms\n",
      "Variable types: 12040 continuous, 9915 integer (9915 binary)\n",
      "Coefficient statistics:\n",
      "  Matrix range     [2e-01, 1e+07]\n",
      "  Objective range  [2e+01, 5e+06]\n",
      "  QObjective range [3e+02, 5e+04]\n",
      "  Bounds range     [1e+00, 1e+00]\n",
      "  RHS range        [1e+00, 1e+07]\n",
      "Presolve removed 12039 rows and 3598 columns\n",
      "Presolve time: 2.41s\n",
      "Presolved: 23637 rows, 22177 columns, 248162 nonzeros\n",
      "Variable types: 12623 continuous, 9554 integer (9554 binary)\n",
      "Found heuristic solution: objective 1.804095e+07\n",
      "\n",
      "Deterministic concurrent LP optimizer: primal and dual simplex (primal and dual model)\n",
      "Showing primal log only...\n",
      "\n",
      "Root relaxation presolved: 65130 rows, 21628 columns, 288161 nonzeros\n",
      "\n",
      "\n",
      "Root simplex log...\n",
      "\n",
      "Iteration    Objective       Primal Inf.    Dual Inf.      Time\n",
      "       0    2.2481837e+08   2.284937e+02   9.011077e+09      8s\n",
      "   12857    5.9447507e+08   0.000000e+00   4.477311e+09     10s\n",
      "   24928    5.6715408e+06   0.000000e+00   2.720502e+09     15s\n",
      "   27706    5.6156435e+06   0.000000e+00   5.489960e+09     20s\n",
      "   30097    5.5771790e+06   0.000000e+00   8.334665e+09     25s\n",
      "   32117    5.5617906e+06   0.000000e+00   1.183240e+09     30s\n",
      "   33737    5.5534843e+06   0.000000e+00   5.974317e+08     35s\n",
      "   36008    5.5359663e+06   0.000000e+00   3.176046e+09     40s\n",
      "   38055    5.4990701e+06   0.000000e+00   1.491963e+09     45s\n",
      "   39535    5.4909767e+06   0.000000e+00   5.514576e+10     50s\n",
      "   41396    5.4379040e+06   0.000000e+00   3.739232e+08     55s\n",
      "   43056    5.4322759e+06   0.000000e+00   2.203427e+09     60s\n",
      "   44716    5.4255965e+06   0.000000e+00   4.582887e+09     65s\n",
      "   46426    5.4192579e+06   0.000000e+00   1.441408e+09     70s\n",
      "   48026    5.4150969e+06   0.000000e+00   2.781384e+09     75s\n",
      "   49596    5.4084333e+06   0.000000e+00   7.437813e+09     80s\n",
      "   51283    5.4039245e+06   0.000000e+00   1.415246e+09     85s\n",
      "   52833    5.3999051e+06   0.000000e+00   8.535776e+08     90s\n",
      "   54303    5.3959826e+06   0.000000e+00   1.753044e+08     95s\n",
      "   55960    5.3711412e+06   0.000000e+00   3.330654e+08    100s\n",
      "   57477    5.3497523e+06   0.000000e+00   9.661682e+08    105s\n",
      "   59007    5.3429521e+06   0.000000e+00   1.366945e+08    110s\n",
      "   60477    5.3389788e+06   0.000000e+00   5.816068e+08    116s\n",
      "   61767    5.3373472e+06   0.000000e+00   1.618250e+09    120s\n",
      "   63237    5.3338904e+06   0.000000e+00   5.297332e+08    125s\n",
      "   64857    5.3311938e+06   0.000000e+00   8.722297e+08    130s\n",
      "   66237    5.3282867e+06   0.000000e+00   5.685603e+08    135s\n",
      "   67787    5.3252223e+06   0.000000e+00   2.026430e+08    140s\n",
      "Concurrent spin time: 5.60s\n",
      "\n",
      "Solved with dual simplex\n",
      "\n",
      "Root relaxation: objective 5.315526e+06, 61228 iterations, 141.39 seconds (65.72 work units)\n",
      "Total elapsed time = 148.41s (DegenMoves)\n",
      "\n",
      "    Nodes    |    Current Node    |     Objective Bounds      |     Work\n",
      " Expl Unexpl |  Obj  Depth IntInf | Incumbent    BestBd   Gap | It/Node Time\n",
      "\n",
      "     0     0 5315526.20    0 3138 1.8041e+07 5315526.20  70.5%     -  150s\n",
      "H    0     0                    1.787664e+07 5315526.20  70.3%     -  150s\n",
      "     0     0 6987930.40    0 1895 1.7877e+07 6987930.40  60.9%     -  285s\n",
      "     0     0 6988411.35    0 1865 1.7877e+07 6988411.35  60.9%     -  294s\n",
      "H    0     0                    1.740070e+07 6988826.24  59.8%     -  294s\n",
      "     0     0 7170553.49    0 2451 1.7401e+07 7170553.49  58.8%     -  353s\n",
      "     0     0 7181863.86    0 2329 1.7401e+07 7181863.86  58.7%     -  364s\n",
      "     0     0 7184186.12    0 2282 1.7401e+07 7184186.12  58.7%     -  369s\n"
     ]
    }
   ],
   "execution_count": null
  },
  {
   "metadata": {
    "ExecuteTime": {
     "end_time": "2025-02-19T16:33:43.034902Z",
     "start_time": "2025-02-19T16:33:43.015191Z"
    }
   },
   "cell_type": "code",
   "source": [
    "for v in r:\n",
    "    if r[v].X > 0:\n",
    "        print(r[v].VarName, r[v].X)"
   ],
   "id": "134084f479529b4c",
   "outputs": [],
   "execution_count": 8
  },
  {
   "cell_type": "code",
   "id": "74ecb3087a950124",
   "metadata": {},
   "source": [
    "m.computeIIS()\n",
    "\n",
    "for c in m.getConstrs():\n",
    "    if c.IISConstr:\n",
    "        print(f\"Constraint {c.ConstrName} is in the IIS\")\n",
    "\n",
    "for v in m.getVars():\n",
    "    if v.IISLB > 0:\n",
    "        print(f\"Lower bound of {v.VarName} is in the IIS\")\n",
    "    elif v.IISUB > 0:\n",
    "        print(f\"Upper bound of {v.VarName} is in the IIS\")\n"
   ],
   "outputs": [],
   "execution_count": null
  },
  {
   "cell_type": "code",
   "id": "39250daf267b7e43",
   "metadata": {},
   "source": [
    "for v in m.getVars():\n",
    "    if v.X > 0:\n",
    "        print(v.VarName, v.X)"
   ],
   "outputs": [],
   "execution_count": null
  },
  {
   "metadata": {
    "ExecuteTime": {
     "end_time": "2025-02-19T21:11:55.788832Z",
     "start_time": "2025-02-19T21:11:55.688964Z"
    }
   },
   "cell_type": "code",
   "source": [
    "x_0 = {str(xv) : x[xv].X for xv in x}\n",
    "y_0 = {yv : y[yv].X for yv in y}\n",
    "z_0 = {str(zv) : z[zv].X for zv in z}\n",
    "\n",
    "d_0 = {str(dv) : d[dv].X for dv in d}\n",
    "el_0 = {elv: el[elv].X for elv in el}"
   ],
   "id": "93d1714a911526cb",
   "outputs": [],
   "execution_count": 44
  },
  {
   "metadata": {
    "ExecuteTime": {
     "end_time": "2025-02-19T21:11:57.457180Z",
     "start_time": "2025-02-19T21:11:57.449833Z"
    }
   },
   "cell_type": "code",
   "source": "import json",
   "id": "a8332415e2e39335",
   "outputs": [],
   "execution_count": 45
  },
  {
   "metadata": {
    "ExecuteTime": {
     "end_time": "2025-02-19T21:11:58.181073Z",
     "start_time": "2025-02-19T21:11:58.128199Z"
    }
   },
   "cell_type": "code",
   "source": [
    "with open(\"context/x_sol.json\", \"w\") as f:\n",
    "    json.dump(x_0, f)"
   ],
   "id": "940a516819c176fe",
   "outputs": [],
   "execution_count": 46
  },
  {
   "metadata": {
    "ExecuteTime": {
     "end_time": "2025-02-19T21:11:58.912198Z",
     "start_time": "2025-02-19T21:11:58.879892Z"
    }
   },
   "cell_type": "code",
   "source": [
    "with open(\"context/z_sol.json\", \"w\") as f:\n",
    "    json.dump(z_0, f)\n",
    "\n",
    "with open(\"context/d_sol.json\", \"w\") as f:\n",
    "    json.dump(d_0, f)\n",
    "\n",
    "with open(\"context/el_sol.json\", \"w\") as f:\n",
    "    json.dump(el_0, f)"
   ],
   "id": "a80f3c01961e4550",
   "outputs": [],
   "execution_count": 47
  },
  {
   "metadata": {},
   "cell_type": "code",
   "outputs": [],
   "execution_count": null,
   "source": "# we should have a class for model output--that'll make both the multi-period recursion thing quicker and interpretation / visualization easier",
   "id": "c953a80f0a09e9ad"
  }
 ],
 "metadata": {
  "kernelspec": {
   "display_name": "base",
   "language": "python",
   "name": "python3"
  },
  "language_info": {
   "codemirror_mode": {
    "name": "ipython",
    "version": 3
   },
   "file_extension": ".py",
   "mimetype": "text/x-python",
   "name": "python",
   "nbconvert_exporter": "python",
   "pygments_lexer": "ipython3",
   "version": "3.12.2"
  }
 },
 "nbformat": 4,
 "nbformat_minor": 5
}
