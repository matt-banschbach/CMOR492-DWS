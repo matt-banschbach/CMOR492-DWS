{
 "cells": [
  {
   "cell_type": "code",
   "id": "initial_id",
   "metadata": {
    "collapsed": true,
    "ExecuteTime": {
     "end_time": "2025-01-29T20:10:58.265114Z",
     "start_time": "2025-01-29T20:10:46.660954Z"
    }
   },
   "source": [
    "import gurobipy as gp\n",
    "from gurobipy import GRB\n",
    "import networkx as nx\n",
    "import osmnx as ox\n",
    "import numpy as np\n",
    "from network_construction.network import source_treatment"
   ],
   "outputs": [],
   "execution_count": 1
  },
  {
   "metadata": {
    "ExecuteTime": {
     "end_time": "2025-01-29T20:11:21.183239Z",
     "start_time": "2025-01-29T20:11:21.145952Z"
    }
   },
   "cell_type": "code",
   "source": [
    "G = ox.load_graphml(\"C:\\\\Users\\mbans\\Desktop\\CMOR492-DWS\\DWS\\\\network_construction\\\\road_net_2.graphml\")\n",
    "source_nodes, treatment_nodes = source_treatment(G, 20)  # <-- Specify # starting points for treatment node algorithm"
   ],
   "id": "c2114a07669a9391",
   "outputs": [],
   "execution_count": 2
  },
  {
   "metadata": {
    "ExecuteTime": {
     "end_time": "2025-01-29T20:32:39.520943Z",
     "start_time": "2025-01-29T20:32:39.050896Z"
    }
   },
   "cell_type": "code",
   "source": [
    "### MODEL PARAMETERS\n",
    "\n",
    "Path = {}  # Set of shortest paths from each source node i to each treatment node j\n",
    "NLinks = {}  # Number of edges in each path\n",
    "L = {}  # Length of each path (distance)\n",
    "\n",
    "for i in source_nodes:\n",
    "    for j in treatment_nodes:\n",
    "        path = nx.shortest_path(G, source=i, target=j, weight='length')\n",
    "        Path[i, j] = path\n",
    "        NLinks[i, j] = len(path)-1\n",
    "        L[i, j] = nx.path_weight(G, path, weight='length')\n",
    "LE = {e: G.edges[e]['length'] for e in G.edges}  # Length of edge e\n",
    "EL = {v: G.nodes[v]['elevation'] for v in G.nodes}  # Elevation of node v\n",
    "\n",
    "\n",
    "D = [0.2, 0.25, 0.3, 0.35, 0.40, 0.45]  # Pipe diameters\n",
    "CP = {0.05: 8.7, 0.06: 9.5, 0.08: 11,\n",
    "                       0.1: 12.6, 0.15: 43.5, 0.2: 141,\n",
    "                       0.25: 151, 0.3: 161, 0.35: 180,\n",
    "                       0.4: 190, 0.45: 200}  # Cost per unit of pipe\n",
    "\n",
    "SR = {}  # Production at Source node i\n",
    "CAP = {}  # Capacity at treatment node j\n",
    "\n",
    "for node in source_nodes:\n",
    "    G.nodes[node]['production'] = 1.8\n",
    "    SR[node] = 1.8\n",
    "\n",
    "total_flow = sum(SR.values())\n",
    "\n",
    "for node in treatment_nodes:\n",
    "    G.nodes[node]['capacity'] = 1000\n",
    "    CAP[node] = 1000\n",
    "\n",
    "Vmin = 0.6\n",
    "Vmax = 3\n",
    "\n",
    "CE = 25  # Cost of Excavation\n",
    "CB = 6  # Cost of Bedding\n",
    "TR = 44000  # Fixed Cost of Treatment Plant\n",
    "TRFlow = 100  # Variable Cost of Treatment\n",
    "PICost = 30\n",
    "\n",
    "PF = {'0.05': 8.7, '0.06': 9.5, '0.08': 11,\n",
    "                       '0.1': 12.6, '0.15': 43.5, '0.2': 141,\n",
    "                       '0.25': 151, '0.3': 161, '0.35': 180,\n",
    "                       '0.4': 190, '0.45': 200}  # Fixed Cost of Piping\n",
    "\n",
    "CT = 10000000  # Cost of trucking\n",
    "M = 1e6\n",
    "\n",
    "Smin = 0.01\n",
    "Smax = 0.1\n",
    "W = 0.5  # Buffer Width"
   ],
   "id": "e133f38e4866f8fe",
   "outputs": [],
   "execution_count": 46
  },
  {
   "metadata": {
    "ExecuteTime": {
     "end_time": "2025-01-29T21:22:09.617691Z",
     "start_time": "2025-01-29T21:22:09.553252Z"
    }
   },
   "cell_type": "code",
   "source": [
    "m = gp.Model()\n",
    "\n",
    "### DECISION VARIABLES\n",
    "\n",
    "x = m.addVars(Path.keys(), vtype=GRB.BINARY, name=[f'x: {i} --> {j}' for i, j in Path.keys()])  # Path ij used\n",
    "y = m.addVars(treatment_nodes, vtype=GRB.BINARY, name=[f'y_{j}' for j in treatment_nodes])  # treatment at node j\n",
    "z = m.addVars(G.edges, vtype=GRB.BINARY, name=[f'z: {e}' for e in G.edges])  # edge e used\n",
    "\n",
    "d_es_names = []\n",
    "for e in G.edges:\n",
    "    for s in D:\n",
    "        d_es_names.append(f\"d_{e}_{s}\")\n",
    "\n",
    "d_es = m.addVars(G.edges, D, vtype=GRB.BINARY, name=d_es_names)  # Pipe size s at edge e\n",
    "\n",
    "# Recourse Amount\n",
    "r = m.addVars(source_nodes, vtype=GRB.CONTINUOUS, lb=0.0, name=[f'r_{i}' for i in source_nodes])  # flow handled at trucking at edge e\n",
    "\n",
    "# Flow in Edge e\n",
    "Q = m.addVars(G.edges, vtype=GRB.CONTINUOUS, lb=0.0, name=[f'q_{e}' for e in G.edges])  # Flow in Edge e\n",
    "\n",
    "# Node Elevation\n",
    "el = m.addVars(G.nodes, vtype=GRB.CONTINUOUS, name=[f'el_{v}' for v in G.nodes])  # Elevation at node el_v\n",
    "\n",
    "# Path Flow\n",
    "p = m.addVars(list(Path.keys()), vtype=GRB.CONTINUOUS, lb = 0.0, name=[f\"p: {i} -- > {j}\" for i, j in Path.keys()])\n",
    "\n",
    "m.update()"
   ],
   "id": "991500d7d60d1e36",
   "outputs": [],
   "execution_count": 119
  },
  {
   "metadata": {
    "ExecuteTime": {
     "end_time": "2025-01-29T21:22:14.302451Z",
     "start_time": "2025-01-29T21:22:12.213796Z"
    }
   },
   "cell_type": "code",
   "source": [
    "### CONSTRAINTS\n",
    "\n",
    "# NODE PRODUCTION MINUS RECOURSE\n",
    "node_prod_rec = m.addConstrs(p[i, j] >= (SR[i] * x[i, j]) - r[i] for i, j in Path.keys())\n",
    "\n",
    "# TREATMENT CAPACITY\n",
    "# treat_cap = m.addConstrs(gp.quicksum(SR[i] * x[i, j] for i in source_nodes) <= CAP[j]*y[j] for j in treatment_nodes)\n",
    "treat_cap = m.addConstrs(gp.quicksum(p[i, j] for i in source_nodes) <= CAP[j] * y[j] for j in treatment_nodes)\n",
    "\n",
    "#  NODE ASSIGNMENT\n",
    "node_assign = m.addConstrs(gp.quicksum(x[i, j] for j in treatment_nodes) == 1 for i in source_nodes)\n",
    "\n",
    "# PIPE SIZING\n",
    "pipe_sizing = m.addConstrs(gp.quicksum(d_es[*e, s] for s in D) == z[e] for e in G.edges)\n",
    "\n",
    "\n",
    "# FLOW DEFINITION\n",
    "def is_sublist(short_list, long_list):\n",
    "    for i in range(len(long_list) - len(short_list) + 1):\n",
    "        if long_list[i:i + len(short_list)] == short_list:\n",
    "            return True\n",
    "    return False\n",
    "\n",
    "flow_def = m.addConstrs(Q[e] == gp.quicksum(p[i, j] for i, j in Path.keys() if is_sublist(list((e[0], e[1])),Path[i,j])) for e in G.edges)\n",
    "\n",
    "# EDGE ACTIVATION\n",
    "Path_e = {}  # Use this for Edge Activiation Constraint\n",
    "for e, p in Path.items():\n",
    "    Path_e[e] = [(p[l - 1], p[l]) for l in range(1, len(p))]\n",
    "\n",
    "# For stuff indexed by edges, we have to include the extra zero that OSMNX added---at some point I'll try to get rid of it lol\n",
    "\n",
    "edge_activate = m.addConstrs(gp.quicksum(z[*e, 0] for e in Path_e[i, j]) >= NLinks[i, j] * x[i, j] for i, j in Path)\n",
    "\n",
    "# MIN/MAX SLOPE\n",
    "min_slope = m.addConstrs(el[e[0]] - el[e[1]] >= (LE[e[0], e[1], 0] * Smin) - (M * (1 - z[e])) for e in G.edges)\n",
    "max_slope = m.addConstrs(el[e[0]] - el[e[1]] <= (LE[e[0], e[1], 0] * Smax) + (M * (1 - z[e])) for e in G.edges)\n",
    "\n",
    "# FLOW VELOCITY LIMIT\n",
    "flow_vel = m.addConstrs(Q[e] <= Vmax * gp.quicksum((np.pi / 8) * (s**2) * (d_es[*e, s]) for s in D) for e in G.edges)\n",
    "\n",
    "# PIPES UNDERGROUND\n",
    "underground = m.addConstrs(el[i] <= EL[i] for i in source_nodes)\n",
    "\n",
    "# MANNING'S EQUATION\n",
    "\n",
    "# manning = m.addConstrs(\n",
    "#     (LE[u, v, 0] * gp.quicksum(d_es[u, v, 0, s] * ((Q[u, v, 0]**2) / ((11.9879 * (s**(8/3)))**2)) for s in D)\n",
    "#      <= el[u] - el[v] for u, v, _ in G.edges),\n",
    "#     name=\"manning\")\n",
    "\n",
    "manning = m.addConstrs((LE[u, v, 0] * ((Q[u, v, 0] / (11.9879 * (s**2.6666667)))**2) <=\n",
    "                        el[u] - el[v] + (M * (1 - d_es[u, v, 0, s])) for u, v, _ in G.edges for s in D),\n",
    "                       name=\"manning\")\n",
    "\n",
    "m.update()"
   ],
   "id": "27df447735f9b5b3",
   "outputs": [],
   "execution_count": 120
  },
  {
   "metadata": {
    "ExecuteTime": {
     "end_time": "2025-01-29T20:33:09.965300Z",
     "start_time": "2025-01-29T20:33:09.954134Z"
    }
   },
   "cell_type": "code",
   "source": [
    "# OLD MANNING\n",
    "\n",
    "# Create new variables for the squared terms\n",
    "# Q_squared = m.addVars(G.edges, name=\"Q_squared\")\n",
    "#\n",
    "# manning = m.addConstrs(\n",
    "#     (LE[u, v] * gp.quicksum(d_es[u, v, s] * Q_squared[u, v] / (11.9879 * (s**(8/3)))**2 for s in D)\n",
    "#      <= el[u] - el[v] for u, v in G.edges),\n",
    "#     name=\"manning\")\n",
    "\n",
    "# Add constraints to enforce Q_squared[u, v] = Q[u, v]^2\n",
    "# q_square = m.addConstrs((Q_squared[u, v] == Q[u, v] * Q[u, v] for u, v in G.edges), name=\"Q_squared_def\")\n"
   ],
   "id": "f352b54044a467d5",
   "outputs": [],
   "execution_count": 54
  },
  {
   "metadata": {
    "ExecuteTime": {
     "end_time": "2025-01-29T21:22:30.274758Z",
     "start_time": "2025-01-29T21:22:30.215908Z"
    }
   },
   "cell_type": "code",
   "source": [
    "### OBJECTIVE EPXR 1: TREATMENT COSTS\n",
    "\n",
    "treat_cost = gp.LinExpr()\n",
    "for j in treatment_nodes:\n",
    "    treat_cost.addTerms(TR, y[j])\n",
    "    for i in source_nodes:\n",
    "        treat_cost.addTerms(TRFlow * SR[i], x[i, j])\n",
    "\n",
    "# OBJECTIVE EXPR 2: EXCAVATION COSTS\n",
    "excav_cost_f = lambda u, v: gp.QuadExpr(CE * (((EL[u] - el[u]) + (EL[v] - el[v])) / 2) * LE[u, v, 0] * gp.quicksum(s + ((2*W)*d_es[u, v, 0, s]) for s in D))\n",
    "\n",
    "# OBJECTIVE EXPR 3: BEDDING COSTS\n",
    "bed_cost_f = lambda u, v: gp.LinExpr(CB *  LE[u, v, 0] * gp.quicksum(s + ((2*W)*d_es[u, v, 0, s]) for s in D))\n",
    "# OBJECTIVE EXPR 4: PIPE COSTS\n",
    "pipe_cost_f = lambda u, v: gp.LinExpr(LE[u, v, 0] * gp.quicksum(CP[s] * d_es[u, v, 0, s] for s in D))\n",
    "\n",
    "excav_bed_cost = gp.quicksum(excav_cost_f(u, v) + bed_cost_f(u, v) + pipe_cost_f(u, v) for u, v, _ in G.edges)\n",
    "\n",
    "# OBJECTIVE EXPR 5: RECOURSE TRUCKING\n",
    "\n",
    "rec_cost = gp.LinExpr()\n",
    "for i in source_nodes:\n",
    "    rec_cost.addTerms(CT, r[i])\n",
    "m.setObjective(treat_cost + excav_bed_cost + rec_cost, GRB.MINIMIZE)\n",
    "\n",
    "m.update()"
   ],
   "id": "85c7f35b3b598eaf",
   "outputs": [],
   "execution_count": 121
  },
  {
   "metadata": {
    "ExecuteTime": {
     "end_time": "2025-01-29T21:22:32.592689Z",
     "start_time": "2025-01-29T21:22:32.585331Z"
    }
   },
   "cell_type": "code",
   "source": "print(f\"Model has {m.NumVars} variables and {m.NumConstrs} constraints.\")",
   "id": "9e128e26dde19055",
   "outputs": [
    {
     "name": "stdout",
     "output_type": "stream",
     "text": [
      "Model has 9966 variables and 8433 constraints.\n"
     ]
    }
   ],
   "execution_count": 122
  },
  {
   "metadata": {
    "ExecuteTime": {
     "end_time": "2025-01-29T21:22:56.319120Z",
     "start_time": "2025-01-29T21:22:36.287222Z"
    }
   },
   "cell_type": "code",
   "source": "m.optimize()",
   "id": "b9f2d75853bad476",
   "outputs": [
    {
     "name": "stdout",
     "output_type": "stream",
     "text": [
      "Gurobi Optimizer version 11.0.3 build v11.0.3rc0 (win64 - Windows 11.0 (22631.2))\n",
      "\n",
      "CPU model: AMD Ryzen 7 5800HS with Radeon Graphics, instruction set [SSE2|AVX|AVX2]\n",
      "Thread count: 8 physical cores, 16 logical processors, using up to 16 threads\n",
      "\n",
      "Optimize a model with 8433 rows, 9966 columns and 93615 nonzeros\n",
      "Model fingerprint: 0x36603703\n",
      "Model has 6054 quadratic objective terms\n",
      "Model has 3036 quadratic constraints\n",
      "Variable types: 3649 continuous, 6317 integer (6317 binary)\n",
      "Coefficient statistics:\n",
      "  Matrix range     [5e-02, 1e+06]\n",
      "  QMatrix range    [5e+00, 8e+04]\n",
      "  QLMatrix range   [1e+00, 1e+06]\n",
      "  Objective range  [2e+02, 1e+07]\n",
      "  QObjective range [3e+02, 5e+04]\n",
      "  Bounds range     [1e+00, 1e+00]\n",
      "  RHS range        [1e+00, 1e+06]\n",
      "  QRHS range       [1e+06, 1e+06]\n",
      "Presolve added 1908 rows and 0 columns\n",
      "Presolve removed 0 rows and 335 columns\n",
      "Presolve time: 0.25s\n",
      "Presolved: 20637 rows, 15235 columns, 108222 nonzeros\n",
      "Presolved model has 456 SOS constraint(s)\n",
      "Presolved model has 391 quadratic constraint(s)\n",
      "Variable types: 9296 continuous, 5939 integer (5939 binary)\n",
      "Deterministic concurrent LP optimizer: primal and dual simplex\n",
      "Showing primal log only...\n",
      "\n",
      "Concurrent spin time: 0.00s\n",
      "\n",
      "Solved with dual simplex\n",
      "\n",
      "Root relaxation: objective -1.079617e+12, 8356 iterations, 0.45 seconds (0.47 work units)\n",
      "\n",
      "    Nodes    |    Current Node    |     Objective Bounds      |     Work\n",
      " Expl Unexpl |  Obj  Depth IntInf | Incumbent    BestBd   Gap | It/Node Time\n",
      "\n",
      "     0     0 -1.080e+12    0 3143          - -1.080e+12      -     -    1s\n",
      "H    0     0                    3.400190e+09 -1.080e+12      -     -    1s\n",
      "H    0     0                    -1.10167e+11 -1.080e+12   880%     -    1s\n",
      "H    0     0                    -1.10167e+11 -1.080e+12   880%     -    1s\n",
      "     0     0 -2.871e+11    0 1709 -1.102e+11 -2.871e+11   161%     -    4s\n",
      "H    0     0                    -1.37233e+11 -2.871e+11   109%     -    4s\n",
      "     0     0 -2.871e+11    0 1709 -1.372e+11 -2.871e+11   109%     -    5s\n",
      "     0     0 -2.416e+11    0 2219 -1.372e+11 -2.416e+11  76.0%     -    8s\n",
      "     0     0 -2.416e+11    0 2228 -1.372e+11 -2.416e+11  76.0%     -    8s\n",
      "     0     0 -2.416e+11    0 2228 -1.372e+11 -2.416e+11  76.0%     -    8s\n",
      "     0     0 -2.365e+11    0 1455 -1.372e+11 -2.365e+11  72.4%     -   11s\n",
      "     0     0 -2.365e+11    0 1453 -1.372e+11 -2.365e+11  72.4%     -   11s\n",
      "H    0     0                    -2.36333e+11 -2.365e+11  0.08%     -   11s\n",
      "H    0     0                    -2.36335e+11 -2.365e+11  0.08%     -   11s\n",
      "     0     0 -2.365e+11    0  936 -2.363e+11 -2.365e+11  0.07%     -   11s\n",
      "     0     0 -2.365e+11    0  860 -2.363e+11 -2.365e+11  0.06%     -   12s\n",
      "     0     0 -2.365e+11    0  914 -2.363e+11 -2.365e+11  0.06%     -   12s\n",
      "     0     0 -2.365e+11    0 1115 -2.363e+11 -2.365e+11  0.06%     -   14s\n",
      "H    0     0                    -2.36335e+11 -2.365e+11  0.06%     -   14s\n",
      "H    0     0                    -2.36336e+11 -2.365e+11  0.06%     -   16s\n",
      "H    0     0                    -2.36339e+11 -2.365e+11  0.06%     -   16s\n",
      "     0     0 -2.365e+11    0  893 -2.363e+11 -2.365e+11  0.05%     -   17s\n",
      "     0     0 -2.364e+11    0  998 -2.363e+11 -2.364e+11  0.04%     -   18s\n",
      "     0     0 -2.364e+11    0  593 -2.363e+11 -2.364e+11  0.03%     -   19s\n",
      "H    0     0                    -2.36389e+11 -2.364e+11  0.01%     -   19s\n",
      "\n",
      "Cutting planes:\n",
      "  Learned: 18\n",
      "  Gomory: 4\n",
      "  Cover: 14\n",
      "  Implied bound: 256\n",
      "  Clique: 48\n",
      "  MIR: 95\n",
      "  Flow cover: 78\n",
      "  GUB cover: 2\n",
      "  RLT: 528\n",
      "  Relax-and-lift: 91\n",
      "  BQP: 137\n",
      "  PSD: 2\n",
      "\n",
      "Explored 1 nodes (51434 simplex iterations) in 19.98 seconds (15.79 work units)\n",
      "Thread count was 16 (of 16 available processors)\n",
      "\n",
      "Solution count 9: -2.36389e+11 -2.36339e+11 -2.36336e+11 ... 3.40019e+09\n",
      "\n",
      "Optimal solution found (tolerance 1.00e-04)\n",
      "Warning: max constraint violation (1.2749e-05) exceeds tolerance\n",
      "Best objective -2.363892979626e+11, best bound -2.364015056677e+11, gap 0.0052%\n"
     ]
    }
   ],
   "execution_count": 123
  },
  {
   "metadata": {},
   "cell_type": "code",
   "source": [
    "for v in m.getVars():\n",
    "    if v.X > 0:\n",
    "        print(v.varName, v.X)"
   ],
   "id": "4adf5e827dc897cb",
   "outputs": [],
   "execution_count": null
  },
  {
   "metadata": {},
   "cell_type": "code",
   "source": [
    "for v in Q:\n",
    "    var = Q[v]\n",
    "    if var.X > 0:\n",
    "        print(var.varName, var.X)"
   ],
   "id": "4999c4142d699c62",
   "outputs": [],
   "execution_count": null
  },
  {
   "metadata": {},
   "cell_type": "code",
   "outputs": [],
   "execution_count": null,
   "source": "",
   "id": "39250daf267b7e43"
  }
 ],
 "metadata": {
  "kernelspec": {
   "display_name": "Python 3",
   "language": "python",
   "name": "python3"
  },
  "language_info": {
   "codemirror_mode": {
    "name": "ipython",
    "version": 2
   },
   "file_extension": ".py",
   "mimetype": "text/x-python",
   "name": "python",
   "nbconvert_exporter": "python",
   "pygments_lexer": "ipython2",
   "version": "2.7.6"
  }
 },
 "nbformat": 4,
 "nbformat_minor": 5
}
