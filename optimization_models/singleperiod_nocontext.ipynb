{
 "cells": [
  {
   "cell_type": "code",
   "id": "initial_id",
   "metadata": {
    "collapsed": true,
    "ExecuteTime": {
     "end_time": "2025-02-05T21:19:01.917845Z",
     "start_time": "2025-02-05T21:18:59.214555Z"
    }
   },
   "source": [
    "import gurobipy as gp\n",
    "from gurobipy import GRB\n",
    "import networkx as nx\n",
    "import osmnx as ox\n",
    "import numpy as np\n",
    "from pywin.Demos.app.customprint import PRINTDLGORD\n",
    "\n",
    "from network_construction.network import source_treatment, get_Utown"
   ],
   "outputs": [],
   "execution_count": 1
  },
  {
   "metadata": {
    "ExecuteTime": {
     "end_time": "2025-02-05T21:19:03.565106Z",
     "start_time": "2025-02-05T21:19:03.546383Z"
    }
   },
   "cell_type": "code",
   "source": [
    "G = get_Utown()\n",
    "source_nodes, treatment_nodes = source_treatment(G, 20)  # <-- Specify # starting points for treatment node algorithm"
   ],
   "id": "c2114a07669a9391",
   "outputs": [],
   "execution_count": 2
  },
  {
   "metadata": {
    "ExecuteTime": {
     "end_time": "2025-02-05T21:24:39.213527Z",
     "start_time": "2025-02-05T21:24:38.903900Z"
    }
   },
   "cell_type": "code",
   "source": [
    "### MODEL PARAMETERS\n",
    "\n",
    "# TODO: What if we just make pipe size continuous/linear\n",
    "\n",
    "Path = {}  # Set of shortest paths from each source node i to each treatment node j\n",
    "NLinks = {}  # Number of edges in each path\n",
    "L = {}  # Length of each path (distance)\n",
    "\n",
    "for i in source_nodes:\n",
    "    for j in treatment_nodes:\n",
    "        path = nx.shortest_path(G, source=i, target=j, weight='length')\n",
    "        Path[i, j] = path\n",
    "        NLinks[i, j] = len(path)-1\n",
    "        L[i, j] = nx.path_weight(G, path, weight='length')\n",
    "LE = {e: G.edges[e]['length'] for e in G.edges}  # Length of edge e\n",
    "EL = {v: G.nodes[v]['elevation'] for v in G.nodes}  # Elevation of node v\n",
    "\n",
    "\n",
    "D = [0.2, 0.25, 0.3, 0.35, 0.40, 0.45]  # Pipe diameters\n",
    "CP = {0.05: 8.7, 0.06: 9.5, 0.08: 11,\n",
    "                       0.1: 12.6, 0.15: 43.5, 0.2: 141,\n",
    "                       0.25: 151, 0.3: 161, 0.35: 180,\n",
    "                       0.4: 190, 0.45: 200}  # Cost per unit of pipe\n",
    "\n",
    "SR = {}  # Production at Source node i\n",
    "CAP = {}  # Capacity at treatment node j\n",
    "\n",
    "for node in source_nodes:\n",
    "    G.nodes[node]['production'] = 0.05\n",
    "    SR[node] = 0.05\n",
    "\n",
    "total_flow = sum(SR.values())\n",
    "\n",
    "for node in treatment_nodes:\n",
    "    G.nodes[node]['capacity'] = 1000\n",
    "    CAP[node] = 1000\n",
    "\n",
    "Vmin = 0.6\n",
    "Vmax = 3\n",
    "\n",
    "CE = 25  # Cost of Excavation\n",
    "CB = 6  # Cost of Bedding\n",
    "TR = 44000  # Fixed Cost of Treatment Plant\n",
    "TRFlow = 100  # Variable Cost of Treatment\n",
    "PICost = 30\n",
    "\n",
    "PF = {'0.05': 8.7, '0.06': 9.5, '0.08': 11,\n",
    "                       '0.1': 12.6, '0.15': 43.5, '0.2': 141,\n",
    "                       '0.25': 151, '0.3': 161, '0.35': 180,\n",
    "                       '0.4': 190, '0.45': 200}  # Fixed Cost of Piping\n",
    "\n",
    "CT = 1000000000  # Cost of trucking\n",
    "M = 1e6\n",
    "\n",
    "Smin = 0.01\n",
    "Smax = 0.1\n",
    "W = 0.5  # Buffer Width\n"
   ],
   "id": "e133f38e4866f8fe",
   "outputs": [],
   "execution_count": 33
  },
  {
   "metadata": {
    "ExecuteTime": {
     "end_time": "2025-02-05T21:42:04.749834Z",
     "start_time": "2025-02-05T21:42:04.689981Z"
    }
   },
   "cell_type": "code",
   "source": [
    "m = gp.Model()\n",
    "\n",
    "### DECISION VARIABLES\n",
    "\n",
    "x = m.addVars(Path.keys(), vtype=GRB.BINARY, name=[f'x: {i} --> {j}' for i, j in Path.keys()])  # Path ij used\n",
    "y = m.addVars(treatment_nodes, vtype=GRB.BINARY, name=[f'y_{j}' for j in treatment_nodes])  # treatment at node j\n",
    "z = m.addVars(G.edges, vtype=GRB.BINARY)  # edge e used\n",
    "\n",
    "# Pipe Size Selection\n",
    "d_es_names = []\n",
    "for e in G.edges:\n",
    "    for s in D:\n",
    "        d_es_names.append(f\"Edge: {e[0]}---{e[1]} <- Size: {s}\")\n",
    "\n",
    "d = m.addVars(G.edges, D, vtype=GRB.BINARY, name=d_es_names)  # Pipe size s at edge e\n",
    "\n",
    "\n",
    "# Recourse Amount\n",
    "r = m.addVars(source_nodes, vtype=GRB.CONTINUOUS, lb=0.0, name=[f'r_{i}' for i in source_nodes])  # flow handled at trucking at edge e\n",
    "\n",
    "# Flow in Edge e\n",
    "Q = m.addVars(G.edges, vtype=GRB.CONTINUOUS, lb=0.0, name=[f'q_{e}' for e in G.edges])  # Flow in Edge e\n",
    "\n",
    "# Node Elevation\n",
    "el = m.addVars(G.nodes, vtype=GRB.CONTINUOUS, name=[f'el_{v}' for v in G.nodes])  # Elevation at node el_v\n",
    "\n",
    "# Path Flow\n",
    "p = m.addVars(Path.keys(), vtype=GRB.CONTINUOUS, lb = 0.0, name=[f\"p: {i} --> {j}\" for i, j in Path.keys()])\n",
    "\n",
    "m.update()"
   ],
   "id": "991500d7d60d1e36",
   "outputs": [],
   "execution_count": 53
  },
  {
   "metadata": {
    "ExecuteTime": {
     "end_time": "2025-02-05T21:42:07.551769Z",
     "start_time": "2025-02-05T21:42:05.391870Z"
    }
   },
   "cell_type": "code",
   "source": [
    "### CONSTRAINTS\n",
    "\n",
    "# NODE PRODUCTION MINUS RECOURSE\n",
    "node_prod_rec = m.addConstrs(p[i, j] >= (SR[i] * x[i, j]) - r[i] for i, j in Path.keys())\n",
    "\n",
    "# TREATMENT CAPACITY\n",
    "treat_cap = m.addConstrs(gp.quicksum(p[i, j] for i in source_nodes) <= CAP[j] * y[j] for j in treatment_nodes)\n",
    "\n",
    "#  NODE ASSIGNMENT\n",
    "node_assign = m.addConstrs(gp.quicksum(x[i, j] for j in treatment_nodes) == 1 for i in source_nodes)\n",
    "\n",
    "# PIPE SIZING\n",
    "pipe_sizing = m.addConstrs(gp.quicksum(d[*e, s] for s in D) == z[e] for e in G.edges)  # ALWAYS BE SURE TO EXPAND e\n",
    "\n",
    "# TODO: Go through this with John\n",
    "# FLOW DEFINITION\n",
    "def is_sublist(short_list, long_list):\n",
    "    for i in range(len(long_list) - len(short_list) + 1):\n",
    "        if long_list[i:i + len(short_list)] == short_list:\n",
    "            return True\n",
    "    return False\n",
    "\n",
    "flow_def = m.addConstrs(Q[e] == gp.quicksum(p[i, j] for i, j in Path.keys() if is_sublist(list((e[0], e[1])),Path[i,j])) for e in G.edges)\n",
    "\n",
    "\n",
    "\n",
    "# TODO: Go through this with John 2\n",
    "# EDGE ACTIVATION\n",
    "ePath = {}  # Use this for Edge Activiation Constraint\n",
    "for e, p in Path.items():\n",
    "    ePath[e] = [(p[l - 1], p[l]) for l in range(1, len(p))]\n",
    "\n",
    "\n",
    "edge_activate = m.addConstrs(gp.quicksum(z[e] for e in ePath[i, j]) >= NLinks[i, j] * x[i, j] for i, j in Path)\n",
    "\n",
    "# MIN/MAX SLOPE\n",
    "min_slope = m.addConstrs(el[e[0]] - el[e[1]] >= (LE[e] * Smin) - (M * (1 - z[e])) for e in G.edges)\n",
    "max_slope = m.addConstrs(el[e[0]] - el[e[1]] <= (LE[e] * Smax) + (M * (1 - z[e])) for e in G.edges)\n",
    "\n",
    "# FLOW VELOCITY LIMIT\n",
    "flow_vel = m.addConstrs(Q[e] <= Vmax * gp.quicksum((np.pi / 8) * (s**2) * (d[*e, s]) for s in D) for e in G.edges)\n",
    "\n",
    "# PIPES UNDERGROUND\n",
    "underground = m.addConstrs(el[i] <= EL[i] for i in source_nodes)\n",
    "m.update()"
   ],
   "id": "754aed131d585471",
   "outputs": [],
   "execution_count": 54
  },
  {
   "metadata": {
    "ExecuteTime": {
     "end_time": "2025-02-05T21:42:08.495477Z",
     "start_time": "2025-02-05T21:42:08.207104Z"
    }
   },
   "cell_type": "code",
   "source": [
    "# ENVELOPES FOR MANNING\n",
    "\n",
    "T = 11.9879\n",
    "P = lambda LE, s: LE / (T * (s**(16/3)))\n",
    "Qmax = lambda s: Vmax * ((np.pi / 8) * (s**2))\n",
    "\n",
    "\n",
    "alpha = m.addVars(G.edges, D, lb=0)\n",
    "beta = m.addVars(G.edges, D, lb=0)\n",
    "\n",
    "\n",
    "alpha_2 = m.addConstrs((alpha[*e, s] >= Q[e] + Qmax(s) - (Q[e] * Qmax(s)) for e in G.edges for s in D), name='alpha_2')\n",
    "alpha_3 = m.addConstrs((alpha[*e, s] <= Qmax(s) * d[*e, s] for e in G.edges for s in D), name='alpha_3')\n",
    "alpha_4 = m.addConstrs((alpha[*e, s] <= Q[e] for e in G.edges for s in D), name='alpha_4')\n",
    "\n",
    "beta_2 = m.addConstrs((beta[*e, s] >= (Qmax(s) * Q[e]) + (Qmax(s) * alpha[*e, s]) - (Qmax(s)**2) for e in G.edges for s in D), name='beta_2')\n",
    "beta_3 = m.addConstrs((beta[*e, s] <= Qmax(s) * alpha[*e, s] for e in G.edges for s in D), name='beta_3')\n",
    "beta_4 = m.addConstrs((beta[*e, s] <= Qmax(s) * Q[e] for e in G.edges for s in D), name='beta_4')\n",
    "\n",
    "manning_2 = m.addConstrs((el[e[1]] - el[e[0]] + gp.quicksum(P(LE[e], s) * beta[*e, s] for s in D) <= 0 for e in G.edges), name='manning_2')\n",
    "m.update()"
   ],
   "id": "37cb025c15dc02c4",
   "outputs": [],
   "execution_count": 55
  },
  {
   "metadata": {},
   "cell_type": "code",
   "source": [
    "# # MANNING'S EQUATION\n",
    "#\n",
    "# # manning = m.addConstrs(\n",
    "# #     (LE[u, v, 0] * gp.quicksum(d_es[u, v, 0, s] * ((Q[u, v, 0]**2) / ((11.9879 * (s**(8/3)))**2)) for s in D)\n",
    "# #      <= el[u] - el[v] for u, v, _ in G.edges),\n",
    "# #     name=\"manning\")\n",
    "#\n",
    "\n",
    "# JOHN REFORMULATION\n",
    "# manning = m.addConstrs((LE[u, v, 0] * ((Q[u, v, 0] / (11.9879 * (s**2.6666667)))**2) <=\n",
    "#                         el[u] - el[v] + (M * (1 - d_es[u, v, 0, s])) for u, v, _ in G.edges for s in D),\n",
    "#                        name=\"manning\")\n",
    "\n",
    "# m.update()"
   ],
   "id": "27df447735f9b5b3",
   "outputs": [],
   "execution_count": null
  },
  {
   "metadata": {
    "ExecuteTime": {
     "end_time": "2025-02-05T21:42:13.832059Z",
     "start_time": "2025-02-05T21:42:13.825261Z"
    }
   },
   "cell_type": "code",
   "source": [
    "# ### OBJECTIVE EPXR 1: TREATMENT COSTS\n",
    "#\n",
    "# treat_cost = gp.LinExpr()\n",
    "# for j in treatment_nodes:\n",
    "#     treat_cost.addTerms(TR, y[j])\n",
    "#     for i in source_nodes:\n",
    "#         treat_cost.addTerms(TRFlow * SR[i], x[i, j])\n",
    "#\n",
    "# # OBJECTIVE EXPR 2: EXCAVATION COSTS\n",
    "# excav_cost_f = lambda u, v: gp.QuadExpr(CE * (((EL[u] - el[u]) + (EL[v] - el[v])) / 2) * LE[u, v] * gp.quicksum(s + ((2*W) * d[u, v, s]) for s in D))\n",
    "#\n",
    "# # OBJECTIVE EXPR 3: BEDDING COSTS\n",
    "# bed_cost_f = lambda u, v: gp.LinExpr(CB * LE[u, v] * gp.quicksum(s + ((2*W) * d[u, v, s]) for s in D))\n",
    "# # OBJECTIVE EXPR 4: PIPE COSTS\n",
    "# pipe_cost_f = lambda u, v: gp.LinExpr(LE[u, v] * gp.quicksum(CP[s] * d[u, v, s] for s in D))\n",
    "#\n",
    "# excav_bed_cost = gp.quicksum(excav_cost_f(u, v) + bed_cost_f(u, v) + pipe_cost_f(u, v) for u, v in G.edges)\n",
    "#\n",
    "# # OBJECTIVE EXPR 5: RECOURSE TRUCKING\n",
    "#\n",
    "# rec_cost = gp.LinExpr()\n",
    "# for i in source_nodes:\n",
    "#     rec_cost.addTerms(CT, r[i])\n",
    "# m.setObjective(treat_cost + excav_bed_cost + rec_cost, GRB.MINIMIZE)\n",
    "\n",
    "m.setObjective(0, GRB.MINIMIZE)\n",
    "\n",
    "m.update()"
   ],
   "id": "85c7f35b3b598eaf",
   "outputs": [],
   "execution_count": 56
  },
  {
   "metadata": {
    "ExecuteTime": {
     "end_time": "2025-02-05T21:42:14.828397Z",
     "start_time": "2025-02-05T21:42:14.821107Z"
    }
   },
   "cell_type": "code",
   "source": "print(f\"Model has {m.NumVars} variables and {m.NumConstrs} constraints.\")",
   "id": "9e128e26dde19055",
   "outputs": [
    {
     "name": "stdout",
     "output_type": "stream",
     "text": [
      "Model has 16018 variables and 27113 constraints.\n"
     ]
    }
   ],
   "execution_count": 57
  },
  {
   "metadata": {
    "ExecuteTime": {
     "end_time": "2025-02-05T21:42:15.718670Z",
     "start_time": "2025-02-05T21:42:15.683116Z"
    }
   },
   "cell_type": "code",
   "source": "m.optimize()",
   "id": "b9f2d75853bad476",
   "outputs": [
    {
     "name": "stdout",
     "output_type": "stream",
     "text": [
      "Gurobi Optimizer version 11.0.3 build v11.0.3rc0 (win64 - Windows 11+.0 (26100.2))\n",
      "\n",
      "CPU model: AMD Ryzen 7 5800HS with Radeon Graphics, instruction set [SSE2|AVX|AVX2]\n",
      "Thread count: 8 physical cores, 16 logical processors, using up to 16 threads\n",
      "\n",
      "Optimize a model with 27113 rows, 16018 columns and 138222 nonzeros\n",
      "Model fingerprint: 0xb16b21ef\n",
      "Variable types: 9708 continuous, 6310 integer (6310 binary)\n",
      "Coefficient statistics:\n",
      "  Matrix range     [5e-02, 1e+06]\n",
      "  Objective range  [0e+00, 0e+00]\n",
      "  Bounds range     [1e+00, 1e+00]\n",
      "  RHS range        [2e-03, 1e+06]\n",
      "Presolve removed 2761 rows and 199 columns\n",
      "Presolve time: 0.00s\n",
      "\n",
      "Explored 0 nodes (0 simplex iterations) in 0.03 seconds (0.02 work units)\n",
      "Thread count was 1 (of 16 available processors)\n",
      "\n",
      "Solution count 0\n",
      "\n",
      "Model is infeasible\n",
      "Best objective -, best bound -, gap -\n"
     ]
    }
   ],
   "execution_count": 58
  },
  {
   "metadata": {
    "ExecuteTime": {
     "end_time": "2025-02-05T21:42:24.768904Z",
     "start_time": "2025-02-05T21:42:24.647327Z"
    }
   },
   "cell_type": "code",
   "source": "m.computeIIS()",
   "id": "4bc988cecab2a2ec",
   "outputs": [
    {
     "name": "stdout",
     "output_type": "stream",
     "text": [
      "Gurobi Optimizer version 11.0.3 build v11.0.3rc0 (win64 - Windows 11+.0 (26100.2))\n",
      "\n",
      "CPU model: AMD Ryzen 7 5800HS with Radeon Graphics, instruction set [SSE2|AVX|AVX2]\n",
      "Thread count: 8 physical cores, 16 logical processors, using up to 16 threads\n",
      "\n",
      "\n",
      "Computing Irreducible Inconsistent Subsystem (IIS)...\n",
      "\n",
      "           Constraints          |            Bounds           |  Runtime\n",
      "      Min       Max     Guess   |   Min       Max     Guess   |\n",
      "--------------------------------------------------------------------------\n",
      "        0     27112         -         0      9708         -           0s\n",
      "        4         4         4         0         0         0           0s\n",
      "\n",
      "IIS computed: 4 constraints, 0 bounds\n",
      "IIS runtime: 0.12 seconds (0.07 work units)\n"
     ]
    }
   ],
   "execution_count": 59
  },
  {
   "metadata": {
    "ExecuteTime": {
     "end_time": "2025-02-05T21:42:28.618980Z",
     "start_time": "2025-02-05T21:42:28.536734Z"
    }
   },
   "cell_type": "code",
   "source": [
    "for c in m.getConstrs():\n",
    "    if c.IISConstr:\n",
    "        print(f\"Constraint {c.ConstrName} is in the IIS\")\n",
    "\n",
    "for v in m.getVars():\n",
    "    if v.IISLB > 0:\n",
    "        print(f\"Lower bound of {v.VarName} is in the IIS\")\n",
    "    elif v.IISUB > 0:\n",
    "        print(f\"Upper bound of {v.VarName} is in the IIS\")\n"
   ],
   "id": "74ecb3087a950124",
   "outputs": [
    {
     "name": "stdout",
     "output_type": "stream",
     "text": [
      "Constraint alpha_2[(59154488, 59123932),0.4] is in the IIS\n",
      "Constraint alpha_2[(59154488, 59123932),0.45] is in the IIS\n",
      "Constraint alpha_3[(59154488, 59123932),0.4] is in the IIS\n",
      "Constraint alpha_4[(59154488, 59123932),0.45] is in the IIS\n"
     ]
    }
   ],
   "execution_count": 60
  },
  {
   "metadata": {},
   "cell_type": "code",
   "source": [
    "for v in m.getVars():\n",
    "    if v.X > 0:\n",
    "        print(v.varName, v.X)"
   ],
   "id": "4adf5e827dc897cb",
   "outputs": [],
   "execution_count": null
  },
  {
   "metadata": {
    "ExecuteTime": {
     "end_time": "2025-02-05T21:30:09.608226Z",
     "start_time": "2025-02-05T21:30:09.602052Z"
    }
   },
   "cell_type": "code",
   "source": "m.ObjVal",
   "id": "f09224abfa4fac0e",
   "outputs": [
    {
     "data": {
      "text/plain": [
       "-243315004051.03204"
      ]
     },
     "execution_count": 40,
     "metadata": {},
     "output_type": "execute_result"
    }
   ],
   "execution_count": 40
  },
  {
   "metadata": {},
   "cell_type": "code",
   "source": [
    "for v in Q:\n",
    "    var = Q[v]\n",
    "    if var.X > 0:\n",
    "        print(var.varName, var.X)"
   ],
   "id": "4999c4142d699c62",
   "outputs": [],
   "execution_count": null
  },
  {
   "metadata": {},
   "cell_type": "code",
   "source": "",
   "id": "39250daf267b7e43",
   "outputs": [],
   "execution_count": null
  }
 ],
 "metadata": {
  "kernelspec": {
   "display_name": "Python 3",
   "language": "python",
   "name": "python3"
  },
  "language_info": {
   "codemirror_mode": {
    "name": "ipython",
    "version": 2
   },
   "file_extension": ".py",
   "mimetype": "text/x-python",
   "name": "python",
   "nbconvert_exporter": "python",
   "pygments_lexer": "ipython2",
   "version": "2.7.6"
  }
 },
 "nbformat": 4,
 "nbformat_minor": 5
}
