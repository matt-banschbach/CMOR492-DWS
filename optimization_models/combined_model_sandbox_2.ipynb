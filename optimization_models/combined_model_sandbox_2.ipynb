{
 "cells": [
  {
   "cell_type": "code",
   "execution_count": null,
   "id": "0929275b",
   "metadata": {},
   "outputs": [],
   "source": [
    "import optimization_model as opt"
   ]
  },
  {
   "cell_type": "code",
   "execution_count": null,
   "id": "99db8eb3",
   "metadata": {},
   "outputs": [],
   "source": []
  }
 ],
 "metadata": {
  "language_info": {
   "name": "python"
  }
 },
 "nbformat": 4,
 "nbformat_minor": 5
}
