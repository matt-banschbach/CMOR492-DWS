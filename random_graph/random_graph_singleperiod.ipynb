{
 "cells": [
  {
   "cell_type": "code",
   "id": "initial_id",
   "metadata": {
    "collapsed": true,
    "ExecuteTime": {
     "end_time": "2024-11-20T21:14:00.253534Z",
     "start_time": "2024-11-20T21:14:00.244302Z"
    }
   },
   "source": [
    "import numpy as np\n",
    "import networkx as nx\n",
    "import gurobipy as gp\n",
    "from gurobipy import GRB\n",
    "import random\n",
    "\n",
    "from numpy.distutils.command.egg_info import egg_info"
   ],
   "outputs": [],
   "execution_count": 34
  },
  {
   "metadata": {
    "ExecuteTime": {
     "end_time": "2024-11-20T20:42:36.869707Z",
     "start_time": "2024-11-20T20:42:36.844915Z"
    }
   },
   "cell_type": "code",
   "source": [
    "pts = np.array([np.random.uniform([-20, -20, 0], [20, 20, 5]) for _ in range(50)])\n",
    "G = nx.Graph()\n",
    "for i in range(len(pts)):\n",
    "    G.add_node(i, pos=tuple(pts[i]))\n",
    "\n",
    "for i in range(len(pts)):\n",
    "        for j in range(i+1, len(pts)):\n",
    "            if np.random.rand() < 0.3:\n",
    "                distance = np.linalg.norm(pts[i] - pts[j])\n",
    "                G.add_edge(i, j, distance=distance)"
   ],
   "id": "ddb200b811dff6c7",
   "outputs": [],
   "execution_count": 2
  },
  {
   "metadata": {
    "ExecuteTime": {
     "end_time": "2024-11-19T22:42:23.051003Z",
     "start_time": "2024-11-19T22:42:23.041423Z"
    }
   },
   "cell_type": "code",
   "source": "A = nx.adjacency_matrix(G, weight='distance')",
   "id": "943f41bbdf08ff79",
   "outputs": [],
   "execution_count": 90
  },
  {
   "metadata": {
    "ExecuteTime": {
     "end_time": "2024-11-20T20:42:39.257273Z",
     "start_time": "2024-11-20T20:42:39.249220Z"
    }
   },
   "cell_type": "code",
   "source": [
    "elevations = [G.nodes[i]['pos'][2] for i in G.nodes]\n",
    "treatment_idxs = np.argsort(elevations)[:5]\n"
   ],
   "id": "6dbb68b7a68b9599",
   "outputs": [],
   "execution_count": 3
  },
  {
   "metadata": {
    "ExecuteTime": {
     "end_time": "2024-11-20T20:42:40.751228Z",
     "start_time": "2024-11-20T20:42:40.742920Z"
    }
   },
   "cell_type": "code",
   "source": [
    "for i in G.nodes:\n",
    "    if i in treatment_idxs:\n",
    "        G.nodes[i]['treatment'] = 1\n",
    "    else:\n",
    "        G.nodes[i]['treatment'] = 0"
   ],
   "id": "6cd16a4fdb874749",
   "outputs": [],
   "execution_count": 4
  },
  {
   "metadata": {
    "ExecuteTime": {
     "end_time": "2024-11-20T20:42:42.316922Z",
     "start_time": "2024-11-20T20:42:42.310472Z"
    }
   },
   "cell_type": "code",
   "source": [
    "treatment_nodes = [i for i in G.nodes if G.nodes[i]['treatment'] == 1]\n",
    "source_nodes = [i for i in G.nodes if G.nodes[i]['treatment'] == 0]"
   ],
   "id": "2799ca3906558398",
   "outputs": [],
   "execution_count": 5
  },
  {
   "metadata": {
    "ExecuteTime": {
     "end_time": "2024-11-20T20:42:43.604206Z",
     "start_time": "2024-11-20T20:42:43.593529Z"
    }
   },
   "cell_type": "code",
   "source": [
    "print(f\"# Source: {len(source_nodes)}; # treatment: {len(treatment_nodes)}; # Components = {nx.number_connected_components(G)}\")\n",
    "\n",
    "Path = {}\n",
    "NLinks = {}\n",
    "L = {}"
   ],
   "id": "9aa5ad39cab005bf",
   "outputs": [
    {
     "name": "stdout",
     "output_type": "stream",
     "text": [
      "# Source: 45; # treatment: 5; # Components = 1\n"
     ]
    }
   ],
   "execution_count": 6
  },
  {
   "metadata": {
    "ExecuteTime": {
     "end_time": "2024-11-20T20:43:06.107423Z",
     "start_time": "2024-11-20T20:43:06.025449Z"
    }
   },
   "cell_type": "code",
   "source": [
    "for i in source_nodes:\n",
    "    for j in treatment_nodes:\n",
    "        path = nx.shortest_path(G, source=i, target=j, weight='distance')\n",
    "        Path[i, j] = path\n",
    "        NLinks[i, j] = len(path)\n",
    "        L[i, j] = nx.path_weight(G, Path[i, j], weight='distance')"
   ],
   "id": "d46ddcf99e25beb5",
   "outputs": [],
   "execution_count": 7
  },
  {
   "metadata": {
    "ExecuteTime": {
     "end_time": "2024-11-20T20:45:14.211353Z",
     "start_time": "2024-11-20T20:45:14.202711Z"
    }
   },
   "cell_type": "code",
   "source": "print(f\"For the path from source node 1 to treatment node 5: path = {Path[1, 5]}; NLinks = {NLinks[1, 5]}; L = {L[1, 5]}\")",
   "id": "456ea59fd974189f",
   "outputs": [
    {
     "name": "stdout",
     "output_type": "stream",
     "text": [
      "For the path from source node 1 to treatment node 5: path = [1, 31, 5]; NLinks = 3; L = 19.087024306888647\n"
     ]
    }
   ],
   "execution_count": 12
  },
  {
   "metadata": {
    "ExecuteTime": {
     "end_time": "2024-11-20T21:23:30.368888Z",
     "start_time": "2024-11-20T21:23:30.360890Z"
    }
   },
   "cell_type": "code",
   "source": [
    "LE = {e:G.edges[e]['distance'] for e in G.edges}\n",
    "EL = {v: G.nodes[v]['pos'][2] for v in G.nodes}\n",
    "D = [0.2, 0.25, 0.3, 0.35, 0.40, 0.45]"
   ],
   "id": "73394df299040a3e",
   "outputs": [],
   "execution_count": 76
  },
  {
   "metadata": {
    "ExecuteTime": {
     "end_time": "2024-11-20T20:51:19.889709Z",
     "start_time": "2024-11-20T20:51:19.879981Z"
    }
   },
   "cell_type": "code",
   "source": [
    "mu = 1000\n",
    "sigma = 200\n",
    "SR = {}\n",
    "CAP = {}\n",
    "\n",
    "for node in source_nodes:\n",
    "    flow = np.random.normal(mu, sigma)\n",
    "    G.nodes[node]['production'] = flow\n",
    "    SR[node] = flow\n",
    "\n",
    "total_flow = sum(SR.values())\n",
    "\n",
    "for node in treatment_nodes:\n",
    "    capacity = 1.25 * (total_flow / len(treatment_nodes))\n",
    "    G.nodes[node]['capacity'] = capacity\n",
    "    CAP[node] = capacity\n",
    "\n",
    "Vmin = 0.6\n",
    "Vmax = 3\n"
   ],
   "id": "f4c7fc8ee2435ccd",
   "outputs": [],
   "execution_count": 20
  },
  {
   "metadata": {
    "ExecuteTime": {
     "end_time": "2024-11-20T21:45:46.953144Z",
     "start_time": "2024-11-20T21:45:46.937247Z"
    }
   },
   "cell_type": "code",
   "source": [
    "CE = 25\n",
    "CB = 6\n",
    "TR = 44000\n",
    "TRFlow = 100\n",
    "\n",
    "PICost = 30\n",
    "PF = {'0.05': 8.7, '0.06': 9.5, '0.08': 11,\n",
    "                       '0.1': 12.6, '0.15': 43.5, '0.2': 141,\n",
    "                       '0.25': 151, '0.3': 161, '0.35': 180,\n",
    "                       '0.4': 190, '0.45': 200}\n",
    "\n",
    "CT = 10000\n",
    "M = 1e10"
   ],
   "id": "7ed229a54b219075",
   "outputs": [],
   "execution_count": 105
  },
  {
   "metadata": {
    "ExecuteTime": {
     "end_time": "2024-11-20T21:16:54.453341Z",
     "start_time": "2024-11-20T21:16:54.441522Z"
    }
   },
   "cell_type": "code",
   "source": "m = gp.Model()",
   "id": "c4d2cf7dce554296",
   "outputs": [],
   "execution_count": 53
  },
  {
   "metadata": {
    "ExecuteTime": {
     "end_time": "2024-11-20T21:56:29.286426Z",
     "start_time": "2024-11-20T21:56:29.265475Z"
    }
   },
   "cell_type": "code",
   "source": [
    "# DECISION VARIABLES\n",
    "\n",
    "x = m.addVars(Path.keys(), vtype=GRB.BINARY, name=[f'x_({i},{j})' for i, j in Path.keys()])\n",
    "y = m.addVars(treatment_nodes, vtype=GRB.BINARY, name=[f'y_{j}' for j in treatment_nodes])\n",
    "z = m.addVars(G.edges, vtype=GRB.BINARY, name=[f'z_{e}' for e in G.edges])\n",
    "\n",
    "d_es_names = []\n",
    "for e in G.edges:\n",
    "    for s in D:\n",
    "        d_es_names.append(f\"d_{s}_{e}\")\n",
    "d_es = m.addVars(D, G.edges, vtype=GRB.BINARY, name=d_es_names)\n",
    "\n",
    "r = m.addVars(G.nodes, vtype=GRB.CONTINUOUS, lb=0.0, ub=SR, name=[f'r_{v}' for v in G.nodes])\n",
    "Q = m.addVars(G.edges, vtype=GRB.CONTINUOUS, lb=0.0, name=[f'q_{e}' for e in G.edges])\n",
    "\n",
    "e_in = m.addVars(G.nodes, vtype=GRB.CONTINUOUS, lb=0.0, name=[f'e_in_{v}' for v in G.nodes])\n",
    "e_out = m.addVars(G.nodes, vtype=GRB.CONTINUOUS, lb=0.0, name=[f'e_out_{v}' for v in G.nodes])\n",
    "h = m.addVars(G.nodes, vtype=GRB.CONTINUOUS, name=[f'h_{v}' for v in G.nodes])\n",
    "m.update()"
   ],
   "id": "3e93a93a01625dfb",
   "outputs": [],
   "execution_count": 108
  },
  {
   "metadata": {
    "ExecuteTime": {
     "end_time": "2024-11-20T21:56:37.275061Z",
     "start_time": "2024-11-20T21:56:37.255782Z"
    }
   },
   "cell_type": "code",
   "source": [
    "# OBJECTIVE EXPR 1: TREATMENT COSTS\n",
    "\n",
    "treat_cost = gp.LinExpr()\n",
    "\n",
    "for j in treatment_nodes:\n",
    "    treat_cost.addTerms(TR, y[j])\n",
    "    for i in source_nodes:\n",
    "        treat_cost.addTerms(TRFlow * SR[i], x[i, j])"
   ],
   "id": "5089d4b1afd14b7",
   "outputs": [],
   "execution_count": 109
  },
  {
   "metadata": {},
   "cell_type": "code",
   "source": [
    "# OBJECTIVE EXPR 2: EXCAVATION COSTS\n",
    "excav_cost = gp.LinExpr()"
   ],
   "id": "2c8e6c12b61e2161",
   "outputs": [],
   "execution_count": null
  },
  {
   "metadata": {},
   "cell_type": "code",
   "outputs": [],
   "execution_count": null,
   "source": [
    "# OBJECTIVE EXPR 3: BEDDING COSTS\n",
    "bed_cost = gp.LinExpr()"
   ],
   "id": "2feae93c182ba36f"
  },
  {
   "metadata": {
    "ExecuteTime": {
     "end_time": "2024-11-20T21:45:50.384768Z",
     "start_time": "2024-11-20T21:45:50.377664Z"
    }
   },
   "cell_type": "code",
   "source": [
    "# OBJECTIVE EXPR 4: RECOURSE TRUCKING\n",
    "\n",
    "rec_cost = gp.LinExpr()\n",
    "for i in source_nodes:\n",
    "    rec_cost.addTerms(CT, r[i])"
   ],
   "id": "a6ac69e3e3582998",
   "outputs": [],
   "execution_count": 106
  },
  {
   "metadata": {
    "ExecuteTime": {
     "end_time": "2024-11-20T22:08:02.255608Z",
     "start_time": "2024-11-20T22:08:02.221078Z"
    }
   },
   "cell_type": "code",
   "source": [
    "# CONSTRAINTS\n",
    "\n",
    "# TREATMENT CAPACITY\n",
    "treat_cap = m.addConstrs(gp.quicksum(SR[i] * x[i, j] - r[i] for i in source_nodes)<= CAP[j]*y[j] for j in treatment_nodes)\n",
    "\n",
    "#  NODE ASSIGNMENT\n",
    "node_assign = m.addConstrs(gp.quicksum(x[i, j] for j in treatment_nodes) == 1 for i in source_nodes)"
   ],
   "id": "aa2b29e9031d2e83",
   "outputs": [],
   "execution_count": 110
  },
  {
   "metadata": {},
   "cell_type": "code",
   "source": [
    "# EDGE ACTIVATION\n",
    "\n",
    "# TODO: Need edge-wise path"
   ],
   "id": "808021ecbc60381b",
   "outputs": [],
   "execution_count": null
  },
  {
   "metadata": {
    "ExecuteTime": {
     "end_time": "2024-11-20T22:16:36.439442Z",
     "start_time": "2024-11-20T22:16:36.420178Z"
    }
   },
   "cell_type": "code",
   "source": [
    "# PIPE SIZING\n",
    "\n",
    "pipe_sizing = m.addConstrs(gp.quicksum(d_es[s, *e] for s in D) == 1 for e in G.edges)"
   ],
   "id": "312897e4105e23a0",
   "outputs": [],
   "execution_count": 114
  },
  {
   "metadata": {
    "ExecuteTime": {
     "end_time": "2024-11-20T22:23:50.778946Z",
     "start_time": "2024-11-20T22:23:50.770542Z"
    }
   },
   "cell_type": "code",
   "source": [
    "# HEIGHT DIFFERENCE\n",
    "height = m.addConstrs(h[i] == e_out[i] - e_in[i] for i in source_nodes)\n",
    "\n",
    "# MINUMUM SLOPE\n",
    "\n",
    "# MAXIMUM SLOPE"
   ],
   "id": "135a5da4488412aa",
   "outputs": [],
   "execution_count": 118
  },
  {
   "metadata": {
    "ExecuteTime": {
     "end_time": "2024-11-20T22:22:03.440604Z",
     "start_time": "2024-11-20T22:22:03.412387Z"
    }
   },
   "cell_type": "code",
   "source": [
    "# FLOW VELOCITY LIMIT\n",
    "\n",
    "# TODO: D structure needs to be fixed, and d_es should be renamed\n",
    "\n",
    "flow_vel = m.addConstrs(Q[e] <= gp.quicksum((np.pi / 8) * (D[s]**2) * (d_es[D[s], *e]) for s in range(len(D))) for e in G.edges)"
   ],
   "id": "f0d2a927299abba7",
   "outputs": [],
   "execution_count": 117
  },
  {
   "metadata": {},
   "cell_type": "code",
   "source": "# MANNING'S EQUATION\n",
   "id": "9e5c414d43561ec1",
   "outputs": [],
   "execution_count": null
  },
  {
   "metadata": {
    "ExecuteTime": {
     "end_time": "2024-11-20T22:36:05.275681Z",
     "start_time": "2024-11-20T22:36:05.214562Z"
    }
   },
   "cell_type": "code",
   "outputs": [
    {
     "ename": "GurobiError",
     "evalue": "Invalid argument to QuadExpr multiplication",
     "output_type": "error",
     "traceback": [
      "\u001B[1;31m---------------------------------------------------------------------------\u001B[0m",
      "\u001B[1;31mGurobiError\u001B[0m                               Traceback (most recent call last)",
      "Cell \u001B[1;32mIn[125], line 3\u001B[0m\n\u001B[0;32m      1\u001B[0m \u001B[38;5;66;03m# MANNING'S EQUATION\u001B[39;00m\n\u001B[0;32m      2\u001B[0m \u001B[38;5;28;01mfor\u001B[39;00m u, v \u001B[38;5;129;01min\u001B[39;00m G\u001B[38;5;241m.\u001B[39medges:\n\u001B[1;32m----> 3\u001B[0m     m\u001B[38;5;241m.\u001B[39maddQConstr(LE[u, v] \u001B[38;5;241m*\u001B[39m \u001B[43mgp\u001B[49m\u001B[38;5;241;43m.\u001B[39;49m\u001B[43mquicksum\u001B[49m\u001B[43m(\u001B[49m\u001B[43md_es\u001B[49m\u001B[43m[\u001B[49m\u001B[43ms\u001B[49m\u001B[43m,\u001B[49m\u001B[43m \u001B[49m\u001B[43mu\u001B[49m\u001B[43m,\u001B[49m\u001B[43m \u001B[49m\u001B[43mv\u001B[49m\u001B[43m]\u001B[49m\u001B[43m \u001B[49m\u001B[38;5;241;43m*\u001B[39;49m\u001B[43m \u001B[49m\u001B[43m(\u001B[49m\u001B[43m(\u001B[49m\u001B[43mQ\u001B[49m\u001B[43m[\u001B[49m\u001B[43mu\u001B[49m\u001B[43m,\u001B[49m\u001B[43m \u001B[49m\u001B[43mv\u001B[49m\u001B[43m]\u001B[49m\u001B[43m \u001B[49m\u001B[38;5;241;43m/\u001B[39;49m\u001B[43m \u001B[49m\u001B[43m(\u001B[49m\u001B[38;5;241;43m11.9879\u001B[39;49m\u001B[43m \u001B[49m\u001B[38;5;241;43m*\u001B[39;49m\u001B[43m \u001B[49m\u001B[43m(\u001B[49m\u001B[43ms\u001B[49m\u001B[38;5;241;43m*\u001B[39;49m\u001B[38;5;241;43m*\u001B[39;49m\u001B[43m(\u001B[49m\u001B[38;5;241;43m8\u001B[39;49m\u001B[38;5;241;43m/\u001B[39;49m\u001B[38;5;241;43m3\u001B[39;49m\u001B[43m)\u001B[49m\u001B[43m)\u001B[49m\u001B[43m)\u001B[49m\u001B[43m)\u001B[49m\u001B[38;5;241;43m*\u001B[39;49m\u001B[38;5;241;43m*\u001B[39;49m\u001B[38;5;241;43m2\u001B[39;49m\u001B[43m)\u001B[49m\u001B[43m \u001B[49m\u001B[38;5;28;43;01mfor\u001B[39;49;00m\u001B[43m \u001B[49m\u001B[43ms\u001B[49m\u001B[43m \u001B[49m\u001B[38;5;129;43;01min\u001B[39;49;00m\u001B[43m \u001B[49m\u001B[43mD\u001B[49m\u001B[43m)\u001B[49m  \u001B[38;5;241m<\u001B[39m\u001B[38;5;241m=\u001B[39m e_in[u] \u001B[38;5;241m-\u001B[39m e_in[v] \u001B[38;5;241m+\u001B[39m h[u])\n",
      "File \u001B[1;32msrc\\\\gurobipy\\\\gurobi.pxi:3842\u001B[0m, in \u001B[0;36mgurobipy.quicksum\u001B[1;34m()\u001B[0m\n",
      "Cell \u001B[1;32mIn[125], line 3\u001B[0m, in \u001B[0;36m<genexpr>\u001B[1;34m(.0)\u001B[0m\n\u001B[0;32m      1\u001B[0m \u001B[38;5;66;03m# MANNING'S EQUATION\u001B[39;00m\n\u001B[0;32m      2\u001B[0m \u001B[38;5;28;01mfor\u001B[39;00m u, v \u001B[38;5;129;01min\u001B[39;00m G\u001B[38;5;241m.\u001B[39medges:\n\u001B[1;32m----> 3\u001B[0m     m\u001B[38;5;241m.\u001B[39maddQConstr(LE[u, v] \u001B[38;5;241m*\u001B[39m gp\u001B[38;5;241m.\u001B[39mquicksum(\u001B[43md_es\u001B[49m\u001B[43m[\u001B[49m\u001B[43ms\u001B[49m\u001B[43m,\u001B[49m\u001B[43m \u001B[49m\u001B[43mu\u001B[49m\u001B[43m,\u001B[49m\u001B[43m \u001B[49m\u001B[43mv\u001B[49m\u001B[43m]\u001B[49m\u001B[43m \u001B[49m\u001B[38;5;241;43m*\u001B[39;49m\u001B[43m \u001B[49m\u001B[43m(\u001B[49m\u001B[43m(\u001B[49m\u001B[43mQ\u001B[49m\u001B[43m[\u001B[49m\u001B[43mu\u001B[49m\u001B[43m,\u001B[49m\u001B[43m \u001B[49m\u001B[43mv\u001B[49m\u001B[43m]\u001B[49m\u001B[43m \u001B[49m\u001B[38;5;241;43m/\u001B[39;49m\u001B[43m \u001B[49m\u001B[43m(\u001B[49m\u001B[38;5;241;43m11.9879\u001B[39;49m\u001B[43m \u001B[49m\u001B[38;5;241;43m*\u001B[39;49m\u001B[43m \u001B[49m\u001B[43m(\u001B[49m\u001B[43ms\u001B[49m\u001B[38;5;241;43m*\u001B[39;49m\u001B[38;5;241;43m*\u001B[39;49m\u001B[43m(\u001B[49m\u001B[38;5;241;43m8\u001B[39;49m\u001B[38;5;241;43m/\u001B[39;49m\u001B[38;5;241;43m3\u001B[39;49m\u001B[43m)\u001B[49m\u001B[43m)\u001B[49m\u001B[43m)\u001B[49m\u001B[43m)\u001B[49m\u001B[38;5;241;43m*\u001B[39;49m\u001B[38;5;241;43m*\u001B[39;49m\u001B[38;5;241;43m2\u001B[39;49m\u001B[43m)\u001B[49m \u001B[38;5;28;01mfor\u001B[39;00m s \u001B[38;5;129;01min\u001B[39;00m D)  \u001B[38;5;241m<\u001B[39m\u001B[38;5;241m=\u001B[39m e_in[u] \u001B[38;5;241m-\u001B[39m e_in[v] \u001B[38;5;241m+\u001B[39m h[u])\n",
      "File \u001B[1;32msrc\\\\gurobipy\\\\quadexpr.pxi:559\u001B[0m, in \u001B[0;36mgurobipy.QuadExpr.__rmul__\u001B[1;34m()\u001B[0m\n",
      "File \u001B[1;32msrc\\\\gurobipy\\\\quadexpr.pxi:555\u001B[0m, in \u001B[0;36mgurobipy.QuadExpr.__mul__\u001B[1;34m()\u001B[0m\n",
      "File \u001B[1;32msrc\\\\gurobipy\\\\quadexpr.pxi:257\u001B[0m, in \u001B[0;36mgurobipy.QuadExpr._mul\u001B[1;34m()\u001B[0m\n",
      "\u001B[1;31mGurobiError\u001B[0m: Invalid argument to QuadExpr multiplication"
     ]
    }
   ],
   "execution_count": 125,
   "source": [
    "epr = gp.MQuadExpr\n",
    "for u, v in G.edges:\n",
    "    m.addQConstr(LE[u, v] * gp.quicksum(d_es[s, u, v] * ((Q[u, v] / (11.9879 * (s**(8/3))))**2) for s in D)  <= e_in[u] - e_in[v] + h[u])\n"
   ],
   "id": "da3022cdac826887"
  },
  {
   "metadata": {
    "ExecuteTime": {
     "end_time": "2024-11-20T22:42:11.623920Z",
     "start_time": "2024-11-20T22:42:11.603534Z"
    }
   },
   "cell_type": "code",
   "source": [
    "for u, v in G.edges:\n",
    "    expr = gp.QuadExpr()\n",
    "    for s in D:\n",
    "        expr.addTerms(LE[u, v] * d_es[s, u, v], Q[u, v] ** 2 / (11.9879 * s ** (8/3)), Q[u, v])\n",
    "\n",
    "    m.addQConstr(expr <= e_in[u] - e_in[v] + h[u])"
   ],
   "id": "ca4fcfba0d7935a5",
   "outputs": [
    {
     "ename": "TypeError",
     "evalue": "object of type 'gurobipy.LinExpr' has no len()",
     "output_type": "error",
     "traceback": [
      "\u001B[1;31m---------------------------------------------------------------------------\u001B[0m",
      "\u001B[1;31mTypeError\u001B[0m                                 Traceback (most recent call last)",
      "Cell \u001B[1;32mIn[129], line 4\u001B[0m\n\u001B[0;32m      2\u001B[0m expr \u001B[38;5;241m=\u001B[39m gp\u001B[38;5;241m.\u001B[39mQuadExpr()\n\u001B[0;32m      3\u001B[0m \u001B[38;5;28;01mfor\u001B[39;00m s \u001B[38;5;129;01min\u001B[39;00m D:\n\u001B[1;32m----> 4\u001B[0m     \u001B[43mexpr\u001B[49m\u001B[38;5;241;43m.\u001B[39;49m\u001B[43maddTerms\u001B[49m\u001B[43m(\u001B[49m\u001B[43mLE\u001B[49m\u001B[43m[\u001B[49m\u001B[43mu\u001B[49m\u001B[43m,\u001B[49m\u001B[43m \u001B[49m\u001B[43mv\u001B[49m\u001B[43m]\u001B[49m\u001B[43m \u001B[49m\u001B[38;5;241;43m*\u001B[39;49m\u001B[43m \u001B[49m\u001B[43md_es\u001B[49m\u001B[43m[\u001B[49m\u001B[43ms\u001B[49m\u001B[43m,\u001B[49m\u001B[43m \u001B[49m\u001B[43mu\u001B[49m\u001B[43m,\u001B[49m\u001B[43m \u001B[49m\u001B[43mv\u001B[49m\u001B[43m]\u001B[49m\u001B[43m,\u001B[49m\u001B[43m \u001B[49m\u001B[43mQ\u001B[49m\u001B[43m[\u001B[49m\u001B[43mu\u001B[49m\u001B[43m,\u001B[49m\u001B[43m \u001B[49m\u001B[43mv\u001B[49m\u001B[43m]\u001B[49m\u001B[43m \u001B[49m\u001B[38;5;241;43m*\u001B[39;49m\u001B[38;5;241;43m*\u001B[39;49m\u001B[43m \u001B[49m\u001B[38;5;241;43m2\u001B[39;49m\u001B[43m \u001B[49m\u001B[38;5;241;43m/\u001B[39;49m\u001B[43m \u001B[49m\u001B[43m(\u001B[49m\u001B[38;5;241;43m11.9879\u001B[39;49m\u001B[43m \u001B[49m\u001B[38;5;241;43m*\u001B[39;49m\u001B[43m \u001B[49m\u001B[43ms\u001B[49m\u001B[43m \u001B[49m\u001B[38;5;241;43m*\u001B[39;49m\u001B[38;5;241;43m*\u001B[39;49m\u001B[43m \u001B[49m\u001B[43m(\u001B[49m\u001B[38;5;241;43m8\u001B[39;49m\u001B[38;5;241;43m/\u001B[39;49m\u001B[38;5;241;43m3\u001B[39;49m\u001B[43m)\u001B[49m\u001B[43m)\u001B[49m\u001B[43m,\u001B[49m\u001B[43m \u001B[49m\u001B[43mQ\u001B[49m\u001B[43m[\u001B[49m\u001B[43mu\u001B[49m\u001B[43m,\u001B[49m\u001B[43m \u001B[49m\u001B[43mv\u001B[49m\u001B[43m]\u001B[49m\u001B[43m)\u001B[49m\n\u001B[0;32m      6\u001B[0m m\u001B[38;5;241m.\u001B[39maddQConstr(expr \u001B[38;5;241m<\u001B[39m\u001B[38;5;241m=\u001B[39m e_in[u] \u001B[38;5;241m-\u001B[39m e_in[v] \u001B[38;5;241m+\u001B[39m h[u])\n",
      "File \u001B[1;32msrc\\\\gurobipy\\\\quadexpr.pxi:226\u001B[0m, in \u001B[0;36mgurobipy.QuadExpr.addTerms\u001B[1;34m()\u001B[0m\n",
      "\u001B[1;31mTypeError\u001B[0m: object of type 'gurobipy.LinExpr' has no len()"
     ]
    }
   ],
   "execution_count": 129
  },
  {
   "metadata": {
    "ExecuteTime": {
     "end_time": "2024-11-20T22:32:57.552759Z",
     "start_time": "2024-11-20T22:32:57.544120Z"
    }
   },
   "cell_type": "code",
   "source": [
    "# NO HEIGHT GAIN\n",
    "\n",
    "# PIPES UNDERGROUND\n",
    "underground = m.addConstrs(e_in[i] <= EL[i] for i in source_nodes)"
   ],
   "id": "e7da3a0429b02722",
   "outputs": [],
   "execution_count": 123
  }
 ],
 "metadata": {
  "kernelspec": {
   "display_name": "Python 3",
   "language": "python",
   "name": "python3"
  },
  "language_info": {
   "codemirror_mode": {
    "name": "ipython",
    "version": 2
   },
   "file_extension": ".py",
   "mimetype": "text/x-python",
   "name": "python",
   "nbconvert_exporter": "python",
   "pygments_lexer": "ipython2",
   "version": "2.7.6"
  }
 },
 "nbformat": 4,
 "nbformat_minor": 5
}
