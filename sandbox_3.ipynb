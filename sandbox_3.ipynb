{
 "cells": [
  {
   "cell_type": "code",
   "id": "initial_id",
   "metadata": {
    "collapsed": true,
    "ExecuteTime": {
     "end_time": "2024-11-08T02:07:59.004336Z",
     "start_time": "2024-11-08T02:07:58.998446Z"
    }
   },
   "source": [
    "import pandas as pd\n",
    "import numpy as np"
   ],
   "outputs": [],
   "execution_count": 19
  },
  {
   "metadata": {
    "ExecuteTime": {
     "end_time": "2024-11-08T02:08:00.237755Z",
     "start_time": "2024-11-08T02:08:00.222835Z"
    }
   },
   "cell_type": "code",
   "source": "df = pd.read_csv(\"Uniontown_df.csv\")",
   "id": "2429763d7d5b06c3",
   "outputs": [],
   "execution_count": 20
  },
  {
   "metadata": {},
   "cell_type": "code",
   "source": "df.head()",
   "id": "4a2fbb8e66171c6",
   "outputs": [],
   "execution_count": null
  },
  {
   "metadata": {
    "ExecuteTime": {
     "end_time": "2024-11-08T02:10:59.516719Z",
     "start_time": "2024-11-08T02:10:59.508227Z"
    }
   },
   "cell_type": "code",
   "source": [
    "treatment = [0.5 for _ in range(len(df))]\n",
    "df['treatment'] = treatment"
   ],
   "id": "64a4025777999798",
   "outputs": [],
   "execution_count": 23
  },
  {
   "metadata": {
    "ExecuteTime": {
     "end_time": "2024-11-08T02:11:14.968923Z",
     "start_time": "2024-11-08T02:11:14.959636Z"
    }
   },
   "cell_type": "code",
   "source": "",
   "id": "cae228da9b6003c3",
   "outputs": [
    {
     "data": {
      "text/plain": [
       "(464, 12)"
      ]
     },
     "execution_count": 24,
     "metadata": {},
     "output_type": "execute_result"
    }
   ],
   "execution_count": 24
  },
  {
   "metadata": {},
   "cell_type": "code",
   "source": [
    "df2 = {'n_id': str(123) + 'f', 'x': 0, 'y': 0, 'geometry': (0, 0), 'elevation': 0,\n",
    "               'n_demand': 0, 'lat': 0, 'lon': 0, 'cluster': -1, 'treatment': 1}"
   ],
   "id": "5869c9667e1534bd",
   "outputs": [],
   "execution_count": null
  },
  {
   "metadata": {
    "ExecuteTime": {
     "end_time": "2024-11-08T02:11:25.920671Z",
     "start_time": "2024-11-08T02:11:25.910883Z"
    }
   },
   "cell_type": "code",
   "source": [
    "df2 = pd.DataFrame(df2)\n",
    "df2.shape"
   ],
   "id": "74d5c00848105b30",
   "outputs": [
    {
     "data": {
      "text/plain": [
       "(2, 10)"
      ]
     },
     "execution_count": 25,
     "metadata": {},
     "output_type": "execute_result"
    }
   ],
   "execution_count": 25
  },
  {
   "metadata": {
    "ExecuteTime": {
     "end_time": "2024-11-08T02:12:26.347947Z",
     "start_time": "2024-11-08T02:12:26.336842Z"
    }
   },
   "cell_type": "code",
   "source": "df3 = pd.concat([df, df2])",
   "id": "97e9766efb7f9c40",
   "outputs": [],
   "execution_count": 27
  },
  {
   "metadata": {},
   "cell_type": "code",
   "source": "df3.tail()",
   "id": "ae97711951071683",
   "outputs": [],
   "execution_count": null
  },
  {
   "metadata": {
    "ExecuteTime": {
     "end_time": "2024-11-08T02:14:58.857448Z",
     "start_time": "2024-11-08T02:14:58.848957Z"
    }
   },
   "cell_type": "code",
   "source": "df.columns",
   "id": "498194af1c87221e",
   "outputs": [
    {
     "data": {
      "text/plain": [
       "Index(['Unnamed: 0', 'n_id', 'x', 'y', 'geometry', 'elevation', 'n_demand',\n",
       "       'dw_demand', 'lat', 'lon', 'cluster', 'treatment'],\n",
       "      dtype='object')"
      ]
     },
     "execution_count": 30,
     "metadata": {},
     "output_type": "execute_result"
    }
   ],
   "execution_count": 30
  },
  {
   "metadata": {
    "ExecuteTime": {
     "end_time": "2024-11-08T02:15:19.879169Z",
     "start_time": "2024-11-08T02:15:19.869661Z"
    }
   },
   "cell_type": "code",
   "source": "df2.columns",
   "id": "719a4864ae7a519a",
   "outputs": [
    {
     "data": {
      "text/plain": [
       "Index(['n_id', 'x', 'y', 'geometry', 'elevation', 'n_demand', 'lat', 'lon',\n",
       "       'cluster', 'treatment'],\n",
       "      dtype='object')"
      ]
     },
     "execution_count": 31,
     "metadata": {},
     "output_type": "execute_result"
    }
   ],
   "execution_count": 31
  }
 ],
 "metadata": {
  "kernelspec": {
   "display_name": "Python 3",
   "language": "python",
   "name": "python3"
  },
  "language_info": {
   "codemirror_mode": {
    "name": "ipython",
    "version": 2
   },
   "file_extension": ".py",
   "mimetype": "text/x-python",
   "name": "python",
   "nbconvert_exporter": "python",
   "pygments_lexer": "ipython2",
   "version": "2.7.6"
  }
 },
 "nbformat": 4,
 "nbformat_minor": 5
}
