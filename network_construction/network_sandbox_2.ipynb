{
 "cells": [
  {
   "metadata": {},
   "cell_type": "code",
   "source": [
    "import networkx as nx\n",
    "import osmnx as ox\n",
    "G = ox.load_graphml(\"road_net_2.graphml\")"
   ],
   "id": "a9d8dd79dd375be0",
   "outputs": [],
   "execution_count": null
  },
  {
   "metadata": {},
   "cell_type": "code",
   "source": "type(G)",
   "id": "339c44a1a71e9c09",
   "outputs": [],
   "execution_count": null
  },
  {
   "cell_type": "code",
   "id": "initial_id",
   "metadata": {
    "collapsed": true
   },
   "source": [
    "def simplify_graph(G):\n",
    "    # Create a new graph\n",
    "    new_G = nx.DiGraph()\n",
    "\n",
    "    # Copy nodes and their attributes\n",
    "    new_G.add_nodes_from(G.nodes(data=True))\n",
    "\n",
    "    # Iterate through edges and add them to the new graph\n",
    "    for edge in G.edges(data=True):\n",
    "        u, v = edge[0], edge[1]\n",
    "        attr = edge[2]\n",
    "\n",
    "        # If the edge already exists, update attributes\n",
    "        if new_G.has_edge(u, v):\n",
    "            new_G[u][v].update(attr)\n",
    "        else:\n",
    "            new_G.add_edge(u, v, **attr)\n",
    "\n",
    "    return new_G\n",
    "\n",
    "# Usage\n",
    "simplified_graph = simplify_graph(G)\n"
   ],
   "outputs": [],
   "execution_count": null
  },
  {
   "metadata": {},
   "cell_type": "code",
   "source": "len(simplified_graph.edges)",
   "id": "42d1b1415ec9044b",
   "outputs": [],
   "execution_count": null
  },
  {
   "metadata": {},
   "cell_type": "code",
   "source": [
    "print(len(simplified_graph.edges) == len(G.edges))\n",
    "print(len(simplified_graph.nodes) == len(G.nodes))"
   ],
   "id": "4f2c04045602649b",
   "outputs": [],
   "execution_count": null
  },
  {
   "metadata": {},
   "cell_type": "code",
   "source": [
    "# Create a new graph\n",
    "new_G = nx.DiGraph()\n",
    "\n",
    "# Copy nodes and their attributes\n",
    "new_G.add_nodes_from(G.nodes(data=True))\n"
   ],
   "id": "65403828700327db",
   "outputs": [],
   "execution_count": null
  },
  {
   "metadata": {},
   "cell_type": "code",
   "source": "list(G.edges(data=True))[0][2]",
   "id": "692cfc549b245d5b",
   "outputs": [],
   "execution_count": null
  },
  {
   "metadata": {},
   "cell_type": "code",
   "source": [
    "\n",
    "# Iterate through edges and add them to the new graph\n",
    "for edge in G.edges(data=True):\n",
    "    u, v = edge[0], edge[1]\n",
    "    attr = edge[2]\n",
    "    new_G.add_edge(u, v, **attr)\n",
    "\n",
    "    # # If the edge already exists, update attributes\n",
    "    # if new_G.has_edge(u, v):\n",
    "    #     new_G[u][v].update(attr)\n",
    "    # else:\n",
    "    #     new_G.add_edge(u, v, **attr)"
   ],
   "id": "5c883d8604caf48b",
   "outputs": [],
   "execution_count": null
  },
  {
   "metadata": {},
   "cell_type": "code",
   "source": [
    "print(len(new_G.edges))\n",
    "print(len(G.edges))"
   ],
   "id": "c7d314a1c6ee45e",
   "outputs": [],
   "execution_count": null
  }
 ],
 "metadata": {
  "kernelspec": {
   "display_name": "Python 3",
   "language": "python",
   "name": "python3"
  },
  "language_info": {
   "codemirror_mode": {
    "name": "ipython",
    "version": 2
   },
   "file_extension": ".py",
   "mimetype": "text/x-python",
   "name": "python",
   "nbconvert_exporter": "python",
   "pygments_lexer": "ipython2",
   "version": "2.7.6"
  }
 },
 "nbformat": 4,
 "nbformat_minor": 5
}
