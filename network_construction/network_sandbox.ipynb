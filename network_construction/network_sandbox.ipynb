{
 "cells": [
  {
   "cell_type": "code",
   "id": "initial_id",
   "metadata": {
    "collapsed": true,
    "ExecuteTime": {
     "end_time": "2025-01-24T01:48:37.836677Z",
     "start_time": "2025-01-24T01:48:37.825910Z"
    }
   },
   "source": [
    "import osmnx as ox\n",
    "import networkx as nx\n",
    "from matplotlib import pyplot as plt\n",
    "import geopandas as gpd\n",
    "from network import get_road_net\n"
   ],
   "outputs": [],
   "execution_count": 24
  },
  {
   "metadata": {
    "ExecuteTime": {
     "end_time": "2025-01-24T01:48:43.889536Z",
     "start_time": "2025-01-24T01:48:39.162541Z"
    }
   },
   "cell_type": "code",
   "source": [
    "place_name = \"Uniontown, Alabama, USA\"\n",
    "#get_road_net(place_name)"
   ],
   "id": "4371035f1594aa3",
   "outputs": [
    {
     "data": {
      "text/plain": [
       "<networkx.classes.multidigraph.MultiDiGraph at 0x1f0145c7610>"
      ]
     },
     "execution_count": 25,
     "metadata": {},
     "output_type": "execute_result"
    }
   ],
   "execution_count": 25
  },
  {
   "metadata": {
    "ExecuteTime": {
     "end_time": "2025-01-24T01:48:47.210329Z",
     "start_time": "2025-01-24T01:48:46.727944Z"
    }
   },
   "cell_type": "code",
   "source": "G = ox.load_graphml(\"road_net_2.graphml\")",
   "id": "303fd40cd286bb5",
   "outputs": [],
   "execution_count": 26
  },
  {
   "metadata": {
    "ExecuteTime": {
     "end_time": "2025-01-24T02:08:01.144440Z",
     "start_time": "2025-01-24T02:08:01.128090Z"
    }
   },
   "cell_type": "code",
   "source": "",
   "id": "7afe42339e4e8111",
   "outputs": [
    {
     "data": {
      "text/plain": [
       "{'y': 32.448484, 'x': -87.511642, 'street_count': 4, 'elevation': 88.91}"
      ]
     },
     "execution_count": 33,
     "metadata": {},
     "output_type": "execute_result"
    }
   ],
   "execution_count": 33
  }
 ],
 "metadata": {
  "kernelspec": {
   "display_name": "Python 3",
   "language": "python",
   "name": "python3"
  },
  "language_info": {
   "codemirror_mode": {
    "name": "ipython",
    "version": 2
   },
   "file_extension": ".py",
   "mimetype": "text/x-python",
   "name": "python",
   "nbconvert_exporter": "python",
   "pygments_lexer": "ipython2",
   "version": "2.7.6"
  }
 },
 "nbformat": 4,
 "nbformat_minor": 5
}
